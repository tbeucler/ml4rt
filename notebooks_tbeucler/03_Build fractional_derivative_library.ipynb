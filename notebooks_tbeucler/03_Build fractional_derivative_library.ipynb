{
 "cells": [
  {
   "cell_type": "markdown",
   "id": "ddad9d13",
   "metadata": {},
   "source": [
    "tb - The goal is to rigorously compare the differint Python package to Sara Shamekh's functions to calculate fractional derivatives. We will compare the results, accuracy, and calculation time."
   ]
  },
  {
   "cell_type": "markdown",
   "id": "a612e8c2",
   "metadata": {},
   "source": [
    "# Imports"
   ]
  },
  {
   "cell_type": "code",
   "execution_count": 2,
   "id": "1bfa32d8",
   "metadata": {},
   "outputs": [],
   "source": [
    "import differint\n",
    "from Sara_Shamekh_fractionals import *"
   ]
  },
  {
   "cell_type": "code",
   "execution_count": null,
   "id": "d73e7659",
   "metadata": {},
   "outputs": [],
   "source": []
  }
 ],
 "metadata": {
  "kernelspec": {
   "display_name": "Python 3 (ipykernel)",
   "language": "python",
   "name": "python3"
  },
  "language_info": {
   "codemirror_mode": {
    "name": "ipython",
    "version": 3
   },
   "file_extension": ".py",
   "mimetype": "text/x-python",
   "name": "python",
   "nbconvert_exporter": "python",
   "pygments_lexer": "ipython3",
   "version": "3.9.7"
  }
 },
 "nbformat": 4,
 "nbformat_minor": 5
}
