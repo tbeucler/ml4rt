{
 "cells": [
  {
   "cell_type": "markdown",
   "id": "ddad9d13",
   "metadata": {},
   "source": [
    "tb - The goal is to rigorously compare the differint Python package to Sara Shamekh's functions to calculate fractional derivatives. We will compare the results, accuracy, and calculation time."
   ]
  },
  {
   "cell_type": "markdown",
   "id": "a612e8c2",
   "metadata": {},
   "source": [
    "# Imports"
   ]
  },
  {
   "cell_type": "code",
   "execution_count": 1,
   "id": "1bfa32d8",
   "metadata": {},
   "outputs": [],
   "source": [
    "import differint.differint as df\n",
    "from Sara_Shamekh_fractionals import *\n",
    "\n",
    "import matplotlib as mpl\n",
    "import matplotlib.pyplot as plt\n",
    "import numpy as np\n",
    "\n",
    "from math import gamma\n",
    "from time import time"
   ]
  },
  {
   "cell_type": "code",
   "execution_count": 2,
   "id": "e90b0e2b",
   "metadata": {},
   "outputs": [],
   "source": [
    "fz = 15\n",
    "lw = 4\n",
    "siz = 100\n",
    "\n",
    "plt.rc('text', usetex=False)\n",
    "mpl.rcParams['mathtext.fontset'] = 'stix'\n",
    "mpl.rcParams['font.family'] = 'STIXGeneral'\n",
    "plt.rc('font', family='serif', size=fz)\n",
    "mpl.rcParams['lines.linewidth'] = lw"
   ]
  },
  {
   "cell_type": "markdown",
   "id": "20508fb7",
   "metadata": {},
   "source": [
    "## Test on very simple function following the differint paper"
   ]
  },
  {
   "cell_type": "markdown",
   "id": "560b2dff",
   "metadata": {},
   "source": [
    "### $x^{power}$"
   ]
  },
  {
   "cell_type": "code",
   "execution_count": 51,
   "id": "9975454a",
   "metadata": {},
   "outputs": [],
   "source": [
    "Npoints = 250"
   ]
  },
  {
   "cell_type": "code",
   "execution_count": 105,
   "id": "09982952",
   "metadata": {},
   "outputs": [],
   "source": [
    "domain = np.linspace(0.01,1,Npoints)"
   ]
  },
  {
   "cell_type": "code",
   "execution_count": 106,
   "id": "41ce73bf",
   "metadata": {},
   "outputs": [],
   "source": [
    "power = 2"
   ]
  },
  {
   "cell_type": "code",
   "execution_count": 107,
   "id": "49a96c4e",
   "metadata": {},
   "outputs": [],
   "source": [
    "sqrt = domain**power"
   ]
  },
  {
   "cell_type": "code",
   "execution_count": 108,
   "id": "b1b14e32",
   "metadata": {},
   "outputs": [],
   "source": [
    "order = 0.25"
   ]
  },
  {
   "cell_type": "code",
   "execution_count": 109,
   "id": "4e0bef97",
   "metadata": {},
   "outputs": [
    {
     "data": {
      "text/plain": [
       "<function differint.differint.RL(alpha, f_name, domain_start=0.0, domain_end=1.0, num_points=100)>"
      ]
     },
     "execution_count": 109,
     "metadata": {},
     "output_type": "execute_result"
    }
   ],
   "source": [
    "df.RL"
   ]
  },
  {
   "cell_type": "code",
   "execution_count": 110,
   "id": "4f25d8bb",
   "metadata": {},
   "outputs": [
    {
     "name": "stdout",
     "output_type": "stream",
     "text": [
      "df RL=0.025192975997924805s\n"
     ]
    }
   ],
   "source": [
    "if order<1:\n",
    "    t0 = time()\n",
    "    d_0p5_sqrt_RL = df.RL(order,sqrt,num_points=Npoints,domain_start=float(domain[0]),domain_end=float(domain[-1]))\n",
    "    t1 = time()\n",
    "    print('df RL='+str((t1-t0))+'s')"
   ]
  },
  {
   "cell_type": "code",
   "execution_count": 111,
   "id": "bbef6d27",
   "metadata": {},
   "outputs": [],
   "source": [
    "if order>=1:\n",
    "    t0 = time()\n",
    "    d_0p5_sqrt_GL = df.GL(order,sqrt,num_points=Npoints,domain_start=float(domain[0]),domain_end=float(domain[-1]))\n",
    "    t1 = time()\n",
    "    print('df GL='+str((t1-t0))+'s')"
   ]
  },
  {
   "cell_type": "code",
   "execution_count": 112,
   "id": "c6263c07",
   "metadata": {},
   "outputs": [
    {
     "name": "stdout",
     "output_type": "stream",
     "text": [
      "df GLI=0.001974344253540039s\n"
     ]
    }
   ],
   "source": [
    "t0 = time()\n",
    "d_0p5_sqrt_GLI = df.GLI(order,sqrt,num_points=Npoints,domain_start=float(domain[0]),domain_end=float(domain[-1]))\n",
    "t1 = time()\n",
    "print('df GLI='+str((t1-t0))+'s')"
   ]
  },
  {
   "cell_type": "code",
   "execution_count": 113,
   "id": "4b8bcff8",
   "metadata": {},
   "outputs": [],
   "source": [
    "if order<=0:\n",
    "    t0 = time()\n",
    "    d_0p5_sqrt_SS_RL_left = RL_left_integral(np.expand_dims(sqrt,0),domain[1]-domain[0],-order)\n",
    "    t1 = time()\n",
    "\n",
    "    print('SS RL='+str((t1-t0))+'s')"
   ]
  },
  {
   "cell_type": "code",
   "execution_count": 114,
   "id": "0e20f9c8",
   "metadata": {},
   "outputs": [],
   "source": [
    "# if order<=-1:\n",
    "#     t0 = time()\n",
    "#     d_0p5_sqrt_SS_RL_right = -RL_right_integral(np.expand_dims(sqrt,0),domain[1]-domain[0],-order)\n",
    "#     t1 = time()\n",
    "#     d_0p5_sqrt_SS_RL_right -= d_0p5_sqrt_SS_RL_right[0,0]\n",
    "\n",
    "#     print('SS RL='+str((t1-t0))+'s')"
   ]
  },
  {
   "cell_type": "code",
   "execution_count": 115,
   "id": "c83098f9",
   "metadata": {},
   "outputs": [],
   "source": [
    "# d_0p5_sqrt_SS_GL_left = np.zeros(Npoints,)\n",
    "\n",
    "# t0 = time()\n",
    "# for i in range(Npoints):\n",
    "#     d_0p5_sqrt_SS_GL_left[i] = GL_left(np.expand_dims(sqrt[i:],0),order,domain[1]-domain[0])\n",
    "# t1 = time()\n",
    "# print('SS RL='+str((t1-t0))+'s')"
   ]
  },
  {
   "cell_type": "code",
   "execution_count": 116,
   "id": "25ca174a",
   "metadata": {},
   "outputs": [
    {
     "name": "stdout",
     "output_type": "stream",
     "text": [
      "SS RL=0.9213416576385498s\n"
     ]
    }
   ],
   "source": [
    "if order>=0:\n",
    "    d_0p5_sqrt_SS_GL_right = np.zeros(Npoints,)\n",
    "\n",
    "    t0 = time()\n",
    "    for i in range(Npoints):\n",
    "        d_0p5_sqrt_SS_GL_right[i] = GL_right(np.expand_dims(sqrt[:(i+1)],0),order,domain[1]-domain[0])\n",
    "    t1 = time()\n",
    "    print('SS RL='+str((t1-t0))+'s')"
   ]
  },
  {
   "cell_type": "code",
   "execution_count": 117,
   "id": "62f9e552",
   "metadata": {},
   "outputs": [],
   "source": [
    "# if order==0.5: solution = gamma(1.5)*(domain**0)\n",
    "# elif order==-1: solution = (domain**1.5)/1.5\n",
    "# elif order==-1.5: solution = gamma(1.5)/gamma(3)*(domain**2)\n",
    "# elif order==-2: solution = (domain**2.5)/(2.5*1.5)\n",
    "# elif order==1: solution = 0.5*(domain**(-0.5))\n",
    "# elif order==2: solution = 0.5*(-0.5)*(domain**(-1.5))\n",
    "# elif order==0: solution = sqrt\n",
    "if (1+power-order)>0: solution = (domain)**(power-order)*gamma(1+power)/gamma(1+power-order)\n",
    "else: solution = np.nan*domain"
   ]
  },
  {
   "cell_type": "code",
   "execution_count": 118,
   "id": "1de47f73",
   "metadata": {},
   "outputs": [
    {
     "data": {
      "image/png": "[encoded data removed]",
      "text/plain": [
       "<Figure size 720x360 with 1 Axes>"
      ]
     },
     "metadata": {
      "needs_background": "light"
     },
     "output_type": "display_data"
    }
   ],
   "source": [
    "plt.figure(figsize=(10,5))\n",
    "\n",
    "if order<1: plt.plot(domain,d_0p5_sqrt_RL,label='RL',linewidth=1.5*lw)\n",
    "else: plt.plot(domain[2:],d_0p5_sqrt_GL[2:],label='GL',linewidth=0.75*lw)    \n",
    "#plt.plot(domain,d_0p5_sqrt_GLI,label='GLI')\n",
    "\n",
    "if order<=0: plt.plot(domain,d_0p5_sqrt_SS_RL_left[0,:],label='SS RL left')\n",
    "#if order<=-1: plt.plot(domain,d_0p5_sqrt_SS_RL_right[0,:],label='SS RL right',linewidth=0.5*lw)\n",
    "#plt.plot(domain,d_0p5_sqrt_SS_GL_left,label='SS GL left')\n",
    "if order>=0: plt.plot(domain[2:],d_0p5_sqrt_SS_GL_right[2:],label='SS GL right',linewidth=0.5*lw)\n",
    "plt.plot(domain,solution,linewidth=lw/2,linestyle='--',color='k',label='Solution')\n",
    "plt.grid()\n",
    "plt.legend()\n",
    "#plt.legend(loc='center left', bbox_to_anchor=(1, 0.5))\n",
    "#plt.ylim((np.min(solution[1:])-1,1+np.max(solution[1:])))\n",
    "#plt.ylim((0.6,1.5))\n",
    "\n",
    "plt.xlabel('x')\n",
    "if order!=0: plt.title(r'$\\partial^{'+str(order)+'}\\ x^{'+str(power)+'}$',fontsize=2*fz)\n",
    "else: plt.title(r'$\\partial^{'+str(0)+'}\\ x^{'+str(power)+'}$')"
   ]
  },
  {
   "cell_type": "markdown",
   "id": "dba79734",
   "metadata": {},
   "source": [
    "## $\\exp(\\lambda \\times x)$"
   ]
  },
  {
   "cell_type": "code",
   "execution_count": 73,
   "id": "c6442a51",
   "metadata": {},
   "outputs": [],
   "source": [
    "from scipy.special import gammainc\n",
    "from scipy.special import expn\n",
    "from scipy.special import erf"
   ]
  },
  {
   "cell_type": "code",
   "execution_count": 91,
   "id": "8d4cdc17",
   "metadata": {},
   "outputs": [
    {
     "name": "stdout",
     "output_type": "stream",
     "text": [
      "df GLI=0.00040149688720703125s\n",
      "df GLI=0.0033316612243652344s\n",
      "SS RL=1.0181725025177002s\n",
      "order= 1.65  so (1-order)= -0.6499999999999999 <=0\n"
     ]
    },
    {
     "data": {
      "image/png": "[encoded data removed]",
      "text/plain": [
       "<Figure size 720x360 with 1 Axes>"
      ]
     },
     "metadata": {
      "needs_background": "light"
     },
     "output_type": "display_data"
    }
   ],
   "source": [
    "Npoints = 250\n",
    "\n",
    "domain = np.linspace(0.01,1,Npoints)\n",
    "\n",
    "lamb = 0.5\n",
    "\n",
    "fx = np.exp(lamb*domain)\n",
    "\n",
    "order = 1.65\n",
    "\n",
    "#df.RL\n",
    "\n",
    "if order<1:\n",
    "    t0 = time()\n",
    "    d_0p5_sqrt_RL = df.RL(order,fx,num_points=Npoints,domain_start=float(domain[0]),domain_end=float(domain[-1]))\n",
    "    t1 = time()\n",
    "    print('df RL='+str((t1-t0))+'s')\n",
    "\n",
    "if order>=1:\n",
    "    t0 = time()\n",
    "    d_0p5_sqrt_GL = df.GL(order,fx,num_points=Npoints,domain_start=float(domain[0]),domain_end=float(domain[-1]))\n",
    "    t1 = time()\n",
    "    print('df GLI='+str((t1-t0))+'s')\n",
    "\n",
    "t0 = time()\n",
    "d_0p5_sqrt_GLI = df.GLI(order,fx,num_points=Npoints,domain_start=float(domain[0]),domain_end=float(domain[-1]))\n",
    "t1 = time()\n",
    "print('df GLI='+str((t1-t0))+'s')\n",
    "\n",
    "if order<=0:\n",
    "    t0 = time()\n",
    "    d_0p5_sqrt_SS_RL_left = RL_left_integral(np.expand_dims(fx,0),domain[1]-domain[0],-order)\n",
    "    t1 = time()\n",
    "\n",
    "    print('SS RL='+str((t1-t0))+'s')\n",
    "\n",
    "if order>=0:\n",
    "    d_0p5_sqrt_SS_GL_right = np.zeros(Npoints,)\n",
    "\n",
    "    t0 = time()\n",
    "    for i in range(Npoints):\n",
    "        d_0p5_sqrt_SS_GL_right[i] = GL_right(np.expand_dims(fx[:(i+1)],0),order,domain[1]-domain[0])\n",
    "    t1 = time()\n",
    "    print('SS RL='+str((t1-t0))+'s')\n",
    "\n",
    "if (1-order)>0: solution = lamb**order/gamma(1-order)*\\\n",
    "    ((lamb*domain)**(-order)+np.exp(lamb*domain)*\\\n",
    "    (gamma(1-order)-gammainc(lamb*domain,1-order)))\n",
    "#if order==0.5 and lamb==1: solution = np.exp(domain)*erf(np.sqrt(domain))\n",
    "else: solution = np.nan*domain; print('order=',str(order),' so (1-order)=',str(1-order),'<=0')\n",
    "# n = np.ceil(order)\n",
    "# k = np.arange(0,10)\n",
    "# solution = np.zeros_like(domain)\n",
    "# for i in range(np.size(domain)):\n",
    "#     solution_tmp = np.zeros(np.size(k))\n",
    "#     for j in range(np.size(k)):\n",
    "#         solution_tmp[k] = (lamb**(k[j]+n) * domain[i]**(k[j]+n-order))/(gamma(k[j]+1+n-order))\n",
    "#     solution[i] = np.sum(solution_tmp)\n",
    "\n",
    "plt.figure(figsize=(10,5))\n",
    "\n",
    "if order<1: plt.plot(domain,d_0p5_sqrt_RL,label='RL',linewidth=1.5*lw)\n",
    "else: plt.plot(domain[2:],d_0p5_sqrt_GL[2:],label='GL',linewidth=0.75*lw)    \n",
    "#plt.plot(domain,d_0p5_sqrt_GLI,label='GLI')\n",
    "\n",
    "if order<=0: plt.plot(domain,d_0p5_sqrt_SS_RL_left[0,:],label='SS RL left')\n",
    "#if order<=-1: plt.plot(domain,d_0p5_sqrt_SS_RL_right[0,:],label='SS RL right',linewidth=0.5*lw)\n",
    "#plt.plot(domain,d_0p5_sqrt_SS_GL_left,label='SS GL left')\n",
    "if order>=0: plt.plot(domain[2:],d_0p5_sqrt_SS_GL_right[2:],label='SS GL right',linewidth=0.5*lw)\n",
    "plt.plot(domain,solution,linewidth=lw/2,linestyle='--',color='k',label='Solution')\n",
    "plt.grid()\n",
    "plt.legend(loc='center left', bbox_to_anchor=(1, 0.5))\n",
    "#plt.ylim((np.min(solution[1:])-1,1+np.max(solution[1:])))\n",
    "#plt.ylim((-10,10))\n",
    "\n",
    "plt.xlabel('x')\n",
    "plt.title(r'$\\partial^{'+str(order)+'}\\ exp^{'+str(lamb)+'x}$');"
   ]
  },
  {
   "cell_type": "code",
   "execution_count": 52,
   "id": "a2e10430",
   "metadata": {},
   "outputs": [
    {
     "name": "stderr",
     "output_type": "stream",
     "text": [
      "/work/FAC/FGSE/IDYST/tbeucler/default/tbeucler/miniconda3/envs/ml4rt/lib/python3.7/site-packages/ipykernel_launcher.py:1: RuntimeWarning: invalid value encountered in double_scalars\n",
      "  \"\"\"Entry point for launching an IPython kernel.\n"
     ]
    },
    {
     "data": {
      "text/plain": [
       "nan"
      ]
     },
     "execution_count": 52,
     "metadata": {},
     "output_type": "execute_result"
    }
   ],
   "source": [
    "domain[i]**(k[j]+n-order)"
   ]
  },
  {
   "cell_type": "code",
   "execution_count": 64,
   "id": "0cfcfddc",
   "metadata": {},
   "outputs": [
    {
     "data": {
      "text/plain": [
       "(250,)"
      ]
     },
     "execution_count": 64,
     "metadata": {},
     "output_type": "execute_result"
    }
   ],
   "source": [
    "domain.shape"
   ]
  },
  {
   "cell_type": "code",
   "execution_count": 61,
   "id": "97e5e839",
   "metadata": {},
   "outputs": [],
   "source": [
    "solution = np.zeros_like(np.size(domain))"
   ]
  },
  {
   "cell_type": "code",
   "execution_count": 62,
   "id": "83a57866",
   "metadata": {},
   "outputs": [
    {
     "data": {
      "text/plain": [
       "()"
      ]
     },
     "execution_count": 62,
     "metadata": {},
     "output_type": "execute_result"
    }
   ],
   "source": [
    "solution.shape"
   ]
  },
  {
   "cell_type": "code",
   "execution_count": 49,
   "id": "e911c2be",
   "metadata": {},
   "outputs": [
    {
     "data": {
      "text/plain": [
       "9.5"
      ]
     },
     "execution_count": 49,
     "metadata": {},
     "output_type": "execute_result"
    }
   ],
   "source": [
    "k[j]+n-order"
   ]
  },
  {
   "cell_type": "code",
   "execution_count": 53,
   "id": "fb46db9f",
   "metadata": {},
   "outputs": [
    {
     "data": {
      "text/plain": [
       "1133278.3889487854"
      ]
     },
     "execution_count": 53,
     "metadata": {},
     "output_type": "execute_result"
    }
   ],
   "source": [
    "gamma(k[j]+1+n-order)"
   ]
  },
  {
   "cell_type": "code",
   "execution_count": 55,
   "id": "cc718f25",
   "metadata": {},
   "outputs": [
    {
     "name": "stderr",
     "output_type": "stream",
     "text": [
      "/work/FAC/FGSE/IDYST/tbeucler/default/tbeucler/miniconda3/envs/ml4rt/lib/python3.7/site-packages/ipykernel_launcher.py:1: RuntimeWarning: invalid value encountered in double_scalars\n",
      "  \"\"\"Entry point for launching an IPython kernel.\n"
     ]
    },
    {
     "data": {
      "text/plain": [
       "nan"
      ]
     },
     "execution_count": 55,
     "metadata": {},
     "output_type": "execute_result"
    }
   ],
   "source": [
    "domain[i]**(k[j]+n-order)"
   ]
  },
  {
   "cell_type": "code",
   "execution_count": 59,
   "id": "71eeb64d",
   "metadata": {},
   "outputs": [
    {
     "data": {
      "text/plain": [
       "nan"
      ]
     },
     "execution_count": 59,
     "metadata": {},
     "output_type": "execute_result"
    }
   ],
   "source": [
    "np.sum(solution_tmp)"
   ]
  },
  {
   "cell_type": "code",
   "execution_count": 57,
   "id": "9ddf8da9",
   "metadata": {},
   "outputs": [
    {
     "data": {
      "text/plain": [
       "array(0)"
      ]
     },
     "execution_count": 57,
     "metadata": {},
     "output_type": "execute_result"
    }
   ],
   "source": [
    "solution"
   ]
  },
  {
   "cell_type": "code",
   "execution_count": null,
   "id": "c448475e",
   "metadata": {},
   "outputs": [],
   "source": []
  }
 ],
 "metadata": {
  "kernelspec": {
   "display_name": "Python 3 (ipykernel)",
   "language": "python",
   "name": "python3"
  },
  "language_info": {
   "codemirror_mode": {
    "name": "ipython",
    "version": 3
   },
   "file_extension": ".py",
   "mimetype": "text/x-python",
   "name": "python",
   "nbconvert_exporter": "python",
   "pygments_lexer": "ipython3",
   "version": "3.7.7"
  }
 },
 "nbformat": 4,
 "nbformat_minor": 5
}
