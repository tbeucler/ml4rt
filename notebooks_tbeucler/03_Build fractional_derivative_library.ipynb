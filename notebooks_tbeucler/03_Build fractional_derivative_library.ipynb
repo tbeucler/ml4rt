{
 "cells": [
  {
   "cell_type": "markdown",
   "id": "ddad9d13",
   "metadata": {},
   "source": [
    "tb - The goal is to rigorously compare the differint Python package to Sara Shamekh's functions to calculate fractional derivatives. We will compare the results, accuracy, and calculation time."
   ]
  },
  {
   "cell_type": "markdown",
   "id": "a612e8c2",
   "metadata": {},
   "source": [
    "# Imports"
   ]
  },
  {
   "cell_type": "code",
   "execution_count": 2,
   "id": "1bfa32d8",
   "metadata": {},
   "outputs": [],
   "source": [
    "import differint.differint as df\n",
    "from Sara_Shamekh_fractionals import *\n",
    "\n",
    "import matplotlib as mpl\n",
    "import matplotlib.pyplot as plt\n",
    "import numpy as np\n",
    "\n",
    "from math import gamma\n",
    "from time import time"
   ]
  },
  {
   "cell_type": "code",
   "execution_count": 3,
   "id": "e90b0e2b",
   "metadata": {},
   "outputs": [],
   "source": [
    "fz = 15\n",
    "lw = 4\n",
    "siz = 100\n",
    "\n",
    "plt.rc('text', usetex=False)\n",
    "mpl.rcParams['mathtext.fontset'] = 'stix'\n",
    "mpl.rcParams['font.family'] = 'STIXGeneral'\n",
    "plt.rc('font', family='serif', size=fz)\n",
    "mpl.rcParams['lines.linewidth'] = lw"
   ]
  },
  {
   "cell_type": "markdown",
   "id": "20508fb7",
   "metadata": {},
   "source": [
    "## Test on very simple function following the differint paper"
   ]
  },
  {
   "cell_type": "markdown",
   "id": "560b2dff",
   "metadata": {},
   "source": [
    "### sqrt(x)"
   ]
  },
  {
   "cell_type": "code",
   "execution_count": 4,
   "id": "9975454a",
   "metadata": {},
   "outputs": [],
   "source": [
    "Npoints = 250"
   ]
  },
  {
   "cell_type": "code",
   "execution_count": 5,
   "id": "09982952",
   "metadata": {},
   "outputs": [],
   "source": [
    "domain = np.linspace(0.010,1,Npoints)"
   ]
  },
  {
   "cell_type": "code",
   "execution_count": 6,
   "id": "49a96c4e",
   "metadata": {},
   "outputs": [],
   "source": [
    "sqrt = np.sqrt(domain)"
   ]
  },
  {
   "cell_type": "code",
   "execution_count": 7,
   "id": "b1b14e32",
   "metadata": {},
   "outputs": [],
   "source": [
    "order = 0.5"
   ]
  },
  {
   "cell_type": "code",
   "execution_count": 8,
   "id": "4e0bef97",
   "metadata": {},
   "outputs": [
    {
     "data": {
      "text/plain": [
       "<function differint.differint.RL(alpha, f_name, domain_start=0.0, domain_end=1.0, num_points=100)>"
      ]
     },
     "execution_count": 8,
     "metadata": {},
     "output_type": "execute_result"
    }
   ],
   "source": [
    "df.RL"
   ]
  },
  {
   "cell_type": "code",
   "execution_count": 9,
   "id": "4f25d8bb",
   "metadata": {},
   "outputs": [
    {
     "name": "stdout",
     "output_type": "stream",
     "text": [
      "df RL=0.09209871292114258s\n"
     ]
    }
   ],
   "source": [
    "t0 = time()\n",
    "d_0p5_sqrt_RL = df.RL(order,sqrt,num_points=Npoints,domain_start=float(domain[0]),domain_end=float(domain[-1]))\n",
    "t1 = time()\n",
    "print('df RL='+str((t1-t0))+'s')"
   ]
  },
  {
   "cell_type": "code",
   "execution_count": 10,
   "id": "bbef6d27",
   "metadata": {},
   "outputs": [
    {
     "name": "stdout",
     "output_type": "stream",
     "text": [
      "df GLI=0.0047528743743896484s\n"
     ]
    }
   ],
   "source": [
    "t0 = time()\n",
    "d_0p5_sqrt_GL = df.GL(order,sqrt,num_points=Npoints,domain_start=float(domain[0]),domain_end=float(domain[-1]))\n",
    "t1 = time()\n",
    "print('df GLI='+str((t1-t0))+'s')"
   ]
  },
  {
   "cell_type": "code",
   "execution_count": 11,
   "id": "c6263c07",
   "metadata": {},
   "outputs": [
    {
     "name": "stdout",
     "output_type": "stream",
     "text": [
      "df GLI=0.01809096336364746s\n"
     ]
    }
   ],
   "source": [
    "t0 = time()\n",
    "d_0p5_sqrt_GLI = df.GLI(order,sqrt,num_points=Npoints,domain_start=float(domain[0]),domain_end=float(domain[-1]))\n",
    "t1 = time()\n",
    "print('df GLI='+str((t1-t0))+'s')"
   ]
  },
  {
   "cell_type": "code",
   "execution_count": 12,
   "id": "4b8bcff8",
   "metadata": {},
   "outputs": [
    {
     "name": "stdout",
     "output_type": "stream",
     "text": [
      "SS RL=0.22477412223815918s\n"
     ]
    }
   ],
   "source": [
    "if order>=0:\n",
    "    t0 = time()\n",
    "    d_0p5_sqrt_SS_RL_left = RL_left_integral(np.expand_dims(sqrt,0),domain[1]-domain[0],order)\n",
    "    t1 = time()\n",
    "\n",
    "    print('SS RL='+str((t1-t0))+'s')"
   ]
  },
  {
   "cell_type": "code",
   "execution_count": 13,
   "id": "0e20f9c8",
   "metadata": {},
   "outputs": [
    {
     "name": "stdout",
     "output_type": "stream",
     "text": [
      "SS RL=0.2221362590789795s\n"
     ]
    }
   ],
   "source": [
    "t0 = time()\n",
    "d_0p5_sqrt_SS_RL_right = RL_right_integral(np.expand_dims(sqrt,0),domain[1]-domain[0],0.5)\n",
    "t1 = time()\n",
    "\n",
    "print('SS RL='+str((t1-t0))+'s')"
   ]
  },
  {
   "cell_type": "code",
   "execution_count": 14,
   "id": "c83098f9",
   "metadata": {},
   "outputs": [
    {
     "name": "stdout",
     "output_type": "stream",
     "text": [
      "SS RL=1.7680559158325195s\n"
     ]
    }
   ],
   "source": [
    "d_0p5_sqrt_SS_GL_left = np.zeros(Npoints,)\n",
    "\n",
    "t0 = time()\n",
    "for i in range(Npoints):\n",
    "    d_0p5_sqrt_SS_GL_left[i] = GL_left(np.expand_dims(sqrt[i:],0),domain[1]-domain[0],0.5)\n",
    "t1 = time()\n",
    "print('SS RL='+str((t1-t0))+'s')"
   ]
  },
  {
   "cell_type": "code",
   "execution_count": 15,
   "id": "25ca174a",
   "metadata": {},
   "outputs": [
    {
     "name": "stdout",
     "output_type": "stream",
     "text": [
      "SS RL=1.753380298614502s\n"
     ]
    }
   ],
   "source": [
    "d_0p5_sqrt_SS_GL_right = np.zeros(Npoints,)\n",
    "\n",
    "t0 = time()\n",
    "for i in range(Npoints):\n",
    "    d_0p5_sqrt_SS_GL_right[i] = GL_right(np.expand_dims(sqrt[:i],0),domain[1]-domain[0],0.5)\n",
    "t1 = time()\n",
    "print('SS RL='+str((t1-t0))+'s')"
   ]
  },
  {
   "cell_type": "code",
   "execution_count": 16,
   "id": "62f9e552",
   "metadata": {},
   "outputs": [],
   "source": [
    "if order==0.5: solution = gamma(1.5)*(domain**0)\n",
    "elif order==-1: solution = (domain**1.5)/1.5\n",
    "elif order==-1.5: solution = gamma(1.5)/gamma(3)*(domain**2)\n",
    "elif order==-2: solution = (domain**2.5)/(2.5*1.5)\n",
    "elif order==1: solution = 0.5*(domain**(-0.5))\n",
    "elif order==2: solution = 0.5*(-0.5)*(domain**(-1.5))\n",
    "elif order==0: soluation = sqrt"
   ]
  },
  {
   "cell_type": "code",
   "execution_count": 19,
   "id": "1de47f73",
   "metadata": {},
   "outputs": [
    {
     "data": {
      "image/png": "[encoded data removed]",
      "text/plain": [
       "<Figure size 720x360 with 1 Axes>"
      ]
     },
     "metadata": {
      "needs_background": "light"
     },
     "output_type": "display_data"
    }
   ],
   "source": [
    "plt.figure(figsize=(10,5))\n",
    "\n",
    "plt.plot(domain,d_0p5_sqrt_RL,label='RL')\n",
    "plt.plot(domain,d_0p5_sqrt_GLI,label='GLI')\n",
    "plt.plot(domain,d_0p5_sqrt_GL,label='GL',linewidth=0.5*lw)\n",
    "if order>=0:\n",
    "    plt.plot(domain,d_0p5_sqrt_SS_RL_left[0,:],label='SS RL left')\n",
    "plt.plot(domain,d_0p5_sqrt_SS_RL_right[0,:],label='SS RL right',linewidth=0.5*lw)\n",
    "plt.plot(domain,d_0p5_sqrt_SS_GL_left,label='SS GL left')\n",
    "plt.plot(domain,d_0p5_sqrt_SS_GL_right,label='SS GL right',linewidth=0.5*lw)\n",
    "plt.plot(domain,solution,linewidth=lw/2,linestyle='--',color='k',label='Solution')\n",
    "plt.grid()\n",
    "plt.legend(loc='center left', bbox_to_anchor=(1, 0.5))\n",
    "#plt.ylim((np.min(solution[1:])-1,1+np.max(solution[1:])))\n",
    "plt.ylim((-1,2))\n",
    "\n",
    "plt.xlabel('x')\n",
    "if order!=0: plt.ylabel(r'$\\partial^{'+str(order)+'}\\ \\sqrt{x}$')\n",
    "else: plt.ylabel(r'$\\partial^{'+str(0)+'}\\ \\sqrt{x}$')"
   ]
  },
  {
   "cell_type": "code",
   "execution_count": null,
   "id": "8d4cdc17",
   "metadata": {},
   "outputs": [],
   "source": []
  }
 ],
 "metadata": {
  "kernelspec": {
   "display_name": "Python 3 (ipykernel)",
   "language": "python",
   "name": "python3"
  },
  "language_info": {
   "codemirror_mode": {
    "name": "ipython",
    "version": 3
   },
   "file_extension": ".py",
   "mimetype": "text/x-python",
   "name": "python",
   "nbconvert_exporter": "python",
   "pygments_lexer": "ipython3",
   "version": "3.7.7"
  }
 },
 "nbformat": 4,
 "nbformat_minor": 5
}
