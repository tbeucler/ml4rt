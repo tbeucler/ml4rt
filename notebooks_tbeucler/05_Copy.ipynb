{
 "cells": [
  {
   "cell_type": "markdown",
   "id": "700af347",
   "metadata": {},
   "source": [
    "tgb - 6/14/2022 - Polynomial equation discovery for SW radiation, using sequential feature selection to limit the number of terms"
   ]
  },
  {
   "cell_type": "markdown",
   "id": "c9e82b5d",
   "metadata": {},
   "source": [
    "# Imports"
   ]
  },
  {
   "cell_type": "code",
   "execution_count": 1,
   "id": "2e9a37fd",
   "metadata": {},
   "outputs": [],
   "source": [
    "import matplotlib.pyplot as plt\n",
    "import numpy as np\n",
    "import pickle as pkl\n",
    "import xarray as xr\n",
    "\n",
    "from sklearn.linear_model import LinearRegression\n",
    "from sklearn.metrics import mean_squared_error\n",
    "from sklearn.feature_selection import SequentialFeatureSelector\n",
    "from sklearn.model_selection import cross_validate\n",
    "from sklearn.model_selection import RepeatedKFold\n",
    "from sklearn.preprocessing import PolynomialFeatures"
   ]
  },
  {
   "cell_type": "markdown",
   "id": "d972070d",
   "metadata": {},
   "source": [
    "# Data "
   ]
  },
  {
   "cell_type": "markdown",
   "id": "96f8aaa5",
   "metadata": {},
   "source": [
    "## Loading"
   ]
  },
  {
   "cell_type": "code",
   "execution_count": 2,
   "id": "ad8a9963",
   "metadata": {},
   "outputs": [],
   "source": [
    "Nontrop_folder = '/work/FAC/FGSE/IDYST/tbeucler/default/tbeucler/2021_Ryan_Lagerquist_SW/non_tropical_sites/'\n",
    "Trop_folder = '/work/FAC/FGSE/IDYST/tbeucler/default/tbeucler/2021_Ryan_Lagerquist_SW/tropical_sites/'\n",
    "\n",
    "#data2018 = xr.open_dataset(Nontrop_folder+'learning_examples_2018.nc')\n",
    "data2019 = xr.open_dataset(Nontrop_folder+'learning_examples_2019.nc')\n",
    "data2020 = xr.open_dataset(Nontrop_folder+'learning_examples_2020.nc')\n",
    "\n",
    "trop2017 = xr.open_dataset(Trop_folder+'learning_examples_2017.nc')"
   ]
  },
  {
   "cell_type": "code",
   "execution_count": 3,
   "id": "83637dbf",
   "metadata": {},
   "outputs": [],
   "source": [
    "x_train = {}\n",
    "x_test = {}"
   ]
  },
  {
   "cell_type": "code",
   "execution_count": 4,
   "id": "9a117bdf",
   "metadata": {},
   "outputs": [
    {
     "data": {
      "text/html": [
       "<div><svg style=\"position: absolute; width: 0; height: 0; overflow: hidden\">\n",
       "<defs>\n",
       "<symbol id=\"icon-database\" viewBox=\"0 0 32 32\">\n",
       "<path d=\"M16 0c-8.837 0-16 2.239-16 5v4c0 2.761 7.163 5 16 5s16-2.239 16-5v-4c0-2.761-7.163-5-16-5z\"></path>\n",
       "<path d=\"M16 17c-8.837 0-16-2.239-16-5v6c0 2.761 7.163 5 16 5s16-2.239 16-5v-6c0 2.761-7.163 5-16 5z\"></path>\n",
       "<path d=\"M16 26c-8.837 0-16-2.239-16-5v6c0 2.761 7.163 5 16 5s16-2.239 16-5v-6c0 2.761-7.163 5-16 5z\"></path>\n",
       "</symbol>\n",
       "<symbol id=\"icon-file-text2\" viewBox=\"0 0 32 32\">\n",
       "<path d=\"M28.681 7.159c-0.694-0.947-1.662-2.053-2.724-3.116s-2.169-2.030-3.116-2.724c-1.612-1.182-2.393-1.319-2.841-1.319h-15.5c-1.378 0-2.5 1.121-2.5 2.5v27c0 1.378 1.122 2.5 2.5 2.5h23c1.378 0 2.5-1.122 2.5-2.5v-19.5c0-0.448-0.137-1.23-1.319-2.841zM24.543 5.457c0.959 0.959 1.712 1.825 2.268 2.543h-4.811v-4.811c0.718 0.556 1.584 1.309 2.543 2.268zM28 29.5c0 0.271-0.229 0.5-0.5 0.5h-23c-0.271 0-0.5-0.229-0.5-0.5v-27c0-0.271 0.229-0.5 0.5-0.5 0 0 15.499-0 15.5 0v7c0 0.552 0.448 1 1 1h7v19.5z\"></path>\n",
       "<path d=\"M23 26h-14c-0.552 0-1-0.448-1-1s0.448-1 1-1h14c0.552 0 1 0.448 1 1s-0.448 1-1 1z\"></path>\n",
       "<path d=\"M23 22h-14c-0.552 0-1-0.448-1-1s0.448-1 1-1h14c0.552 0 1 0.448 1 1s-0.448 1-1 1z\"></path>\n",
       "<path d=\"M23 18h-14c-0.552 0-1-0.448-1-1s0.448-1 1-1h14c0.552 0 1 0.448 1 1s-0.448 1-1 1z\"></path>\n",
       "</symbol>\n",
       "</defs>\n",
       "</svg>\n",
       "<style>/* CSS stylesheet for displaying xarray objects in jupyterlab.\n",
       " *\n",
       " */\n",
       "\n",
       ":root {\n",
       "  --xr-font-color0: var(--jp-content-font-color0, rgba(0, 0, 0, 1));\n",
       "  --xr-font-color2: var(--jp-content-font-color2, rgba(0, 0, 0, 0.54));\n",
       "  --xr-font-color3: var(--jp-content-font-color3, rgba(0, 0, 0, 0.38));\n",
       "  --xr-border-color: var(--jp-border-color2, #e0e0e0);\n",
       "  --xr-disabled-color: var(--jp-layout-color3, #bdbdbd);\n",
       "  --xr-background-color: var(--jp-layout-color0, white);\n",
       "  --xr-background-color-row-even: var(--jp-layout-color1, white);\n",
       "  --xr-background-color-row-odd: var(--jp-layout-color2, #eeeeee);\n",
       "}\n",
       "\n",
       "html[theme=dark],\n",
       "body.vscode-dark {\n",
       "  --xr-font-color0: rgba(255, 255, 255, 1);\n",
       "  --xr-font-color2: rgba(255, 255, 255, 0.54);\n",
       "  --xr-font-color3: rgba(255, 255, 255, 0.38);\n",
       "  --xr-border-color: #1F1F1F;\n",
       "  --xr-disabled-color: #515151;\n",
       "  --xr-background-color: #111111;\n",
       "  --xr-background-color-row-even: #111111;\n",
       "  --xr-background-color-row-odd: #313131;\n",
       "}\n",
       "\n",
       ".xr-wrap {\n",
       "  display: block;\n",
       "  min-width: 300px;\n",
       "  max-width: 700px;\n",
       "}\n",
       "\n",
       ".xr-text-repr-fallback {\n",
       "  /* fallback to plain text repr when CSS is not injected (untrusted notebook) */\n",
       "  display: none;\n",
       "}\n",
       "\n",
       ".xr-header {\n",
       "  padding-top: 6px;\n",
       "  padding-bottom: 6px;\n",
       "  margin-bottom: 4px;\n",
       "  border-bottom: solid 1px var(--xr-border-color);\n",
       "}\n",
       "\n",
       ".xr-header > div,\n",
       ".xr-header > ul {\n",
       "  display: inline;\n",
       "  margin-top: 0;\n",
       "  margin-bottom: 0;\n",
       "}\n",
       "\n",
       ".xr-obj-type,\n",
       ".xr-array-name {\n",
       "  margin-left: 2px;\n",
       "  margin-right: 10px;\n",
       "}\n",
       "\n",
       ".xr-obj-type {\n",
       "  color: var(--xr-font-color2);\n",
       "}\n",
       "\n",
       ".xr-sections {\n",
       "  padding-left: 0 !important;\n",
       "  display: grid;\n",
       "  grid-template-columns: 150px auto auto 1fr 20px 20px;\n",
       "}\n",
       "\n",
       ".xr-section-item {\n",
       "  display: contents;\n",
       "}\n",
       "\n",
       ".xr-section-item input {\n",
       "  display: none;\n",
       "}\n",
       "\n",
       ".xr-section-item input + label {\n",
       "  color: var(--xr-disabled-color);\n",
       "}\n",
       "\n",
       ".xr-section-item input:enabled + label {\n",
       "  cursor: pointer;\n",
       "  color: var(--xr-font-color2);\n",
       "}\n",
       "\n",
       ".xr-section-item input:enabled + label:hover {\n",
       "  color: var(--xr-font-color0);\n",
       "}\n",
       "\n",
       ".xr-section-summary {\n",
       "  grid-column: 1;\n",
       "  color: var(--xr-font-color2);\n",
       "  font-weight: 500;\n",
       "}\n",
       "\n",
       ".xr-section-summary > span {\n",
       "  display: inline-block;\n",
       "  padding-left: 0.5em;\n",
       "}\n",
       "\n",
       ".xr-section-summary-in:disabled + label {\n",
       "  color: var(--xr-font-color2);\n",
       "}\n",
       "\n",
       ".xr-section-summary-in + label:before {\n",
       "  display: inline-block;\n",
       "  content: '►';\n",
       "  font-size: 11px;\n",
       "  width: 15px;\n",
       "  text-align: center;\n",
       "}\n",
       "\n",
       ".xr-section-summary-in:disabled + label:before {\n",
       "  color: var(--xr-disabled-color);\n",
       "}\n",
       "\n",
       ".xr-section-summary-in:checked + label:before {\n",
       "  content: '▼';\n",
       "}\n",
       "\n",
       ".xr-section-summary-in:checked + label > span {\n",
       "  display: none;\n",
       "}\n",
       "\n",
       ".xr-section-summary,\n",
       ".xr-section-inline-details {\n",
       "  padding-top: 4px;\n",
       "  padding-bottom: 4px;\n",
       "}\n",
       "\n",
       ".xr-section-inline-details {\n",
       "  grid-column: 2 / -1;\n",
       "}\n",
       "\n",
       ".xr-section-details {\n",
       "  display: none;\n",
       "  grid-column: 1 / -1;\n",
       "  margin-bottom: 5px;\n",
       "}\n",
       "\n",
       ".xr-section-summary-in:checked ~ .xr-section-details {\n",
       "  display: contents;\n",
       "}\n",
       "\n",
       ".xr-array-wrap {\n",
       "  grid-column: 1 / -1;\n",
       "  display: grid;\n",
       "  grid-template-columns: 20px auto;\n",
       "}\n",
       "\n",
       ".xr-array-wrap > label {\n",
       "  grid-column: 1;\n",
       "  vertical-align: top;\n",
       "}\n",
       "\n",
       ".xr-preview {\n",
       "  color: var(--xr-font-color3);\n",
       "}\n",
       "\n",
       ".xr-array-preview,\n",
       ".xr-array-data {\n",
       "  padding: 0 5px !important;\n",
       "  grid-column: 2;\n",
       "}\n",
       "\n",
       ".xr-array-data,\n",
       ".xr-array-in:checked ~ .xr-array-preview {\n",
       "  display: none;\n",
       "}\n",
       "\n",
       ".xr-array-in:checked ~ .xr-array-data,\n",
       ".xr-array-preview {\n",
       "  display: inline-block;\n",
       "}\n",
       "\n",
       ".xr-dim-list {\n",
       "  display: inline-block !important;\n",
       "  list-style: none;\n",
       "  padding: 0 !important;\n",
       "  margin: 0;\n",
       "}\n",
       "\n",
       ".xr-dim-list li {\n",
       "  display: inline-block;\n",
       "  padding: 0;\n",
       "  margin: 0;\n",
       "}\n",
       "\n",
       ".xr-dim-list:before {\n",
       "  content: '(';\n",
       "}\n",
       "\n",
       ".xr-dim-list:after {\n",
       "  content: ')';\n",
       "}\n",
       "\n",
       ".xr-dim-list li:not(:last-child):after {\n",
       "  content: ',';\n",
       "  padding-right: 5px;\n",
       "}\n",
       "\n",
       ".xr-has-index {\n",
       "  font-weight: bold;\n",
       "}\n",
       "\n",
       ".xr-var-list,\n",
       ".xr-var-item {\n",
       "  display: contents;\n",
       "}\n",
       "\n",
       ".xr-var-item > div,\n",
       ".xr-var-item label,\n",
       ".xr-var-item > .xr-var-name span {\n",
       "  background-color: var(--xr-background-color-row-even);\n",
       "  margin-bottom: 0;\n",
       "}\n",
       "\n",
       ".xr-var-item > .xr-var-name:hover span {\n",
       "  padding-right: 5px;\n",
       "}\n",
       "\n",
       ".xr-var-list > li:nth-child(odd) > div,\n",
       ".xr-var-list > li:nth-child(odd) > label,\n",
       ".xr-var-list > li:nth-child(odd) > .xr-var-name span {\n",
       "  background-color: var(--xr-background-color-row-odd);\n",
       "}\n",
       "\n",
       ".xr-var-name {\n",
       "  grid-column: 1;\n",
       "}\n",
       "\n",
       ".xr-var-dims {\n",
       "  grid-column: 2;\n",
       "}\n",
       "\n",
       ".xr-var-dtype {\n",
       "  grid-column: 3;\n",
       "  text-align: right;\n",
       "  color: var(--xr-font-color2);\n",
       "}\n",
       "\n",
       ".xr-var-preview {\n",
       "  grid-column: 4;\n",
       "}\n",
       "\n",
       ".xr-var-name,\n",
       ".xr-var-dims,\n",
       ".xr-var-dtype,\n",
       ".xr-preview,\n",
       ".xr-attrs dt {\n",
       "  white-space: nowrap;\n",
       "  overflow: hidden;\n",
       "  text-overflow: ellipsis;\n",
       "  padding-right: 10px;\n",
       "}\n",
       "\n",
       ".xr-var-name:hover,\n",
       ".xr-var-dims:hover,\n",
       ".xr-var-dtype:hover,\n",
       ".xr-attrs dt:hover {\n",
       "  overflow: visible;\n",
       "  width: auto;\n",
       "  z-index: 1;\n",
       "}\n",
       "\n",
       ".xr-var-attrs,\n",
       ".xr-var-data {\n",
       "  display: none;\n",
       "  background-color: var(--xr-background-color) !important;\n",
       "  padding-bottom: 5px !important;\n",
       "}\n",
       "\n",
       ".xr-var-attrs-in:checked ~ .xr-var-attrs,\n",
       ".xr-var-data-in:checked ~ .xr-var-data {\n",
       "  display: block;\n",
       "}\n",
       "\n",
       ".xr-var-data > table {\n",
       "  float: right;\n",
       "}\n",
       "\n",
       ".xr-var-name span,\n",
       ".xr-var-data,\n",
       ".xr-attrs {\n",
       "  padding-left: 25px !important;\n",
       "}\n",
       "\n",
       ".xr-attrs,\n",
       ".xr-var-attrs,\n",
       ".xr-var-data {\n",
       "  grid-column: 1 / -1;\n",
       "}\n",
       "\n",
       "dl.xr-attrs {\n",
       "  padding: 0;\n",
       "  margin: 0;\n",
       "  display: grid;\n",
       "  grid-template-columns: 125px auto;\n",
       "}\n",
       "\n",
       ".xr-attrs dt,\n",
       ".xr-attrs dd {\n",
       "  padding: 0;\n",
       "  margin: 0;\n",
       "  float: left;\n",
       "  padding-right: 10px;\n",
       "  width: auto;\n",
       "}\n",
       "\n",
       ".xr-attrs dt {\n",
       "  font-weight: normal;\n",
       "  grid-column: 1;\n",
       "}\n",
       "\n",
       ".xr-attrs dt:hover span {\n",
       "  display: inline-block;\n",
       "  background: var(--xr-background-color);\n",
       "  padding-right: 10px;\n",
       "}\n",
       "\n",
       ".xr-attrs dd {\n",
       "  grid-column: 2;\n",
       "  white-space: pre-wrap;\n",
       "  word-break: break-all;\n",
       "}\n",
       "\n",
       ".xr-icon-database,\n",
       ".xr-icon-file-text2 {\n",
       "  display: inline-block;\n",
       "  vertical-align: middle;\n",
       "  width: 1em;\n",
       "  height: 1.5em !important;\n",
       "  stroke-width: 0;\n",
       "  stroke: currentColor;\n",
       "  fill: currentColor;\n",
       "}\n",
       "</style><pre class='xr-text-repr-fallback'>&lt;xarray.DataArray &#x27;vector_predictor_names&#x27; (vector_predictor: 12)&gt;\n",
       "array([b&#x27;pressure_pascals&#x27;, b&#x27;temperature_kelvins&#x27;,\n",
       "       b&#x27;specific_humidity_kg_kg01&#x27;, b&#x27;liquid_water_content_kg_m03&#x27;,\n",
       "       b&#x27;ice_water_content_kg_m03&#x27;, b&#x27;liquid_water_path_kg_m02&#x27;,\n",
       "       b&#x27;ice_water_path_kg_m02&#x27;, b&#x27;vapour_path_kg_m02&#x27;,\n",
       "       b&#x27;upward_liquid_water_path_kg_m02&#x27;, b&#x27;upward_ice_water_path_kg_m02&#x27;,\n",
       "       b&#x27;upward_vapour_path_kg_m02&#x27;, b&#x27;relative_humidity_unitless&#x27;],\n",
       "      dtype=&#x27;|S35&#x27;)\n",
       "Dimensions without coordinates: vector_predictor</pre><div class='xr-wrap' hidden><div class='xr-header'><div class='xr-obj-type'>xarray.DataArray</div><div class='xr-array-name'>'vector_predictor_names'</div><ul class='xr-dim-list'><li><span>vector_predictor</span>: 12</li></ul></div><ul class='xr-sections'><li class='xr-section-item'><div class='xr-array-wrap'><input id='section-35497d58-5508-4c3a-b2eb-636f7bb59e81' class='xr-array-in' type='checkbox' checked><label for='section-35497d58-5508-4c3a-b2eb-636f7bb59e81' title='Show/hide data repr'><svg class='icon xr-icon-database'><use xlink:href='#icon-database'></use></svg></label><div class='xr-array-preview xr-preview'><span>b&#x27;pressure_pascals&#x27; ... b&#x27;relative_humidity_unitless&#x27;</span></div><div class='xr-array-data'><pre>array([b&#x27;pressure_pascals&#x27;, b&#x27;temperature_kelvins&#x27;,\n",
       "       b&#x27;specific_humidity_kg_kg01&#x27;, b&#x27;liquid_water_content_kg_m03&#x27;,\n",
       "       b&#x27;ice_water_content_kg_m03&#x27;, b&#x27;liquid_water_path_kg_m02&#x27;,\n",
       "       b&#x27;ice_water_path_kg_m02&#x27;, b&#x27;vapour_path_kg_m02&#x27;,\n",
       "       b&#x27;upward_liquid_water_path_kg_m02&#x27;, b&#x27;upward_ice_water_path_kg_m02&#x27;,\n",
       "       b&#x27;upward_vapour_path_kg_m02&#x27;, b&#x27;relative_humidity_unitless&#x27;],\n",
       "      dtype=&#x27;|S35&#x27;)</pre></div></div></li><li class='xr-section-item'><input id='section-75e05a10-88e2-4550-b094-d03725a4d983' class='xr-section-summary-in' type='checkbox' disabled ><label for='section-75e05a10-88e2-4550-b094-d03725a4d983' class='xr-section-summary'  title='Expand/collapse section'>Coordinates: <span>(0)</span></label><div class='xr-section-inline-details'></div><div class='xr-section-details'><ul class='xr-var-list'></ul></div></li><li class='xr-section-item'><input id='section-c6f449a9-f101-4468-a938-d93568dc6332' class='xr-section-summary-in' type='checkbox' disabled ><label for='section-c6f449a9-f101-4468-a938-d93568dc6332' class='xr-section-summary'  title='Expand/collapse section'>Attributes: <span>(0)</span></label><div class='xr-section-inline-details'></div><div class='xr-section-details'><dl class='xr-attrs'></dl></div></li></ul></div></div>"
      ],
      "text/plain": [
       "<xarray.DataArray 'vector_predictor_names' (vector_predictor: 12)>\n",
       "array([b'pressure_pascals', b'temperature_kelvins',\n",
       "       b'specific_humidity_kg_kg01', b'liquid_water_content_kg_m03',\n",
       "       b'ice_water_content_kg_m03', b'liquid_water_path_kg_m02',\n",
       "       b'ice_water_path_kg_m02', b'vapour_path_kg_m02',\n",
       "       b'upward_liquid_water_path_kg_m02', b'upward_ice_water_path_kg_m02',\n",
       "       b'upward_vapour_path_kg_m02', b'relative_humidity_unitless'],\n",
       "      dtype='|S35')\n",
       "Dimensions without coordinates: vector_predictor"
      ]
     },
     "execution_count": 4,
     "metadata": {},
     "output_type": "execute_result"
    }
   ],
   "source": [
    "data2019['vector_predictor_names']"
   ]
  },
  {
   "cell_type": "code",
   "execution_count": 5,
   "id": "5959f6e1",
   "metadata": {},
   "outputs": [
    {
     "data": {
      "text/html": [
       "<div><svg style=\"position: absolute; width: 0; height: 0; overflow: hidden\">\n",
       "<defs>\n",
       "<symbol id=\"icon-database\" viewBox=\"0 0 32 32\">\n",
       "<path d=\"M16 0c-8.837 0-16 2.239-16 5v4c0 2.761 7.163 5 16 5s16-2.239 16-5v-4c0-2.761-7.163-5-16-5z\"></path>\n",
       "<path d=\"M16 17c-8.837 0-16-2.239-16-5v6c0 2.761 7.163 5 16 5s16-2.239 16-5v-6c0 2.761-7.163 5-16 5z\"></path>\n",
       "<path d=\"M16 26c-8.837 0-16-2.239-16-5v6c0 2.761 7.163 5 16 5s16-2.239 16-5v-6c0 2.761-7.163 5-16 5z\"></path>\n",
       "</symbol>\n",
       "<symbol id=\"icon-file-text2\" viewBox=\"0 0 32 32\">\n",
       "<path d=\"M28.681 7.159c-0.694-0.947-1.662-2.053-2.724-3.116s-2.169-2.030-3.116-2.724c-1.612-1.182-2.393-1.319-2.841-1.319h-15.5c-1.378 0-2.5 1.121-2.5 2.5v27c0 1.378 1.122 2.5 2.5 2.5h23c1.378 0 2.5-1.122 2.5-2.5v-19.5c0-0.448-0.137-1.23-1.319-2.841zM24.543 5.457c0.959 0.959 1.712 1.825 2.268 2.543h-4.811v-4.811c0.718 0.556 1.584 1.309 2.543 2.268zM28 29.5c0 0.271-0.229 0.5-0.5 0.5h-23c-0.271 0-0.5-0.229-0.5-0.5v-27c0-0.271 0.229-0.5 0.5-0.5 0 0 15.499-0 15.5 0v7c0 0.552 0.448 1 1 1h7v19.5z\"></path>\n",
       "<path d=\"M23 26h-14c-0.552 0-1-0.448-1-1s0.448-1 1-1h14c0.552 0 1 0.448 1 1s-0.448 1-1 1z\"></path>\n",
       "<path d=\"M23 22h-14c-0.552 0-1-0.448-1-1s0.448-1 1-1h14c0.552 0 1 0.448 1 1s-0.448 1-1 1z\"></path>\n",
       "<path d=\"M23 18h-14c-0.552 0-1-0.448-1-1s0.448-1 1-1h14c0.552 0 1 0.448 1 1s-0.448 1-1 1z\"></path>\n",
       "</symbol>\n",
       "</defs>\n",
       "</svg>\n",
       "<style>/* CSS stylesheet for displaying xarray objects in jupyterlab.\n",
       " *\n",
       " */\n",
       "\n",
       ":root {\n",
       "  --xr-font-color0: var(--jp-content-font-color0, rgba(0, 0, 0, 1));\n",
       "  --xr-font-color2: var(--jp-content-font-color2, rgba(0, 0, 0, 0.54));\n",
       "  --xr-font-color3: var(--jp-content-font-color3, rgba(0, 0, 0, 0.38));\n",
       "  --xr-border-color: var(--jp-border-color2, #e0e0e0);\n",
       "  --xr-disabled-color: var(--jp-layout-color3, #bdbdbd);\n",
       "  --xr-background-color: var(--jp-layout-color0, white);\n",
       "  --xr-background-color-row-even: var(--jp-layout-color1, white);\n",
       "  --xr-background-color-row-odd: var(--jp-layout-color2, #eeeeee);\n",
       "}\n",
       "\n",
       "html[theme=dark],\n",
       "body.vscode-dark {\n",
       "  --xr-font-color0: rgba(255, 255, 255, 1);\n",
       "  --xr-font-color2: rgba(255, 255, 255, 0.54);\n",
       "  --xr-font-color3: rgba(255, 255, 255, 0.38);\n",
       "  --xr-border-color: #1F1F1F;\n",
       "  --xr-disabled-color: #515151;\n",
       "  --xr-background-color: #111111;\n",
       "  --xr-background-color-row-even: #111111;\n",
       "  --xr-background-color-row-odd: #313131;\n",
       "}\n",
       "\n",
       ".xr-wrap {\n",
       "  display: block;\n",
       "  min-width: 300px;\n",
       "  max-width: 700px;\n",
       "}\n",
       "\n",
       ".xr-text-repr-fallback {\n",
       "  /* fallback to plain text repr when CSS is not injected (untrusted notebook) */\n",
       "  display: none;\n",
       "}\n",
       "\n",
       ".xr-header {\n",
       "  padding-top: 6px;\n",
       "  padding-bottom: 6px;\n",
       "  margin-bottom: 4px;\n",
       "  border-bottom: solid 1px var(--xr-border-color);\n",
       "}\n",
       "\n",
       ".xr-header > div,\n",
       ".xr-header > ul {\n",
       "  display: inline;\n",
       "  margin-top: 0;\n",
       "  margin-bottom: 0;\n",
       "}\n",
       "\n",
       ".xr-obj-type,\n",
       ".xr-array-name {\n",
       "  margin-left: 2px;\n",
       "  margin-right: 10px;\n",
       "}\n",
       "\n",
       ".xr-obj-type {\n",
       "  color: var(--xr-font-color2);\n",
       "}\n",
       "\n",
       ".xr-sections {\n",
       "  padding-left: 0 !important;\n",
       "  display: grid;\n",
       "  grid-template-columns: 150px auto auto 1fr 20px 20px;\n",
       "}\n",
       "\n",
       ".xr-section-item {\n",
       "  display: contents;\n",
       "}\n",
       "\n",
       ".xr-section-item input {\n",
       "  display: none;\n",
       "}\n",
       "\n",
       ".xr-section-item input + label {\n",
       "  color: var(--xr-disabled-color);\n",
       "}\n",
       "\n",
       ".xr-section-item input:enabled + label {\n",
       "  cursor: pointer;\n",
       "  color: var(--xr-font-color2);\n",
       "}\n",
       "\n",
       ".xr-section-item input:enabled + label:hover {\n",
       "  color: var(--xr-font-color0);\n",
       "}\n",
       "\n",
       ".xr-section-summary {\n",
       "  grid-column: 1;\n",
       "  color: var(--xr-font-color2);\n",
       "  font-weight: 500;\n",
       "}\n",
       "\n",
       ".xr-section-summary > span {\n",
       "  display: inline-block;\n",
       "  padding-left: 0.5em;\n",
       "}\n",
       "\n",
       ".xr-section-summary-in:disabled + label {\n",
       "  color: var(--xr-font-color2);\n",
       "}\n",
       "\n",
       ".xr-section-summary-in + label:before {\n",
       "  display: inline-block;\n",
       "  content: '►';\n",
       "  font-size: 11px;\n",
       "  width: 15px;\n",
       "  text-align: center;\n",
       "}\n",
       "\n",
       ".xr-section-summary-in:disabled + label:before {\n",
       "  color: var(--xr-disabled-color);\n",
       "}\n",
       "\n",
       ".xr-section-summary-in:checked + label:before {\n",
       "  content: '▼';\n",
       "}\n",
       "\n",
       ".xr-section-summary-in:checked + label > span {\n",
       "  display: none;\n",
       "}\n",
       "\n",
       ".xr-section-summary,\n",
       ".xr-section-inline-details {\n",
       "  padding-top: 4px;\n",
       "  padding-bottom: 4px;\n",
       "}\n",
       "\n",
       ".xr-section-inline-details {\n",
       "  grid-column: 2 / -1;\n",
       "}\n",
       "\n",
       ".xr-section-details {\n",
       "  display: none;\n",
       "  grid-column: 1 / -1;\n",
       "  margin-bottom: 5px;\n",
       "}\n",
       "\n",
       ".xr-section-summary-in:checked ~ .xr-section-details {\n",
       "  display: contents;\n",
       "}\n",
       "\n",
       ".xr-array-wrap {\n",
       "  grid-column: 1 / -1;\n",
       "  display: grid;\n",
       "  grid-template-columns: 20px auto;\n",
       "}\n",
       "\n",
       ".xr-array-wrap > label {\n",
       "  grid-column: 1;\n",
       "  vertical-align: top;\n",
       "}\n",
       "\n",
       ".xr-preview {\n",
       "  color: var(--xr-font-color3);\n",
       "}\n",
       "\n",
       ".xr-array-preview,\n",
       ".xr-array-data {\n",
       "  padding: 0 5px !important;\n",
       "  grid-column: 2;\n",
       "}\n",
       "\n",
       ".xr-array-data,\n",
       ".xr-array-in:checked ~ .xr-array-preview {\n",
       "  display: none;\n",
       "}\n",
       "\n",
       ".xr-array-in:checked ~ .xr-array-data,\n",
       ".xr-array-preview {\n",
       "  display: inline-block;\n",
       "}\n",
       "\n",
       ".xr-dim-list {\n",
       "  display: inline-block !important;\n",
       "  list-style: none;\n",
       "  padding: 0 !important;\n",
       "  margin: 0;\n",
       "}\n",
       "\n",
       ".xr-dim-list li {\n",
       "  display: inline-block;\n",
       "  padding: 0;\n",
       "  margin: 0;\n",
       "}\n",
       "\n",
       ".xr-dim-list:before {\n",
       "  content: '(';\n",
       "}\n",
       "\n",
       ".xr-dim-list:after {\n",
       "  content: ')';\n",
       "}\n",
       "\n",
       ".xr-dim-list li:not(:last-child):after {\n",
       "  content: ',';\n",
       "  padding-right: 5px;\n",
       "}\n",
       "\n",
       ".xr-has-index {\n",
       "  font-weight: bold;\n",
       "}\n",
       "\n",
       ".xr-var-list,\n",
       ".xr-var-item {\n",
       "  display: contents;\n",
       "}\n",
       "\n",
       ".xr-var-item > div,\n",
       ".xr-var-item label,\n",
       ".xr-var-item > .xr-var-name span {\n",
       "  background-color: var(--xr-background-color-row-even);\n",
       "  margin-bottom: 0;\n",
       "}\n",
       "\n",
       ".xr-var-item > .xr-var-name:hover span {\n",
       "  padding-right: 5px;\n",
       "}\n",
       "\n",
       ".xr-var-list > li:nth-child(odd) > div,\n",
       ".xr-var-list > li:nth-child(odd) > label,\n",
       ".xr-var-list > li:nth-child(odd) > .xr-var-name span {\n",
       "  background-color: var(--xr-background-color-row-odd);\n",
       "}\n",
       "\n",
       ".xr-var-name {\n",
       "  grid-column: 1;\n",
       "}\n",
       "\n",
       ".xr-var-dims {\n",
       "  grid-column: 2;\n",
       "}\n",
       "\n",
       ".xr-var-dtype {\n",
       "  grid-column: 3;\n",
       "  text-align: right;\n",
       "  color: var(--xr-font-color2);\n",
       "}\n",
       "\n",
       ".xr-var-preview {\n",
       "  grid-column: 4;\n",
       "}\n",
       "\n",
       ".xr-var-name,\n",
       ".xr-var-dims,\n",
       ".xr-var-dtype,\n",
       ".xr-preview,\n",
       ".xr-attrs dt {\n",
       "  white-space: nowrap;\n",
       "  overflow: hidden;\n",
       "  text-overflow: ellipsis;\n",
       "  padding-right: 10px;\n",
       "}\n",
       "\n",
       ".xr-var-name:hover,\n",
       ".xr-var-dims:hover,\n",
       ".xr-var-dtype:hover,\n",
       ".xr-attrs dt:hover {\n",
       "  overflow: visible;\n",
       "  width: auto;\n",
       "  z-index: 1;\n",
       "}\n",
       "\n",
       ".xr-var-attrs,\n",
       ".xr-var-data {\n",
       "  display: none;\n",
       "  background-color: var(--xr-background-color) !important;\n",
       "  padding-bottom: 5px !important;\n",
       "}\n",
       "\n",
       ".xr-var-attrs-in:checked ~ .xr-var-attrs,\n",
       ".xr-var-data-in:checked ~ .xr-var-data {\n",
       "  display: block;\n",
       "}\n",
       "\n",
       ".xr-var-data > table {\n",
       "  float: right;\n",
       "}\n",
       "\n",
       ".xr-var-name span,\n",
       ".xr-var-data,\n",
       ".xr-attrs {\n",
       "  padding-left: 25px !important;\n",
       "}\n",
       "\n",
       ".xr-attrs,\n",
       ".xr-var-attrs,\n",
       ".xr-var-data {\n",
       "  grid-column: 1 / -1;\n",
       "}\n",
       "\n",
       "dl.xr-attrs {\n",
       "  padding: 0;\n",
       "  margin: 0;\n",
       "  display: grid;\n",
       "  grid-template-columns: 125px auto;\n",
       "}\n",
       "\n",
       ".xr-attrs dt,\n",
       ".xr-attrs dd {\n",
       "  padding: 0;\n",
       "  margin: 0;\n",
       "  float: left;\n",
       "  padding-right: 10px;\n",
       "  width: auto;\n",
       "}\n",
       "\n",
       ".xr-attrs dt {\n",
       "  font-weight: normal;\n",
       "  grid-column: 1;\n",
       "}\n",
       "\n",
       ".xr-attrs dt:hover span {\n",
       "  display: inline-block;\n",
       "  background: var(--xr-background-color);\n",
       "  padding-right: 10px;\n",
       "}\n",
       "\n",
       ".xr-attrs dd {\n",
       "  grid-column: 2;\n",
       "  white-space: pre-wrap;\n",
       "  word-break: break-all;\n",
       "}\n",
       "\n",
       ".xr-icon-database,\n",
       ".xr-icon-file-text2 {\n",
       "  display: inline-block;\n",
       "  vertical-align: middle;\n",
       "  width: 1em;\n",
       "  height: 1.5em !important;\n",
       "  stroke-width: 0;\n",
       "  stroke: currentColor;\n",
       "  fill: currentColor;\n",
       "}\n",
       "</style><pre class='xr-text-repr-fallback'>&lt;xarray.DataArray &#x27;scalar_predictor_names&#x27; (scalar_predictor: 6)&gt;\n",
       "array([b&#x27;zenith_angle_radians&#x27;, b&#x27;albedo&#x27;, b&#x27;latitude_deg_n&#x27;,\n",
       "       b&#x27;longitude_deg_e&#x27;, b&#x27;column_liquid_water_path_kg_m02&#x27;,\n",
       "       b&#x27;column_ice_water_path_kg_m02&#x27;], dtype=&#x27;|S35&#x27;)\n",
       "Dimensions without coordinates: scalar_predictor</pre><div class='xr-wrap' hidden><div class='xr-header'><div class='xr-obj-type'>xarray.DataArray</div><div class='xr-array-name'>'scalar_predictor_names'</div><ul class='xr-dim-list'><li><span>scalar_predictor</span>: 6</li></ul></div><ul class='xr-sections'><li class='xr-section-item'><div class='xr-array-wrap'><input id='section-3dc08142-a56a-422e-938d-467ea12793b2' class='xr-array-in' type='checkbox' checked><label for='section-3dc08142-a56a-422e-938d-467ea12793b2' title='Show/hide data repr'><svg class='icon xr-icon-database'><use xlink:href='#icon-database'></use></svg></label><div class='xr-array-preview xr-preview'><span>b&#x27;zenith_angle_radians&#x27; b&#x27;albedo&#x27; ... b&#x27;column_ice_water_path_kg_m02&#x27;</span></div><div class='xr-array-data'><pre>array([b&#x27;zenith_angle_radians&#x27;, b&#x27;albedo&#x27;, b&#x27;latitude_deg_n&#x27;,\n",
       "       b&#x27;longitude_deg_e&#x27;, b&#x27;column_liquid_water_path_kg_m02&#x27;,\n",
       "       b&#x27;column_ice_water_path_kg_m02&#x27;], dtype=&#x27;|S35&#x27;)</pre></div></div></li><li class='xr-section-item'><input id='section-bdb4cfaa-73a7-4a86-9469-308623dc6d84' class='xr-section-summary-in' type='checkbox' disabled ><label for='section-bdb4cfaa-73a7-4a86-9469-308623dc6d84' class='xr-section-summary'  title='Expand/collapse section'>Coordinates: <span>(0)</span></label><div class='xr-section-inline-details'></div><div class='xr-section-details'><ul class='xr-var-list'></ul></div></li><li class='xr-section-item'><input id='section-0fa853ca-e0ba-4e11-99a2-dad996a69601' class='xr-section-summary-in' type='checkbox' disabled ><label for='section-0fa853ca-e0ba-4e11-99a2-dad996a69601' class='xr-section-summary'  title='Expand/collapse section'>Attributes: <span>(0)</span></label><div class='xr-section-inline-details'></div><div class='xr-section-details'><dl class='xr-attrs'></dl></div></li></ul></div></div>"
      ],
      "text/plain": [
       "<xarray.DataArray 'scalar_predictor_names' (scalar_predictor: 6)>\n",
       "array([b'zenith_angle_radians', b'albedo', b'latitude_deg_n',\n",
       "       b'longitude_deg_e', b'column_liquid_water_path_kg_m02',\n",
       "       b'column_ice_water_path_kg_m02'], dtype='|S35')\n",
       "Dimensions without coordinates: scalar_predictor"
      ]
     },
     "execution_count": 5,
     "metadata": {},
     "output_type": "execute_result"
    }
   ],
   "source": [
    "data2019['scalar_predictor_names']"
   ]
  },
  {
   "cell_type": "code",
   "execution_count": 6,
   "id": "d354b0b3",
   "metadata": {},
   "outputs": [
    {
     "name": "stdout",
     "output_type": "stream",
     "text": [
      "scalar\n"
     ]
    }
   ],
   "source": [
    "print('scalar')\n",
    "zen_angle2019 = data2019['scalar_predictor_matrix'][:,0].values\n",
    "zen_angle2020 = data2020['scalar_predictor_matrix'][:,0].values\n",
    "zen_angle2017 = trop2017['scalar_predictor_matrix'][:,0].values\n",
    "x_train['cos_za'] = np.concatenate((np.cos(zen_angle2019),np.cos(zen_angle2020)),axis=0)\n",
    "x_test['cos_za'] = np.cos(zen_angle2017)\n",
    "\n",
    "albedo2019 = data2019['scalar_predictor_matrix'][:,1].values\n",
    "albedo2020 = data2020['scalar_predictor_matrix'][:,1].values\n",
    "albedo2017 = trop2017['scalar_predictor_matrix'][:,1].values\n",
    "x_train['albedo'] = np.concatenate((albedo2019,albedo2020),axis=0)\n",
    "x_test['albedo'] = albedo2017\n",
    "# Replace nan values with \"neutral\" median values for the albedo\n",
    "x_train['albedo'][np.isnan(x_train['albedo'])] = np.nanmedian(x_train['albedo'])\n",
    "x_test['albedo'][np.isnan(x_test['albedo'])] = np.nanmedian(x_test['albedo'])\n",
    "\n",
    "QLcol = np.concatenate((data2019['scalar_predictor_matrix'][:,-2].values,\n",
    "                        data2020['scalar_predictor_matrix'][:,-2].values),\n",
    "                        axis=0)\n",
    "QLcol2017 = trop2017['scalar_predictor_matrix'][:,-2].values"
   ]
  },
  {
   "cell_type": "code",
   "execution_count": 7,
   "id": "5c811d78",
   "metadata": {},
   "outputs": [
    {
     "name": "stdout",
     "output_type": "stream",
     "text": [
      "p\n",
      "T\n",
      "qv\n",
      "ql\n"
     ]
    }
   ],
   "source": [
    "for i,key in enumerate(['p','T','qv','ql']):\n",
    "    print(key)\n",
    "    x_train[key] = np.concatenate((data2019['vector_predictor_matrix'][:,:,i].values,\n",
    "                                   data2020['vector_predictor_matrix'][:,:,i].values),axis=0)\n",
    "    x_test[key] = trop2017['vector_predictor_matrix'][:,:,i].values"
   ]
  },
  {
   "cell_type": "code",
   "execution_count": 8,
   "id": "13877dff",
   "metadata": {},
   "outputs": [
    {
     "name": "stdout",
     "output_type": "stream",
     "text": [
      "vector\n"
     ]
    }
   ],
   "source": [
    "print('vector')\n",
    "QVup2019 = data2019['vector_predictor_matrix'][:,:,7].values\n",
    "QVup2020 = data2020['vector_predictor_matrix'][:,:,7].values\n",
    "QVup = np.concatenate((QVup2019,QVup2020),axis=0)\n",
    "QVup2017 = trop2017['vector_predictor_matrix'][:,:,7].values\n",
    "x_train['QVup'] = QVup\n",
    "x_test['QVup'] = QVup2017\n",
    "\n",
    "QLup2019 = data2019['vector_predictor_matrix'][:,:,5].values\n",
    "QLup2020 = data2020['vector_predictor_matrix'][:,:,5].values\n",
    "QLup = np.concatenate((QLup2019,QLup2020),axis=0)\n",
    "QLup2017 = trop2017['vector_predictor_matrix'][:,:,5].values\n",
    "x_train['QLup'] = QLup\n",
    "x_test['QLup'] = QLup2017\n",
    "\n",
    "QVdo2019 = data2019['vector_predictor_matrix'][:,:,10].values\n",
    "QVdo2020 = data2020['vector_predictor_matrix'][:,:,10].values\n",
    "QVdo = np.concatenate((QVdo2019,QVdo2020),axis=0)\n",
    "QVdo2017 = trop2017['vector_predictor_matrix'][:,:,10].values\n",
    "x_train['QVdo'] = QVdo\n",
    "x_test['QVdo'] = QVdo2017\n",
    "\n",
    "QVcol = x_train['QVdo'][:,-1]\n",
    "QVcol2017 = x_test['QVdo'][:,-1]\n",
    "\n",
    "QLdo2019 = data2019['vector_predictor_matrix'][:,:,8].values\n",
    "QLdo2020 = data2020['vector_predictor_matrix'][:,:,8].values\n",
    "QLdo = np.concatenate((QLdo2019,QLdo2020),axis=0)\n",
    "QLdo2017 = trop2017['vector_predictor_matrix'][:,:,8].values\n",
    "x_train['QLdo'] = QLdo\n",
    "x_test['QLdo'] = QLdo2017\n",
    "\n",
    "RH2019 = data2019['vector_predictor_matrix'][:,:,11].values\n",
    "RH2020 = data2020['vector_predictor_matrix'][:,:,11].values\n",
    "RH = np.concatenate((RH2019,RH2020),axis=0)\n",
    "RH2017 = trop2017['vector_predictor_matrix'][:,:,11].values\n",
    "x_train['RH'] = RH\n",
    "x_test['RH'] = RH2017"
   ]
  },
  {
   "cell_type": "code",
   "execution_count": 9,
   "id": "4dd47513",
   "metadata": {},
   "outputs": [],
   "source": [
    "FSWnet2019_downwards = (data2019['vector_target_matrix'][:,:,0]-data2019['vector_target_matrix'][:,:,1]).values\n",
    "FSWnet2020_downwards = (data2020['vector_target_matrix'][:,:,0]-data2020['vector_target_matrix'][:,:,1]).values\n",
    "FSWnet_downwards = np.concatenate((FSWnet2019_downwards,FSWnet2020_downwards),axis=0)\n",
    "FSWnet2017_downwards = (trop2017['vector_target_matrix'][:,:,0]-trop2017['vector_target_matrix'][:,:,1]).values"
   ]
  },
  {
   "cell_type": "code",
   "execution_count": 10,
   "id": "080e41de",
   "metadata": {},
   "outputs": [],
   "source": [
    "# Unitless target\n",
    "y_train = (FSWnet_downwards/np.outer(FSWnet_downwards[:,-1],np.ones((73,)))).flatten()\n",
    "y_test = (FSWnet2017_downwards/np.outer(FSWnet2017_downwards[:,-1],np.ones((73,)))).flatten()"
   ]
  },
  {
   "cell_type": "code",
   "execution_count": 11,
   "id": "b735bda0",
   "metadata": {},
   "outputs": [],
   "source": [
    "FTOA_down_train = np.outer(FSWnet_downwards[:,-1],np.ones((73,))).flatten()\n",
    "FTOA_down_test = np.outer(FSWnet2017_downwards[:,-1],np.ones((73,))).flatten()"
   ]
  },
  {
   "cell_type": "code",
   "execution_count": 12,
   "id": "6d8a797b",
   "metadata": {},
   "outputs": [],
   "source": [
    "# Converted back to W/m2\n",
    "Y_train = y_train*FTOA_down_train\n",
    "Y_test = y_test*FTOA_down_test"
   ]
  },
  {
   "cell_type": "code",
   "execution_count": 13,
   "id": "fcc299aa",
   "metadata": {},
   "outputs": [],
   "source": [
    "x_train['RH'] = np.minimum(1,x_train['RH'])\n",
    "x_test['RH'] = np.minimum(1,x_test['RH'])"
   ]
  },
  {
   "cell_type": "markdown",
   "id": "2d4c4a81",
   "metadata": {},
   "source": [
    "Check the vapor and liquid water paths"
   ]
  },
  {
   "cell_type": "code",
   "execution_count": 10,
   "id": "040efce6",
   "metadata": {},
   "outputs": [
    {
     "data": {
      "image/png": "[encoded data removed]",
      "text/plain": [
       "<Figure size 432x288 with 1 Axes>"
      ]
     },
     "metadata": {
      "needs_background": "light"
     },
     "output_type": "display_data"
    }
   ],
   "source": [
    "plt.plot(np.mean(x_train['QVdo'],axis=0),np.mean(x_train['p'],axis=0))\n",
    "plt.plot(np.mean(x_train['QVup'],axis=0),np.mean(x_train['p'],axis=0))\n",
    "plt.plot(np.mean(x_train['QVup']+x_train['QVdo'],axis=0),np.mean(x_train['p'],axis=0))\n",
    "plt.plot(np.mean(QVcol,axis=0)*np.ones((73,)),np.mean(x_train['p'],axis=0))\n",
    "# plt.plot(np.mean(x_train['QVdo'][:,-1],axis=0)*np.ones((73,)),np.mean(x_train['p'],axis=0),color='k')\n",
    "# plt.plot(np.mean(x_train['QVup'][:,0],axis=0)*np.ones((73,)),np.mean(x_train['p'],axis=0),color='purple')\n",
    "plt.gca().invert_yaxis()"
   ]
  },
  {
   "cell_type": "code",
   "execution_count": 11,
   "id": "36ed5bd2",
   "metadata": {},
   "outputs": [
    {
     "data": {
      "image/png": "[encoded data removed]",
      "text/plain": [
       "<Figure size 432x288 with 1 Axes>"
      ]
     },
     "metadata": {
      "needs_background": "light"
     },
     "output_type": "display_data"
    }
   ],
   "source": [
    "plt.plot(np.mean(x_train['QLdo'],axis=0),np.mean(x_train['p'],axis=0))\n",
    "plt.plot(np.mean(x_train['QLup'],axis=0),np.mean(x_train['p'],axis=0))\n",
    "plt.plot(np.mean(x_train['QLup']+x_train['QLdo'],axis=0),np.mean(x_train['p'],axis=0))\n",
    "plt.plot(np.mean(QLcol,axis=0)*np.ones((73,)),np.mean(x_train['p'],axis=0))\n",
    "# plt.plot(np.mean(x_train['QLdo'][:,-1],axis=0)*np.ones((73,)),np.mean(x_train['p'],axis=0),color='k')\n",
    "# plt.plot(np.mean(x_train['QLup'][:,0],axis=0)*np.ones((73,)),np.mean(x_train['p'],axis=0),color='purple')\n",
    "plt.gca().invert_yaxis()"
   ]
  },
  {
   "cell_type": "markdown",
   "id": "10e173e6",
   "metadata": {},
   "source": [
    "Apply correction to conserve liquid and vapor path"
   ]
  },
  {
   "cell_type": "code",
   "execution_count": 14,
   "id": "783abe24",
   "metadata": {},
   "outputs": [],
   "source": [
    "QV_excess = x_train['QVdo']+x_train['QVup']-QVcol[:,np.newaxis]\n",
    "x_train['QVdo'] -= QV_excess/2\n",
    "x_train['QVup'] -= QV_excess/2\n",
    "x_train['QVdo'] = np.maximum(x_train['QVdo'],0)\n",
    "x_train['QVup'] = np.maximum(x_train['QVup'],0)"
   ]
  },
  {
   "cell_type": "code",
   "execution_count": 15,
   "id": "2e09d379",
   "metadata": {},
   "outputs": [],
   "source": [
    "QL_excess = x_train['QLdo']+x_train['QLup']-QLcol[:,np.newaxis]\n",
    "x_train['QLdo'] -= QL_excess/2\n",
    "x_train['QLup'] -= QL_excess/2\n",
    "x_train['QLdo'] = np.maximum(x_train['QLdo'],0)\n",
    "x_train['QLup'] = np.maximum(x_train['QLup'],0)"
   ]
  },
  {
   "cell_type": "markdown",
   "id": "7756f8f1",
   "metadata": {},
   "source": [
    "## Pre-processing"
   ]
  },
  {
   "cell_type": "code",
   "execution_count": 16,
   "id": "73d8d479",
   "metadata": {},
   "outputs": [],
   "source": [
    "scalar_keys = ['cos_za', 'albedo']\n",
    "vector_keys = ['p', 'T', 'qv', 'ql', 'QVup', 'QLup', 'QVdo', 'QLdo', 'RH']\n",
    "combin_keys = np.concatenate((scalar_keys,vector_keys))"
   ]
  },
  {
   "cell_type": "markdown",
   "id": "80694475",
   "metadata": {},
   "source": [
    "Normalization"
   ]
  },
  {
   "cell_type": "code",
   "execution_count": 17,
   "id": "1930e2d4",
   "metadata": {},
   "outputs": [],
   "source": [
    "Norm = {}\n",
    "Norm['mean'] = {}\n",
    "Norm['min'] = {}\n",
    "Norm['max'] = {}\n",
    "Norm['std'] = {}"
   ]
  },
  {
   "cell_type": "code",
   "execution_count": 18,
   "id": "52a8e884",
   "metadata": {},
   "outputs": [
    {
     "name": "stdout",
     "output_type": "stream",
     "text": [
      "cos_za\n",
      "albedo\n",
      "p\n",
      "T\n",
      "qv\n",
      "ql\n",
      "QVup\n",
      "QLup\n",
      "QVdo\n",
      "QLdo\n",
      "RH\n"
     ]
    }
   ],
   "source": [
    "for keys in combin_keys:\n",
    "    print(keys)\n",
    "    Norm['mean'][keys] = np.mean(x_train[keys].flatten())\n",
    "    Norm['min'][keys] = np.min(x_train[keys].flatten())\n",
    "    Norm['max'][keys] = np.max(x_train[keys].flatten())\n",
    "    Norm['std'][keys] = np.std(x_train[keys].flatten())"
   ]
  },
  {
   "cell_type": "code",
   "execution_count": 19,
   "id": "782701ba",
   "metadata": {},
   "outputs": [
    {
     "data": {
      "text/plain": [
       "{'mean': {'cos_za': 0.41197172,\n",
       "  'albedo': 0.36450702,\n",
       "  'p': 61282.285,\n",
       "  'T': 258.21127,\n",
       "  'qv': 0.0023409505,\n",
       "  'ql': 6.7758633e-06,\n",
       "  'QVup': 5.368949,\n",
       "  'QLup': 0.013895888,\n",
       "  'QVdo': 8.422303,\n",
       "  'QLdo': 0.025450327,\n",
       "  'RH': 0.4829557},\n",
       " 'min': {'cos_za': 0.08715853,\n",
       "  'albedo': 0.0,\n",
       "  'p': 57.200005,\n",
       "  'T': 190.39284,\n",
       "  'qv': 0.0,\n",
       "  'ql': 0.0,\n",
       "  'QVup': 4.4537655e-06,\n",
       "  'QLup': 0.0,\n",
       "  'QVdo': 0.0,\n",
       "  'QLdo': 0.0,\n",
       "  'RH': 0.0},\n",
       " 'max': {'cos_za': 0.9814883,\n",
       "  'albedo': 1.0,\n",
       "  'p': 104376.76,\n",
       "  'T': 313.61823,\n",
       "  'qv': 0.023318946,\n",
       "  'ql': 0.0022818162,\n",
       "  'QVup': 68.94789,\n",
       "  'QLup': 3.5342865,\n",
       "  'QVdo': 68.97026,\n",
       "  'QLdo': 3.5342865,\n",
       "  'RH': 1.0},\n",
       " 'std': {'cos_za': 0.22024997,\n",
       "  'albedo': 0.2811299,\n",
       "  'p': 35467.44,\n",
       "  'T': 23.735064,\n",
       "  'qv': 0.0029519943,\n",
       "  'ql': 3.8062775e-05,\n",
       "  'QVup': 7.314085,\n",
       "  'QLup': 0.06789491,\n",
       "  'QVdo': 8.415417,\n",
       "  'QLdo': 0.085250154,\n",
       "  'RH': 0.35313952}}"
      ]
     },
     "execution_count": 19,
     "metadata": {},
     "output_type": "execute_result"
    }
   ],
   "source": [
    "Norm"
   ]
  },
  {
   "cell_type": "code",
   "execution_count": 20,
   "id": "8715bf65",
   "metadata": {},
   "outputs": [],
   "source": [
    "x_train_std = {}\n",
    "x_train_range = {}"
   ]
  },
  {
   "cell_type": "code",
   "execution_count": 21,
   "id": "7cb74deb",
   "metadata": {},
   "outputs": [],
   "source": [
    "for key in scalar_keys:\n",
    "    x_train[key] = np.outer(x_train[key],np.ones((73,)))\n",
    "    x_test[key] = np.outer(x_test[key],np.ones((73,)))"
   ]
  },
  {
   "cell_type": "code",
   "execution_count": 22,
   "id": "d55fa50c",
   "metadata": {},
   "outputs": [],
   "source": [
    "for key in combin_keys:\n",
    "    x_train_std[key] = (x_train[key].flatten()-Norm['mean'][key])/Norm['std'][key]\n",
    "    x_train_range[key] = (x_train[key].flatten()-Norm['min'][key])/(Norm['max'][key]-Norm['min'][key])"
   ]
  },
  {
   "cell_type": "code",
   "execution_count": 23,
   "id": "1924225e",
   "metadata": {},
   "outputs": [],
   "source": [
    "x_test_std = {}\n",
    "x_test_range = {}\n",
    "\n",
    "for key in combin_keys:\n",
    "    x_test_std[key] = (x_test[key].flatten()-Norm['mean'][key])/Norm['std'][key]\n",
    "    x_test_range[key] = (x_test[key].flatten()-Norm['min'][key])/(Norm['max'][key]-Norm['min'][key])"
   ]
  },
  {
   "cell_type": "markdown",
   "id": "40319d71",
   "metadata": {},
   "source": [
    "Check the distribution shape to assess whether it's most appropriate to normalize using the Z-score or the range"
   ]
  },
  {
   "cell_type": "code",
   "execution_count": 22,
   "id": "3b211546",
   "metadata": {},
   "outputs": [
    {
     "data": {
      "image/png": "[encoded data removed]",
      "text/plain": [
       "<Figure size 1080x216 with 1 Axes>"
      ]
     },
     "metadata": {
      "needs_background": "light"
     },
     "output_type": "display_data"
    },
    {
     "data": {
      "image/png": "[encoded data removed]",
      "text/plain": [
       "<Figure size 1080x216 with 1 Axes>"
      ]
     },
     "metadata": {
      "needs_background": "light"
     },
     "output_type": "display_data"
    },
    {
     "data": {
      "image/png": "[encoded data removed]",
      "text/plain": [
       "<Figure size 1080x216 with 1 Axes>"
      ]
     },
     "metadata": {
      "needs_background": "light"
     },
     "output_type": "display_data"
    },
    {
     "data": {
      "image/png": "[encoded data removed]",
      "text/plain": [
       "<Figure size 1080x216 with 1 Axes>"
      ]
     },
     "metadata": {
      "needs_background": "light"
     },
     "output_type": "display_data"
    },
    {
     "data": {
      "image/png": "[encoded data removed]",
      "text/plain": [
       "<Figure size 1080x216 with 1 Axes>"
      ]
     },
     "metadata": {
      "needs_background": "light"
     },
     "output_type": "display_data"
    },
    {
     "data": {
      "image/png": "[encoded data removed]",
      "text/plain": [
       "<Figure size 1080x216 with 1 Axes>"
      ]
     },
     "metadata": {
      "needs_background": "light"
     },
     "output_type": "display_data"
    },
    {
     "data": {
      "image/png": "[encoded data removed]",
      "text/plain": [
       "<Figure size 1080x216 with 1 Axes>"
      ]
     },
     "metadata": {
      "needs_background": "light"
     },
     "output_type": "display_data"
    },
    {
     "data": {
      "image/png": "[encoded data removed]",
      "text/plain": [
       "<Figure size 1080x216 with 1 Axes>"
      ]
     },
     "metadata": {
      "needs_background": "light"
     },
     "output_type": "display_data"
    },
    {
     "data": {
      "image/png": "[encoded data removed]",
      "text/plain": [
       "<Figure size 1080x216 with 1 Axes>"
      ]
     },
     "metadata": {
      "needs_background": "light"
     },
     "output_type": "display_data"
    },
    {
     "data": {
      "image/png": "[encoded data removed]",
      "text/plain": [
       "<Figure size 1080x216 with 1 Axes>"
      ]
     },
     "metadata": {
      "needs_background": "light"
     },
     "output_type": "display_data"
    },
    {
     "data": {
      "image/png": "[encoded data removed]",
      "text/plain": [
       "<Figure size 1080x216 with 1 Axes>"
      ]
     },
     "metadata": {
      "needs_background": "light"
     },
     "output_type": "display_data"
    }
   ],
   "source": [
    "for key in combin_keys:\n",
    "    fig = plt.figure(figsize=(15,3))\n",
    "    plt.ylabel(key)\n",
    "    plt.hist(x_train_std[key],bins=100);"
   ]
  },
  {
   "cell_type": "code",
   "execution_count": 23,
   "id": "f897f94e",
   "metadata": {},
   "outputs": [
    {
     "data": {
      "image/png": "[encoded data removed]",
      "text/plain": [
       "<Figure size 1080x216 with 1 Axes>"
      ]
     },
     "metadata": {
      "needs_background": "light"
     },
     "output_type": "display_data"
    },
    {
     "data": {
      "image/png": "[encoded data removed]",
      "text/plain": [
       "<Figure size 1080x216 with 1 Axes>"
      ]
     },
     "metadata": {
      "needs_background": "light"
     },
     "output_type": "display_data"
    },
    {
     "data": {
      "image/png": "[encoded data removed]",
      "text/plain": [
       "<Figure size 1080x216 with 1 Axes>"
      ]
     },
     "metadata": {
      "needs_background": "light"
     },
     "output_type": "display_data"
    },
    {
     "data": {
      "image/png": "[encoded data removed]",
      "text/plain": [
       "<Figure size 1080x216 with 1 Axes>"
      ]
     },
     "metadata": {
      "needs_background": "light"
     },
     "output_type": "display_data"
    },
    {
     "data": {
      "image/png": "[encoded data removed]",
      "text/plain": [
       "<Figure size 1080x216 with 1 Axes>"
      ]
     },
     "metadata": {
      "needs_background": "light"
     },
     "output_type": "display_data"
    },
    {
     "data": {
      "image/png": "[encoded data removed]",
      "text/plain": [
       "<Figure size 1080x216 with 1 Axes>"
      ]
     },
     "metadata": {
      "needs_background": "light"
     },
     "output_type": "display_data"
    },
    {
     "data": {
      "image/png": "[encoded data removed]",
      "text/plain": [
       "<Figure size 1080x216 with 1 Axes>"
      ]
     },
     "metadata": {
      "needs_background": "light"
     },
     "output_type": "display_data"
    },
    {
     "data": {
      "image/png": "[encoded data removed]",
      "text/plain": [
       "<Figure size 1080x216 with 1 Axes>"
      ]
     },
     "metadata": {
      "needs_background": "light"
     },
     "output_type": "display_data"
    },
    {
     "data": {
      "image/png": "[encoded data removed]",
      "text/plain": [
       "<Figure size 1080x216 with 1 Axes>"
      ]
     },
     "metadata": {
      "needs_background": "light"
     },
     "output_type": "display_data"
    },
    {
     "data": {
      "image/png": "[encoded data removed]",
      "text/plain": [
       "<Figure size 1080x216 with 1 Axes>"
      ]
     },
     "metadata": {
      "needs_background": "light"
     },
     "output_type": "display_data"
    },
    {
     "data": {
      "image/png": "[encoded data removed]",
      "text/plain": [
       "<Figure size 1080x216 with 1 Axes>"
      ]
     },
     "metadata": {
      "needs_background": "light"
     },
     "output_type": "display_data"
    }
   ],
   "source": [
    "for key in combin_keys:\n",
    "    fig = plt.figure(figsize=(15,3))\n",
    "    plt.ylabel(key)\n",
    "    plt.hist(x_train_range[key],bins=100);"
   ]
  },
  {
   "cell_type": "markdown",
   "id": "2a87e48a",
   "metadata": {},
   "source": [
    "It seems that the range normalization is most appropriate!"
   ]
  },
  {
   "cell_type": "markdown",
   "id": "17c0a267",
   "metadata": {},
   "source": [
    "Given their distributions, it could be more appropriate to use the log of the liquid/vapor water paths"
   ]
  },
  {
   "cell_type": "markdown",
   "id": "3482b1a0",
   "metadata": {},
   "source": [
    "# Polynomial fit + Sequential feature selection"
   ]
  },
  {
   "cell_type": "code",
   "execution_count": 24,
   "id": "d99b45db",
   "metadata": {},
   "outputs": [
    {
     "data": {
      "text/plain": [
       "dict_keys(['cos_za', 'albedo', 'p', 'T', 'qv', 'ql', 'QVup', 'QLup', 'QVdo', 'QLdo', 'RH'])"
      ]
     },
     "execution_count": 24,
     "metadata": {},
     "output_type": "execute_result"
    }
   ],
   "source": [
    "x_train_range.keys()"
   ]
  },
  {
   "cell_type": "code",
   "execution_count": 25,
   "id": "1ea51c70",
   "metadata": {},
   "outputs": [],
   "source": [
    "key_array = ['cos_za', 'albedo', 'p', 'T', 'qv', 'ql', 'QVup', 'QLup', 'QVdo', 'QLdo', 'RH']"
   ]
  },
  {
   "cell_type": "code",
   "execution_count": 26,
   "id": "30a679b8",
   "metadata": {},
   "outputs": [],
   "source": [
    "X_train = np.zeros((x_train_range['T'].shape[0],len(x_train_range.keys())))\n",
    "X_test = np.zeros((x_test_range['T'].shape[0],len(x_test_range.keys())))"
   ]
  },
  {
   "cell_type": "code",
   "execution_count": 27,
   "id": "68c1ba6b",
   "metadata": {},
   "outputs": [
    {
     "data": {
      "text/plain": [
       "(109434081, 11)"
      ]
     },
     "execution_count": 27,
     "metadata": {},
     "output_type": "execute_result"
    }
   ],
   "source": [
    "X_train.shape"
   ]
  },
  {
   "cell_type": "code",
   "execution_count": 28,
   "id": "8e3ab7f4",
   "metadata": {},
   "outputs": [
    {
     "name": "stdout",
     "output_type": "stream",
     "text": [
      "cos_za\n",
      "albedo\n",
      "p\n",
      "T\n",
      "qv\n",
      "ql\n",
      "QVup\n",
      "QLup\n",
      "QVdo\n",
      "QLdo\n",
      "RH\n"
     ]
    }
   ],
   "source": [
    "for ikey,key in enumerate(x_train_range.keys()):\n",
    "    print(key)\n",
    "    X_train[:,ikey] = x_train_range[key]\n",
    "    X_test[:,ikey] = x_test_range[key]"
   ]
  },
  {
   "cell_type": "markdown",
   "id": "99671375",
   "metadata": {},
   "source": [
    "The code below is mostly borrowed/slightly adapted from Arthur Grundner (DLR)"
   ]
  },
  {
   "cell_type": "code",
   "execution_count": 29,
   "id": "122f5559",
   "metadata": {},
   "outputs": [],
   "source": [
    "save_folder = '/work/FAC/FGSE/IDYST/tbeucler/default/tbeucler/2021_Ryan_Lagerquist_SW/Polynomial_Fits/'"
   ]
  },
  {
   "cell_type": "markdown",
   "id": "c2a048f8",
   "metadata": {},
   "source": [
    "## Linear (degree 1)"
   ]
  },
  {
   "cell_type": "code",
   "execution_count": 30,
   "id": "6cae4880",
   "metadata": {},
   "outputs": [],
   "source": [
    "cv = 2\n",
    "min_features_to_select = 1\n",
    "max_features_to_select = 11"
   ]
  },
  {
   "cell_type": "code",
   "execution_count": 87,
   "id": "009462d8",
   "metadata": {},
   "outputs": [],
   "source": [
    "dict_combined = {}"
   ]
  },
  {
   "cell_type": "code",
   "execution_count": null,
   "id": "f7f80ec1",
   "metadata": {},
   "outputs": [
    {
     "name": "stdout",
     "output_type": "stream",
     "text": [
      "Features selected by forward sequential selection: ['RH']\n",
      "{'RH': -0.4147052418795943, 'LR_Bias': 0.9211266892175056, 'mse_train': 0.021150359181792238, 'mse_test': 0.022295132286430538, 'MSE_train': 4464.48375028484, 'MSE_test': 15827.999139208654}\n",
      "Features selected by forward sequential selection: ['albedo', 'RH']\n",
      "{'albedo': -0.21283922804424255, 'RH': -0.40494904312976515, 'LR_Bias': 0.9939962849823085, 'mse_train': 0.017581945652581702, 'mse_test': 0.01501906736367158, 'MSE_train': 2819.4809830174345, 'MSE_test': 8183.35398318683}\n",
      "Features selected by forward sequential selection: ['albedo', 'QLup', 'RH']\n",
      "{'albedo': -0.23381680089961518, 'QLup': -3.588355214610685, 'RH': -0.35228899808247194, 'LR_Bias': 0.990318834471834, 'mse_train': 0.0131980844606986, 'mse_test': 0.009620374999130314, 'MSE_train': 1949.0602256679674, 'MSE_test': 5067.613004090682}\n"
     ]
    }
   ],
   "source": [
    "lin_reg = LinearRegression()\n",
    "for no_features in np.arange(min_features_to_select, max_features_to_select):   \n",
    "    sfs = SequentialFeatureSelector(lin_reg, n_features_to_select=no_features, direction='forward', cv=cv, n_jobs=-1)\n",
    "    sfs.fit(X_train, y_train)\n",
    "    selected_features = np.array(key_array)[sfs.get_support()].tolist()\n",
    "    print(\n",
    "        \"Features selected by forward sequential selection: \"\n",
    "        f\"{selected_features}\"\n",
    "    )\n",
    "\n",
    "    X_transformed = sfs.transform(X_train)\n",
    "\n",
    "#     Arthur: Plot coefficient variability\n",
    "#     cv_model = cross_validate(\n",
    "#         lin_reg,\n",
    "#         X_transformed,\n",
    "#         y_train,\n",
    "#         cv=RepeatedKFold(n_splits=cv, n_repeats=cv),\n",
    "#         return_estimator=True,\n",
    "#         n_jobs=-1,\n",
    "#     )\n",
    "\n",
    "#     coefs = pd.DataFrame(\n",
    "#         [\n",
    "#             est.coef_\n",
    "#             for est in cv_model[\"estimator\"]\n",
    "#         ],\n",
    "#         columns=selected_features,\n",
    "#     )\n",
    "    # Loss of the optimal multiple linear regression model trained on transformed data\n",
    "    lin_reg.fit(X_transformed, y_train)\n",
    "    ypred = lin_reg.predict(X_transformed)\n",
    "    mse_train = mean_squared_error(y_train, ypred)\n",
    "    \n",
    "    ypred_test = lin_reg.predict(sfs.transform(X_test))\n",
    "    mse_test = mean_squared_error(y_test, ypred_test)\n",
    "    \n",
    "    # Convert back to W/m2\n",
    "    Ypred = ypred*FTOA_down_train; \n",
    "    Ypred_test = ypred_test*FTOA_down_test; \n",
    "    MSE_train = mean_squared_error(Y_train,Ypred)\n",
    "    MSE_test = mean_squared_error(Y_test,Ypred_test)\n",
    "    \n",
    "    # Output function and its R2-score\n",
    "    dict_exp = {}\n",
    "    for i in range(len(selected_features)):\n",
    "        dict_exp[selected_features[i]] = lin_reg.coef_[i]\n",
    "    dict_exp['LR_Bias'] = lin_reg.intercept_\n",
    "    dict_exp['mse_train'] = mse_train\n",
    "    dict_exp['mse_test'] = mse_test\n",
    "    dict_exp['MSE_train'] = MSE_train\n",
    "    dict_exp['MSE_test'] = MSE_test\n",
    "    print(dict_exp)\n",
    "    \n",
    "    dict_combined['Number of variables %d'%no_features] = dict_exp"
   ]
  },
  {
   "cell_type": "code",
   "execution_count": 42,
   "id": "fe60cada",
   "metadata": {},
   "outputs": [],
   "source": [
    "# Write dict_combined to pkl file\n",
    "save_path = save_folder+'2022_06_14_deg1_cv'+str(cv)\n",
    "pkl.dump(dict_combined, open(save_path,'wb'))"
   ]
  },
  {
   "cell_type": "markdown",
   "id": "f12f6ebf",
   "metadata": {},
   "source": [
    "## Quadratic (degree 2)"
   ]
  },
  {
   "cell_type": "markdown",
   "id": "e6f88615",
   "metadata": {},
   "source": [
    "### Sequential Feature Selector"
   ]
  },
  {
   "cell_type": "code",
   "execution_count": 30,
   "id": "4d33fd55",
   "metadata": {},
   "outputs": [],
   "source": [
    "cv = 2\n",
    "deg = 2\n",
    "min_features_to_select = 1\n",
    "max_features_to_select = 10"
   ]
  },
  {
   "cell_type": "code",
   "execution_count": 31,
   "id": "b0bfe76a",
   "metadata": {},
   "outputs": [
    {
     "name": "stdout",
     "output_type": "stream",
     "text": [
      "78\n"
     ]
    },
    {
     "name": "stderr",
     "output_type": "stream",
     "text": [
      "/work/FAC/FGSE/IDYST/tbeucler/default/tbeucler/miniconda3/envs/ml4rt/lib/python3.7/site-packages/sklearn/utils/deprecation.py:87: FutureWarning: Function get_feature_names is deprecated; get_feature_names is deprecated in 1.0 and will be removed in 1.2. Please use get_feature_names_out instead.\n",
      "  warnings.warn(msg, category=FutureWarning)\n"
     ]
    }
   ],
   "source": [
    "poly = PolynomialFeatures(degree=deg)\n",
    "X_train2 = poly.fit_transform(X_train)\n",
    "\n",
    "if deg == 2:\n",
    "    assert X_train2.shape[1] == 1 + len(key_array)/2*(len(key_array)+3)\n",
    "    \n",
    "print(X_train2.shape[1])\n",
    "    \n",
    "new_features = poly.get_feature_names(np.array(key_array)) # Update the feature names\n",
    "X_test2 = poly.fit_transform(X_test)"
   ]
  },
  {
   "cell_type": "code",
   "execution_count": 32,
   "id": "44f82077",
   "metadata": {},
   "outputs": [
    {
     "data": {
      "text/plain": [
       "['1',\n",
       " 'cos_za',\n",
       " 'albedo',\n",
       " 'p',\n",
       " 'T',\n",
       " 'qv',\n",
       " 'ql',\n",
       " 'QVup',\n",
       " 'QLup',\n",
       " 'QVdo',\n",
       " 'QLdo',\n",
       " 'RH',\n",
       " 'cos_za^2',\n",
       " 'cos_za albedo',\n",
       " 'cos_za p',\n",
       " 'cos_za T',\n",
       " 'cos_za qv',\n",
       " 'cos_za ql',\n",
       " 'cos_za QVup',\n",
       " 'cos_za QLup',\n",
       " 'cos_za QVdo',\n",
       " 'cos_za QLdo',\n",
       " 'cos_za RH',\n",
       " 'albedo^2',\n",
       " 'albedo p',\n",
       " 'albedo T',\n",
       " 'albedo qv',\n",
       " 'albedo ql',\n",
       " 'albedo QVup',\n",
       " 'albedo QLup',\n",
       " 'albedo QVdo',\n",
       " 'albedo QLdo',\n",
       " 'albedo RH',\n",
       " 'p^2',\n",
       " 'p T',\n",
       " 'p qv',\n",
       " 'p ql',\n",
       " 'p QVup',\n",
       " 'p QLup',\n",
       " 'p QVdo',\n",
       " 'p QLdo',\n",
       " 'p RH',\n",
       " 'T^2',\n",
       " 'T qv',\n",
       " 'T ql',\n",
       " 'T QVup',\n",
       " 'T QLup',\n",
       " 'T QVdo',\n",
       " 'T QLdo',\n",
       " 'T RH',\n",
       " 'qv^2',\n",
       " 'qv ql',\n",
       " 'qv QVup',\n",
       " 'qv QLup',\n",
       " 'qv QVdo',\n",
       " 'qv QLdo',\n",
       " 'qv RH',\n",
       " 'ql^2',\n",
       " 'ql QVup',\n",
       " 'ql QLup',\n",
       " 'ql QVdo',\n",
       " 'ql QLdo',\n",
       " 'ql RH',\n",
       " 'QVup^2',\n",
       " 'QVup QLup',\n",
       " 'QVup QVdo',\n",
       " 'QVup QLdo',\n",
       " 'QVup RH',\n",
       " 'QLup^2',\n",
       " 'QLup QVdo',\n",
       " 'QLup QLdo',\n",
       " 'QLup RH',\n",
       " 'QVdo^2',\n",
       " 'QVdo QLdo',\n",
       " 'QVdo RH',\n",
       " 'QLdo^2',\n",
       " 'QLdo RH',\n",
       " 'RH^2']"
      ]
     },
     "execution_count": 32,
     "metadata": {},
     "output_type": "execute_result"
    }
   ],
   "source": [
    "new_features"
   ]
  },
  {
   "cell_type": "code",
   "execution_count": 34,
   "id": "5e2e9404",
   "metadata": {},
   "outputs": [],
   "source": [
    "dict_combined = {}"
   ]
  },
  {
   "cell_type": "code",
   "execution_count": 35,
   "id": "9d64be6f",
   "metadata": {},
   "outputs": [
    {
     "name": "stdout",
     "output_type": "stream",
     "text": [
      "Features selected by forward sequential selection: ['p RH']\n",
      "{'p RH': -0.4822371075886469, 'LR_Bias': 0.9024821048861624, 'mse_train': 0.019045881166397226, 'mse_test': 0.02305905874580787, 'MSE_train': 4252.377810017608, 'MSE_test': 16932.563629416636}\n"
     ]
    },
    {
     "ename": "KeyboardInterrupt",
     "evalue": "",
     "output_type": "error",
     "traceback": [
      "\u001b[0;31m---------------------------------------------------------------------------\u001b[0m",
      "\u001b[0;31mEmpty\u001b[0m                                     Traceback (most recent call last)",
      "\u001b[0;32m/work/FAC/FGSE/IDYST/tbeucler/default/tbeucler/miniconda3/envs/ml4rt/lib/python3.7/site-packages/joblib/parallel.py\u001b[0m in \u001b[0;36mdispatch_one_batch\u001b[0;34m(self, iterator)\u001b[0m\n\u001b[1;32m    819\u001b[0m             \u001b[0;32mtry\u001b[0m\u001b[0;34m:\u001b[0m\u001b[0;34m\u001b[0m\u001b[0;34m\u001b[0m\u001b[0m\n\u001b[0;32m--> 820\u001b[0;31m                 \u001b[0mtasks\u001b[0m \u001b[0;34m=\u001b[0m \u001b[0mself\u001b[0m\u001b[0;34m.\u001b[0m\u001b[0m_ready_batches\u001b[0m\u001b[0;34m.\u001b[0m\u001b[0mget\u001b[0m\u001b[0;34m(\u001b[0m\u001b[0mblock\u001b[0m\u001b[0;34m=\u001b[0m\u001b[0;32mFalse\u001b[0m\u001b[0;34m)\u001b[0m\u001b[0;34m\u001b[0m\u001b[0;34m\u001b[0m\u001b[0m\n\u001b[0m\u001b[1;32m    821\u001b[0m             \u001b[0;32mexcept\u001b[0m \u001b[0mqueue\u001b[0m\u001b[0;34m.\u001b[0m\u001b[0mEmpty\u001b[0m\u001b[0;34m:\u001b[0m\u001b[0;34m\u001b[0m\u001b[0;34m\u001b[0m\u001b[0m\n",
      "\u001b[0;32m/work/FAC/FGSE/IDYST/tbeucler/default/tbeucler/miniconda3/envs/ml4rt/lib/python3.7/queue.py\u001b[0m in \u001b[0;36mget\u001b[0;34m(self, block, timeout)\u001b[0m\n\u001b[1;32m    166\u001b[0m                 \u001b[0;32mif\u001b[0m \u001b[0;32mnot\u001b[0m \u001b[0mself\u001b[0m\u001b[0;34m.\u001b[0m\u001b[0m_qsize\u001b[0m\u001b[0;34m(\u001b[0m\u001b[0;34m)\u001b[0m\u001b[0;34m:\u001b[0m\u001b[0;34m\u001b[0m\u001b[0;34m\u001b[0m\u001b[0m\n\u001b[0;32m--> 167\u001b[0;31m                     \u001b[0;32mraise\u001b[0m \u001b[0mEmpty\u001b[0m\u001b[0;34m\u001b[0m\u001b[0;34m\u001b[0m\u001b[0m\n\u001b[0m\u001b[1;32m    168\u001b[0m             \u001b[0;32melif\u001b[0m \u001b[0mtimeout\u001b[0m \u001b[0;32mis\u001b[0m \u001b[0;32mNone\u001b[0m\u001b[0;34m:\u001b[0m\u001b[0;34m\u001b[0m\u001b[0;34m\u001b[0m\u001b[0m\n",
      "\u001b[0;31mEmpty\u001b[0m: ",
      "\nDuring handling of the above exception, another exception occurred:\n",
      "\u001b[0;31mKeyboardInterrupt\u001b[0m                         Traceback (most recent call last)",
      "\u001b[0;32m/tmp/ipykernel_53100/3993604775.py\u001b[0m in \u001b[0;36m<module>\u001b[0;34m\u001b[0m\n\u001b[1;32m      2\u001b[0m \u001b[0;32mfor\u001b[0m \u001b[0mno_features\u001b[0m \u001b[0;32min\u001b[0m \u001b[0mnp\u001b[0m\u001b[0;34m.\u001b[0m\u001b[0marange\u001b[0m\u001b[0;34m(\u001b[0m\u001b[0mmin_features_to_select\u001b[0m\u001b[0;34m,\u001b[0m \u001b[0mmax_features_to_select\u001b[0m\u001b[0;34m)\u001b[0m\u001b[0;34m:\u001b[0m\u001b[0;34m\u001b[0m\u001b[0;34m\u001b[0m\u001b[0m\n\u001b[1;32m      3\u001b[0m     \u001b[0msfs\u001b[0m \u001b[0;34m=\u001b[0m \u001b[0mSequentialFeatureSelector\u001b[0m\u001b[0;34m(\u001b[0m\u001b[0mlin_reg\u001b[0m\u001b[0;34m,\u001b[0m \u001b[0mn_features_to_select\u001b[0m\u001b[0;34m=\u001b[0m\u001b[0mno_features\u001b[0m\u001b[0;34m,\u001b[0m \u001b[0mdirection\u001b[0m\u001b[0;34m=\u001b[0m\u001b[0;34m'forward'\u001b[0m\u001b[0;34m,\u001b[0m \u001b[0mcv\u001b[0m\u001b[0;34m=\u001b[0m\u001b[0mcv\u001b[0m\u001b[0;34m,\u001b[0m \u001b[0mn_jobs\u001b[0m\u001b[0;34m=\u001b[0m\u001b[0;34m-\u001b[0m\u001b[0;36m1\u001b[0m\u001b[0;34m)\u001b[0m\u001b[0;34m\u001b[0m\u001b[0;34m\u001b[0m\u001b[0m\n\u001b[0;32m----> 4\u001b[0;31m     \u001b[0msfs\u001b[0m\u001b[0;34m.\u001b[0m\u001b[0mfit\u001b[0m\u001b[0;34m(\u001b[0m\u001b[0mX_train2\u001b[0m\u001b[0;34m,\u001b[0m \u001b[0my_train\u001b[0m\u001b[0;34m)\u001b[0m\u001b[0;34m\u001b[0m\u001b[0;34m\u001b[0m\u001b[0m\n\u001b[0m\u001b[1;32m      5\u001b[0m     \u001b[0mselected_features\u001b[0m \u001b[0;34m=\u001b[0m \u001b[0mnp\u001b[0m\u001b[0;34m.\u001b[0m\u001b[0marray\u001b[0m\u001b[0;34m(\u001b[0m\u001b[0mnew_features\u001b[0m\u001b[0;34m)\u001b[0m\u001b[0;34m[\u001b[0m\u001b[0msfs\u001b[0m\u001b[0;34m.\u001b[0m\u001b[0mget_support\u001b[0m\u001b[0;34m(\u001b[0m\u001b[0;34m)\u001b[0m\u001b[0;34m]\u001b[0m\u001b[0;34m.\u001b[0m\u001b[0mtolist\u001b[0m\u001b[0;34m(\u001b[0m\u001b[0;34m)\u001b[0m\u001b[0;34m\u001b[0m\u001b[0;34m\u001b[0m\u001b[0m\n\u001b[1;32m      6\u001b[0m     print(\n",
      "\u001b[0;32m/work/FAC/FGSE/IDYST/tbeucler/default/tbeucler/miniconda3/envs/ml4rt/lib/python3.7/site-packages/sklearn/feature_selection/_sequential.py\u001b[0m in \u001b[0;36mfit\u001b[0;34m(self, X, y)\u001b[0m\n\u001b[1;32m    208\u001b[0m         \u001b[0;32mfor\u001b[0m \u001b[0m_\u001b[0m \u001b[0;32min\u001b[0m \u001b[0mrange\u001b[0m\u001b[0;34m(\u001b[0m\u001b[0mn_iterations\u001b[0m\u001b[0;34m)\u001b[0m\u001b[0;34m:\u001b[0m\u001b[0;34m\u001b[0m\u001b[0;34m\u001b[0m\u001b[0m\n\u001b[1;32m    209\u001b[0m             new_feature_idx = self._get_best_new_feature(\n\u001b[0;32m--> 210\u001b[0;31m                 \u001b[0mcloned_estimator\u001b[0m\u001b[0;34m,\u001b[0m \u001b[0mX\u001b[0m\u001b[0;34m,\u001b[0m \u001b[0my\u001b[0m\u001b[0;34m,\u001b[0m \u001b[0mcurrent_mask\u001b[0m\u001b[0;34m\u001b[0m\u001b[0;34m\u001b[0m\u001b[0m\n\u001b[0m\u001b[1;32m    211\u001b[0m             )\n\u001b[1;32m    212\u001b[0m             \u001b[0mcurrent_mask\u001b[0m\u001b[0;34m[\u001b[0m\u001b[0mnew_feature_idx\u001b[0m\u001b[0;34m]\u001b[0m \u001b[0;34m=\u001b[0m \u001b[0;32mTrue\u001b[0m\u001b[0;34m\u001b[0m\u001b[0;34m\u001b[0m\u001b[0m\n",
      "\u001b[0;32m/work/FAC/FGSE/IDYST/tbeucler/default/tbeucler/miniconda3/envs/ml4rt/lib/python3.7/site-packages/sklearn/feature_selection/_sequential.py\u001b[0m in \u001b[0;36m_get_best_new_feature\u001b[0;34m(self, estimator, X, y, current_mask)\u001b[0m\n\u001b[1;32m    236\u001b[0m                 \u001b[0mcv\u001b[0m\u001b[0;34m=\u001b[0m\u001b[0mself\u001b[0m\u001b[0;34m.\u001b[0m\u001b[0mcv\u001b[0m\u001b[0;34m,\u001b[0m\u001b[0;34m\u001b[0m\u001b[0;34m\u001b[0m\u001b[0m\n\u001b[1;32m    237\u001b[0m                 \u001b[0mscoring\u001b[0m\u001b[0;34m=\u001b[0m\u001b[0mself\u001b[0m\u001b[0;34m.\u001b[0m\u001b[0mscoring\u001b[0m\u001b[0;34m,\u001b[0m\u001b[0;34m\u001b[0m\u001b[0;34m\u001b[0m\u001b[0m\n\u001b[0;32m--> 238\u001b[0;31m                 \u001b[0mn_jobs\u001b[0m\u001b[0;34m=\u001b[0m\u001b[0mself\u001b[0m\u001b[0;34m.\u001b[0m\u001b[0mn_jobs\u001b[0m\u001b[0;34m,\u001b[0m\u001b[0;34m\u001b[0m\u001b[0;34m\u001b[0m\u001b[0m\n\u001b[0m\u001b[1;32m    239\u001b[0m             ).mean()\n\u001b[1;32m    240\u001b[0m         \u001b[0;32mreturn\u001b[0m \u001b[0mmax\u001b[0m\u001b[0;34m(\u001b[0m\u001b[0mscores\u001b[0m\u001b[0;34m,\u001b[0m \u001b[0mkey\u001b[0m\u001b[0;34m=\u001b[0m\u001b[0;32mlambda\u001b[0m \u001b[0mfeature_idx\u001b[0m\u001b[0;34m:\u001b[0m \u001b[0mscores\u001b[0m\u001b[0;34m[\u001b[0m\u001b[0mfeature_idx\u001b[0m\u001b[0;34m]\u001b[0m\u001b[0;34m)\u001b[0m\u001b[0;34m\u001b[0m\u001b[0;34m\u001b[0m\u001b[0m\n",
      "\u001b[0;32m/work/FAC/FGSE/IDYST/tbeucler/default/tbeucler/miniconda3/envs/ml4rt/lib/python3.7/site-packages/sklearn/model_selection/_validation.py\u001b[0m in \u001b[0;36mcross_val_score\u001b[0;34m(estimator, X, y, groups, scoring, cv, n_jobs, verbose, fit_params, pre_dispatch, error_score)\u001b[0m\n\u001b[1;32m    519\u001b[0m         \u001b[0mfit_params\u001b[0m\u001b[0;34m=\u001b[0m\u001b[0mfit_params\u001b[0m\u001b[0;34m,\u001b[0m\u001b[0;34m\u001b[0m\u001b[0;34m\u001b[0m\u001b[0m\n\u001b[1;32m    520\u001b[0m         \u001b[0mpre_dispatch\u001b[0m\u001b[0;34m=\u001b[0m\u001b[0mpre_dispatch\u001b[0m\u001b[0;34m,\u001b[0m\u001b[0;34m\u001b[0m\u001b[0;34m\u001b[0m\u001b[0m\n\u001b[0;32m--> 521\u001b[0;31m         \u001b[0merror_score\u001b[0m\u001b[0;34m=\u001b[0m\u001b[0merror_score\u001b[0m\u001b[0;34m,\u001b[0m\u001b[0;34m\u001b[0m\u001b[0;34m\u001b[0m\u001b[0m\n\u001b[0m\u001b[1;32m    522\u001b[0m     )\n\u001b[1;32m    523\u001b[0m     \u001b[0;32mreturn\u001b[0m \u001b[0mcv_results\u001b[0m\u001b[0;34m[\u001b[0m\u001b[0;34m\"test_score\"\u001b[0m\u001b[0;34m]\u001b[0m\u001b[0;34m\u001b[0m\u001b[0;34m\u001b[0m\u001b[0m\n",
      "\u001b[0;32m/work/FAC/FGSE/IDYST/tbeucler/default/tbeucler/miniconda3/envs/ml4rt/lib/python3.7/site-packages/sklearn/model_selection/_validation.py\u001b[0m in \u001b[0;36mcross_validate\u001b[0;34m(estimator, X, y, groups, scoring, cv, n_jobs, verbose, fit_params, pre_dispatch, return_train_score, return_estimator, error_score)\u001b[0m\n\u001b[1;32m    281\u001b[0m             \u001b[0merror_score\u001b[0m\u001b[0;34m=\u001b[0m\u001b[0merror_score\u001b[0m\u001b[0;34m,\u001b[0m\u001b[0;34m\u001b[0m\u001b[0;34m\u001b[0m\u001b[0m\n\u001b[1;32m    282\u001b[0m         )\n\u001b[0;32m--> 283\u001b[0;31m         \u001b[0;32mfor\u001b[0m \u001b[0mtrain\u001b[0m\u001b[0;34m,\u001b[0m \u001b[0mtest\u001b[0m \u001b[0;32min\u001b[0m \u001b[0mcv\u001b[0m\u001b[0;34m.\u001b[0m\u001b[0msplit\u001b[0m\u001b[0;34m(\u001b[0m\u001b[0mX\u001b[0m\u001b[0;34m,\u001b[0m \u001b[0my\u001b[0m\u001b[0;34m,\u001b[0m \u001b[0mgroups\u001b[0m\u001b[0;34m)\u001b[0m\u001b[0;34m\u001b[0m\u001b[0;34m\u001b[0m\u001b[0m\n\u001b[0m\u001b[1;32m    284\u001b[0m     )\n\u001b[1;32m    285\u001b[0m \u001b[0;34m\u001b[0m\u001b[0m\n",
      "\u001b[0;32m/work/FAC/FGSE/IDYST/tbeucler/default/tbeucler/miniconda3/envs/ml4rt/lib/python3.7/site-packages/joblib/parallel.py\u001b[0m in \u001b[0;36m__call__\u001b[0;34m(self, iterable)\u001b[0m\n\u001b[1;32m   1039\u001b[0m             \u001b[0;31m# remaining jobs.\u001b[0m\u001b[0;34m\u001b[0m\u001b[0;34m\u001b[0m\u001b[0;34m\u001b[0m\u001b[0m\n\u001b[1;32m   1040\u001b[0m             \u001b[0mself\u001b[0m\u001b[0;34m.\u001b[0m\u001b[0m_iterating\u001b[0m \u001b[0;34m=\u001b[0m \u001b[0;32mFalse\u001b[0m\u001b[0;34m\u001b[0m\u001b[0;34m\u001b[0m\u001b[0m\n\u001b[0;32m-> 1041\u001b[0;31m             \u001b[0;32mif\u001b[0m \u001b[0mself\u001b[0m\u001b[0;34m.\u001b[0m\u001b[0mdispatch_one_batch\u001b[0m\u001b[0;34m(\u001b[0m\u001b[0miterator\u001b[0m\u001b[0;34m)\u001b[0m\u001b[0;34m:\u001b[0m\u001b[0;34m\u001b[0m\u001b[0;34m\u001b[0m\u001b[0m\n\u001b[0m\u001b[1;32m   1042\u001b[0m                 \u001b[0mself\u001b[0m\u001b[0;34m.\u001b[0m\u001b[0m_iterating\u001b[0m \u001b[0;34m=\u001b[0m \u001b[0mself\u001b[0m\u001b[0;34m.\u001b[0m\u001b[0m_original_iterator\u001b[0m \u001b[0;32mis\u001b[0m \u001b[0;32mnot\u001b[0m \u001b[0;32mNone\u001b[0m\u001b[0;34m\u001b[0m\u001b[0;34m\u001b[0m\u001b[0m\n\u001b[1;32m   1043\u001b[0m \u001b[0;34m\u001b[0m\u001b[0m\n",
      "\u001b[0;32m/work/FAC/FGSE/IDYST/tbeucler/default/tbeucler/miniconda3/envs/ml4rt/lib/python3.7/site-packages/joblib/parallel.py\u001b[0m in \u001b[0;36mdispatch_one_batch\u001b[0;34m(self, iterator)\u001b[0m\n\u001b[1;32m    829\u001b[0m                 \u001b[0mbig_batch_size\u001b[0m \u001b[0;34m=\u001b[0m \u001b[0mbatch_size\u001b[0m \u001b[0;34m*\u001b[0m \u001b[0mn_jobs\u001b[0m\u001b[0;34m\u001b[0m\u001b[0;34m\u001b[0m\u001b[0m\n\u001b[1;32m    830\u001b[0m \u001b[0;34m\u001b[0m\u001b[0m\n\u001b[0;32m--> 831\u001b[0;31m                 \u001b[0mislice\u001b[0m \u001b[0;34m=\u001b[0m \u001b[0mlist\u001b[0m\u001b[0;34m(\u001b[0m\u001b[0mitertools\u001b[0m\u001b[0;34m.\u001b[0m\u001b[0mislice\u001b[0m\u001b[0;34m(\u001b[0m\u001b[0miterator\u001b[0m\u001b[0;34m,\u001b[0m \u001b[0mbig_batch_size\u001b[0m\u001b[0;34m)\u001b[0m\u001b[0;34m)\u001b[0m\u001b[0;34m\u001b[0m\u001b[0;34m\u001b[0m\u001b[0m\n\u001b[0m\u001b[1;32m    832\u001b[0m                 \u001b[0;32mif\u001b[0m \u001b[0mlen\u001b[0m\u001b[0;34m(\u001b[0m\u001b[0mislice\u001b[0m\u001b[0;34m)\u001b[0m \u001b[0;34m==\u001b[0m \u001b[0;36m0\u001b[0m\u001b[0;34m:\u001b[0m\u001b[0;34m\u001b[0m\u001b[0;34m\u001b[0m\u001b[0m\n\u001b[1;32m    833\u001b[0m                     \u001b[0;32mreturn\u001b[0m \u001b[0;32mFalse\u001b[0m\u001b[0;34m\u001b[0m\u001b[0;34m\u001b[0m\u001b[0m\n",
      "\u001b[0;32m/work/FAC/FGSE/IDYST/tbeucler/default/tbeucler/miniconda3/envs/ml4rt/lib/python3.7/site-packages/sklearn/model_selection/_validation.py\u001b[0m in \u001b[0;36m<genexpr>\u001b[0;34m(.0)\u001b[0m\n\u001b[1;32m    266\u001b[0m     \u001b[0mparallel\u001b[0m \u001b[0;34m=\u001b[0m \u001b[0mParallel\u001b[0m\u001b[0;34m(\u001b[0m\u001b[0mn_jobs\u001b[0m\u001b[0;34m=\u001b[0m\u001b[0mn_jobs\u001b[0m\u001b[0;34m,\u001b[0m \u001b[0mverbose\u001b[0m\u001b[0;34m=\u001b[0m\u001b[0mverbose\u001b[0m\u001b[0;34m,\u001b[0m \u001b[0mpre_dispatch\u001b[0m\u001b[0;34m=\u001b[0m\u001b[0mpre_dispatch\u001b[0m\u001b[0;34m)\u001b[0m\u001b[0;34m\u001b[0m\u001b[0;34m\u001b[0m\u001b[0m\n\u001b[1;32m    267\u001b[0m     results = parallel(\n\u001b[0;32m--> 268\u001b[0;31m         delayed(_fit_and_score)(\n\u001b[0m\u001b[1;32m    269\u001b[0m             \u001b[0mclone\u001b[0m\u001b[0;34m(\u001b[0m\u001b[0mestimator\u001b[0m\u001b[0;34m)\u001b[0m\u001b[0;34m,\u001b[0m\u001b[0;34m\u001b[0m\u001b[0;34m\u001b[0m\u001b[0m\n\u001b[1;32m    270\u001b[0m             \u001b[0mX\u001b[0m\u001b[0;34m,\u001b[0m\u001b[0;34m\u001b[0m\u001b[0;34m\u001b[0m\u001b[0m\n",
      "\u001b[0;32m/work/FAC/FGSE/IDYST/tbeucler/default/tbeucler/miniconda3/envs/ml4rt/lib/python3.7/site-packages/sklearn/model_selection/_split.py\u001b[0m in \u001b[0;36msplit\u001b[0;34m(self, X, y, groups)\u001b[0m\n\u001b[1;32m    338\u001b[0m             )\n\u001b[1;32m    339\u001b[0m \u001b[0;34m\u001b[0m\u001b[0m\n\u001b[0;32m--> 340\u001b[0;31m         \u001b[0;32mfor\u001b[0m \u001b[0mtrain\u001b[0m\u001b[0;34m,\u001b[0m \u001b[0mtest\u001b[0m \u001b[0;32min\u001b[0m \u001b[0msuper\u001b[0m\u001b[0;34m(\u001b[0m\u001b[0;34m)\u001b[0m\u001b[0;34m.\u001b[0m\u001b[0msplit\u001b[0m\u001b[0;34m(\u001b[0m\u001b[0mX\u001b[0m\u001b[0;34m,\u001b[0m \u001b[0my\u001b[0m\u001b[0;34m,\u001b[0m \u001b[0mgroups\u001b[0m\u001b[0;34m)\u001b[0m\u001b[0;34m:\u001b[0m\u001b[0;34m\u001b[0m\u001b[0;34m\u001b[0m\u001b[0m\n\u001b[0m\u001b[1;32m    341\u001b[0m             \u001b[0;32myield\u001b[0m \u001b[0mtrain\u001b[0m\u001b[0;34m,\u001b[0m \u001b[0mtest\u001b[0m\u001b[0;34m\u001b[0m\u001b[0;34m\u001b[0m\u001b[0m\n\u001b[1;32m    342\u001b[0m \u001b[0;34m\u001b[0m\u001b[0m\n",
      "\u001b[0;32m/work/FAC/FGSE/IDYST/tbeucler/default/tbeucler/miniconda3/envs/ml4rt/lib/python3.7/site-packages/sklearn/model_selection/_split.py\u001b[0m in \u001b[0;36msplit\u001b[0;34m(self, X, y, groups)\u001b[0m\n\u001b[1;32m     84\u001b[0m         \u001b[0mX\u001b[0m\u001b[0;34m,\u001b[0m \u001b[0my\u001b[0m\u001b[0;34m,\u001b[0m \u001b[0mgroups\u001b[0m \u001b[0;34m=\u001b[0m \u001b[0mindexable\u001b[0m\u001b[0;34m(\u001b[0m\u001b[0mX\u001b[0m\u001b[0;34m,\u001b[0m \u001b[0my\u001b[0m\u001b[0;34m,\u001b[0m \u001b[0mgroups\u001b[0m\u001b[0;34m)\u001b[0m\u001b[0;34m\u001b[0m\u001b[0;34m\u001b[0m\u001b[0m\n\u001b[1;32m     85\u001b[0m         \u001b[0mindices\u001b[0m \u001b[0;34m=\u001b[0m \u001b[0mnp\u001b[0m\u001b[0;34m.\u001b[0m\u001b[0marange\u001b[0m\u001b[0;34m(\u001b[0m\u001b[0m_num_samples\u001b[0m\u001b[0;34m(\u001b[0m\u001b[0mX\u001b[0m\u001b[0;34m)\u001b[0m\u001b[0;34m)\u001b[0m\u001b[0;34m\u001b[0m\u001b[0;34m\u001b[0m\u001b[0m\n\u001b[0;32m---> 86\u001b[0;31m         \u001b[0;32mfor\u001b[0m \u001b[0mtest_index\u001b[0m \u001b[0;32min\u001b[0m \u001b[0mself\u001b[0m\u001b[0;34m.\u001b[0m\u001b[0m_iter_test_masks\u001b[0m\u001b[0;34m(\u001b[0m\u001b[0mX\u001b[0m\u001b[0;34m,\u001b[0m \u001b[0my\u001b[0m\u001b[0;34m,\u001b[0m \u001b[0mgroups\u001b[0m\u001b[0;34m)\u001b[0m\u001b[0;34m:\u001b[0m\u001b[0;34m\u001b[0m\u001b[0;34m\u001b[0m\u001b[0m\n\u001b[0m\u001b[1;32m     87\u001b[0m             \u001b[0mtrain_index\u001b[0m \u001b[0;34m=\u001b[0m \u001b[0mindices\u001b[0m\u001b[0;34m[\u001b[0m\u001b[0mnp\u001b[0m\u001b[0;34m.\u001b[0m\u001b[0mlogical_not\u001b[0m\u001b[0;34m(\u001b[0m\u001b[0mtest_index\u001b[0m\u001b[0;34m)\u001b[0m\u001b[0;34m]\u001b[0m\u001b[0;34m\u001b[0m\u001b[0;34m\u001b[0m\u001b[0m\n\u001b[1;32m     88\u001b[0m             \u001b[0mtest_index\u001b[0m \u001b[0;34m=\u001b[0m \u001b[0mindices\u001b[0m\u001b[0;34m[\u001b[0m\u001b[0mtest_index\u001b[0m\u001b[0;34m]\u001b[0m\u001b[0;34m\u001b[0m\u001b[0;34m\u001b[0m\u001b[0m\n",
      "\u001b[0;32m/work/FAC/FGSE/IDYST/tbeucler/default/tbeucler/miniconda3/envs/ml4rt/lib/python3.7/site-packages/sklearn/model_selection/_split.py\u001b[0m in \u001b[0;36m_iter_test_masks\u001b[0;34m(self, X, y, groups)\u001b[0m\n\u001b[1;32m     96\u001b[0m         \u001b[0mBy\u001b[0m \u001b[0mdefault\u001b[0m\u001b[0;34m,\u001b[0m \u001b[0mdelegates\u001b[0m \u001b[0mto\u001b[0m \u001b[0m_iter_test_indices\u001b[0m\u001b[0;34m(\u001b[0m\u001b[0mX\u001b[0m\u001b[0;34m,\u001b[0m \u001b[0my\u001b[0m\u001b[0;34m,\u001b[0m \u001b[0mgroups\u001b[0m\u001b[0;34m)\u001b[0m\u001b[0;34m\u001b[0m\u001b[0;34m\u001b[0m\u001b[0m\n\u001b[1;32m     97\u001b[0m         \"\"\"\n\u001b[0;32m---> 98\u001b[0;31m         \u001b[0;32mfor\u001b[0m \u001b[0mtest_index\u001b[0m \u001b[0;32min\u001b[0m \u001b[0mself\u001b[0m\u001b[0;34m.\u001b[0m\u001b[0m_iter_test_indices\u001b[0m\u001b[0;34m(\u001b[0m\u001b[0mX\u001b[0m\u001b[0;34m,\u001b[0m \u001b[0my\u001b[0m\u001b[0;34m,\u001b[0m \u001b[0mgroups\u001b[0m\u001b[0;34m)\u001b[0m\u001b[0;34m:\u001b[0m\u001b[0;34m\u001b[0m\u001b[0;34m\u001b[0m\u001b[0m\n\u001b[0m\u001b[1;32m     99\u001b[0m             \u001b[0mtest_mask\u001b[0m \u001b[0;34m=\u001b[0m \u001b[0mnp\u001b[0m\u001b[0;34m.\u001b[0m\u001b[0mzeros\u001b[0m\u001b[0;34m(\u001b[0m\u001b[0m_num_samples\u001b[0m\u001b[0;34m(\u001b[0m\u001b[0mX\u001b[0m\u001b[0;34m)\u001b[0m\u001b[0;34m,\u001b[0m \u001b[0mdtype\u001b[0m\u001b[0;34m=\u001b[0m\u001b[0mbool\u001b[0m\u001b[0;34m)\u001b[0m\u001b[0;34m\u001b[0m\u001b[0;34m\u001b[0m\u001b[0m\n\u001b[1;32m    100\u001b[0m             \u001b[0mtest_mask\u001b[0m\u001b[0;34m[\u001b[0m\u001b[0mtest_index\u001b[0m\u001b[0;34m]\u001b[0m \u001b[0;34m=\u001b[0m \u001b[0;32mTrue\u001b[0m\u001b[0;34m\u001b[0m\u001b[0;34m\u001b[0m\u001b[0m\n",
      "\u001b[0;32m/work/FAC/FGSE/IDYST/tbeucler/default/tbeucler/miniconda3/envs/ml4rt/lib/python3.7/site-packages/sklearn/model_selection/_split.py\u001b[0m in \u001b[0;36m_iter_test_indices\u001b[0;34m(self, X, y, groups)\u001b[0m\n\u001b[1;32m    437\u001b[0m     \u001b[0;32mdef\u001b[0m \u001b[0m_iter_test_indices\u001b[0m\u001b[0;34m(\u001b[0m\u001b[0mself\u001b[0m\u001b[0;34m,\u001b[0m \u001b[0mX\u001b[0m\u001b[0;34m,\u001b[0m \u001b[0my\u001b[0m\u001b[0;34m=\u001b[0m\u001b[0;32mNone\u001b[0m\u001b[0;34m,\u001b[0m \u001b[0mgroups\u001b[0m\u001b[0;34m=\u001b[0m\u001b[0;32mNone\u001b[0m\u001b[0;34m)\u001b[0m\u001b[0;34m:\u001b[0m\u001b[0;34m\u001b[0m\u001b[0;34m\u001b[0m\u001b[0m\n\u001b[1;32m    438\u001b[0m         \u001b[0mn_samples\u001b[0m \u001b[0;34m=\u001b[0m \u001b[0m_num_samples\u001b[0m\u001b[0;34m(\u001b[0m\u001b[0mX\u001b[0m\u001b[0;34m)\u001b[0m\u001b[0;34m\u001b[0m\u001b[0;34m\u001b[0m\u001b[0m\n\u001b[0;32m--> 439\u001b[0;31m         \u001b[0mindices\u001b[0m \u001b[0;34m=\u001b[0m \u001b[0mnp\u001b[0m\u001b[0;34m.\u001b[0m\u001b[0marange\u001b[0m\u001b[0;34m(\u001b[0m\u001b[0mn_samples\u001b[0m\u001b[0;34m)\u001b[0m\u001b[0;34m\u001b[0m\u001b[0;34m\u001b[0m\u001b[0m\n\u001b[0m\u001b[1;32m    440\u001b[0m         \u001b[0;32mif\u001b[0m \u001b[0mself\u001b[0m\u001b[0;34m.\u001b[0m\u001b[0mshuffle\u001b[0m\u001b[0;34m:\u001b[0m\u001b[0;34m\u001b[0m\u001b[0;34m\u001b[0m\u001b[0m\n\u001b[1;32m    441\u001b[0m             \u001b[0mcheck_random_state\u001b[0m\u001b[0;34m(\u001b[0m\u001b[0mself\u001b[0m\u001b[0;34m.\u001b[0m\u001b[0mrandom_state\u001b[0m\u001b[0;34m)\u001b[0m\u001b[0;34m.\u001b[0m\u001b[0mshuffle\u001b[0m\u001b[0;34m(\u001b[0m\u001b[0mindices\u001b[0m\u001b[0;34m)\u001b[0m\u001b[0;34m\u001b[0m\u001b[0;34m\u001b[0m\u001b[0m\n",
      "\u001b[0;31mKeyboardInterrupt\u001b[0m: "
     ]
    }
   ],
   "source": [
    "lin_reg = LinearRegression()\n",
    "for no_features in np.arange(min_features_to_select, max_features_to_select):   \n",
    "    sfs = SequentialFeatureSelector(lin_reg, n_features_to_select=no_features, direction='forward', cv=cv, n_jobs=-1)\n",
    "    sfs.fit(X_train2, y_train)\n",
    "    selected_features = np.array(new_features)[sfs.get_support()].tolist()\n",
    "    print(\n",
    "        \"Features selected by forward sequential selection: \"\n",
    "        f\"{selected_features}\"\n",
    "    )\n",
    "\n",
    "    X_transformed = sfs.transform(X_train2)\n",
    "    lin_reg.fit(X_transformed, y_train)\n",
    "    ypred = lin_reg.predict(X_transformed)\n",
    "    mse_train = mean_squared_error(y_train, ypred)\n",
    "    \n",
    "    ypred_test = lin_reg.predict(sfs.transform(X_test2))\n",
    "    mse_test = mean_squared_error(y_test, ypred_test)\n",
    "    \n",
    "    # Convert back to W/m2\n",
    "    Ypred = ypred*FTOA_down_train; \n",
    "    Ypred_test = ypred_test*FTOA_down_test; \n",
    "    MSE_train = mean_squared_error(Y_train,Ypred)\n",
    "    MSE_test = mean_squared_error(Y_test,Ypred_test)\n",
    "    \n",
    "    # Output function and its R2-score\n",
    "    dict_exp = {}\n",
    "    for i in range(len(selected_features)):\n",
    "        dict_exp[selected_features[i]] = lin_reg.coef_[i]\n",
    "    dict_exp['LR_Bias'] = lin_reg.intercept_\n",
    "    dict_exp['mse_train'] = mse_train\n",
    "    dict_exp['mse_test'] = mse_test\n",
    "    dict_exp['MSE_train'] = MSE_train\n",
    "    dict_exp['MSE_test'] = MSE_test\n",
    "    print(dict_exp)\n",
    "    \n",
    "    dict_combined['Number of variables %d'%no_features] = dict_exp"
   ]
  },
  {
   "cell_type": "code",
   "execution_count": 41,
   "id": "d05543da",
   "metadata": {},
   "outputs": [],
   "source": [
    "# Write dict_combined to pkl file\n",
    "save_path = save_folder+'2022_06_14_deg2_cv'+str(cv)\n",
    "pkl.dump(dict_combined, open(save_path,'wb'))"
   ]
  },
  {
   "cell_type": "markdown",
   "id": "12306f1e",
   "metadata": {},
   "source": [
    "### Use everything"
   ]
  },
  {
   "cell_type": "code",
   "execution_count": 35,
   "id": "143587ad",
   "metadata": {},
   "outputs": [
    {
     "data": {
      "text/plain": [
       "(109434081, 78)"
      ]
     },
     "execution_count": 35,
     "metadata": {},
     "output_type": "execute_result"
    }
   ],
   "source": [
    "X_train2.shape"
   ]
  },
  {
   "cell_type": "code",
   "execution_count": 43,
   "id": "6001e094",
   "metadata": {},
   "outputs": [],
   "source": [
    "# Randomly sub-sample X_train2 without replacement for training (not evaluation)\n",
    "Nsample = 10000000\n",
    "i_random = np.random.choice(np.linspace(0,X_train2.shape[0]-1,X_train2.shape[0]),\n",
    "                            size=((Nsample,)),replace=False).astype('int')\n",
    "X_train2_sub = X_train2[i_random,:]\n",
    "y_train_sub = y_train[i_random,]"
   ]
  },
  {
   "cell_type": "code",
   "execution_count": 44,
   "id": "9c50b341",
   "metadata": {},
   "outputs": [
    {
     "data": {
      "text/plain": [
       "(10000000, 78)"
      ]
     },
     "execution_count": 44,
     "metadata": {},
     "output_type": "execute_result"
    }
   ],
   "source": [
    "X_train2_sub.shape"
   ]
  },
  {
   "cell_type": "code",
   "execution_count": 45,
   "id": "fc4c62e5",
   "metadata": {},
   "outputs": [
    {
     "ename": "NameError",
     "evalue": "name 'selected_features' is not defined",
     "output_type": "error",
     "traceback": [
      "\u001b[0;31m---------------------------------------------------------------------------\u001b[0m",
      "\u001b[0;31mNameError\u001b[0m                                 Traceback (most recent call last)",
      "\u001b[0;32m/tmp/ipykernel_956334/539889386.py\u001b[0m in \u001b[0;36m<module>\u001b[0;34m\u001b[0m\n\u001b[1;32m     18\u001b[0m \u001b[0;31m# Output function and its R2-score\u001b[0m\u001b[0;34m\u001b[0m\u001b[0;34m\u001b[0m\u001b[0;34m\u001b[0m\u001b[0m\n\u001b[1;32m     19\u001b[0m \u001b[0mdict_exp\u001b[0m \u001b[0;34m=\u001b[0m \u001b[0;34m{\u001b[0m\u001b[0;34m}\u001b[0m\u001b[0;34m\u001b[0m\u001b[0;34m\u001b[0m\u001b[0m\n\u001b[0;32m---> 20\u001b[0;31m \u001b[0;32mfor\u001b[0m \u001b[0mi\u001b[0m \u001b[0;32min\u001b[0m \u001b[0mrange\u001b[0m\u001b[0;34m(\u001b[0m\u001b[0mlen\u001b[0m\u001b[0;34m(\u001b[0m\u001b[0mselected_features\u001b[0m\u001b[0;34m)\u001b[0m\u001b[0;34m)\u001b[0m\u001b[0;34m:\u001b[0m\u001b[0;34m\u001b[0m\u001b[0;34m\u001b[0m\u001b[0m\n\u001b[0m\u001b[1;32m     21\u001b[0m     \u001b[0mdict_exp\u001b[0m\u001b[0;34m[\u001b[0m\u001b[0mselected_features\u001b[0m\u001b[0;34m[\u001b[0m\u001b[0mi\u001b[0m\u001b[0;34m]\u001b[0m\u001b[0;34m]\u001b[0m \u001b[0;34m=\u001b[0m \u001b[0mlin_reg\u001b[0m\u001b[0;34m.\u001b[0m\u001b[0mcoef_\u001b[0m\u001b[0;34m[\u001b[0m\u001b[0mi\u001b[0m\u001b[0;34m]\u001b[0m\u001b[0;34m\u001b[0m\u001b[0;34m\u001b[0m\u001b[0m\n\u001b[1;32m     22\u001b[0m \u001b[0mdict_exp\u001b[0m\u001b[0;34m[\u001b[0m\u001b[0;34m'LR_Bias'\u001b[0m\u001b[0;34m]\u001b[0m \u001b[0;34m=\u001b[0m \u001b[0mlin_reg\u001b[0m\u001b[0;34m.\u001b[0m\u001b[0mintercept_\u001b[0m\u001b[0;34m\u001b[0m\u001b[0;34m\u001b[0m\u001b[0m\n",
      "\u001b[0;31mNameError\u001b[0m: name 'selected_features' is not defined"
     ]
    }
   ],
   "source": [
    "# Subsample for training\n",
    "lin_reg = LinearRegression()\n",
    "lin_reg.fit(X_train2_sub, y_train_sub)\n",
    "\n",
    "# But still evaluate on the whole dataset\n",
    "ypred = lin_reg.predict(X_train2)\n",
    "mse_train = mean_squared_error(y_train, ypred)\n",
    "\n",
    "ypred_test = lin_reg.predict(X_test2)\n",
    "mse_test = mean_squared_error(y_test, ypred_test)\n",
    "\n",
    "# Convert back to W/m2\n",
    "Ypred = ypred*FTOA_down_train; \n",
    "Ypred_test = ypred_test*FTOA_down_test; \n",
    "MSE_train = mean_squared_error(Y_train,Ypred)\n",
    "MSE_test = mean_squared_error(Y_test,Ypred_test)\n",
    "\n"
   ]
  },
  {
   "cell_type": "code",
   "execution_count": 46,
   "id": "97558892",
   "metadata": {},
   "outputs": [
    {
     "name": "stdout",
     "output_type": "stream",
     "text": [
      "{'LR_Bias': 0.8346621292009498, 'mse_train': 0.001909239439680309, 'mse_test': 0.0018143009062806029, 'MSE_train': 174.6213616329238, 'MSE_test': 366.7273610314301}\n"
     ]
    }
   ],
   "source": [
    "# Output function and its R2-score\n",
    "dict_exp = {}\n",
    "# for i in range(len(selected_features)):\n",
    "#     dict_exp[selected_features[i]] = lin_reg.coef_[i]\n",
    "dict_exp['LR_Bias'] = lin_reg.intercept_\n",
    "dict_exp['mse_train'] = mse_train\n",
    "dict_exp['mse_test'] = mse_test\n",
    "dict_exp['MSE_train'] = MSE_train\n",
    "dict_exp['MSE_test'] = MSE_test\n",
    "print(dict_exp)"
   ]
  },
  {
   "cell_type": "code",
   "execution_count": 47,
   "id": "712eb5de",
   "metadata": {},
   "outputs": [],
   "source": [
    "# Write dict_combined to pkl file\n",
    "save_path = save_folder+'2022_06_14_deg2_all_cv'+str(cv)\n",
    "pkl.dump(dict_exp, open(save_path,'wb'))"
   ]
  },
  {
   "cell_type": "markdown",
   "id": "88e19960",
   "metadata": {},
   "source": [
    "## Cubic (degree 3)"
   ]
  },
  {
   "cell_type": "code",
   "execution_count": 48,
   "id": "91a9079a",
   "metadata": {},
   "outputs": [],
   "source": [
    "cv = 2\n",
    "deg = 3\n",
    "min_features_to_select = 1\n",
    "max_features_to_select = 10"
   ]
  },
  {
   "cell_type": "markdown",
   "id": "a524eb8a",
   "metadata": {},
   "source": [
    "Sub-sample for both train and test here"
   ]
  },
  {
   "cell_type": "code",
   "execution_count": 57,
   "id": "9dc655a4",
   "metadata": {},
   "outputs": [],
   "source": [
    "# Randomly sub-sample X_train3 without replacement for training and evaluation\n",
    "Nsample = 5000000\n",
    "i_random_train = np.random.choice(np.linspace(0,X_train.shape[0]-1,X_train.shape[0]),\n",
    "                            size=((Nsample,)),replace=False).astype('int')\n",
    "i_random_test = np.random.choice(np.linspace(0,X_test.shape[0]-1,X_test.shape[0]),\n",
    "                            size=((Nsample,)),replace=False).astype('int')\n",
    "X_train_sub = X_train[i_random_train,:]\n",
    "y_train_sub = y_train[i_random_train,]\n",
    "X_test_sub = X_test[i_random_test,:]\n",
    "y_test_sub = y_test[i_random_test,]"
   ]
  },
  {
   "cell_type": "code",
   "execution_count": 58,
   "id": "f9cc564f",
   "metadata": {},
   "outputs": [
    {
     "name": "stdout",
     "output_type": "stream",
     "text": [
      "(5000000, 364)\n"
     ]
    }
   ],
   "source": [
    "poly = PolynomialFeatures(degree=deg)\n",
    "X_train3 = poly.fit_transform(X_train_sub)\n",
    "\n",
    "print(X_train3.shape)\n",
    "    \n",
    "new_features = poly.get_feature_names_out(np.array(key_array)) # Update the feature names\n",
    "X_test3 = poly.fit_transform(X_test_sub)"
   ]
  },
  {
   "cell_type": "code",
   "execution_count": 59,
   "id": "d0a216b1",
   "metadata": {},
   "outputs": [
    {
     "data": {
      "text/plain": [
       "array(['1', 'cos_za', 'albedo', 'p', 'T', 'qv', 'ql', 'QVup', 'QLup',\n",
       "       'QVdo', 'QLdo', 'RH', 'cos_za^2', 'cos_za albedo', 'cos_za p',\n",
       "       'cos_za T', 'cos_za qv', 'cos_za ql', 'cos_za QVup', 'cos_za QLup',\n",
       "       'cos_za QVdo', 'cos_za QLdo', 'cos_za RH', 'albedo^2', 'albedo p',\n",
       "       'albedo T', 'albedo qv', 'albedo ql', 'albedo QVup', 'albedo QLup',\n",
       "       'albedo QVdo', 'albedo QLdo', 'albedo RH', 'p^2', 'p T', 'p qv',\n",
       "       'p ql', 'p QVup', 'p QLup', 'p QVdo', 'p QLdo', 'p RH', 'T^2',\n",
       "       'T qv', 'T ql', 'T QVup', 'T QLup', 'T QVdo', 'T QLdo', 'T RH',\n",
       "       'qv^2', 'qv ql', 'qv QVup', 'qv QLup', 'qv QVdo', 'qv QLdo',\n",
       "       'qv RH', 'ql^2', 'ql QVup', 'ql QLup', 'ql QVdo', 'ql QLdo',\n",
       "       'ql RH', 'QVup^2', 'QVup QLup', 'QVup QVdo', 'QVup QLdo',\n",
       "       'QVup RH', 'QLup^2', 'QLup QVdo', 'QLup QLdo', 'QLup RH', 'QVdo^2',\n",
       "       'QVdo QLdo', 'QVdo RH', 'QLdo^2', 'QLdo RH', 'RH^2', 'cos_za^3',\n",
       "       'cos_za^2 albedo', 'cos_za^2 p', 'cos_za^2 T', 'cos_za^2 qv',\n",
       "       'cos_za^2 ql', 'cos_za^2 QVup', 'cos_za^2 QLup', 'cos_za^2 QVdo',\n",
       "       'cos_za^2 QLdo', 'cos_za^2 RH', 'cos_za albedo^2',\n",
       "       'cos_za albedo p', 'cos_za albedo T', 'cos_za albedo qv',\n",
       "       'cos_za albedo ql', 'cos_za albedo QVup', 'cos_za albedo QLup',\n",
       "       'cos_za albedo QVdo', 'cos_za albedo QLdo', 'cos_za albedo RH',\n",
       "       'cos_za p^2', 'cos_za p T', 'cos_za p qv', 'cos_za p ql',\n",
       "       'cos_za p QVup', 'cos_za p QLup', 'cos_za p QVdo', 'cos_za p QLdo',\n",
       "       'cos_za p RH', 'cos_za T^2', 'cos_za T qv', 'cos_za T ql',\n",
       "       'cos_za T QVup', 'cos_za T QLup', 'cos_za T QVdo', 'cos_za T QLdo',\n",
       "       'cos_za T RH', 'cos_za qv^2', 'cos_za qv ql', 'cos_za qv QVup',\n",
       "       'cos_za qv QLup', 'cos_za qv QVdo', 'cos_za qv QLdo',\n",
       "       'cos_za qv RH', 'cos_za ql^2', 'cos_za ql QVup', 'cos_za ql QLup',\n",
       "       'cos_za ql QVdo', 'cos_za ql QLdo', 'cos_za ql RH',\n",
       "       'cos_za QVup^2', 'cos_za QVup QLup', 'cos_za QVup QVdo',\n",
       "       'cos_za QVup QLdo', 'cos_za QVup RH', 'cos_za QLup^2',\n",
       "       'cos_za QLup QVdo', 'cos_za QLup QLdo', 'cos_za QLup RH',\n",
       "       'cos_za QVdo^2', 'cos_za QVdo QLdo', 'cos_za QVdo RH',\n",
       "       'cos_za QLdo^2', 'cos_za QLdo RH', 'cos_za RH^2', 'albedo^3',\n",
       "       'albedo^2 p', 'albedo^2 T', 'albedo^2 qv', 'albedo^2 ql',\n",
       "       'albedo^2 QVup', 'albedo^2 QLup', 'albedo^2 QVdo', 'albedo^2 QLdo',\n",
       "       'albedo^2 RH', 'albedo p^2', 'albedo p T', 'albedo p qv',\n",
       "       'albedo p ql', 'albedo p QVup', 'albedo p QLup', 'albedo p QVdo',\n",
       "       'albedo p QLdo', 'albedo p RH', 'albedo T^2', 'albedo T qv',\n",
       "       'albedo T ql', 'albedo T QVup', 'albedo T QLup', 'albedo T QVdo',\n",
       "       'albedo T QLdo', 'albedo T RH', 'albedo qv^2', 'albedo qv ql',\n",
       "       'albedo qv QVup', 'albedo qv QLup', 'albedo qv QVdo',\n",
       "       'albedo qv QLdo', 'albedo qv RH', 'albedo ql^2', 'albedo ql QVup',\n",
       "       'albedo ql QLup', 'albedo ql QVdo', 'albedo ql QLdo',\n",
       "       'albedo ql RH', 'albedo QVup^2', 'albedo QVup QLup',\n",
       "       'albedo QVup QVdo', 'albedo QVup QLdo', 'albedo QVup RH',\n",
       "       'albedo QLup^2', 'albedo QLup QVdo', 'albedo QLup QLdo',\n",
       "       'albedo QLup RH', 'albedo QVdo^2', 'albedo QVdo QLdo',\n",
       "       'albedo QVdo RH', 'albedo QLdo^2', 'albedo QLdo RH', 'albedo RH^2',\n",
       "       'p^3', 'p^2 T', 'p^2 qv', 'p^2 ql', 'p^2 QVup', 'p^2 QLup',\n",
       "       'p^2 QVdo', 'p^2 QLdo', 'p^2 RH', 'p T^2', 'p T qv', 'p T ql',\n",
       "       'p T QVup', 'p T QLup', 'p T QVdo', 'p T QLdo', 'p T RH', 'p qv^2',\n",
       "       'p qv ql', 'p qv QVup', 'p qv QLup', 'p qv QVdo', 'p qv QLdo',\n",
       "       'p qv RH', 'p ql^2', 'p ql QVup', 'p ql QLup', 'p ql QVdo',\n",
       "       'p ql QLdo', 'p ql RH', 'p QVup^2', 'p QVup QLup', 'p QVup QVdo',\n",
       "       'p QVup QLdo', 'p QVup RH', 'p QLup^2', 'p QLup QVdo',\n",
       "       'p QLup QLdo', 'p QLup RH', 'p QVdo^2', 'p QVdo QLdo', 'p QVdo RH',\n",
       "       'p QLdo^2', 'p QLdo RH', 'p RH^2', 'T^3', 'T^2 qv', 'T^2 ql',\n",
       "       'T^2 QVup', 'T^2 QLup', 'T^2 QVdo', 'T^2 QLdo', 'T^2 RH', 'T qv^2',\n",
       "       'T qv ql', 'T qv QVup', 'T qv QLup', 'T qv QVdo', 'T qv QLdo',\n",
       "       'T qv RH', 'T ql^2', 'T ql QVup', 'T ql QLup', 'T ql QVdo',\n",
       "       'T ql QLdo', 'T ql RH', 'T QVup^2', 'T QVup QLup', 'T QVup QVdo',\n",
       "       'T QVup QLdo', 'T QVup RH', 'T QLup^2', 'T QLup QVdo',\n",
       "       'T QLup QLdo', 'T QLup RH', 'T QVdo^2', 'T QVdo QLdo', 'T QVdo RH',\n",
       "       'T QLdo^2', 'T QLdo RH', 'T RH^2', 'qv^3', 'qv^2 ql', 'qv^2 QVup',\n",
       "       'qv^2 QLup', 'qv^2 QVdo', 'qv^2 QLdo', 'qv^2 RH', 'qv ql^2',\n",
       "       'qv ql QVup', 'qv ql QLup', 'qv ql QVdo', 'qv ql QLdo', 'qv ql RH',\n",
       "       'qv QVup^2', 'qv QVup QLup', 'qv QVup QVdo', 'qv QVup QLdo',\n",
       "       'qv QVup RH', 'qv QLup^2', 'qv QLup QVdo', 'qv QLup QLdo',\n",
       "       'qv QLup RH', 'qv QVdo^2', 'qv QVdo QLdo', 'qv QVdo RH',\n",
       "       'qv QLdo^2', 'qv QLdo RH', 'qv RH^2', 'ql^3', 'ql^2 QVup',\n",
       "       'ql^2 QLup', 'ql^2 QVdo', 'ql^2 QLdo', 'ql^2 RH', 'ql QVup^2',\n",
       "       'ql QVup QLup', 'ql QVup QVdo', 'ql QVup QLdo', 'ql QVup RH',\n",
       "       'ql QLup^2', 'ql QLup QVdo', 'ql QLup QLdo', 'ql QLup RH',\n",
       "       'ql QVdo^2', 'ql QVdo QLdo', 'ql QVdo RH', 'ql QLdo^2',\n",
       "       'ql QLdo RH', 'ql RH^2', 'QVup^3', 'QVup^2 QLup', 'QVup^2 QVdo',\n",
       "       'QVup^2 QLdo', 'QVup^2 RH', 'QVup QLup^2', 'QVup QLup QVdo',\n",
       "       'QVup QLup QLdo', 'QVup QLup RH', 'QVup QVdo^2', 'QVup QVdo QLdo',\n",
       "       'QVup QVdo RH', 'QVup QLdo^2', 'QVup QLdo RH', 'QVup RH^2',\n",
       "       'QLup^3', 'QLup^2 QVdo', 'QLup^2 QLdo', 'QLup^2 RH', 'QLup QVdo^2',\n",
       "       'QLup QVdo QLdo', 'QLup QVdo RH', 'QLup QLdo^2', 'QLup QLdo RH',\n",
       "       'QLup RH^2', 'QVdo^3', 'QVdo^2 QLdo', 'QVdo^2 RH', 'QVdo QLdo^2',\n",
       "       'QVdo QLdo RH', 'QVdo RH^2', 'QLdo^3', 'QLdo^2 RH', 'QLdo RH^2',\n",
       "       'RH^3'], dtype=object)"
      ]
     },
     "execution_count": 59,
     "metadata": {},
     "output_type": "execute_result"
    }
   ],
   "source": [
    "new_features"
   ]
  },
  {
   "cell_type": "markdown",
   "id": "c0dc0588",
   "metadata": {},
   "source": [
    "### Sequential Feature Selector"
   ]
  },
  {
   "cell_type": "code",
   "execution_count": 66,
   "id": "d4839355",
   "metadata": {},
   "outputs": [],
   "source": [
    "dict_combined = {}"
   ]
  },
  {
   "cell_type": "code",
   "execution_count": null,
   "id": "a523417d",
   "metadata": {},
   "outputs": [
    {
     "name": "stdout",
     "output_type": "stream",
     "text": [
      "Features selected by forward sequential selection: ['p RH']\n",
      "{'p RH': -0.4822756120218817, 'LR_Bias': 0.9024607506072879, 'mse_train': 0.019048508576406897, 'mse_test': 0.023078014485909445, 'MSE_train': 4253.850931509128, 'MSE_test': 16946.97581075629}\n",
      "Features selected by forward sequential selection: ['p RH', 'albedo^2 p']\n",
      "{'p RH': -0.38004582817768684, 'albedo^2 p': -0.43955220869825473, 'LR_Bias': 0.9187550574437138, 'mse_train': 0.013977500743757051, 'mse_test': 0.013489997562172791, 'MSE_train': 2163.3306372469074, 'MSE_test': 7289.725072306403}\n",
      "Features selected by forward sequential selection: ['QLup', 'p RH', 'albedo^2 p']\n",
      "{'QLup': -3.587518905192296, 'p RH': -0.3012835287314158, 'albedo^2 p': -0.49961734583205464, 'LR_Bias': 0.9106828305818481, 'mse_train': 0.009741659842438851, 'mse_test': 0.008088753669460836, 'MSE_train': 1335.304195182617, 'MSE_test': 3956.149456598277}\n",
      "Features selected by forward sequential selection: ['QLup', 'p QLdo', 'p RH', 'albedo^2 p']\n",
      "{'QLup': -3.384120253133853, 'p QLdo': -4.333831885300157, 'p RH': -0.292798980870117, 'albedo^2 p': -0.5090229168821209, 'LR_Bias': 0.9208187224623304, 'mse_train': 0.007403120429805996, 'mse_test': 0.0063799143472923914, 'MSE_train': 1012.9890503784578, 'MSE_test': 2870.290123904773}\n",
      "Features selected by forward sequential selection: ['cos_za', 'QLup', 'p QLdo', 'p RH', 'albedo^2 p']\n",
      "{'cos_za': 0.17245283933152206, 'QLup': -3.3804399966139638, 'p QLdo': -4.329471663763503, 'p RH': -0.3041398120866533, 'albedo^2 p': -0.43368830490818855, 'LR_Bias': 0.8530731187415826, 'mse_train': 0.00575411056942293, 'mse_test': 0.004512980975447759, 'MSE_train': 709.0689576499013, 'MSE_test': 1470.10937856905}\n",
      "Features selected by forward sequential selection: ['cos_za', 'QLup', 'p QLdo', 'p RH', 'albedo^2 p', 'QLup^2 RH']\n",
      "{'cos_za': 0.17146928047061902, 'QLup': -5.5620419041785585, 'p QLdo': -4.256517177058628, 'p RH': -0.28072064992702717, 'albedo^2 p': -0.445432020642893, 'QLup^2 RH': 10.537654373618613, 'LR_Bias': 0.8505643717706675, 'mse_train': 0.004843531906139132, 'mse_test': 0.0035876120526334852, 'MSE_train': 607.4477449136311, 'MSE_test': 1285.7283375140992}\n",
      "Features selected by forward sequential selection: ['cos_za', 'QLup', 'p T', 'p QLdo', 'p RH', 'albedo^2 p', 'QLup^2 RH']\n",
      "{'cos_za': 0.196510896975951, 'QLup': -5.784680125585407, 'p T': -0.20178857630873148, 'p QLdo': -4.411178357488806, 'p RH': -0.14005708774344705, 'albedo^2 p': -0.4606599100538826, 'QLup^2 RH': 11.056780131041556, 'LR_Bias': 0.8675793487831843, 'mse_train': 0.003908292989479232, 'mse_test': 0.0030441254230503846, 'MSE_train': 444.6971678548561, 'MSE_test': 1250.3826502668494}\n"
     ]
    }
   ],
   "source": [
    "lin_reg = LinearRegression()\n",
    "for no_features in np.arange(min_features_to_select, max_features_to_select):   \n",
    "    sfs = SequentialFeatureSelector(lin_reg, n_features_to_select=no_features, direction='forward', cv=cv, n_jobs=-1)\n",
    "    sfs.fit(X_train3, y_train_sub)\n",
    "    selected_features = np.array(new_features)[sfs.get_support()].tolist()\n",
    "    print(\n",
    "        \"Features selected by forward sequential selection: \"\n",
    "        f\"{selected_features}\"\n",
    "    )\n",
    "\n",
    "    X_transformed = sfs.transform(X_train3)\n",
    "    lin_reg.fit(X_transformed, y_train_sub)\n",
    "    ypred = lin_reg.predict(X_transformed)\n",
    "    mse_train = mean_squared_error(y_train_sub, ypred)\n",
    "    \n",
    "    ypred_test = lin_reg.predict(sfs.transform(X_test3))\n",
    "    mse_test = mean_squared_error(y_test_sub, ypred_test)\n",
    "    \n",
    "    # Convert back to W/m2\n",
    "    Ypred = ypred*FTOA_down_train[i_random_train]; \n",
    "    Ypred_test = ypred_test*FTOA_down_test[i_random_test]; \n",
    "    MSE_train = mean_squared_error(Y_train[i_random_train],Ypred)\n",
    "    MSE_test = mean_squared_error(Y_test[i_random_test],Ypred_test)\n",
    "    \n",
    "    # Output function and its R2-score\n",
    "    dict_exp = {}\n",
    "    for i in range(len(selected_features)):\n",
    "        dict_exp[selected_features[i]] = lin_reg.coef_[i]\n",
    "    dict_exp['LR_Bias'] = lin_reg.intercept_\n",
    "    dict_exp['mse_train'] = mse_train\n",
    "    dict_exp['mse_test'] = mse_test\n",
    "    dict_exp['MSE_train'] = MSE_train\n",
    "    dict_exp['MSE_test'] = MSE_test\n",
    "    print(dict_exp)\n",
    "    \n",
    "    dict_combined['Number of variables %d'%no_features] = dict_exp"
   ]
  },
  {
   "cell_type": "code",
   "execution_count": null,
   "id": "3594f4d6",
   "metadata": {},
   "outputs": [],
   "source": [
    "# Write dict_combined to pkl file\n",
    "save_path = save_folder+'2022_06_14_deg3_cv'+str(cv)\n",
    "pkl.dump(dict_combined, open(save_path,'wb'))"
   ]
  },
  {
   "cell_type": "markdown",
   "id": "be5ffd5b",
   "metadata": {},
   "source": [
    "### Use everything"
   ]
  },
  {
   "cell_type": "code",
   "execution_count": 60,
   "id": "d62efe89",
   "metadata": {},
   "outputs": [
    {
     "ename": "ValueError",
     "evalue": "Found input variables with inconsistent numbers of samples: [109434081, 5000000]",
     "output_type": "error",
     "traceback": [
      "\u001b[0;31m---------------------------------------------------------------------------\u001b[0m",
      "\u001b[0;31mValueError\u001b[0m                                Traceback (most recent call last)",
      "\u001b[0;32m/tmp/ipykernel_956334/1205423937.py\u001b[0m in \u001b[0;36m<module>\u001b[0;34m\u001b[0m\n\u001b[1;32m      9\u001b[0m \u001b[0mYpred\u001b[0m \u001b[0;34m=\u001b[0m \u001b[0mypred\u001b[0m\u001b[0;34m*\u001b[0m\u001b[0mFTOA_down_train\u001b[0m\u001b[0;34m[\u001b[0m\u001b[0mi_random_train\u001b[0m\u001b[0;34m]\u001b[0m\u001b[0;34m;\u001b[0m\u001b[0;34m\u001b[0m\u001b[0;34m\u001b[0m\u001b[0m\n\u001b[1;32m     10\u001b[0m \u001b[0mYpred_test\u001b[0m \u001b[0;34m=\u001b[0m \u001b[0mypred_test\u001b[0m\u001b[0;34m*\u001b[0m\u001b[0mFTOA_down_test\u001b[0m\u001b[0;34m[\u001b[0m\u001b[0mi_random_test\u001b[0m\u001b[0;34m]\u001b[0m\u001b[0;34m;\u001b[0m\u001b[0;34m\u001b[0m\u001b[0;34m\u001b[0m\u001b[0m\n\u001b[0;32m---> 11\u001b[0;31m \u001b[0mMSE_train\u001b[0m \u001b[0;34m=\u001b[0m \u001b[0mmean_squared_error\u001b[0m\u001b[0;34m(\u001b[0m\u001b[0mY_train\u001b[0m\u001b[0;34m,\u001b[0m\u001b[0mYpred\u001b[0m\u001b[0;34m)\u001b[0m\u001b[0;34m\u001b[0m\u001b[0;34m\u001b[0m\u001b[0m\n\u001b[0m\u001b[1;32m     12\u001b[0m \u001b[0mMSE_test\u001b[0m \u001b[0;34m=\u001b[0m \u001b[0mmean_squared_error\u001b[0m\u001b[0;34m(\u001b[0m\u001b[0mY_test\u001b[0m\u001b[0;34m,\u001b[0m\u001b[0mYpred_test\u001b[0m\u001b[0;34m)\u001b[0m\u001b[0;34m\u001b[0m\u001b[0;34m\u001b[0m\u001b[0m\n\u001b[1;32m     13\u001b[0m \u001b[0;34m\u001b[0m\u001b[0m\n",
      "\u001b[0;32m/work/FAC/FGSE/IDYST/tbeucler/default/tbeucler/miniconda3/envs/ml4rt/lib/python3.7/site-packages/sklearn/metrics/_regression.py\u001b[0m in \u001b[0;36mmean_squared_error\u001b[0;34m(y_true, y_pred, sample_weight, multioutput, squared)\u001b[0m\n\u001b[1;32m    422\u001b[0m     \"\"\"\n\u001b[1;32m    423\u001b[0m     y_type, y_true, y_pred, multioutput = _check_reg_targets(\n\u001b[0;32m--> 424\u001b[0;31m         \u001b[0my_true\u001b[0m\u001b[0;34m,\u001b[0m \u001b[0my_pred\u001b[0m\u001b[0;34m,\u001b[0m \u001b[0mmultioutput\u001b[0m\u001b[0;34m\u001b[0m\u001b[0;34m\u001b[0m\u001b[0m\n\u001b[0m\u001b[1;32m    425\u001b[0m     )\n\u001b[1;32m    426\u001b[0m     \u001b[0mcheck_consistent_length\u001b[0m\u001b[0;34m(\u001b[0m\u001b[0my_true\u001b[0m\u001b[0;34m,\u001b[0m \u001b[0my_pred\u001b[0m\u001b[0;34m,\u001b[0m \u001b[0msample_weight\u001b[0m\u001b[0;34m)\u001b[0m\u001b[0;34m\u001b[0m\u001b[0;34m\u001b[0m\u001b[0m\n",
      "\u001b[0;32m/work/FAC/FGSE/IDYST/tbeucler/default/tbeucler/miniconda3/envs/ml4rt/lib/python3.7/site-packages/sklearn/metrics/_regression.py\u001b[0m in \u001b[0;36m_check_reg_targets\u001b[0;34m(y_true, y_pred, multioutput, dtype)\u001b[0m\n\u001b[1;32m     87\u001b[0m         \u001b[0mthe\u001b[0m \u001b[0mdtype\u001b[0m \u001b[0margument\u001b[0m \u001b[0mpassed\u001b[0m \u001b[0mto\u001b[0m \u001b[0mcheck_array\u001b[0m\u001b[0;34m.\u001b[0m\u001b[0;34m\u001b[0m\u001b[0;34m\u001b[0m\u001b[0m\n\u001b[1;32m     88\u001b[0m     \"\"\"\n\u001b[0;32m---> 89\u001b[0;31m     \u001b[0mcheck_consistent_length\u001b[0m\u001b[0;34m(\u001b[0m\u001b[0my_true\u001b[0m\u001b[0;34m,\u001b[0m \u001b[0my_pred\u001b[0m\u001b[0;34m)\u001b[0m\u001b[0;34m\u001b[0m\u001b[0;34m\u001b[0m\u001b[0m\n\u001b[0m\u001b[1;32m     90\u001b[0m     \u001b[0my_true\u001b[0m \u001b[0;34m=\u001b[0m \u001b[0mcheck_array\u001b[0m\u001b[0;34m(\u001b[0m\u001b[0my_true\u001b[0m\u001b[0;34m,\u001b[0m \u001b[0mensure_2d\u001b[0m\u001b[0;34m=\u001b[0m\u001b[0;32mFalse\u001b[0m\u001b[0;34m,\u001b[0m \u001b[0mdtype\u001b[0m\u001b[0;34m=\u001b[0m\u001b[0mdtype\u001b[0m\u001b[0;34m)\u001b[0m\u001b[0;34m\u001b[0m\u001b[0;34m\u001b[0m\u001b[0m\n\u001b[1;32m     91\u001b[0m     \u001b[0my_pred\u001b[0m \u001b[0;34m=\u001b[0m \u001b[0mcheck_array\u001b[0m\u001b[0;34m(\u001b[0m\u001b[0my_pred\u001b[0m\u001b[0;34m,\u001b[0m \u001b[0mensure_2d\u001b[0m\u001b[0;34m=\u001b[0m\u001b[0;32mFalse\u001b[0m\u001b[0;34m,\u001b[0m \u001b[0mdtype\u001b[0m\u001b[0;34m=\u001b[0m\u001b[0mdtype\u001b[0m\u001b[0;34m)\u001b[0m\u001b[0;34m\u001b[0m\u001b[0;34m\u001b[0m\u001b[0m\n",
      "\u001b[0;32m/work/FAC/FGSE/IDYST/tbeucler/default/tbeucler/miniconda3/envs/ml4rt/lib/python3.7/site-packages/sklearn/utils/validation.py\u001b[0m in \u001b[0;36mcheck_consistent_length\u001b[0;34m(*arrays)\u001b[0m\n\u001b[1;32m    331\u001b[0m         raise ValueError(\n\u001b[1;32m    332\u001b[0m             \u001b[0;34m\"Found input variables with inconsistent numbers of samples: %r\"\u001b[0m\u001b[0;34m\u001b[0m\u001b[0;34m\u001b[0m\u001b[0m\n\u001b[0;32m--> 333\u001b[0;31m             \u001b[0;34m%\u001b[0m \u001b[0;34m[\u001b[0m\u001b[0mint\u001b[0m\u001b[0;34m(\u001b[0m\u001b[0ml\u001b[0m\u001b[0;34m)\u001b[0m \u001b[0;32mfor\u001b[0m \u001b[0ml\u001b[0m \u001b[0;32min\u001b[0m \u001b[0mlengths\u001b[0m\u001b[0;34m]\u001b[0m\u001b[0;34m\u001b[0m\u001b[0;34m\u001b[0m\u001b[0m\n\u001b[0m\u001b[1;32m    334\u001b[0m         )\n\u001b[1;32m    335\u001b[0m \u001b[0;34m\u001b[0m\u001b[0m\n",
      "\u001b[0;31mValueError\u001b[0m: Found input variables with inconsistent numbers of samples: [109434081, 5000000]"
     ]
    }
   ],
   "source": [
    "lin_reg.fit(X_train3, y_train_sub)\n",
    "ypred = lin_reg.predict(X_train3)\n",
    "mse_train = mean_squared_error(y_train_sub, ypred)\n",
    "\n",
    "ypred_test = lin_reg.predict(X_test3)\n",
    "mse_test = mean_squared_error(y_test_sub, ypred_test)\n",
    "\n",
    "# Convert back to W/m2\n",
    "Ypred = ypred*FTOA_down_train[i_random_train]; \n",
    "Ypred_test = ypred_test*FTOA_down_test[i_random_test]; \n"
   ]
  },
  {
   "cell_type": "code",
   "execution_count": 64,
   "id": "7141d41b",
   "metadata": {},
   "outputs": [
    {
     "name": "stdout",
     "output_type": "stream",
     "text": [
      "{'LR_Bias': 0.8928904075412043, 'mse_train': 0.0009219906969263273, 'mse_test': 0.0011412402097343867, 'MSE_train': 69.19955156875949, 'MSE_test': 229.179291701986}\n"
     ]
    }
   ],
   "source": [
    "MSE_train = mean_squared_error(Y_train[i_random_train],Ypred)\n",
    "MSE_test = mean_squared_error(Y_test[i_random_test],Ypred_test)\n",
    "\n",
    "# Output function and its R2-score\n",
    "dict_exp = {}\n",
    "dict_exp['LR_Bias'] = lin_reg.intercept_\n",
    "dict_exp['mse_train'] = mse_train\n",
    "dict_exp['mse_test'] = mse_test\n",
    "dict_exp['MSE_train'] = MSE_train\n",
    "dict_exp['MSE_test'] = MSE_test\n",
    "print(dict_exp)"
   ]
  },
  {
   "cell_type": "code",
   "execution_count": 65,
   "id": "b4b77190",
   "metadata": {},
   "outputs": [],
   "source": [
    "# Write dict_combined to pkl file\n",
    "save_path = save_folder+'2022_06_14_deg3_all_cv'+str(cv)\n",
    "pkl.dump(dict_exp, open(save_path,'wb'))"
   ]
  },
  {
   "cell_type": "code",
   "execution_count": null,
   "id": "f50bb841",
   "metadata": {},
   "outputs": [],
   "source": []
  }
 ],
 "metadata": {
  "kernelspec": {
   "display_name": "Python 3 (ipykernel)",
   "language": "python",
   "name": "python3"
  },
  "language_info": {
   "codemirror_mode": {
    "name": "ipython",
    "version": 3
   },
   "file_extension": ".py",
   "mimetype": "text/x-python",
   "name": "python",
   "nbconvert_exporter": "python",
   "pygments_lexer": "ipython3",
   "version": "3.7.7"
  },
  "toc": {
   "base_numbering": 1,
   "nav_menu": {},
   "number_sections": true,
   "sideBar": true,
   "skip_h1_title": false,
   "title_cell": "Table of Contents",
   "title_sidebar": "Contents",
   "toc_cell": false,
   "toc_position": {},
   "toc_section_display": true,
   "toc_window_display": true
  }
 },
 "nbformat": 4,
 "nbformat_minor": 5
}
