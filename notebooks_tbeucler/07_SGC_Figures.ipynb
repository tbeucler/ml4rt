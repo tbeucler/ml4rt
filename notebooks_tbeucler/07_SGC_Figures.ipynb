{
  "nbformat": 4,
  "nbformat_minor": 0,
  "metadata": {
    "colab": {
      "provenance": [],
      "authorship_tag": "ABX9TyN0pEoYxIAWPKCpD0G526h3",
      "include_colab_link": true
    },
    "kernelspec": {
      "name": "python3",
      "display_name": "Python 3"
    },
    "language_info": {
      "name": "python"
    }
  },
  "cells": [
    {
      "cell_type": "markdown",
      "metadata": {
        "id": "view-in-github",
        "colab_type": "text"
      },
      "source": [
        "<a href=\"https://colab.research.google.com/github/tbeucler/ml4rt/blob/master/notebooks_tbeucler/07_SGC_Figures.ipynb\" target=\"_parent\"><img src=\"https://colab.research.google.com/assets/colab-badge.svg\" alt=\"Open In Colab\"/></a>"
      ]
    },
    {
      "cell_type": "markdown",
      "source": [
        "# Imports"
      ],
      "metadata": {
        "id": "zFapKFD4KGtF"
      }
    },
    {
      "cell_type": "code",
      "execution_count": null,
      "metadata": {
        "id": "t34KIX7XJz-s"
      },
      "outputs": [],
      "source": [
        "import matplotlib as mpl\n",
        "import matplotlib.pyplot as plt\n",
        "import matplotlib.font_manager\n",
        "from matplotlib import colors\n",
        "from matplotlib import cm\n",
        "from matplotlib.colors import ListedColormap, LinearSegmentedColormap\n",
        "\n",
        "import pandas as pd\n",
        "import numpy as np\n",
        "import pickle as pkl\n",
        "import json"
      ]
    },
    {
      "cell_type": "code",
      "source": [
        "fz = 40\n",
        "lw = 2\n",
        "siz = 100\n",
        "\n",
        "plt.rc('text', usetex=False)\n",
        "matplotlib.rcParams['mathtext.fontset'] = 'custom'\n",
        "mpl.rcParams['mathtext.fontset'] = 'stix'\n",
        "mpl.rcParams['font.family'] = 'STIXGeneral'\n",
        "mpl.rcParams['lines.linewidth'] = lw\n",
        "plt.rc('font',size=fz)"
      ],
      "metadata": {
        "id": "094dvShBJ-hB"
      },
      "execution_count": null,
      "outputs": []
    },
    {
      "cell_type": "markdown",
      "source": [
        "# Schematic to showcase the added value of nonlinearity"
      ],
      "metadata": {
        "id": "NjlgkT5aSn6r"
      }
    },
    {
      "cell_type": "code",
      "source": [],
      "metadata": {
        "id": "2QRN5ipyThiP"
      },
      "execution_count": null,
      "outputs": []
    },
    {
      "cell_type": "markdown",
      "source": [
        "# Deterministic, AI-based, Medium-Range Weather Forecasting"
      ],
      "metadata": {
        "id": "Vf37iXNfKBWQ"
      }
    },
    {
      "cell_type": "code",
      "source": [
        "# Create a dictionary storing performance and number of parameters for each model\n",
        "MWF = {}"
      ],
      "metadata": {
        "id": "2i0uWKxZKM_r"
      },
      "execution_count": null,
      "outputs": []
    },
    {
      "cell_type": "code",
      "source": [
        "# Start with number of parameters\n",
        "MWF['WeynCNN2019'] = 200e3\n",
        "MWF['WeynCNN2020'] = 700e3\n",
        "MWF['Rasp2020'] = 6.3e6\n",
        "MWF['Keisler'] = 6.7e6\n",
        "MWF['Pathak'] = 75e6\n",
        "MWF['GraphCast'] = 37e6\n",
        "MWF['Pangu'] = 256e6"
      ],
      "metadata": {
        "id": "Lg0QQfpdLUfY"
      },
      "execution_count": null,
      "outputs": []
    }
  ]
}