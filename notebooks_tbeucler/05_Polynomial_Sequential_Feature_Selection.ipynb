{
 "cells": [
  {
   "cell_type": "markdown",
   "id": "700af347",
   "metadata": {},
   "source": [
    "tgb - 6/14/2022 - Polynomial equation discovery for SW radiation, using sequential feature selection to limit the number of terms"
   ]
  },
  {
   "cell_type": "markdown",
   "id": "c9e82b5d",
   "metadata": {},
   "source": [
    "# Imports"
   ]
  },
  {
   "cell_type": "code",
   "execution_count": 1,
   "id": "2e9a37fd",
   "metadata": {},
   "outputs": [],
   "source": [
    "import matplotlib.pyplot as plt\n",
    "import numpy as np\n",
    "import pickle as pkl\n",
    "import xarray as xr\n",
    "\n",
    "from sklearn.linear_model import LinearRegression\n",
    "from sklearn.metrics import mean_squared_error\n",
    "from sklearn.feature_selection import SequentialFeatureSelector\n",
    "from sklearn.model_selection import cross_validate\n",
    "from sklearn.model_selection import RepeatedKFold\n",
    "from sklearn.preprocessing import PolynomialFeatures"
   ]
  },
  {
   "cell_type": "markdown",
   "id": "d972070d",
   "metadata": {},
   "source": [
    "# Data "
   ]
  },
  {
   "cell_type": "markdown",
   "id": "96f8aaa5",
   "metadata": {},
   "source": [
    "## Loading"
   ]
  },
  {
   "cell_type": "code",
   "execution_count": 2,
   "id": "ad8a9963",
   "metadata": {},
   "outputs": [],
   "source": [
    "Nontrop_folder = '/work/FAC/FGSE/IDYST/tbeucler/default/tbeucler/2021_Ryan_Lagerquist_SW/non_tropical_sites/'\n",
    "Trop_folder = '/work/FAC/FGSE/IDYST/tbeucler/default/tbeucler/2021_Ryan_Lagerquist_SW/tropical_sites/'\n",
    "\n",
    "#data2018 = xr.open_dataset(Nontrop_folder+'learning_examples_2018.nc')\n",
    "data2019 = xr.open_dataset(Nontrop_folder+'learning_examples_2019.nc')\n",
    "data2020 = xr.open_dataset(Nontrop_folder+'learning_examples_2020.nc')\n",
    "\n",
    "trop2017 = xr.open_dataset(Trop_folder+'learning_examples_2017.nc')"
   ]
  },
  {
   "cell_type": "code",
   "execution_count": 3,
   "id": "83637dbf",
   "metadata": {},
   "outputs": [],
   "source": [
    "x_train = {}\n",
    "x_test = {}"
   ]
  },
  {
   "cell_type": "code",
   "execution_count": 4,
   "id": "9a117bdf",
   "metadata": {},
   "outputs": [
    {
     "data": {
      "text/html": [
       "<div><svg style=\"position: absolute; width: 0; height: 0; overflow: hidden\">\n",
       "<defs>\n",
       "<symbol id=\"icon-database\" viewBox=\"0 0 32 32\">\n",
       "<path d=\"M16 0c-8.837 0-16 2.239-16 5v4c0 2.761 7.163 5 16 5s16-2.239 16-5v-4c0-2.761-7.163-5-16-5z\"></path>\n",
       "<path d=\"M16 17c-8.837 0-16-2.239-16-5v6c0 2.761 7.163 5 16 5s16-2.239 16-5v-6c0 2.761-7.163 5-16 5z\"></path>\n",
       "<path d=\"M16 26c-8.837 0-16-2.239-16-5v6c0 2.761 7.163 5 16 5s16-2.239 16-5v-6c0 2.761-7.163 5-16 5z\"></path>\n",
       "</symbol>\n",
       "<symbol id=\"icon-file-text2\" viewBox=\"0 0 32 32\">\n",
       "<path d=\"M28.681 7.159c-0.694-0.947-1.662-2.053-2.724-3.116s-2.169-2.030-3.116-2.724c-1.612-1.182-2.393-1.319-2.841-1.319h-15.5c-1.378 0-2.5 1.121-2.5 2.5v27c0 1.378 1.122 2.5 2.5 2.5h23c1.378 0 2.5-1.122 2.5-2.5v-19.5c0-0.448-0.137-1.23-1.319-2.841zM24.543 5.457c0.959 0.959 1.712 1.825 2.268 2.543h-4.811v-4.811c0.718 0.556 1.584 1.309 2.543 2.268zM28 29.5c0 0.271-0.229 0.5-0.5 0.5h-23c-0.271 0-0.5-0.229-0.5-0.5v-27c0-0.271 0.229-0.5 0.5-0.5 0 0 15.499-0 15.5 0v7c0 0.552 0.448 1 1 1h7v19.5z\"></path>\n",
       "<path d=\"M23 26h-14c-0.552 0-1-0.448-1-1s0.448-1 1-1h14c0.552 0 1 0.448 1 1s-0.448 1-1 1z\"></path>\n",
       "<path d=\"M23 22h-14c-0.552 0-1-0.448-1-1s0.448-1 1-1h14c0.552 0 1 0.448 1 1s-0.448 1-1 1z\"></path>\n",
       "<path d=\"M23 18h-14c-0.552 0-1-0.448-1-1s0.448-1 1-1h14c0.552 0 1 0.448 1 1s-0.448 1-1 1z\"></path>\n",
       "</symbol>\n",
       "</defs>\n",
       "</svg>\n",
       "<style>/* CSS stylesheet for displaying xarray objects in jupyterlab.\n",
       " *\n",
       " */\n",
       "\n",
       ":root {\n",
       "  --xr-font-color0: var(--jp-content-font-color0, rgba(0, 0, 0, 1));\n",
       "  --xr-font-color2: var(--jp-content-font-color2, rgba(0, 0, 0, 0.54));\n",
       "  --xr-font-color3: var(--jp-content-font-color3, rgba(0, 0, 0, 0.38));\n",
       "  --xr-border-color: var(--jp-border-color2, #e0e0e0);\n",
       "  --xr-disabled-color: var(--jp-layout-color3, #bdbdbd);\n",
       "  --xr-background-color: var(--jp-layout-color0, white);\n",
       "  --xr-background-color-row-even: var(--jp-layout-color1, white);\n",
       "  --xr-background-color-row-odd: var(--jp-layout-color2, #eeeeee);\n",
       "}\n",
       "\n",
       "html[theme=dark],\n",
       "body.vscode-dark {\n",
       "  --xr-font-color0: rgba(255, 255, 255, 1);\n",
       "  --xr-font-color2: rgba(255, 255, 255, 0.54);\n",
       "  --xr-font-color3: rgba(255, 255, 255, 0.38);\n",
       "  --xr-border-color: #1F1F1F;\n",
       "  --xr-disabled-color: #515151;\n",
       "  --xr-background-color: #111111;\n",
       "  --xr-background-color-row-even: #111111;\n",
       "  --xr-background-color-row-odd: #313131;\n",
       "}\n",
       "\n",
       ".xr-wrap {\n",
       "  display: block;\n",
       "  min-width: 300px;\n",
       "  max-width: 700px;\n",
       "}\n",
       "\n",
       ".xr-text-repr-fallback {\n",
       "  /* fallback to plain text repr when CSS is not injected (untrusted notebook) */\n",
       "  display: none;\n",
       "}\n",
       "\n",
       ".xr-header {\n",
       "  padding-top: 6px;\n",
       "  padding-bottom: 6px;\n",
       "  margin-bottom: 4px;\n",
       "  border-bottom: solid 1px var(--xr-border-color);\n",
       "}\n",
       "\n",
       ".xr-header > div,\n",
       ".xr-header > ul {\n",
       "  display: inline;\n",
       "  margin-top: 0;\n",
       "  margin-bottom: 0;\n",
       "}\n",
       "\n",
       ".xr-obj-type,\n",
       ".xr-array-name {\n",
       "  margin-left: 2px;\n",
       "  margin-right: 10px;\n",
       "}\n",
       "\n",
       ".xr-obj-type {\n",
       "  color: var(--xr-font-color2);\n",
       "}\n",
       "\n",
       ".xr-sections {\n",
       "  padding-left: 0 !important;\n",
       "  display: grid;\n",
       "  grid-template-columns: 150px auto auto 1fr 20px 20px;\n",
       "}\n",
       "\n",
       ".xr-section-item {\n",
       "  display: contents;\n",
       "}\n",
       "\n",
       ".xr-section-item input {\n",
       "  display: none;\n",
       "}\n",
       "\n",
       ".xr-section-item input + label {\n",
       "  color: var(--xr-disabled-color);\n",
       "}\n",
       "\n",
       ".xr-section-item input:enabled + label {\n",
       "  cursor: pointer;\n",
       "  color: var(--xr-font-color2);\n",
       "}\n",
       "\n",
       ".xr-section-item input:enabled + label:hover {\n",
       "  color: var(--xr-font-color0);\n",
       "}\n",
       "\n",
       ".xr-section-summary {\n",
       "  grid-column: 1;\n",
       "  color: var(--xr-font-color2);\n",
       "  font-weight: 500;\n",
       "}\n",
       "\n",
       ".xr-section-summary > span {\n",
       "  display: inline-block;\n",
       "  padding-left: 0.5em;\n",
       "}\n",
       "\n",
       ".xr-section-summary-in:disabled + label {\n",
       "  color: var(--xr-font-color2);\n",
       "}\n",
       "\n",
       ".xr-section-summary-in + label:before {\n",
       "  display: inline-block;\n",
       "  content: '►';\n",
       "  font-size: 11px;\n",
       "  width: 15px;\n",
       "  text-align: center;\n",
       "}\n",
       "\n",
       ".xr-section-summary-in:disabled + label:before {\n",
       "  color: var(--xr-disabled-color);\n",
       "}\n",
       "\n",
       ".xr-section-summary-in:checked + label:before {\n",
       "  content: '▼';\n",
       "}\n",
       "\n",
       ".xr-section-summary-in:checked + label > span {\n",
       "  display: none;\n",
       "}\n",
       "\n",
       ".xr-section-summary,\n",
       ".xr-section-inline-details {\n",
       "  padding-top: 4px;\n",
       "  padding-bottom: 4px;\n",
       "}\n",
       "\n",
       ".xr-section-inline-details {\n",
       "  grid-column: 2 / -1;\n",
       "}\n",
       "\n",
       ".xr-section-details {\n",
       "  display: none;\n",
       "  grid-column: 1 / -1;\n",
       "  margin-bottom: 5px;\n",
       "}\n",
       "\n",
       ".xr-section-summary-in:checked ~ .xr-section-details {\n",
       "  display: contents;\n",
       "}\n",
       "\n",
       ".xr-array-wrap {\n",
       "  grid-column: 1 / -1;\n",
       "  display: grid;\n",
       "  grid-template-columns: 20px auto;\n",
       "}\n",
       "\n",
       ".xr-array-wrap > label {\n",
       "  grid-column: 1;\n",
       "  vertical-align: top;\n",
       "}\n",
       "\n",
       ".xr-preview {\n",
       "  color: var(--xr-font-color3);\n",
       "}\n",
       "\n",
       ".xr-array-preview,\n",
       ".xr-array-data {\n",
       "  padding: 0 5px !important;\n",
       "  grid-column: 2;\n",
       "}\n",
       "\n",
       ".xr-array-data,\n",
       ".xr-array-in:checked ~ .xr-array-preview {\n",
       "  display: none;\n",
       "}\n",
       "\n",
       ".xr-array-in:checked ~ .xr-array-data,\n",
       ".xr-array-preview {\n",
       "  display: inline-block;\n",
       "}\n",
       "\n",
       ".xr-dim-list {\n",
       "  display: inline-block !important;\n",
       "  list-style: none;\n",
       "  padding: 0 !important;\n",
       "  margin: 0;\n",
       "}\n",
       "\n",
       ".xr-dim-list li {\n",
       "  display: inline-block;\n",
       "  padding: 0;\n",
       "  margin: 0;\n",
       "}\n",
       "\n",
       ".xr-dim-list:before {\n",
       "  content: '(';\n",
       "}\n",
       "\n",
       ".xr-dim-list:after {\n",
       "  content: ')';\n",
       "}\n",
       "\n",
       ".xr-dim-list li:not(:last-child):after {\n",
       "  content: ',';\n",
       "  padding-right: 5px;\n",
       "}\n",
       "\n",
       ".xr-has-index {\n",
       "  font-weight: bold;\n",
       "}\n",
       "\n",
       ".xr-var-list,\n",
       ".xr-var-item {\n",
       "  display: contents;\n",
       "}\n",
       "\n",
       ".xr-var-item > div,\n",
       ".xr-var-item label,\n",
       ".xr-var-item > .xr-var-name span {\n",
       "  background-color: var(--xr-background-color-row-even);\n",
       "  margin-bottom: 0;\n",
       "}\n",
       "\n",
       ".xr-var-item > .xr-var-name:hover span {\n",
       "  padding-right: 5px;\n",
       "}\n",
       "\n",
       ".xr-var-list > li:nth-child(odd) > div,\n",
       ".xr-var-list > li:nth-child(odd) > label,\n",
       ".xr-var-list > li:nth-child(odd) > .xr-var-name span {\n",
       "  background-color: var(--xr-background-color-row-odd);\n",
       "}\n",
       "\n",
       ".xr-var-name {\n",
       "  grid-column: 1;\n",
       "}\n",
       "\n",
       ".xr-var-dims {\n",
       "  grid-column: 2;\n",
       "}\n",
       "\n",
       ".xr-var-dtype {\n",
       "  grid-column: 3;\n",
       "  text-align: right;\n",
       "  color: var(--xr-font-color2);\n",
       "}\n",
       "\n",
       ".xr-var-preview {\n",
       "  grid-column: 4;\n",
       "}\n",
       "\n",
       ".xr-var-name,\n",
       ".xr-var-dims,\n",
       ".xr-var-dtype,\n",
       ".xr-preview,\n",
       ".xr-attrs dt {\n",
       "  white-space: nowrap;\n",
       "  overflow: hidden;\n",
       "  text-overflow: ellipsis;\n",
       "  padding-right: 10px;\n",
       "}\n",
       "\n",
       ".xr-var-name:hover,\n",
       ".xr-var-dims:hover,\n",
       ".xr-var-dtype:hover,\n",
       ".xr-attrs dt:hover {\n",
       "  overflow: visible;\n",
       "  width: auto;\n",
       "  z-index: 1;\n",
       "}\n",
       "\n",
       ".xr-var-attrs,\n",
       ".xr-var-data {\n",
       "  display: none;\n",
       "  background-color: var(--xr-background-color) !important;\n",
       "  padding-bottom: 5px !important;\n",
       "}\n",
       "\n",
       ".xr-var-attrs-in:checked ~ .xr-var-attrs,\n",
       ".xr-var-data-in:checked ~ .xr-var-data {\n",
       "  display: block;\n",
       "}\n",
       "\n",
       ".xr-var-data > table {\n",
       "  float: right;\n",
       "}\n",
       "\n",
       ".xr-var-name span,\n",
       ".xr-var-data,\n",
       ".xr-attrs {\n",
       "  padding-left: 25px !important;\n",
       "}\n",
       "\n",
       ".xr-attrs,\n",
       ".xr-var-attrs,\n",
       ".xr-var-data {\n",
       "  grid-column: 1 / -1;\n",
       "}\n",
       "\n",
       "dl.xr-attrs {\n",
       "  padding: 0;\n",
       "  margin: 0;\n",
       "  display: grid;\n",
       "  grid-template-columns: 125px auto;\n",
       "}\n",
       "\n",
       ".xr-attrs dt,\n",
       ".xr-attrs dd {\n",
       "  padding: 0;\n",
       "  margin: 0;\n",
       "  float: left;\n",
       "  padding-right: 10px;\n",
       "  width: auto;\n",
       "}\n",
       "\n",
       ".xr-attrs dt {\n",
       "  font-weight: normal;\n",
       "  grid-column: 1;\n",
       "}\n",
       "\n",
       ".xr-attrs dt:hover span {\n",
       "  display: inline-block;\n",
       "  background: var(--xr-background-color);\n",
       "  padding-right: 10px;\n",
       "}\n",
       "\n",
       ".xr-attrs dd {\n",
       "  grid-column: 2;\n",
       "  white-space: pre-wrap;\n",
       "  word-break: break-all;\n",
       "}\n",
       "\n",
       ".xr-icon-database,\n",
       ".xr-icon-file-text2 {\n",
       "  display: inline-block;\n",
       "  vertical-align: middle;\n",
       "  width: 1em;\n",
       "  height: 1.5em !important;\n",
       "  stroke-width: 0;\n",
       "  stroke: currentColor;\n",
       "  fill: currentColor;\n",
       "}\n",
       "</style><pre class='xr-text-repr-fallback'>&lt;xarray.DataArray &#x27;vector_predictor_names&#x27; (vector_predictor: 12)&gt;\n",
       "array([b&#x27;pressure_pascals&#x27;, b&#x27;temperature_kelvins&#x27;,\n",
       "       b&#x27;specific_humidity_kg_kg01&#x27;, b&#x27;liquid_water_content_kg_m03&#x27;,\n",
       "       b&#x27;ice_water_content_kg_m03&#x27;, b&#x27;liquid_water_path_kg_m02&#x27;,\n",
       "       b&#x27;ice_water_path_kg_m02&#x27;, b&#x27;vapour_path_kg_m02&#x27;,\n",
       "       b&#x27;upward_liquid_water_path_kg_m02&#x27;, b&#x27;upward_ice_water_path_kg_m02&#x27;,\n",
       "       b&#x27;upward_vapour_path_kg_m02&#x27;, b&#x27;relative_humidity_unitless&#x27;],\n",
       "      dtype=&#x27;|S35&#x27;)\n",
       "Dimensions without coordinates: vector_predictor</pre><div class='xr-wrap' hidden><div class='xr-header'><div class='xr-obj-type'>xarray.DataArray</div><div class='xr-array-name'>'vector_predictor_names'</div><ul class='xr-dim-list'><li><span>vector_predictor</span>: 12</li></ul></div><ul class='xr-sections'><li class='xr-section-item'><div class='xr-array-wrap'><input id='section-9202e5f8-681e-4889-b16c-74cfd881333b' class='xr-array-in' type='checkbox' checked><label for='section-9202e5f8-681e-4889-b16c-74cfd881333b' title='Show/hide data repr'><svg class='icon xr-icon-database'><use xlink:href='#icon-database'></use></svg></label><div class='xr-array-preview xr-preview'><span>b&#x27;pressure_pascals&#x27; ... b&#x27;relative_humidity_unitless&#x27;</span></div><div class='xr-array-data'><pre>array([b&#x27;pressure_pascals&#x27;, b&#x27;temperature_kelvins&#x27;,\n",
       "       b&#x27;specific_humidity_kg_kg01&#x27;, b&#x27;liquid_water_content_kg_m03&#x27;,\n",
       "       b&#x27;ice_water_content_kg_m03&#x27;, b&#x27;liquid_water_path_kg_m02&#x27;,\n",
       "       b&#x27;ice_water_path_kg_m02&#x27;, b&#x27;vapour_path_kg_m02&#x27;,\n",
       "       b&#x27;upward_liquid_water_path_kg_m02&#x27;, b&#x27;upward_ice_water_path_kg_m02&#x27;,\n",
       "       b&#x27;upward_vapour_path_kg_m02&#x27;, b&#x27;relative_humidity_unitless&#x27;],\n",
       "      dtype=&#x27;|S35&#x27;)</pre></div></div></li><li class='xr-section-item'><input id='section-cf4f3203-bce6-48a9-9091-f6e17c5532ea' class='xr-section-summary-in' type='checkbox' disabled ><label for='section-cf4f3203-bce6-48a9-9091-f6e17c5532ea' class='xr-section-summary'  title='Expand/collapse section'>Coordinates: <span>(0)</span></label><div class='xr-section-inline-details'></div><div class='xr-section-details'><ul class='xr-var-list'></ul></div></li><li class='xr-section-item'><input id='section-7bd2751e-8ebd-4644-ac3e-0063675ab257' class='xr-section-summary-in' type='checkbox' disabled ><label for='section-7bd2751e-8ebd-4644-ac3e-0063675ab257' class='xr-section-summary'  title='Expand/collapse section'>Attributes: <span>(0)</span></label><div class='xr-section-inline-details'></div><div class='xr-section-details'><dl class='xr-attrs'></dl></div></li></ul></div></div>"
      ],
      "text/plain": [
       "<xarray.DataArray 'vector_predictor_names' (vector_predictor: 12)>\n",
       "array([b'pressure_pascals', b'temperature_kelvins',\n",
       "       b'specific_humidity_kg_kg01', b'liquid_water_content_kg_m03',\n",
       "       b'ice_water_content_kg_m03', b'liquid_water_path_kg_m02',\n",
       "       b'ice_water_path_kg_m02', b'vapour_path_kg_m02',\n",
       "       b'upward_liquid_water_path_kg_m02', b'upward_ice_water_path_kg_m02',\n",
       "       b'upward_vapour_path_kg_m02', b'relative_humidity_unitless'],\n",
       "      dtype='|S35')\n",
       "Dimensions without coordinates: vector_predictor"
      ]
     },
     "execution_count": 4,
     "metadata": {},
     "output_type": "execute_result"
    }
   ],
   "source": [
    "data2019['vector_predictor_names']"
   ]
  },
  {
   "cell_type": "code",
   "execution_count": 5,
   "id": "5959f6e1",
   "metadata": {},
   "outputs": [
    {
     "data": {
      "text/html": [
       "<div><svg style=\"position: absolute; width: 0; height: 0; overflow: hidden\">\n",
       "<defs>\n",
       "<symbol id=\"icon-database\" viewBox=\"0 0 32 32\">\n",
       "<path d=\"M16 0c-8.837 0-16 2.239-16 5v4c0 2.761 7.163 5 16 5s16-2.239 16-5v-4c0-2.761-7.163-5-16-5z\"></path>\n",
       "<path d=\"M16 17c-8.837 0-16-2.239-16-5v6c0 2.761 7.163 5 16 5s16-2.239 16-5v-6c0 2.761-7.163 5-16 5z\"></path>\n",
       "<path d=\"M16 26c-8.837 0-16-2.239-16-5v6c0 2.761 7.163 5 16 5s16-2.239 16-5v-6c0 2.761-7.163 5-16 5z\"></path>\n",
       "</symbol>\n",
       "<symbol id=\"icon-file-text2\" viewBox=\"0 0 32 32\">\n",
       "<path d=\"M28.681 7.159c-0.694-0.947-1.662-2.053-2.724-3.116s-2.169-2.030-3.116-2.724c-1.612-1.182-2.393-1.319-2.841-1.319h-15.5c-1.378 0-2.5 1.121-2.5 2.5v27c0 1.378 1.122 2.5 2.5 2.5h23c1.378 0 2.5-1.122 2.5-2.5v-19.5c0-0.448-0.137-1.23-1.319-2.841zM24.543 5.457c0.959 0.959 1.712 1.825 2.268 2.543h-4.811v-4.811c0.718 0.556 1.584 1.309 2.543 2.268zM28 29.5c0 0.271-0.229 0.5-0.5 0.5h-23c-0.271 0-0.5-0.229-0.5-0.5v-27c0-0.271 0.229-0.5 0.5-0.5 0 0 15.499-0 15.5 0v7c0 0.552 0.448 1 1 1h7v19.5z\"></path>\n",
       "<path d=\"M23 26h-14c-0.552 0-1-0.448-1-1s0.448-1 1-1h14c0.552 0 1 0.448 1 1s-0.448 1-1 1z\"></path>\n",
       "<path d=\"M23 22h-14c-0.552 0-1-0.448-1-1s0.448-1 1-1h14c0.552 0 1 0.448 1 1s-0.448 1-1 1z\"></path>\n",
       "<path d=\"M23 18h-14c-0.552 0-1-0.448-1-1s0.448-1 1-1h14c0.552 0 1 0.448 1 1s-0.448 1-1 1z\"></path>\n",
       "</symbol>\n",
       "</defs>\n",
       "</svg>\n",
       "<style>/* CSS stylesheet for displaying xarray objects in jupyterlab.\n",
       " *\n",
       " */\n",
       "\n",
       ":root {\n",
       "  --xr-font-color0: var(--jp-content-font-color0, rgba(0, 0, 0, 1));\n",
       "  --xr-font-color2: var(--jp-content-font-color2, rgba(0, 0, 0, 0.54));\n",
       "  --xr-font-color3: var(--jp-content-font-color3, rgba(0, 0, 0, 0.38));\n",
       "  --xr-border-color: var(--jp-border-color2, #e0e0e0);\n",
       "  --xr-disabled-color: var(--jp-layout-color3, #bdbdbd);\n",
       "  --xr-background-color: var(--jp-layout-color0, white);\n",
       "  --xr-background-color-row-even: var(--jp-layout-color1, white);\n",
       "  --xr-background-color-row-odd: var(--jp-layout-color2, #eeeeee);\n",
       "}\n",
       "\n",
       "html[theme=dark],\n",
       "body.vscode-dark {\n",
       "  --xr-font-color0: rgba(255, 255, 255, 1);\n",
       "  --xr-font-color2: rgba(255, 255, 255, 0.54);\n",
       "  --xr-font-color3: rgba(255, 255, 255, 0.38);\n",
       "  --xr-border-color: #1F1F1F;\n",
       "  --xr-disabled-color: #515151;\n",
       "  --xr-background-color: #111111;\n",
       "  --xr-background-color-row-even: #111111;\n",
       "  --xr-background-color-row-odd: #313131;\n",
       "}\n",
       "\n",
       ".xr-wrap {\n",
       "  display: block;\n",
       "  min-width: 300px;\n",
       "  max-width: 700px;\n",
       "}\n",
       "\n",
       ".xr-text-repr-fallback {\n",
       "  /* fallback to plain text repr when CSS is not injected (untrusted notebook) */\n",
       "  display: none;\n",
       "}\n",
       "\n",
       ".xr-header {\n",
       "  padding-top: 6px;\n",
       "  padding-bottom: 6px;\n",
       "  margin-bottom: 4px;\n",
       "  border-bottom: solid 1px var(--xr-border-color);\n",
       "}\n",
       "\n",
       ".xr-header > div,\n",
       ".xr-header > ul {\n",
       "  display: inline;\n",
       "  margin-top: 0;\n",
       "  margin-bottom: 0;\n",
       "}\n",
       "\n",
       ".xr-obj-type,\n",
       ".xr-array-name {\n",
       "  margin-left: 2px;\n",
       "  margin-right: 10px;\n",
       "}\n",
       "\n",
       ".xr-obj-type {\n",
       "  color: var(--xr-font-color2);\n",
       "}\n",
       "\n",
       ".xr-sections {\n",
       "  padding-left: 0 !important;\n",
       "  display: grid;\n",
       "  grid-template-columns: 150px auto auto 1fr 20px 20px;\n",
       "}\n",
       "\n",
       ".xr-section-item {\n",
       "  display: contents;\n",
       "}\n",
       "\n",
       ".xr-section-item input {\n",
       "  display: none;\n",
       "}\n",
       "\n",
       ".xr-section-item input + label {\n",
       "  color: var(--xr-disabled-color);\n",
       "}\n",
       "\n",
       ".xr-section-item input:enabled + label {\n",
       "  cursor: pointer;\n",
       "  color: var(--xr-font-color2);\n",
       "}\n",
       "\n",
       ".xr-section-item input:enabled + label:hover {\n",
       "  color: var(--xr-font-color0);\n",
       "}\n",
       "\n",
       ".xr-section-summary {\n",
       "  grid-column: 1;\n",
       "  color: var(--xr-font-color2);\n",
       "  font-weight: 500;\n",
       "}\n",
       "\n",
       ".xr-section-summary > span {\n",
       "  display: inline-block;\n",
       "  padding-left: 0.5em;\n",
       "}\n",
       "\n",
       ".xr-section-summary-in:disabled + label {\n",
       "  color: var(--xr-font-color2);\n",
       "}\n",
       "\n",
       ".xr-section-summary-in + label:before {\n",
       "  display: inline-block;\n",
       "  content: '►';\n",
       "  font-size: 11px;\n",
       "  width: 15px;\n",
       "  text-align: center;\n",
       "}\n",
       "\n",
       ".xr-section-summary-in:disabled + label:before {\n",
       "  color: var(--xr-disabled-color);\n",
       "}\n",
       "\n",
       ".xr-section-summary-in:checked + label:before {\n",
       "  content: '▼';\n",
       "}\n",
       "\n",
       ".xr-section-summary-in:checked + label > span {\n",
       "  display: none;\n",
       "}\n",
       "\n",
       ".xr-section-summary,\n",
       ".xr-section-inline-details {\n",
       "  padding-top: 4px;\n",
       "  padding-bottom: 4px;\n",
       "}\n",
       "\n",
       ".xr-section-inline-details {\n",
       "  grid-column: 2 / -1;\n",
       "}\n",
       "\n",
       ".xr-section-details {\n",
       "  display: none;\n",
       "  grid-column: 1 / -1;\n",
       "  margin-bottom: 5px;\n",
       "}\n",
       "\n",
       ".xr-section-summary-in:checked ~ .xr-section-details {\n",
       "  display: contents;\n",
       "}\n",
       "\n",
       ".xr-array-wrap {\n",
       "  grid-column: 1 / -1;\n",
       "  display: grid;\n",
       "  grid-template-columns: 20px auto;\n",
       "}\n",
       "\n",
       ".xr-array-wrap > label {\n",
       "  grid-column: 1;\n",
       "  vertical-align: top;\n",
       "}\n",
       "\n",
       ".xr-preview {\n",
       "  color: var(--xr-font-color3);\n",
       "}\n",
       "\n",
       ".xr-array-preview,\n",
       ".xr-array-data {\n",
       "  padding: 0 5px !important;\n",
       "  grid-column: 2;\n",
       "}\n",
       "\n",
       ".xr-array-data,\n",
       ".xr-array-in:checked ~ .xr-array-preview {\n",
       "  display: none;\n",
       "}\n",
       "\n",
       ".xr-array-in:checked ~ .xr-array-data,\n",
       ".xr-array-preview {\n",
       "  display: inline-block;\n",
       "}\n",
       "\n",
       ".xr-dim-list {\n",
       "  display: inline-block !important;\n",
       "  list-style: none;\n",
       "  padding: 0 !important;\n",
       "  margin: 0;\n",
       "}\n",
       "\n",
       ".xr-dim-list li {\n",
       "  display: inline-block;\n",
       "  padding: 0;\n",
       "  margin: 0;\n",
       "}\n",
       "\n",
       ".xr-dim-list:before {\n",
       "  content: '(';\n",
       "}\n",
       "\n",
       ".xr-dim-list:after {\n",
       "  content: ')';\n",
       "}\n",
       "\n",
       ".xr-dim-list li:not(:last-child):after {\n",
       "  content: ',';\n",
       "  padding-right: 5px;\n",
       "}\n",
       "\n",
       ".xr-has-index {\n",
       "  font-weight: bold;\n",
       "}\n",
       "\n",
       ".xr-var-list,\n",
       ".xr-var-item {\n",
       "  display: contents;\n",
       "}\n",
       "\n",
       ".xr-var-item > div,\n",
       ".xr-var-item label,\n",
       ".xr-var-item > .xr-var-name span {\n",
       "  background-color: var(--xr-background-color-row-even);\n",
       "  margin-bottom: 0;\n",
       "}\n",
       "\n",
       ".xr-var-item > .xr-var-name:hover span {\n",
       "  padding-right: 5px;\n",
       "}\n",
       "\n",
       ".xr-var-list > li:nth-child(odd) > div,\n",
       ".xr-var-list > li:nth-child(odd) > label,\n",
       ".xr-var-list > li:nth-child(odd) > .xr-var-name span {\n",
       "  background-color: var(--xr-background-color-row-odd);\n",
       "}\n",
       "\n",
       ".xr-var-name {\n",
       "  grid-column: 1;\n",
       "}\n",
       "\n",
       ".xr-var-dims {\n",
       "  grid-column: 2;\n",
       "}\n",
       "\n",
       ".xr-var-dtype {\n",
       "  grid-column: 3;\n",
       "  text-align: right;\n",
       "  color: var(--xr-font-color2);\n",
       "}\n",
       "\n",
       ".xr-var-preview {\n",
       "  grid-column: 4;\n",
       "}\n",
       "\n",
       ".xr-var-name,\n",
       ".xr-var-dims,\n",
       ".xr-var-dtype,\n",
       ".xr-preview,\n",
       ".xr-attrs dt {\n",
       "  white-space: nowrap;\n",
       "  overflow: hidden;\n",
       "  text-overflow: ellipsis;\n",
       "  padding-right: 10px;\n",
       "}\n",
       "\n",
       ".xr-var-name:hover,\n",
       ".xr-var-dims:hover,\n",
       ".xr-var-dtype:hover,\n",
       ".xr-attrs dt:hover {\n",
       "  overflow: visible;\n",
       "  width: auto;\n",
       "  z-index: 1;\n",
       "}\n",
       "\n",
       ".xr-var-attrs,\n",
       ".xr-var-data {\n",
       "  display: none;\n",
       "  background-color: var(--xr-background-color) !important;\n",
       "  padding-bottom: 5px !important;\n",
       "}\n",
       "\n",
       ".xr-var-attrs-in:checked ~ .xr-var-attrs,\n",
       ".xr-var-data-in:checked ~ .xr-var-data {\n",
       "  display: block;\n",
       "}\n",
       "\n",
       ".xr-var-data > table {\n",
       "  float: right;\n",
       "}\n",
       "\n",
       ".xr-var-name span,\n",
       ".xr-var-data,\n",
       ".xr-attrs {\n",
       "  padding-left: 25px !important;\n",
       "}\n",
       "\n",
       ".xr-attrs,\n",
       ".xr-var-attrs,\n",
       ".xr-var-data {\n",
       "  grid-column: 1 / -1;\n",
       "}\n",
       "\n",
       "dl.xr-attrs {\n",
       "  padding: 0;\n",
       "  margin: 0;\n",
       "  display: grid;\n",
       "  grid-template-columns: 125px auto;\n",
       "}\n",
       "\n",
       ".xr-attrs dt,\n",
       ".xr-attrs dd {\n",
       "  padding: 0;\n",
       "  margin: 0;\n",
       "  float: left;\n",
       "  padding-right: 10px;\n",
       "  width: auto;\n",
       "}\n",
       "\n",
       ".xr-attrs dt {\n",
       "  font-weight: normal;\n",
       "  grid-column: 1;\n",
       "}\n",
       "\n",
       ".xr-attrs dt:hover span {\n",
       "  display: inline-block;\n",
       "  background: var(--xr-background-color);\n",
       "  padding-right: 10px;\n",
       "}\n",
       "\n",
       ".xr-attrs dd {\n",
       "  grid-column: 2;\n",
       "  white-space: pre-wrap;\n",
       "  word-break: break-all;\n",
       "}\n",
       "\n",
       ".xr-icon-database,\n",
       ".xr-icon-file-text2 {\n",
       "  display: inline-block;\n",
       "  vertical-align: middle;\n",
       "  width: 1em;\n",
       "  height: 1.5em !important;\n",
       "  stroke-width: 0;\n",
       "  stroke: currentColor;\n",
       "  fill: currentColor;\n",
       "}\n",
       "</style><pre class='xr-text-repr-fallback'>&lt;xarray.DataArray &#x27;scalar_predictor_names&#x27; (scalar_predictor: 6)&gt;\n",
       "array([b&#x27;zenith_angle_radians&#x27;, b&#x27;albedo&#x27;, b&#x27;latitude_deg_n&#x27;,\n",
       "       b&#x27;longitude_deg_e&#x27;, b&#x27;column_liquid_water_path_kg_m02&#x27;,\n",
       "       b&#x27;column_ice_water_path_kg_m02&#x27;], dtype=&#x27;|S35&#x27;)\n",
       "Dimensions without coordinates: scalar_predictor</pre><div class='xr-wrap' hidden><div class='xr-header'><div class='xr-obj-type'>xarray.DataArray</div><div class='xr-array-name'>'scalar_predictor_names'</div><ul class='xr-dim-list'><li><span>scalar_predictor</span>: 6</li></ul></div><ul class='xr-sections'><li class='xr-section-item'><div class='xr-array-wrap'><input id='section-a7d66002-f423-4c15-b59e-c6e1b16f396e' class='xr-array-in' type='checkbox' checked><label for='section-a7d66002-f423-4c15-b59e-c6e1b16f396e' title='Show/hide data repr'><svg class='icon xr-icon-database'><use xlink:href='#icon-database'></use></svg></label><div class='xr-array-preview xr-preview'><span>b&#x27;zenith_angle_radians&#x27; b&#x27;albedo&#x27; ... b&#x27;column_ice_water_path_kg_m02&#x27;</span></div><div class='xr-array-data'><pre>array([b&#x27;zenith_angle_radians&#x27;, b&#x27;albedo&#x27;, b&#x27;latitude_deg_n&#x27;,\n",
       "       b&#x27;longitude_deg_e&#x27;, b&#x27;column_liquid_water_path_kg_m02&#x27;,\n",
       "       b&#x27;column_ice_water_path_kg_m02&#x27;], dtype=&#x27;|S35&#x27;)</pre></div></div></li><li class='xr-section-item'><input id='section-f27594b3-a008-446f-9b21-17ce26af32cb' class='xr-section-summary-in' type='checkbox' disabled ><label for='section-f27594b3-a008-446f-9b21-17ce26af32cb' class='xr-section-summary'  title='Expand/collapse section'>Coordinates: <span>(0)</span></label><div class='xr-section-inline-details'></div><div class='xr-section-details'><ul class='xr-var-list'></ul></div></li><li class='xr-section-item'><input id='section-4fb4223a-d427-4780-9c5a-048a2d68edce' class='xr-section-summary-in' type='checkbox' disabled ><label for='section-4fb4223a-d427-4780-9c5a-048a2d68edce' class='xr-section-summary'  title='Expand/collapse section'>Attributes: <span>(0)</span></label><div class='xr-section-inline-details'></div><div class='xr-section-details'><dl class='xr-attrs'></dl></div></li></ul></div></div>"
      ],
      "text/plain": [
       "<xarray.DataArray 'scalar_predictor_names' (scalar_predictor: 6)>\n",
       "array([b'zenith_angle_radians', b'albedo', b'latitude_deg_n',\n",
       "       b'longitude_deg_e', b'column_liquid_water_path_kg_m02',\n",
       "       b'column_ice_water_path_kg_m02'], dtype='|S35')\n",
       "Dimensions without coordinates: scalar_predictor"
      ]
     },
     "execution_count": 5,
     "metadata": {},
     "output_type": "execute_result"
    }
   ],
   "source": [
    "data2019['scalar_predictor_names']"
   ]
  },
  {
   "cell_type": "code",
   "execution_count": 6,
   "id": "d354b0b3",
   "metadata": {},
   "outputs": [
    {
     "name": "stdout",
     "output_type": "stream",
     "text": [
      "scalar\n"
     ]
    }
   ],
   "source": [
    "print('scalar')\n",
    "zen_angle2019 = data2019['scalar_predictor_matrix'][:,0].values\n",
    "zen_angle2020 = data2020['scalar_predictor_matrix'][:,0].values\n",
    "zen_angle2017 = trop2017['scalar_predictor_matrix'][:,0].values\n",
    "x_train['cos_za'] = np.concatenate((np.cos(zen_angle2019),np.cos(zen_angle2020)),axis=0)\n",
    "x_test['cos_za'] = np.cos(zen_angle2017)\n",
    "\n",
    "albedo2019 = data2019['scalar_predictor_matrix'][:,1].values\n",
    "albedo2020 = data2020['scalar_predictor_matrix'][:,1].values\n",
    "albedo2017 = trop2017['scalar_predictor_matrix'][:,1].values\n",
    "x_train['albedo'] = np.concatenate((albedo2019,albedo2020),axis=0)\n",
    "x_test['albedo'] = albedo2017\n",
    "# Replace nan values with \"neutral\" median values for the albedo\n",
    "x_train['albedo'][np.isnan(x_train['albedo'])] = np.nanmedian(x_train['albedo'])\n",
    "x_test['albedo'][np.isnan(x_test['albedo'])] = np.nanmedian(x_test['albedo'])\n",
    "\n",
    "QLcol = np.concatenate((data2019['scalar_predictor_matrix'][:,-2].values,\n",
    "                        data2020['scalar_predictor_matrix'][:,-2].values),\n",
    "                        axis=0)\n",
    "QLcol2017 = trop2017['scalar_predictor_matrix'][:,-2].values"
   ]
  },
  {
   "cell_type": "code",
   "execution_count": 7,
   "id": "5c811d78",
   "metadata": {},
   "outputs": [
    {
     "name": "stdout",
     "output_type": "stream",
     "text": [
      "p\n",
      "T\n",
      "qv\n",
      "ql\n"
     ]
    }
   ],
   "source": [
    "for i,key in enumerate(['p','T','qv','ql']):\n",
    "    print(key)\n",
    "    x_train[key] = np.concatenate((data2019['vector_predictor_matrix'][:,:,i].values,\n",
    "                                   data2020['vector_predictor_matrix'][:,:,i].values),axis=0)\n",
    "    x_test[key] = trop2017['vector_predictor_matrix'][:,:,i].values"
   ]
  },
  {
   "cell_type": "code",
   "execution_count": 8,
   "id": "13877dff",
   "metadata": {},
   "outputs": [
    {
     "name": "stdout",
     "output_type": "stream",
     "text": [
      "vector\n"
     ]
    }
   ],
   "source": [
    "print('vector')\n",
    "QVup2019 = data2019['vector_predictor_matrix'][:,:,7].values\n",
    "QVup2020 = data2020['vector_predictor_matrix'][:,:,7].values\n",
    "QVup = np.concatenate((QVup2019,QVup2020),axis=0)\n",
    "QVup2017 = trop2017['vector_predictor_matrix'][:,:,7].values\n",
    "x_train['QVup'] = QVup\n",
    "x_test['QVup'] = QVup2017\n",
    "\n",
    "QLup2019 = data2019['vector_predictor_matrix'][:,:,5].values\n",
    "QLup2020 = data2020['vector_predictor_matrix'][:,:,5].values\n",
    "QLup = np.concatenate((QLup2019,QLup2020),axis=0)\n",
    "QLup2017 = trop2017['vector_predictor_matrix'][:,:,5].values\n",
    "x_train['QLup'] = QLup\n",
    "x_test['QLup'] = QLup2017\n",
    "\n",
    "QVdo2019 = data2019['vector_predictor_matrix'][:,:,10].values\n",
    "QVdo2020 = data2020['vector_predictor_matrix'][:,:,10].values\n",
    "QVdo = np.concatenate((QVdo2019,QVdo2020),axis=0)\n",
    "QVdo2017 = trop2017['vector_predictor_matrix'][:,:,10].values\n",
    "x_train['QVdo'] = QVdo\n",
    "x_test['QVdo'] = QVdo2017\n",
    "\n",
    "QVcol = x_train['QVdo'][:,-1]\n",
    "QVcol2017 = x_test['QVdo'][:,-1]\n",
    "\n",
    "QLdo2019 = data2019['vector_predictor_matrix'][:,:,8].values\n",
    "QLdo2020 = data2020['vector_predictor_matrix'][:,:,8].values\n",
    "QLdo = np.concatenate((QLdo2019,QLdo2020),axis=0)\n",
    "QLdo2017 = trop2017['vector_predictor_matrix'][:,:,8].values\n",
    "x_train['QLdo'] = QLdo\n",
    "x_test['QLdo'] = QLdo2017\n",
    "\n",
    "RH2019 = data2019['vector_predictor_matrix'][:,:,11].values\n",
    "RH2020 = data2020['vector_predictor_matrix'][:,:,11].values\n",
    "RH = np.concatenate((RH2019,RH2020),axis=0)\n",
    "RH2017 = trop2017['vector_predictor_matrix'][:,:,11].values\n",
    "x_train['RH'] = RH\n",
    "x_test['RH'] = RH2017"
   ]
  },
  {
   "cell_type": "code",
   "execution_count": 9,
   "id": "4dd47513",
   "metadata": {},
   "outputs": [],
   "source": [
    "FSWnet2019_downwards = (data2019['vector_target_matrix'][:,:,0]-data2019['vector_target_matrix'][:,:,1]).values\n",
    "FSWnet2020_downwards = (data2020['vector_target_matrix'][:,:,0]-data2020['vector_target_matrix'][:,:,1]).values\n",
    "FSWnet_downwards = np.concatenate((FSWnet2019_downwards,FSWnet2020_downwards),axis=0)\n",
    "FSWnet2017_downwards = (trop2017['vector_target_matrix'][:,:,0]-trop2017['vector_target_matrix'][:,:,1]).values"
   ]
  },
  {
   "cell_type": "code",
   "execution_count": 10,
   "id": "080e41de",
   "metadata": {},
   "outputs": [],
   "source": [
    "# Unitless target\n",
    "y_train = (FSWnet_downwards/np.outer(FSWnet_downwards[:,-1],np.ones((73,)))).flatten()\n",
    "y_test = (FSWnet2017_downwards/np.outer(FSWnet2017_downwards[:,-1],np.ones((73,)))).flatten()"
   ]
  },
  {
   "cell_type": "code",
   "execution_count": 11,
   "id": "b735bda0",
   "metadata": {},
   "outputs": [],
   "source": [
    "FTOA_down_train = np.outer(FSWnet_downwards[:,-1],np.ones((73,))).flatten()\n",
    "FTOA_down_test = np.outer(FSWnet2017_downwards[:,-1],np.ones((73,))).flatten()"
   ]
  },
  {
   "cell_type": "code",
   "execution_count": 12,
   "id": "6d8a797b",
   "metadata": {},
   "outputs": [],
   "source": [
    "# Converted back to W/m2\n",
    "Y_train = y_train*FTOA_down_train\n",
    "Y_test = y_test*FTOA_down_test"
   ]
  },
  {
   "cell_type": "code",
   "execution_count": 13,
   "id": "fcc299aa",
   "metadata": {},
   "outputs": [],
   "source": [
    "x_train['RH'] = np.minimum(1,x_train['RH'])\n",
    "x_test['RH'] = np.minimum(1,x_test['RH'])"
   ]
  },
  {
   "cell_type": "markdown",
   "id": "2d4c4a81",
   "metadata": {},
   "source": [
    "Check the vapor and liquid water paths"
   ]
  },
  {
   "cell_type": "code",
   "execution_count": 15,
   "id": "040efce6",
   "metadata": {},
   "outputs": [
    {
     "data": {
      "image/png": "[encoded data removed]",
      "text/plain": [
       "<Figure size 432x288 with 1 Axes>"
      ]
     },
     "metadata": {
      "needs_background": "light"
     },
     "output_type": "display_data"
    }
   ],
   "source": [
    "plt.plot(np.mean(x_train['QVdo'],axis=0),np.mean(x_train['p'],axis=0))\n",
    "plt.plot(np.mean(x_train['QVup'],axis=0),np.mean(x_train['p'],axis=0))\n",
    "plt.plot(np.mean(x_train['QVup']+x_train['QVdo'],axis=0),np.mean(x_train['p'],axis=0))\n",
    "plt.plot(np.mean(QVcol,axis=0)*np.ones((73,)),np.mean(x_train['p'],axis=0))\n",
    "# plt.plot(np.mean(x_train['QVdo'][:,-1],axis=0)*np.ones((73,)),np.mean(x_train['p'],axis=0),color='k')\n",
    "# plt.plot(np.mean(x_train['QVup'][:,0],axis=0)*np.ones((73,)),np.mean(x_train['p'],axis=0),color='purple')\n",
    "plt.gca().invert_yaxis()"
   ]
  },
  {
   "cell_type": "code",
   "execution_count": 16,
   "id": "36ed5bd2",
   "metadata": {},
   "outputs": [
    {
     "data": {
      "image/png": "[encoded data removed]",
      "text/plain": [
       "<Figure size 432x288 with 1 Axes>"
      ]
     },
     "metadata": {
      "needs_background": "light"
     },
     "output_type": "display_data"
    }
   ],
   "source": [
    "plt.plot(np.mean(x_train['QLdo'],axis=0),np.mean(x_train['p'],axis=0))\n",
    "plt.plot(np.mean(x_train['QLup'],axis=0),np.mean(x_train['p'],axis=0))\n",
    "plt.plot(np.mean(x_train['QLup']+x_train['QLdo'],axis=0),np.mean(x_train['p'],axis=0))\n",
    "plt.plot(np.mean(QLcol,axis=0)*np.ones((73,)),np.mean(x_train['p'],axis=0))\n",
    "# plt.plot(np.mean(x_train['QLdo'][:,-1],axis=0)*np.ones((73,)),np.mean(x_train['p'],axis=0),color='k')\n",
    "# plt.plot(np.mean(x_train['QLup'][:,0],axis=0)*np.ones((73,)),np.mean(x_train['p'],axis=0),color='purple')\n",
    "plt.gca().invert_yaxis()"
   ]
  },
  {
   "cell_type": "markdown",
   "id": "10e173e6",
   "metadata": {},
   "source": [
    "Apply correction to conserve liquid and vapor path"
   ]
  },
  {
   "cell_type": "code",
   "execution_count": 14,
   "id": "783abe24",
   "metadata": {},
   "outputs": [],
   "source": [
    "QV_excess = x_train['QVdo']+x_train['QVup']-QVcol[:,np.newaxis]\n",
    "x_train['QVdo'] -= QV_excess/2\n",
    "x_train['QVup'] -= QV_excess/2\n",
    "x_train['QVdo'] = np.maximum(x_train['QVdo'],0)\n",
    "x_train['QVup'] = np.maximum(x_train['QVup'],0)"
   ]
  },
  {
   "cell_type": "code",
   "execution_count": 15,
   "id": "2e09d379",
   "metadata": {},
   "outputs": [],
   "source": [
    "QL_excess = x_train['QLdo']+x_train['QLup']-QLcol[:,np.newaxis]\n",
    "x_train['QLdo'] -= QL_excess/2\n",
    "x_train['QLup'] -= QL_excess/2\n",
    "x_train['QLdo'] = np.maximum(x_train['QLdo'],0)\n",
    "x_train['QLup'] = np.maximum(x_train['QLup'],0)"
   ]
  },
  {
   "cell_type": "markdown",
   "id": "7756f8f1",
   "metadata": {},
   "source": [
    "## Pre-processing"
   ]
  },
  {
   "cell_type": "code",
   "execution_count": 16,
   "id": "73d8d479",
   "metadata": {},
   "outputs": [],
   "source": [
    "scalar_keys = ['cos_za', 'albedo']\n",
    "vector_keys = ['p', 'T', 'qv', 'ql', 'QVup', 'QLup', 'QVdo', 'QLdo', 'RH']\n",
    "combin_keys = np.concatenate((scalar_keys,vector_keys))"
   ]
  },
  {
   "cell_type": "markdown",
   "id": "80694475",
   "metadata": {},
   "source": [
    "Normalization"
   ]
  },
  {
   "cell_type": "code",
   "execution_count": 17,
   "id": "1930e2d4",
   "metadata": {},
   "outputs": [],
   "source": [
    "Norm = {}\n",
    "Norm['mean'] = {}\n",
    "Norm['min'] = {}\n",
    "Norm['max'] = {}\n",
    "Norm['std'] = {}"
   ]
  },
  {
   "cell_type": "code",
   "execution_count": 18,
   "id": "52a8e884",
   "metadata": {},
   "outputs": [
    {
     "name": "stdout",
     "output_type": "stream",
     "text": [
      "cos_za\n",
      "albedo\n",
      "p\n",
      "T\n",
      "qv\n",
      "ql\n",
      "QVup\n",
      "QLup\n",
      "QVdo\n",
      "QLdo\n",
      "RH\n"
     ]
    }
   ],
   "source": [
    "for keys in combin_keys:\n",
    "    print(keys)\n",
    "    Norm['mean'][keys] = np.mean(x_train[keys].flatten())\n",
    "    Norm['min'][keys] = np.min(x_train[keys].flatten())\n",
    "    Norm['max'][keys] = np.max(x_train[keys].flatten())\n",
    "    Norm['std'][keys] = np.std(x_train[keys].flatten())"
   ]
  },
  {
   "cell_type": "code",
   "execution_count": 19,
   "id": "782701ba",
   "metadata": {},
   "outputs": [
    {
     "data": {
      "text/plain": [
       "{'mean': {'cos_za': 0.41197172,\n",
       "  'albedo': 0.36450702,\n",
       "  'p': 61282.285,\n",
       "  'T': 258.21127,\n",
       "  'qv': 0.0023409505,\n",
       "  'ql': 6.7758633e-06,\n",
       "  'QVup': 5.368949,\n",
       "  'QLup': 0.013895888,\n",
       "  'QVdo': 8.422303,\n",
       "  'QLdo': 0.025450327,\n",
       "  'RH': 0.4829557},\n",
       " 'min': {'cos_za': 0.08715853,\n",
       "  'albedo': 0.0,\n",
       "  'p': 57.200005,\n",
       "  'T': 190.39284,\n",
       "  'qv': 0.0,\n",
       "  'ql': 0.0,\n",
       "  'QVup': 4.4537655e-06,\n",
       "  'QLup': 0.0,\n",
       "  'QVdo': 0.0,\n",
       "  'QLdo': 0.0,\n",
       "  'RH': 0.0},\n",
       " 'max': {'cos_za': 0.9814883,\n",
       "  'albedo': 1.0,\n",
       "  'p': 104376.76,\n",
       "  'T': 313.61823,\n",
       "  'qv': 0.023318946,\n",
       "  'ql': 0.0022818162,\n",
       "  'QVup': 68.94789,\n",
       "  'QLup': 3.5342865,\n",
       "  'QVdo': 68.97026,\n",
       "  'QLdo': 3.5342865,\n",
       "  'RH': 1.0},\n",
       " 'std': {'cos_za': 0.22024997,\n",
       "  'albedo': 0.2811299,\n",
       "  'p': 35467.44,\n",
       "  'T': 23.735064,\n",
       "  'qv': 0.0029519943,\n",
       "  'ql': 3.8062775e-05,\n",
       "  'QVup': 7.314085,\n",
       "  'QLup': 0.06789491,\n",
       "  'QVdo': 8.415417,\n",
       "  'QLdo': 0.085250154,\n",
       "  'RH': 0.35313952}}"
      ]
     },
     "execution_count": 19,
     "metadata": {},
     "output_type": "execute_result"
    }
   ],
   "source": [
    "Norm"
   ]
  },
  {
   "cell_type": "code",
   "execution_count": 20,
   "id": "8715bf65",
   "metadata": {},
   "outputs": [],
   "source": [
    "x_train_std = {}\n",
    "x_train_range = {}"
   ]
  },
  {
   "cell_type": "code",
   "execution_count": 21,
   "id": "7cb74deb",
   "metadata": {},
   "outputs": [],
   "source": [
    "for key in scalar_keys:\n",
    "    x_train[key] = np.outer(x_train[key],np.ones((73,)))\n",
    "    x_test[key] = np.outer(x_test[key],np.ones((73,)))"
   ]
  },
  {
   "cell_type": "code",
   "execution_count": 22,
   "id": "d55fa50c",
   "metadata": {},
   "outputs": [],
   "source": [
    "for key in combin_keys:\n",
    "    x_train_std[key] = (x_train[key].flatten()-Norm['mean'][key])/Norm['std'][key]\n",
    "    x_train_range[key] = (x_train[key].flatten()-Norm['min'][key])/(Norm['max'][key]-Norm['min'][key])"
   ]
  },
  {
   "cell_type": "code",
   "execution_count": 23,
   "id": "1924225e",
   "metadata": {},
   "outputs": [],
   "source": [
    "x_test_std = {}\n",
    "x_test_range = {}\n",
    "\n",
    "for key in combin_keys:\n",
    "    x_test_std[key] = (x_test[key].flatten()-Norm['mean'][key])/Norm['std'][key]\n",
    "    x_test_range[key] = (x_test[key].flatten()-Norm['min'][key])/(Norm['max'][key]-Norm['min'][key])"
   ]
  },
  {
   "cell_type": "markdown",
   "id": "40319d71",
   "metadata": {},
   "source": [
    "Check the distribution shape to assess whether it's most appropriate to normalize using the Z-score or the range"
   ]
  },
  {
   "cell_type": "code",
   "execution_count": null,
   "id": "3b211546",
   "metadata": {},
   "outputs": [],
   "source": [
    "for key in combin_keys:\n",
    "    fig = plt.figure(figsize=(15,3))\n",
    "    plt.ylabel(key)\n",
    "    plt.hist(x_train_std[key],bins=100);"
   ]
  },
  {
   "cell_type": "code",
   "execution_count": null,
   "id": "f897f94e",
   "metadata": {},
   "outputs": [],
   "source": [
    "for key in combin_keys:\n",
    "    fig = plt.figure(figsize=(15,3))\n",
    "    plt.ylabel(key)\n",
    "    plt.hist(x_train_range[key],bins=100);"
   ]
  },
  {
   "cell_type": "markdown",
   "id": "2a87e48a",
   "metadata": {},
   "source": [
    "It seems that the range normalization is most appropriate!"
   ]
  },
  {
   "cell_type": "markdown",
   "id": "17c0a267",
   "metadata": {},
   "source": [
    "Given their distributions, it could be more appropriate to use the log of the liquid/vapor water paths"
   ]
  },
  {
   "cell_type": "markdown",
   "id": "3482b1a0",
   "metadata": {},
   "source": [
    "# Polynomial fit + Sequential feature selection"
   ]
  },
  {
   "cell_type": "code",
   "execution_count": 24,
   "id": "d99b45db",
   "metadata": {},
   "outputs": [
    {
     "data": {
      "text/plain": [
       "dict_keys(['cos_za', 'albedo', 'p', 'T', 'qv', 'ql', 'QVup', 'QLup', 'QVdo', 'QLdo', 'RH'])"
      ]
     },
     "execution_count": 24,
     "metadata": {},
     "output_type": "execute_result"
    }
   ],
   "source": [
    "x_train_range.keys()"
   ]
  },
  {
   "cell_type": "code",
   "execution_count": 25,
   "id": "1ea51c70",
   "metadata": {},
   "outputs": [],
   "source": [
    "key_array = ['cos_za', 'albedo', 'p', 'T', 'qv', 'ql', 'QVup', 'QLup', 'QVdo', 'QLdo', 'RH']"
   ]
  },
  {
   "cell_type": "code",
   "execution_count": 26,
   "id": "30a679b8",
   "metadata": {},
   "outputs": [],
   "source": [
    "X_train = np.zeros((x_train_range['T'].shape[0],len(x_train_range.keys())))\n",
    "X_test = np.zeros((x_test_range['T'].shape[0],len(x_test_range.keys())))"
   ]
  },
  {
   "cell_type": "code",
   "execution_count": 27,
   "id": "68c1ba6b",
   "metadata": {},
   "outputs": [
    {
     "data": {
      "text/plain": [
       "(109434081, 11)"
      ]
     },
     "execution_count": 27,
     "metadata": {},
     "output_type": "execute_result"
    }
   ],
   "source": [
    "X_train.shape"
   ]
  },
  {
   "cell_type": "code",
   "execution_count": 28,
   "id": "8e3ab7f4",
   "metadata": {},
   "outputs": [
    {
     "name": "stdout",
     "output_type": "stream",
     "text": [
      "cos_za\n",
      "albedo\n",
      "p\n",
      "T\n",
      "qv\n",
      "ql\n",
      "QVup\n",
      "QLup\n",
      "QVdo\n",
      "QLdo\n",
      "RH\n"
     ]
    }
   ],
   "source": [
    "for ikey,key in enumerate(x_train_range.keys()):\n",
    "    print(key)\n",
    "    X_train[:,ikey] = x_train_range[key]\n",
    "    X_test[:,ikey] = x_test_range[key]"
   ]
  },
  {
   "cell_type": "markdown",
   "id": "99671375",
   "metadata": {},
   "source": [
    "The code below is mostly borrowed/slightly adapted from Arthur Grundner (DLR)"
   ]
  },
  {
   "cell_type": "code",
   "execution_count": 29,
   "id": "1d0a536a",
   "metadata": {},
   "outputs": [],
   "source": [
    "save_folder = '/work/FAC/FGSE/IDYST/tbeucler/default/tbeucler/2021_Ryan_Lagerquist_SW/Polynomial_Fits/'"
   ]
  },
  {
   "cell_type": "markdown",
   "id": "c2a048f8",
   "metadata": {},
   "source": [
    "## Linear (degree 1)"
   ]
  },
  {
   "cell_type": "code",
   "execution_count": 33,
   "id": "6cae4880",
   "metadata": {},
   "outputs": [],
   "source": [
    "cv = 2\n",
    "min_features_to_select = 1\n",
    "max_features_to_select = 11"
   ]
  },
  {
   "cell_type": "code",
   "execution_count": 34,
   "id": "009462d8",
   "metadata": {},
   "outputs": [],
   "source": [
    "dict_combined = {}"
   ]
  },
  {
   "cell_type": "code",
   "execution_count": 35,
   "id": "f7f80ec1",
   "metadata": {},
   "outputs": [
    {
     "name": "stdout",
     "output_type": "stream",
     "text": [
      "Features selected by forward sequential selection: ['RH']\n",
      "{'RH': -0.4147052418795943, 'LR_Bias': 0.9211266892175056, 'mse_train': 0.021150359181792238, 'mse_test': 0.022295132286430538, 'MSE_train': 4464.48375028484, 'MSE_test': 15827.999139208654}\n",
      "Features selected by forward sequential selection: ['albedo', 'RH']\n",
      "{'albedo': -0.21283922804424255, 'RH': -0.40494904312976515, 'LR_Bias': 0.9939962849823085, 'mse_train': 0.017581945652581702, 'mse_test': 0.01501906736367158, 'MSE_train': 2819.4809830174345, 'MSE_test': 8183.35398318683}\n",
      "Features selected by forward sequential selection: ['albedo', 'QLup', 'RH']\n",
      "{'albedo': -0.23381680089961518, 'QLup': -3.588355214610685, 'RH': -0.35228899808247194, 'LR_Bias': 0.990318834471834, 'mse_train': 0.0131980844606986, 'mse_test': 0.009620374999130314, 'MSE_train': 1949.0602256679674, 'MSE_test': 5067.613004090682}\n",
      "Features selected by forward sequential selection: ['albedo', 'p', 'QLup', 'RH']\n",
      "{'albedo': -0.24715900004718955, 'p': -0.24244159632900442, 'QLup': -3.6952366389875273, 'RH': -0.168923274483886, 'LR_Bias': 1.049334064836681, 'mse_train': 0.010515675857472054, 'mse_test': 0.008362797338024015, 'MSE_train': 1779.93179584061, 'MSE_test': 4610.424264070448}\n",
      "Features selected by forward sequential selection: ['cos_za', 'albedo', 'p', 'QLup', 'RH']\n",
      "{'cos_za': 0.19072508106777833, 'albedo': -0.18864977251359077, 'p': -0.25145503826151067, 'QLup': -3.7206658056348427, 'RH': -0.15773057170249996, 'LR_Bias': 0.9587217105027334, 'mse_train': 0.008594444005774466, 'mse_test': 0.006376355884881236, 'MSE_train': 1176.7370838317738, 'MSE_test': 2693.293029128334}\n",
      "Features selected by forward sequential selection: ['cos_za', 'albedo', 'p', 'QLup', 'QLdo', 'RH']\n",
      "{'cos_za': 0.1905355415668111, 'albedo': -0.19865644235045946, 'p': -0.2854818452903306, 'QLup': -3.653595193436096, 'QLdo': -1.6573597762601573, 'RH': -0.13848652860461325, 'LR_Bias': 0.9847852655857563, 'mse_train': 0.00706122144083589, 'mse_test': 0.005938141453599457, 'MSE_train': 1153.5006936311931, 'MSE_test': 3134.378247564713}\n",
      "Features selected by forward sequential selection: ['cos_za', 'albedo', 'p', 'ql', 'QLup', 'QLdo', 'RH']\n",
      "{'cos_za': 0.19074588211478466, 'albedo': -0.19805812992075253, 'p': -0.2896998611723089, 'ql': -1.1623708412386846, 'QLup': -3.295925288687756, 'QLdo': -1.5116623357461165, 'RH': -0.12586277400602897, 'LR_Bias': 0.9818658814591507, 'mse_train': 0.006770579912159121, 'mse_test': 0.005719957778689377, 'MSE_train': 1099.5447605827758, 'MSE_test': 2993.18622135724}\n",
      "Features selected by forward sequential selection: ['cos_za', 'albedo', 'p', 'ql', 'QLup', 'QVdo', 'QLdo', 'RH']\n",
      "{'cos_za': 0.20289095442804253, 'albedo': -0.21495392564053378, 'p': -0.3233049647865988, 'ql': -1.1857851796156818, 'QLup': -3.3528785662373846, 'QVdo': -0.13960304837860027, 'QLdo': -1.386824658611609, 'RH': -0.11474046712883304, 'LR_Bias': 1.0144069143767984, 'mse_train': 0.006618428493228461, 'mse_test': 0.005240086356964161, 'MSE_train': 1062.841248266761, 'MSE_test': 2143.1387204926127}\n",
      "Features selected by forward sequential selection: ['cos_za', 'albedo', 'p', 'T', 'ql', 'QLup', 'QVdo', 'QLdo', 'RH']\n",
      "{'cos_za': 0.20005782312391548, 'albedo': -0.20951403058755932, 'p': -0.352412310542748, 'T': 0.05120302347587037, 'ql': -1.1945371041593302, 'QLup': -3.368457591377703, 'QVdo': -0.14635267400741492, 'QLdo': -1.3860013875713157, 'RH': -0.10964078164627893, 'LR_Bias': 1.0007985289536543, 'mse_train': 0.006594119667784442, 'mse_test': 0.005118755505886766, 'MSE_train': 1046.712555243385, 'MSE_test': 2025.6358107034146}\n",
      "Features selected by forward sequential selection: ['cos_za', 'albedo', 'p', 'T', 'ql', 'QVup', 'QLup', 'QVdo', 'QLdo', 'RH']\n",
      "{'cos_za': 0.20673618194400137, 'albedo': -0.21707877356553454, 'p': -0.3585426350428902, 'T': 0.09526375864069997, 'ql': -1.2289275342505865, 'QVup': -0.14947048468124052, 'QLup': -3.2233908698536613, 'QVdo': -0.1679129125188994, 'QLdo': -1.401072315322015, 'RH': -0.09858256345315942, 'LR_Bias': 0.9890506364070601, 'mse_train': 0.0064875895821516994, 'mse_test': 0.005995720189747337, 'MSE_train': 1053.35328767386, 'MSE_test': 2635.560868144366}\n"
     ]
    }
   ],
   "source": [
    "lin_reg = LinearRegression()\n",
    "for no_features in np.arange(min_features_to_select, max_features_to_select):   \n",
    "    sfs = SequentialFeatureSelector(lin_reg, n_features_to_select=no_features, direction='forward', cv=cv, n_jobs=-1)\n",
    "    sfs.fit(X_train, y_train)\n",
    "    selected_features = np.array(key_array)[sfs.get_support()].tolist()\n",
    "    print(\n",
    "        \"Features selected by forward sequential selection: \"\n",
    "        f\"{selected_features}\"\n",
    "    )\n",
    "\n",
    "    X_transformed = sfs.transform(X_train)\n",
    "\n",
    "#     Arthur: Plot coefficient variability\n",
    "#     cv_model = cross_validate(\n",
    "#         lin_reg,\n",
    "#         X_transformed,\n",
    "#         y_train,\n",
    "#         cv=RepeatedKFold(n_splits=cv, n_repeats=cv),\n",
    "#         return_estimator=True,\n",
    "#         n_jobs=-1,\n",
    "#     )\n",
    "\n",
    "#     coefs = pd.DataFrame(\n",
    "#         [\n",
    "#             est.coef_\n",
    "#             for est in cv_model[\"estimator\"]\n",
    "#         ],\n",
    "#         columns=selected_features,\n",
    "#     )\n",
    "    # Loss of the optimal multiple linear regression model trained on transformed data\n",
    "    lin_reg.fit(X_transformed, y_train)\n",
    "    ypred = lin_reg.predict(X_transformed)\n",
    "    mse_train = mean_squared_error(y_train, ypred)\n",
    "    \n",
    "    ypred_test = lin_reg.predict(sfs.transform(X_test))\n",
    "    mse_test = mean_squared_error(y_test, ypred_test)\n",
    "    \n",
    "    # Convert back to W/m2\n",
    "    Ypred = ypred*FTOA_down_train; \n",
    "    Ypred_test = ypred_test*FTOA_down_test; \n",
    "    MSE_train = mean_squared_error(Y_train,Ypred)\n",
    "    MSE_test = mean_squared_error(Y_test,Ypred_test)\n",
    "    \n",
    "    # Output function and its R2-score\n",
    "    dict_exp = {}\n",
    "    for i in range(len(selected_features)):\n",
    "        dict_exp[selected_features[i]] = lin_reg.coef_[i]\n",
    "    dict_exp['LR_Bias'] = lin_reg.intercept_\n",
    "    dict_exp['mse_train'] = mse_train\n",
    "    dict_exp['mse_test'] = mse_test\n",
    "    dict_exp['MSE_train'] = MSE_train\n",
    "    dict_exp['MSE_test'] = MSE_test\n",
    "    print(dict_exp)\n",
    "    \n",
    "    dict_combined['Number of variables %d'%no_features] = dict_exp"
   ]
  },
  {
   "cell_type": "code",
   "execution_count": 36,
   "id": "fe60cada",
   "metadata": {},
   "outputs": [],
   "source": [
    "# Write dict_combined to pkl file\n",
    "save_path = save_folder+'2022_06_14_deg1_cv'+str(cv)\n",
    "pkl.dump(dict_combined, open(save_path,'wb'))"
   ]
  },
  {
   "cell_type": "markdown",
   "id": "f12f6ebf",
   "metadata": {},
   "source": [
    "## Quadratic (degree 2)"
   ]
  },
  {
   "cell_type": "markdown",
   "id": "e6f88615",
   "metadata": {},
   "source": [
    "### Sequential Feature Selector"
   ]
  },
  {
   "cell_type": "code",
   "execution_count": 30,
   "id": "4d33fd55",
   "metadata": {},
   "outputs": [],
   "source": [
    "cv = 2\n",
    "deg = 2\n",
    "min_features_to_select = 1\n",
    "max_features_to_select = 10"
   ]
  },
  {
   "cell_type": "code",
   "execution_count": 31,
   "id": "b0bfe76a",
   "metadata": {},
   "outputs": [
    {
     "name": "stdout",
     "output_type": "stream",
     "text": [
      "78\n"
     ]
    },
    {
     "name": "stderr",
     "output_type": "stream",
     "text": [
      "/work/FAC/FGSE/IDYST/tbeucler/default/tbeucler/miniconda3/envs/ml4rt/lib/python3.7/site-packages/sklearn/utils/deprecation.py:87: FutureWarning: Function get_feature_names is deprecated; get_feature_names is deprecated in 1.0 and will be removed in 1.2. Please use get_feature_names_out instead.\n",
      "  warnings.warn(msg, category=FutureWarning)\n"
     ]
    }
   ],
   "source": [
    "poly = PolynomialFeatures(degree=deg)\n",
    "X_train2 = poly.fit_transform(X_train)\n",
    "\n",
    "if deg == 2:\n",
    "    assert X_train2.shape[1] == 1 + len(key_array)/2*(len(key_array)+3)\n",
    "    \n",
    "print(X_train2.shape[1])\n",
    "    \n",
    "new_features = poly.get_feature_names(np.array(key_array)) # Update the feature names\n",
    "X_test2 = poly.fit_transform(X_test)"
   ]
  },
  {
   "cell_type": "code",
   "execution_count": 32,
   "id": "0ce623de",
   "metadata": {},
   "outputs": [
    {
     "data": {
      "text/plain": [
       "['1',\n",
       " 'cos_za',\n",
       " 'albedo',\n",
       " 'p',\n",
       " 'T',\n",
       " 'qv',\n",
       " 'ql',\n",
       " 'QVup',\n",
       " 'QLup',\n",
       " 'QVdo',\n",
       " 'QLdo',\n",
       " 'RH',\n",
       " 'cos_za^2',\n",
       " 'cos_za albedo',\n",
       " 'cos_za p',\n",
       " 'cos_za T',\n",
       " 'cos_za qv',\n",
       " 'cos_za ql',\n",
       " 'cos_za QVup',\n",
       " 'cos_za QLup',\n",
       " 'cos_za QVdo',\n",
       " 'cos_za QLdo',\n",
       " 'cos_za RH',\n",
       " 'albedo^2',\n",
       " 'albedo p',\n",
       " 'albedo T',\n",
       " 'albedo qv',\n",
       " 'albedo ql',\n",
       " 'albedo QVup',\n",
       " 'albedo QLup',\n",
       " 'albedo QVdo',\n",
       " 'albedo QLdo',\n",
       " 'albedo RH',\n",
       " 'p^2',\n",
       " 'p T',\n",
       " 'p qv',\n",
       " 'p ql',\n",
       " 'p QVup',\n",
       " 'p QLup',\n",
       " 'p QVdo',\n",
       " 'p QLdo',\n",
       " 'p RH',\n",
       " 'T^2',\n",
       " 'T qv',\n",
       " 'T ql',\n",
       " 'T QVup',\n",
       " 'T QLup',\n",
       " 'T QVdo',\n",
       " 'T QLdo',\n",
       " 'T RH',\n",
       " 'qv^2',\n",
       " 'qv ql',\n",
       " 'qv QVup',\n",
       " 'qv QLup',\n",
       " 'qv QVdo',\n",
       " 'qv QLdo',\n",
       " 'qv RH',\n",
       " 'ql^2',\n",
       " 'ql QVup',\n",
       " 'ql QLup',\n",
       " 'ql QVdo',\n",
       " 'ql QLdo',\n",
       " 'ql RH',\n",
       " 'QVup^2',\n",
       " 'QVup QLup',\n",
       " 'QVup QVdo',\n",
       " 'QVup QLdo',\n",
       " 'QVup RH',\n",
       " 'QLup^2',\n",
       " 'QLup QVdo',\n",
       " 'QLup QLdo',\n",
       " 'QLup RH',\n",
       " 'QVdo^2',\n",
       " 'QVdo QLdo',\n",
       " 'QVdo RH',\n",
       " 'QLdo^2',\n",
       " 'QLdo RH',\n",
       " 'RH^2']"
      ]
     },
     "execution_count": 32,
     "metadata": {},
     "output_type": "execute_result"
    }
   ],
   "source": [
    "new_features"
   ]
  },
  {
   "cell_type": "code",
   "execution_count": 33,
   "id": "e056c61c",
   "metadata": {},
   "outputs": [],
   "source": [
    "dict_combined = {}"
   ]
  },
  {
   "cell_type": "code",
   "execution_count": 36,
   "id": "004cbf4d",
   "metadata": {},
   "outputs": [],
   "source": [
    "# Randomly sub-sample X_train2 without replacement for sfs (not training nor evaluation)\n",
    "Nsample = 10000000\n",
    "i_random = np.random.choice(np.linspace(0,X_train2.shape[0]-1,X_train2.shape[0]),\n",
    "                            size=((Nsample,)),replace=False).astype('int')\n",
    "X_train2_sub = X_train2[i_random,:]\n",
    "y_train_sub = y_train[i_random,]"
   ]
  },
  {
   "cell_type": "code",
   "execution_count": 37,
   "id": "9d64be6f",
   "metadata": {},
   "outputs": [
    {
     "name": "stdout",
     "output_type": "stream",
     "text": [
      "Features selected by forward sequential selection: ['p RH']\n",
      "{'p RH': -0.4822371075886469, 'LR_Bias': 0.9024821048861624, 'mse_train': 0.019045881166397226, 'mse_test': 0.02305905874580787, 'MSE_train': 4252.377810017608, 'MSE_test': 16932.563629416636}\n",
      "Features selected by forward sequential selection: ['albedo p', 'p RH']\n",
      "{'albedo p': -0.36290607799167657, 'p RH': -0.3466544418977361, 'LR_Bias': 0.9291008867632446, 'mse_train': 0.014017602296756176, 'mse_test': 0.012883831906316642, 'MSE_train': 2210.1660410686263, 'MSE_test': 6578.787454431785}\n",
      "Features selected by forward sequential selection: ['QLup', 'albedo p', 'p RH']\n",
      "{'QLup': -3.641926667435071, 'albedo p': -0.4171100876698867, 'p RH': -0.2606237167554728, 'LR_Bias': 0.9226191598526184, 'mse_train': 0.009673216466121971, 'mse_test': 0.007472683035776107, 'MSE_train': 1342.1160565315229, 'MSE_test': 3252.7810342298767}\n",
      "Features selected by forward sequential selection: ['QLup', 'albedo p', 'p QLdo', 'p RH']\n",
      "{'QLup': -3.4384554753235865, 'albedo p': -0.4260631343388569, 'p QLdo': -4.355490121731989, 'p RH': -0.2508670168310744, 'LR_Bias': 0.9330565534595032, 'mse_train': 0.007314202639489825, 'mse_test': 0.005866154769770019, 'MSE_train': 1002.8996760826374, 'MSE_test': 2249.6289327231448}\n",
      "Features selected by forward sequential selection: ['cos_za', 'QLup', 'albedo p', 'p QLdo', 'p RH']\n",
      "{'cos_za': 0.17607205005534823, 'QLup': -3.4338438858156435, 'albedo p': -0.36595260058422063, 'p QLdo': -4.348726694563694, 'p RH': -0.26694888168325537, 'LR_Bias': 0.86225989380716, 'mse_train': 0.005575758554784728, 'mse_test': 0.00446340320798455, 'MSE_train': 661.7192999222236, 'MSE_test': 1452.9247130449721}\n",
      "Features selected by forward sequential selection: ['cos_za', 'QLup', 'albedo p', 'p QLdo', 'p RH', 'QLup^2']\n",
      "{'cos_za': 0.17471730529307247, 'QLup': -5.75335649321435, 'albedo p': -0.37774191660009926, 'p QLdo': -4.262172208549947, 'p RH': -0.24045959680666606, 'QLup^2': 10.790394732324318, 'LR_Bias': 0.8600108173910848, 'mse_train': 0.004615560841077267, 'mse_test': 0.003606530061202316, 'MSE_train': 550.4596398537079, 'MSE_test': 1337.9764840687253}\n",
      "Features selected by forward sequential selection: ['cos_za', 'QLup', 'albedo p', 'p T', 'p QLdo', 'p RH', 'QLup^2']\n",
      "{'cos_za': 0.19667726077860817, 'QLup': -5.9013716947218215, 'albedo p': -0.37335417504016366, 'p T': -0.151654168388478, 'p QLdo': -4.372354790834701, 'p RH': -0.13930687277777531, 'QLup^2': 11.169796564617439, 'LR_Bias': 0.8709394555860982, 'mse_train': 0.004084342625754069, 'mse_test': 0.0030856210569125873, 'MSE_train': 481.73514899801745, 'MSE_test': 1293.8306334389117}\n",
      "Features selected by forward sequential selection: ['cos_za', 'QLup', 'cos_za^2', 'albedo p', 'p T', 'p QLdo', 'p RH', 'QLup^2']\n",
      "{'cos_za': 0.44895915917615237, 'QLup': -5.943220800447613, 'cos_za^2': -0.2899256654180382, 'albedo p': -0.3846026910053377, 'p T': -0.14704569602392126, 'p QLdo': -4.406313005727797, 'p RH': -0.13855884267039204, 'QLup^2': 11.281428862277206, 'LR_Bias': 0.8357521599550812, 'mse_train': 0.003728116074161731, 'mse_test': 0.002452024171874721, 'MSE_train': 361.8768397898037, 'MSE_test': 678.8240880078384}\n",
      "Features selected by forward sequential selection: ['cos_za', 'QLup', 'cos_za^2', 'cos_za p', 'albedo p', 'p T', 'p QLdo', 'p RH', 'QLup^2']\n",
      "{'cos_za': 0.35071221851139883, 'QLup': -5.907754561778817, 'cos_za^2': -0.2872732848633053, 'cos_za p': 0.17668825208053995, 'albedo p': -0.3853323893372127, 'p T': -0.23067840368485804, 'p QLdo': -4.4400694739811915, 'p RH': -0.13912419921983482, 'QLup^2': 11.180720376099405, 'LR_Bias': 0.865143387390656, 'mse_train': 0.003520079435356644, 'mse_test': 0.002248582261340826, 'MSE_train': 300.79044366881396, 'MSE_test': 516.42488604855}\n"
     ]
    }
   ],
   "source": [
    "lin_reg = LinearRegression()\n",
    "for no_features in np.arange(min_features_to_select, max_features_to_select):   \n",
    "    sfs = SequentialFeatureSelector(lin_reg, n_features_to_select=no_features, direction='forward', cv=cv, n_jobs=-1)\n",
    "    sfs.fit(X_train2_sub, y_train_sub)\n",
    "    selected_features = np.array(new_features)[sfs.get_support()].tolist()\n",
    "    print(\n",
    "        \"Features selected by forward sequential selection: \"\n",
    "        f\"{selected_features}\"\n",
    "    )\n",
    "\n",
    "    X_transformed = sfs.transform(X_train2)\n",
    "    lin_reg.fit(X_transformed, y_train)\n",
    "    ypred = lin_reg.predict(X_transformed)\n",
    "    mse_train = mean_squared_error(y_train, ypred)\n",
    "    \n",
    "    ypred_test = lin_reg.predict(sfs.transform(X_test2))\n",
    "    mse_test = mean_squared_error(y_test, ypred_test)\n",
    "    \n",
    "    # Convert back to W/m2\n",
    "    Ypred = ypred*FTOA_down_train; \n",
    "    Ypred_test = ypred_test*FTOA_down_test; \n",
    "    MSE_train = mean_squared_error(Y_train,Ypred)\n",
    "    MSE_test = mean_squared_error(Y_test,Ypred_test)\n",
    "    \n",
    "    # Output function and its R2-score\n",
    "    dict_exp = {}\n",
    "    for i in range(len(selected_features)):\n",
    "        dict_exp[selected_features[i]] = lin_reg.coef_[i]\n",
    "    dict_exp['LR_Bias'] = lin_reg.intercept_\n",
    "    dict_exp['mse_train'] = mse_train\n",
    "    dict_exp['mse_test'] = mse_test\n",
    "    dict_exp['MSE_train'] = MSE_train\n",
    "    dict_exp['MSE_test'] = MSE_test\n",
    "    print(dict_exp)\n",
    "    \n",
    "    dict_combined['Number of variables %d'%no_features] = dict_exp"
   ]
  },
  {
   "cell_type": "code",
   "execution_count": 38,
   "id": "d05543da",
   "metadata": {},
   "outputs": [],
   "source": [
    "# Write dict_combined to pkl file\n",
    "save_path = save_folder+'2022_06_14_deg2_cv'+str(cv)\n",
    "pkl.dump(dict_combined, open(save_path,'wb'))"
   ]
  },
  {
   "cell_type": "markdown",
   "id": "12306f1e",
   "metadata": {},
   "source": [
    "### Use everything"
   ]
  },
  {
   "cell_type": "code",
   "execution_count": null,
   "id": "1b6c4788",
   "metadata": {},
   "outputs": [],
   "source": [
    "lin_reg.fit(X_train2, y_train)\n",
    "ypred = lin_reg.predict(X_train2)\n",
    "mse_train = mean_squared_error(y_train, ypred)\n",
    "\n",
    "ypred_test = lin_reg.predict(X_test2)\n",
    "mse_test = mean_squared_error(y_test, ypred_test)\n",
    "\n",
    "# Convert back to W/m2\n",
    "Ypred = ypred*FTOA_down_train; \n",
    "Ypred_test = ypred_test*FTOA_down_test; \n",
    "MSE_train = mean_squared_error(Y_train,Ypred)\n",
    "MSE_test = mean_squared_error(Y_test,Ypred_test)\n",
    "\n",
    "# Output function and its R2-score\n",
    "dict_exp = {}\n",
    "for i in range(len(selected_features)):\n",
    "    dict_exp[selected_features[i]] = lin_reg.coef_[i]\n",
    "dict_exp['LR_Bias'] = lin_reg.intercept_\n",
    "dict_exp['mse_train'] = mse_train\n",
    "dict_exp['mse_test'] = mse_test\n",
    "dict_exp['MSE_train'] = MSE_train\n",
    "dict_exp['MSE_test'] = MSE_test\n",
    "print(dict_exp)"
   ]
  },
  {
   "cell_type": "code",
   "execution_count": null,
   "id": "712eb5de",
   "metadata": {},
   "outputs": [],
   "source": [
    "# Write dict_combined to pkl file\n",
    "save_path = save_folder+'2022_06_14_deg2_all_cv'+str(cv)\n",
    "pkl.dump(dict_exp, open(save_path,'wb'))"
   ]
  },
  {
   "cell_type": "markdown",
   "id": "fd04e80c",
   "metadata": {},
   "source": [
    "## Cubic (degree 3)"
   ]
  },
  {
   "cell_type": "code",
   "execution_count": null,
   "id": "40b22bbe",
   "metadata": {},
   "outputs": [],
   "source": [
    "cv = 2\n",
    "deg = 3\n",
    "min_features_to_select = 1\n",
    "max_features_to_select = 10"
   ]
  },
  {
   "cell_type": "code",
   "execution_count": null,
   "id": "8bdcfcba",
   "metadata": {},
   "outputs": [],
   "source": [
    "poly = PolynomialFeatures(degree=deg)\n",
    "X_train3 = poly.fit_transform(X_train)\n",
    "\n",
    "print(X_train3.shape[1])\n",
    "    \n",
    "new_features = poly.get_feature_names(np.array(key_array)) # Update the feature names\n",
    "X_test3 = poly.fit_transform(X_test)"
   ]
  },
  {
   "cell_type": "code",
   "execution_count": null,
   "id": "38c0f5c1",
   "metadata": {},
   "outputs": [],
   "source": [
    "new_features"
   ]
  },
  {
   "cell_type": "markdown",
   "id": "0e96fb4f",
   "metadata": {},
   "source": [
    "### Sequential Feature Selector"
   ]
  },
  {
   "cell_type": "code",
   "execution_count": null,
   "id": "165eeeb6",
   "metadata": {},
   "outputs": [],
   "source": [
    "dict_combined = {}"
   ]
  },
  {
   "cell_type": "code",
   "execution_count": null,
   "id": "55433649",
   "metadata": {},
   "outputs": [],
   "source": [
    "lin_reg = LinearRegression()\n",
    "for no_features in np.arange(min_features_to_select, max_features_to_select):   \n",
    "    sfs = SequentialFeatureSelector(lin_reg, n_features_to_select=no_features, direction='forward', cv=cv, n_jobs=-1)\n",
    "    sfs.fit(X_train3, y_train)\n",
    "    selected_features = np.array(new_features)[sfs.get_support()].tolist()\n",
    "    print(\n",
    "        \"Features selected by forward sequential selection: \"\n",
    "        f\"{selected_features}\"\n",
    "    )\n",
    "\n",
    "    X_transformed = sfs.transform(X_train3)\n",
    "    lin_reg.fit(X_transformed, y_train)\n",
    "    ypred = lin_reg.predict(X_transformed)\n",
    "    mse_train = mean_squared_error(y_train, ypred)\n",
    "    \n",
    "    ypred_test = lin_reg.predict(sfs.transform(X_test3))\n",
    "    mse_test = mean_squared_error(y_test, ypred_test)\n",
    "    \n",
    "    # Convert back to W/m2\n",
    "    Ypred = ypred*FTOA_down_train; \n",
    "    Ypred_test = ypred_test*FTOA_down_test; \n",
    "    MSE_train = mean_squared_error(Y_train,Ypred)\n",
    "    MSE_test = mean_squared_error(Y_test,Ypred_test)\n",
    "    \n",
    "    # Output function and its R2-score\n",
    "    dict_exp = {}\n",
    "    for i in range(len(selected_features)):\n",
    "        dict_exp[selected_features[i]] = lin_reg.coef_[i]\n",
    "    dict_exp['LR_Bias'] = lin_reg.intercept_\n",
    "    dict_exp['mse_train'] = mse_train\n",
    "    dict_exp['mse_test'] = mse_test\n",
    "    dict_exp['MSE_train'] = MSE_train\n",
    "    dict_exp['MSE_test'] = MSE_test\n",
    "    print(dict_exp)\n",
    "    \n",
    "    dict_combined['Number of variables %d'%no_features] = dict_exp"
   ]
  },
  {
   "cell_type": "code",
   "execution_count": null,
   "id": "c89a9997",
   "metadata": {},
   "outputs": [],
   "source": [
    "# Write dict_combined to pkl file\n",
    "save_path = save_folder+'2022_06_14_deg3_cv'+str(cv)\n",
    "pkl.dump(dict_combined, open(save_path,'wb'))"
   ]
  },
  {
   "cell_type": "markdown",
   "id": "b4b471b0",
   "metadata": {},
   "source": [
    "### Use everything"
   ]
  },
  {
   "cell_type": "code",
   "execution_count": null,
   "id": "92c70999",
   "metadata": {},
   "outputs": [],
   "source": [
    "lin_reg.fit(X_train3, y_train)\n",
    "ypred = lin_reg.predict(X_train3)\n",
    "mse_train = mean_squared_error(y_train, ypred)\n",
    "\n",
    "ypred_test = lin_reg.predict(X_test3)\n",
    "mse_test = mean_squared_error(y_test, ypred_test)\n",
    "\n",
    "# Convert back to W/m2\n",
    "Ypred = ypred*FTOA_down_train; \n",
    "Ypred_test = ypred_test*FTOA_down_test; \n",
    "MSE_train = mean_squared_error(Y_train,Ypred)\n",
    "MSE_test = mean_squared_error(Y_test,Ypred_test)\n",
    "\n",
    "# Output function and its R2-score\n",
    "dict_exp = {}\n",
    "for i in range(len(selected_features)):\n",
    "    dict_exp[selected_features[i]] = lin_reg.coef_[i]\n",
    "dict_exp['LR_Bias'] = lin_reg.intercept_\n",
    "dict_exp['mse_train'] = mse_train\n",
    "dict_exp['mse_test'] = mse_test\n",
    "dict_exp['MSE_train'] = MSE_train\n",
    "dict_exp['MSE_test'] = MSE_test\n",
    "print(dict_exp)"
   ]
  },
  {
   "cell_type": "code",
   "execution_count": null,
   "id": "484c427d",
   "metadata": {},
   "outputs": [],
   "source": [
    "# Write dict_combined to pkl file\n",
    "save_path = save_folder+'2022_06_14_deg3_all_cv'+str(cv)\n",
    "pkl.dump(dict_exp, open(save_path,'wb'))"
   ]
  }
 ],
 "metadata": {
  "kernelspec": {
   "display_name": "Python 3 (ipykernel)",
   "language": "python",
   "name": "python3"
  },
  "language_info": {
   "codemirror_mode": {
    "name": "ipython",
    "version": 3
   },
   "file_extension": ".py",
   "mimetype": "text/x-python",
   "name": "python",
   "nbconvert_exporter": "python",
   "pygments_lexer": "ipython3",
   "version": "3.7.7"
  },
  "toc": {
   "base_numbering": 1,
   "nav_menu": {},
   "number_sections": true,
   "sideBar": true,
   "skip_h1_title": false,
   "title_cell": "Table of Contents",
   "title_sidebar": "Contents",
   "toc_cell": false,
   "toc_position": {},
   "toc_section_display": true,
   "toc_window_display": true
  }
 },
 "nbformat": 4,
 "nbformat_minor": 5
}
