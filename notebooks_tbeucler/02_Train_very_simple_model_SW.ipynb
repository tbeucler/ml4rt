{
 "cells": [
  {
   "cell_type": "markdown",
   "id": "4b1ed6bc",
   "metadata": {},
   "source": [
    "tb - Train coefficients of a simple analytic model for SW radiative transfer via stochastic gradient descent"
   ]
  },
  {
   "cell_type": "markdown",
   "id": "cc5760da",
   "metadata": {},
   "source": [
    "Then calculate (1) Number of free parameters; and (2) error statistics of the net shortwave flux prediction (in $W m^{-2}$)"
   ]
  },
  {
   "cell_type": "markdown",
   "id": "1a28d6a2",
   "metadata": {},
   "source": [
    "# Imports"
   ]
  },
  {
   "cell_type": "code",
   "execution_count": 1,
   "id": "2b060191",
   "metadata": {},
   "outputs": [],
   "source": [
    "from ml4rt.io.example_io import *\n",
    "from ml4rt.utils.normalization import *\n",
    "from ml4rt.machine_learning.neural_net import *\n",
    "from ml4rt.machine_learning.u_net_architecture import *\n",
    "from ml4rt.machine_learning.u_net_pp_architecture import *\n",
    "\n",
    "import dill\n",
    "\n",
    "import matplotlib as mpl\n",
    "import matplotlib.pyplot as plt\n",
    "import numpy as np\n",
    "import xarray as xr\n",
    "\n",
    "import tensorflow as tf\n",
    "from tensorflow import keras as K"
   ]
  },
  {
   "cell_type": "code",
   "execution_count": 2,
   "id": "f4b19019",
   "metadata": {},
   "outputs": [],
   "source": [
    "fz = 15\n",
    "lw = 4\n",
    "siz = 100\n",
    "\n",
    "plt.rc('text', usetex=False)\n",
    "mpl.rcParams['mathtext.fontset'] = 'stix'\n",
    "mpl.rcParams['font.family'] = 'STIXGeneral'\n",
    "plt.rc('font', family='serif', size=fz)\n",
    "mpl.rcParams['lines.linewidth'] = lw"
   ]
  },
  {
   "cell_type": "markdown",
   "id": "7b4dfb37",
   "metadata": {},
   "source": [
    "# Data Generator"
   ]
  },
  {
   "cell_type": "markdown",
   "id": "4fce4b8c",
   "metadata": {},
   "source": [
    "### Loading model's metadata using dill"
   ]
  },
  {
   "cell_type": "code",
   "execution_count": 3,
   "id": "3b9de706",
   "metadata": {},
   "outputs": [],
   "source": [
    "path_data = '/work/FAC/FGSE/IDYST/tbeucler/default/tbeucler/2021_Ryan_Lagerquist_SW/'"
   ]
  },
  {
   "cell_type": "code",
   "execution_count": 4,
   "id": "e88dde00",
   "metadata": {},
   "outputs": [],
   "source": [
    "model_arc = dill.load(open(path_data+'actual_model/model_metadata.dill','rb'))"
   ]
  },
  {
   "cell_type": "code",
   "execution_count": 5,
   "id": "8d3ad44b",
   "metadata": {},
   "outputs": [
    {
     "data": {
      "text/plain": [
       "dict_keys(['num_epochs', 'num_training_batches_per_epoch', 'training_option_dict', 'num_validation_batches_per_epoch', 'validation_option_dict', 'net_type_string', 'loss_function_or_dict', 'do_early_stopping', 'plateau_lr_multiplier'])"
      ]
     },
     "execution_count": 5,
     "metadata": {},
     "output_type": "execute_result"
    }
   ],
   "source": [
    "model_arc.keys()"
   ]
  },
  {
   "cell_type": "code",
   "execution_count": 6,
   "id": "3dad03e6",
   "metadata": {},
   "outputs": [
    {
     "data": {
      "text/plain": [
       "'u_net'"
      ]
     },
     "execution_count": 6,
     "metadata": {},
     "output_type": "execute_result"
    }
   ],
   "source": [
    "model_arc['net_type_string']"
   ]
  },
  {
   "cell_type": "code",
   "execution_count": 7,
   "id": "e5a63c75",
   "metadata": {},
   "outputs": [
    {
     "data": {
      "text/plain": [
       "{'scalar_predictor_names': ['zenith_angle_radians', 'albedo'],\n",
       " 'vector_predictor_names': ['pressure_pascals',\n",
       "  'temperature_kelvins',\n",
       "  'specific_humidity_kg_kg01',\n",
       "  'liquid_water_content_kg_m03',\n",
       "  'ice_water_content_kg_m03',\n",
       "  'relative_humidity_unitless',\n",
       "  'liquid_water_path_kg_m02',\n",
       "  'ice_water_path_kg_m02',\n",
       "  'vapour_path_kg_m02',\n",
       "  'upward_liquid_water_path_kg_m02',\n",
       "  'upward_ice_water_path_kg_m02',\n",
       "  'upward_vapour_path_kg_m02'],\n",
       " 'scalar_target_names': ['shortwave_surface_down_flux_w_m02',\n",
       "  'shortwave_toa_up_flux_w_m02'],\n",
       " 'vector_target_names': ['shortwave_heating_rate_k_day01'],\n",
       " 'heights_m_agl': array([1.00e+01, 2.00e+01, 4.00e+01, 6.00e+01, 8.00e+01, 1.00e+02,\n",
       "        1.20e+02, 1.40e+02, 1.60e+02, 1.80e+02, 2.00e+02, 2.25e+02,\n",
       "        2.50e+02, 2.75e+02, 3.00e+02, 3.50e+02, 4.00e+02, 4.50e+02,\n",
       "        5.00e+02, 6.00e+02, 7.00e+02, 8.00e+02, 9.00e+02, 1.00e+03,\n",
       "        1.10e+03, 1.20e+03, 1.30e+03, 1.40e+03, 1.50e+03, 1.60e+03,\n",
       "        1.70e+03, 1.80e+03, 1.90e+03, 2.00e+03, 2.20e+03, 2.40e+03,\n",
       "        2.60e+03, 2.80e+03, 3.00e+03, 3.20e+03, 3.40e+03, 3.60e+03,\n",
       "        3.80e+03, 4.00e+03, 4.20e+03, 4.40e+03, 4.60e+03, 4.80e+03,\n",
       "        5.00e+03, 5.50e+03, 6.00e+03, 6.50e+03, 7.00e+03, 8.00e+03,\n",
       "        9.00e+03, 1.00e+04, 1.10e+04, 1.20e+04, 1.30e+04, 1.40e+04,\n",
       "        1.50e+04, 1.80e+04, 2.00e+04, 2.20e+04, 2.40e+04, 2.70e+04,\n",
       "        3.00e+04, 3.30e+04, 3.60e+04, 3.90e+04, 4.20e+04, 4.60e+04,\n",
       "        5.00e+04]),\n",
       " 'min_column_lwp_kg_m02': 0.0,\n",
       " 'max_column_lwp_kg_m02': 1000000000000.0,\n",
       " 'omit_heating_rate': False,\n",
       " 'predictor_norm_type_string': 'z_score',\n",
       " 'predictor_min_norm_value': 0.0,\n",
       " 'predictor_max_norm_value': 1.0,\n",
       " 'vector_target_norm_type_string': None,\n",
       " 'vector_target_min_norm_value': 0.0,\n",
       " 'vector_target_max_norm_value': 1.0,\n",
       " 'scalar_target_norm_type_string': 'minmax',\n",
       " 'scalar_target_min_norm_value': 0.0,\n",
       " 'scalar_target_max_norm_value': 1.0,\n",
       " 'example_dir_name': '/scratch1/RDARCH/rda-ghpcs/Ryan.Lagerquist/ml4rt_project/examples/non_tropical_sites',\n",
       " 'num_examples_per_batch': 256,\n",
       " 'first_time_unix_sec': 1514764800,\n",
       " 'last_time_unix_sec': 1545695999,\n",
       " 'normalization_file_name': '/scratch1/RDARCH/rda-ghpcs/Ryan.Lagerquist/ml4rt_project/examples/non_tropical_sites/learning_examples_20190101-20201031.nc'}"
      ]
     },
     "execution_count": 7,
     "metadata": {},
     "output_type": "execute_result"
    }
   ],
   "source": [
    "model_arc['validation_option_dict']"
   ]
  },
  {
   "cell_type": "code",
   "execution_count": 8,
   "id": "96c9c611",
   "metadata": {},
   "outputs": [],
   "source": [
    "model_arc['validation_option_dict']['example_dir_name'] = \\\n",
    "'/work/FAC/FGSE/IDYST/tbeucler/default/tbeucler/2021_Ryan_Lagerquist_SW/non_tropical_sites'"
   ]
  },
  {
   "cell_type": "code",
   "execution_count": 9,
   "id": "3538d9e7",
   "metadata": {},
   "outputs": [],
   "source": [
    "model_arc['validation_option_dict']['normalization_file_name'] = model_arc['validation_option_dict']['example_dir_name'] + \\\n",
    "'/learning_examples_20170101-20181224.nc'"
   ]
  },
  {
   "cell_type": "code",
   "execution_count": 10,
   "id": "c3985d73",
   "metadata": {},
   "outputs": [],
   "source": [
    "model_arc['validation_option_dict']['first_time_unix_sec'] = 1514764800 # Jan 1, 2018 at 12:00:00AM\n",
    "model_arc['validation_option_dict']['last_time_unix_sec'] = 1546300799 # Dec 31, 2018 at 11:59:59PM"
   ]
  },
  {
   "cell_type": "code",
   "execution_count": 11,
   "id": "0df1ceef",
   "metadata": {},
   "outputs": [],
   "source": [
    "Unetpp_gen = data_generator(model_arc['validation_option_dict'],True,model_arc['net_type_string'])"
   ]
  },
  {
   "cell_type": "code",
   "execution_count": 12,
   "id": "e1089a17",
   "metadata": {},
   "outputs": [
    {
     "name": "stdout",
     "output_type": "stream",
     "text": [
      "Reading training examples (for normalization) from: \"/work/FAC/FGSE/IDYST/tbeucler/default/tbeucler/2021_Ryan_Lagerquist_SW/non_tropical_sites/learning_examples_20170101-20181224.nc\"...\n",
      "\n",
      "Reading data from: \"/work/FAC/FGSE/IDYST/tbeucler/default/tbeucler/2021_Ryan_Lagerquist_SW/non_tropical_sites/learning_examples_2018.nc\"...\n"
     ]
    },
    {
     "name": "stderr",
     "output_type": "stream",
     "text": [
      "/work/FAC/FGSE/IDYST/tbeucler/default/tbeucler/ml4rt/notebooks_tbeucler/ml4rt/io/example_io.py:304: UserWarning: Removing 0 of 898025 examples (profiles), because they are at Summit GL.\n",
      "  warnings.warn(warning_string)\n"
     ]
    },
    {
     "name": "stdout",
     "output_type": "stream",
     "text": [
      "Applying Z_SCORE normalization to predictors...\n",
      "Applying MINMAX normalization to scalar targets...\n"
     ]
    }
   ],
   "source": [
    "Unetpp_data = create_data(model_arc['validation_option_dict'],True, \n",
    "                          model_arc['net_type_string'],exclude_summit_greenland=True)"
   ]
  },
  {
   "cell_type": "markdown",
   "id": "2f46c25e",
   "metadata": {},
   "source": [
    "# Create small prototype using xarray"
   ]
  },
  {
   "cell_type": "markdown",
   "id": "07be20e0",
   "metadata": {},
   "source": [
    "## Data loading and pre-processing"
   ]
  },
  {
   "cell_type": "code",
   "execution_count": 13,
   "id": "fc421e0c",
   "metadata": {},
   "outputs": [],
   "source": [
    "data2018 = xr.open_dataset('/work/FAC/FGSE/IDYST/tbeucler/default/tbeucler/2021_Ryan_Lagerquist_SW/non_tropical_sites/learning_examples_2018.nc')"
   ]
  },
  {
   "cell_type": "code",
   "execution_count": 14,
   "id": "906c6ca4",
   "metadata": {},
   "outputs": [
    {
     "data": {
      "text/html": [
       "<div><svg style=\"position: absolute; width: 0; height: 0; overflow: hidden\">\n",
       "<defs>\n",
       "<symbol id=\"icon-database\" viewBox=\"0 0 32 32\">\n",
       "<path d=\"M16 0c-8.837 0-16 2.239-16 5v4c0 2.761 7.163 5 16 5s16-2.239 16-5v-4c0-2.761-7.163-5-16-5z\"></path>\n",
       "<path d=\"M16 17c-8.837 0-16-2.239-16-5v6c0 2.761 7.163 5 16 5s16-2.239 16-5v-6c0 2.761-7.163 5-16 5z\"></path>\n",
       "<path d=\"M16 26c-8.837 0-16-2.239-16-5v6c0 2.761 7.163 5 16 5s16-2.239 16-5v-6c0 2.761-7.163 5-16 5z\"></path>\n",
       "</symbol>\n",
       "<symbol id=\"icon-file-text2\" viewBox=\"0 0 32 32\">\n",
       "<path d=\"M28.681 7.159c-0.694-0.947-1.662-2.053-2.724-3.116s-2.169-2.030-3.116-2.724c-1.612-1.182-2.393-1.319-2.841-1.319h-15.5c-1.378 0-2.5 1.121-2.5 2.5v27c0 1.378 1.122 2.5 2.5 2.5h23c1.378 0 2.5-1.122 2.5-2.5v-19.5c0-0.448-0.137-1.23-1.319-2.841zM24.543 5.457c0.959 0.959 1.712 1.825 2.268 2.543h-4.811v-4.811c0.718 0.556 1.584 1.309 2.543 2.268zM28 29.5c0 0.271-0.229 0.5-0.5 0.5h-23c-0.271 0-0.5-0.229-0.5-0.5v-27c0-0.271 0.229-0.5 0.5-0.5 0 0 15.499-0 15.5 0v7c0 0.552 0.448 1 1 1h7v19.5z\"></path>\n",
       "<path d=\"M23 26h-14c-0.552 0-1-0.448-1-1s0.448-1 1-1h14c0.552 0 1 0.448 1 1s-0.448 1-1 1z\"></path>\n",
       "<path d=\"M23 22h-14c-0.552 0-1-0.448-1-1s0.448-1 1-1h14c0.552 0 1 0.448 1 1s-0.448 1-1 1z\"></path>\n",
       "<path d=\"M23 18h-14c-0.552 0-1-0.448-1-1s0.448-1 1-1h14c0.552 0 1 0.448 1 1s-0.448 1-1 1z\"></path>\n",
       "</symbol>\n",
       "</defs>\n",
       "</svg>\n",
       "<style>/* CSS stylesheet for displaying xarray objects in jupyterlab.\n",
       " *\n",
       " */\n",
       "\n",
       ":root {\n",
       "  --xr-font-color0: var(--jp-content-font-color0, rgba(0, 0, 0, 1));\n",
       "  --xr-font-color2: var(--jp-content-font-color2, rgba(0, 0, 0, 0.54));\n",
       "  --xr-font-color3: var(--jp-content-font-color3, rgba(0, 0, 0, 0.38));\n",
       "  --xr-border-color: var(--jp-border-color2, #e0e0e0);\n",
       "  --xr-disabled-color: var(--jp-layout-color3, #bdbdbd);\n",
       "  --xr-background-color: var(--jp-layout-color0, white);\n",
       "  --xr-background-color-row-even: var(--jp-layout-color1, white);\n",
       "  --xr-background-color-row-odd: var(--jp-layout-color2, #eeeeee);\n",
       "}\n",
       "\n",
       "html[theme=dark],\n",
       "body.vscode-dark {\n",
       "  --xr-font-color0: rgba(255, 255, 255, 1);\n",
       "  --xr-font-color2: rgba(255, 255, 255, 0.54);\n",
       "  --xr-font-color3: rgba(255, 255, 255, 0.38);\n",
       "  --xr-border-color: #1F1F1F;\n",
       "  --xr-disabled-color: #515151;\n",
       "  --xr-background-color: #111111;\n",
       "  --xr-background-color-row-even: #111111;\n",
       "  --xr-background-color-row-odd: #313131;\n",
       "}\n",
       "\n",
       ".xr-wrap {\n",
       "  display: block;\n",
       "  min-width: 300px;\n",
       "  max-width: 700px;\n",
       "}\n",
       "\n",
       ".xr-text-repr-fallback {\n",
       "  /* fallback to plain text repr when CSS is not injected (untrusted notebook) */\n",
       "  display: none;\n",
       "}\n",
       "\n",
       ".xr-header {\n",
       "  padding-top: 6px;\n",
       "  padding-bottom: 6px;\n",
       "  margin-bottom: 4px;\n",
       "  border-bottom: solid 1px var(--xr-border-color);\n",
       "}\n",
       "\n",
       ".xr-header > div,\n",
       ".xr-header > ul {\n",
       "  display: inline;\n",
       "  margin-top: 0;\n",
       "  margin-bottom: 0;\n",
       "}\n",
       "\n",
       ".xr-obj-type,\n",
       ".xr-array-name {\n",
       "  margin-left: 2px;\n",
       "  margin-right: 10px;\n",
       "}\n",
       "\n",
       ".xr-obj-type {\n",
       "  color: var(--xr-font-color2);\n",
       "}\n",
       "\n",
       ".xr-sections {\n",
       "  padding-left: 0 !important;\n",
       "  display: grid;\n",
       "  grid-template-columns: 150px auto auto 1fr 20px 20px;\n",
       "}\n",
       "\n",
       ".xr-section-item {\n",
       "  display: contents;\n",
       "}\n",
       "\n",
       ".xr-section-item input {\n",
       "  display: none;\n",
       "}\n",
       "\n",
       ".xr-section-item input + label {\n",
       "  color: var(--xr-disabled-color);\n",
       "}\n",
       "\n",
       ".xr-section-item input:enabled + label {\n",
       "  cursor: pointer;\n",
       "  color: var(--xr-font-color2);\n",
       "}\n",
       "\n",
       ".xr-section-item input:enabled + label:hover {\n",
       "  color: var(--xr-font-color0);\n",
       "}\n",
       "\n",
       ".xr-section-summary {\n",
       "  grid-column: 1;\n",
       "  color: var(--xr-font-color2);\n",
       "  font-weight: 500;\n",
       "}\n",
       "\n",
       ".xr-section-summary > span {\n",
       "  display: inline-block;\n",
       "  padding-left: 0.5em;\n",
       "}\n",
       "\n",
       ".xr-section-summary-in:disabled + label {\n",
       "  color: var(--xr-font-color2);\n",
       "}\n",
       "\n",
       ".xr-section-summary-in + label:before {\n",
       "  display: inline-block;\n",
       "  content: '►';\n",
       "  font-size: 11px;\n",
       "  width: 15px;\n",
       "  text-align: center;\n",
       "}\n",
       "\n",
       ".xr-section-summary-in:disabled + label:before {\n",
       "  color: var(--xr-disabled-color);\n",
       "}\n",
       "\n",
       ".xr-section-summary-in:checked + label:before {\n",
       "  content: '▼';\n",
       "}\n",
       "\n",
       ".xr-section-summary-in:checked + label > span {\n",
       "  display: none;\n",
       "}\n",
       "\n",
       ".xr-section-summary,\n",
       ".xr-section-inline-details {\n",
       "  padding-top: 4px;\n",
       "  padding-bottom: 4px;\n",
       "}\n",
       "\n",
       ".xr-section-inline-details {\n",
       "  grid-column: 2 / -1;\n",
       "}\n",
       "\n",
       ".xr-section-details {\n",
       "  display: none;\n",
       "  grid-column: 1 / -1;\n",
       "  margin-bottom: 5px;\n",
       "}\n",
       "\n",
       ".xr-section-summary-in:checked ~ .xr-section-details {\n",
       "  display: contents;\n",
       "}\n",
       "\n",
       ".xr-array-wrap {\n",
       "  grid-column: 1 / -1;\n",
       "  display: grid;\n",
       "  grid-template-columns: 20px auto;\n",
       "}\n",
       "\n",
       ".xr-array-wrap > label {\n",
       "  grid-column: 1;\n",
       "  vertical-align: top;\n",
       "}\n",
       "\n",
       ".xr-preview {\n",
       "  color: var(--xr-font-color3);\n",
       "}\n",
       "\n",
       ".xr-array-preview,\n",
       ".xr-array-data {\n",
       "  padding: 0 5px !important;\n",
       "  grid-column: 2;\n",
       "}\n",
       "\n",
       ".xr-array-data,\n",
       ".xr-array-in:checked ~ .xr-array-preview {\n",
       "  display: none;\n",
       "}\n",
       "\n",
       ".xr-array-in:checked ~ .xr-array-data,\n",
       ".xr-array-preview {\n",
       "  display: inline-block;\n",
       "}\n",
       "\n",
       ".xr-dim-list {\n",
       "  display: inline-block !important;\n",
       "  list-style: none;\n",
       "  padding: 0 !important;\n",
       "  margin: 0;\n",
       "}\n",
       "\n",
       ".xr-dim-list li {\n",
       "  display: inline-block;\n",
       "  padding: 0;\n",
       "  margin: 0;\n",
       "}\n",
       "\n",
       ".xr-dim-list:before {\n",
       "  content: '(';\n",
       "}\n",
       "\n",
       ".xr-dim-list:after {\n",
       "  content: ')';\n",
       "}\n",
       "\n",
       ".xr-dim-list li:not(:last-child):after {\n",
       "  content: ',';\n",
       "  padding-right: 5px;\n",
       "}\n",
       "\n",
       ".xr-has-index {\n",
       "  font-weight: bold;\n",
       "}\n",
       "\n",
       ".xr-var-list,\n",
       ".xr-var-item {\n",
       "  display: contents;\n",
       "}\n",
       "\n",
       ".xr-var-item > div,\n",
       ".xr-var-item label,\n",
       ".xr-var-item > .xr-var-name span {\n",
       "  background-color: var(--xr-background-color-row-even);\n",
       "  margin-bottom: 0;\n",
       "}\n",
       "\n",
       ".xr-var-item > .xr-var-name:hover span {\n",
       "  padding-right: 5px;\n",
       "}\n",
       "\n",
       ".xr-var-list > li:nth-child(odd) > div,\n",
       ".xr-var-list > li:nth-child(odd) > label,\n",
       ".xr-var-list > li:nth-child(odd) > .xr-var-name span {\n",
       "  background-color: var(--xr-background-color-row-odd);\n",
       "}\n",
       "\n",
       ".xr-var-name {\n",
       "  grid-column: 1;\n",
       "}\n",
       "\n",
       ".xr-var-dims {\n",
       "  grid-column: 2;\n",
       "}\n",
       "\n",
       ".xr-var-dtype {\n",
       "  grid-column: 3;\n",
       "  text-align: right;\n",
       "  color: var(--xr-font-color2);\n",
       "}\n",
       "\n",
       ".xr-var-preview {\n",
       "  grid-column: 4;\n",
       "}\n",
       "\n",
       ".xr-var-name,\n",
       ".xr-var-dims,\n",
       ".xr-var-dtype,\n",
       ".xr-preview,\n",
       ".xr-attrs dt {\n",
       "  white-space: nowrap;\n",
       "  overflow: hidden;\n",
       "  text-overflow: ellipsis;\n",
       "  padding-right: 10px;\n",
       "}\n",
       "\n",
       ".xr-var-name:hover,\n",
       ".xr-var-dims:hover,\n",
       ".xr-var-dtype:hover,\n",
       ".xr-attrs dt:hover {\n",
       "  overflow: visible;\n",
       "  width: auto;\n",
       "  z-index: 1;\n",
       "}\n",
       "\n",
       ".xr-var-attrs,\n",
       ".xr-var-data {\n",
       "  display: none;\n",
       "  background-color: var(--xr-background-color) !important;\n",
       "  padding-bottom: 5px !important;\n",
       "}\n",
       "\n",
       ".xr-var-attrs-in:checked ~ .xr-var-attrs,\n",
       ".xr-var-data-in:checked ~ .xr-var-data {\n",
       "  display: block;\n",
       "}\n",
       "\n",
       ".xr-var-data > table {\n",
       "  float: right;\n",
       "}\n",
       "\n",
       ".xr-var-name span,\n",
       ".xr-var-data,\n",
       ".xr-attrs {\n",
       "  padding-left: 25px !important;\n",
       "}\n",
       "\n",
       ".xr-attrs,\n",
       ".xr-var-attrs,\n",
       ".xr-var-data {\n",
       "  grid-column: 1 / -1;\n",
       "}\n",
       "\n",
       "dl.xr-attrs {\n",
       "  padding: 0;\n",
       "  margin: 0;\n",
       "  display: grid;\n",
       "  grid-template-columns: 125px auto;\n",
       "}\n",
       "\n",
       ".xr-attrs dt,\n",
       ".xr-attrs dd {\n",
       "  padding: 0;\n",
       "  margin: 0;\n",
       "  float: left;\n",
       "  padding-right: 10px;\n",
       "  width: auto;\n",
       "}\n",
       "\n",
       ".xr-attrs dt {\n",
       "  font-weight: normal;\n",
       "  grid-column: 1;\n",
       "}\n",
       "\n",
       ".xr-attrs dt:hover span {\n",
       "  display: inline-block;\n",
       "  background: var(--xr-background-color);\n",
       "  padding-right: 10px;\n",
       "}\n",
       "\n",
       ".xr-attrs dd {\n",
       "  grid-column: 2;\n",
       "  white-space: pre-wrap;\n",
       "  word-break: break-all;\n",
       "}\n",
       "\n",
       ".xr-icon-database,\n",
       ".xr-icon-file-text2 {\n",
       "  display: inline-block;\n",
       "  vertical-align: middle;\n",
       "  width: 1em;\n",
       "  height: 1.5em !important;\n",
       "  stroke-width: 0;\n",
       "  stroke: currentColor;\n",
       "  fill: currentColor;\n",
       "}\n",
       "</style><pre class='xr-text-repr-fallback'>&lt;xarray.DataArray &#x27;vector_target_names&#x27; (vector_target: 5)&gt;\n",
       "array([b&#x27;shortwave_down_flux_w_m02&#x27;, b&#x27;shortwave_up_flux_w_m02&#x27;,\n",
       "       b&#x27;shortwave_heating_rate_k_day01&#x27;,\n",
       "       b&#x27;shortwave_down_flux_increment_w_m03&#x27;,\n",
       "       b&#x27;shortwave_up_flux_increment_w_m03&#x27;], dtype=&#x27;|S35&#x27;)\n",
       "Dimensions without coordinates: vector_target</pre><div class='xr-wrap' hidden><div class='xr-header'><div class='xr-obj-type'>xarray.DataArray</div><div class='xr-array-name'>'vector_target_names'</div><ul class='xr-dim-list'><li><span>vector_target</span>: 5</li></ul></div><ul class='xr-sections'><li class='xr-section-item'><div class='xr-array-wrap'><input id='section-65b1a29e-accb-457f-a350-4d829a20cc46' class='xr-array-in' type='checkbox' checked><label for='section-65b1a29e-accb-457f-a350-4d829a20cc46' title='Show/hide data repr'><svg class='icon xr-icon-database'><use xlink:href='#icon-database'></use></svg></label><div class='xr-array-preview xr-preview'><span>b&#x27;shortwave_down_flux_w_m02&#x27; ... b&#x27;shortwave_up_flux_increment_w_m03&#x27;</span></div><div class='xr-array-data'><pre>array([b&#x27;shortwave_down_flux_w_m02&#x27;, b&#x27;shortwave_up_flux_w_m02&#x27;,\n",
       "       b&#x27;shortwave_heating_rate_k_day01&#x27;,\n",
       "       b&#x27;shortwave_down_flux_increment_w_m03&#x27;,\n",
       "       b&#x27;shortwave_up_flux_increment_w_m03&#x27;], dtype=&#x27;|S35&#x27;)</pre></div></div></li><li class='xr-section-item'><input id='section-8ec062e1-401a-4cf5-b8fa-3fee23fa67ec' class='xr-section-summary-in' type='checkbox' disabled ><label for='section-8ec062e1-401a-4cf5-b8fa-3fee23fa67ec' class='xr-section-summary'  title='Expand/collapse section'>Coordinates: <span>(0)</span></label><div class='xr-section-inline-details'></div><div class='xr-section-details'><ul class='xr-var-list'></ul></div></li><li class='xr-section-item'><input id='section-53d98c58-89b7-4574-8e9c-1cf5e396bbf7' class='xr-section-summary-in' type='checkbox' disabled ><label for='section-53d98c58-89b7-4574-8e9c-1cf5e396bbf7' class='xr-section-summary'  title='Expand/collapse section'>Attributes: <span>(0)</span></label><div class='xr-section-inline-details'></div><div class='xr-section-details'><dl class='xr-attrs'></dl></div></li></ul></div></div>"
      ],
      "text/plain": [
       "<xarray.DataArray 'vector_target_names' (vector_target: 5)>\n",
       "array([b'shortwave_down_flux_w_m02', b'shortwave_up_flux_w_m02',\n",
       "       b'shortwave_heating_rate_k_day01',\n",
       "       b'shortwave_down_flux_increment_w_m03',\n",
       "       b'shortwave_up_flux_increment_w_m03'], dtype='|S35')\n",
       "Dimensions without coordinates: vector_target"
      ]
     },
     "execution_count": 14,
     "metadata": {},
     "output_type": "execute_result"
    }
   ],
   "source": [
    "data2018['vector_target_names']"
   ]
  },
  {
   "cell_type": "code",
   "execution_count": 15,
   "id": "666b448d",
   "metadata": {},
   "outputs": [
    {
     "data": {
      "text/html": [
       "<div><svg style=\"position: absolute; width: 0; height: 0; overflow: hidden\">\n",
       "<defs>\n",
       "<symbol id=\"icon-database\" viewBox=\"0 0 32 32\">\n",
       "<path d=\"M16 0c-8.837 0-16 2.239-16 5v4c0 2.761 7.163 5 16 5s16-2.239 16-5v-4c0-2.761-7.163-5-16-5z\"></path>\n",
       "<path d=\"M16 17c-8.837 0-16-2.239-16-5v6c0 2.761 7.163 5 16 5s16-2.239 16-5v-6c0 2.761-7.163 5-16 5z\"></path>\n",
       "<path d=\"M16 26c-8.837 0-16-2.239-16-5v6c0 2.761 7.163 5 16 5s16-2.239 16-5v-6c0 2.761-7.163 5-16 5z\"></path>\n",
       "</symbol>\n",
       "<symbol id=\"icon-file-text2\" viewBox=\"0 0 32 32\">\n",
       "<path d=\"M28.681 7.159c-0.694-0.947-1.662-2.053-2.724-3.116s-2.169-2.030-3.116-2.724c-1.612-1.182-2.393-1.319-2.841-1.319h-15.5c-1.378 0-2.5 1.121-2.5 2.5v27c0 1.378 1.122 2.5 2.5 2.5h23c1.378 0 2.5-1.122 2.5-2.5v-19.5c0-0.448-0.137-1.23-1.319-2.841zM24.543 5.457c0.959 0.959 1.712 1.825 2.268 2.543h-4.811v-4.811c0.718 0.556 1.584 1.309 2.543 2.268zM28 29.5c0 0.271-0.229 0.5-0.5 0.5h-23c-0.271 0-0.5-0.229-0.5-0.5v-27c0-0.271 0.229-0.5 0.5-0.5 0 0 15.499-0 15.5 0v7c0 0.552 0.448 1 1 1h7v19.5z\"></path>\n",
       "<path d=\"M23 26h-14c-0.552 0-1-0.448-1-1s0.448-1 1-1h14c0.552 0 1 0.448 1 1s-0.448 1-1 1z\"></path>\n",
       "<path d=\"M23 22h-14c-0.552 0-1-0.448-1-1s0.448-1 1-1h14c0.552 0 1 0.448 1 1s-0.448 1-1 1z\"></path>\n",
       "<path d=\"M23 18h-14c-0.552 0-1-0.448-1-1s0.448-1 1-1h14c0.552 0 1 0.448 1 1s-0.448 1-1 1z\"></path>\n",
       "</symbol>\n",
       "</defs>\n",
       "</svg>\n",
       "<style>/* CSS stylesheet for displaying xarray objects in jupyterlab.\n",
       " *\n",
       " */\n",
       "\n",
       ":root {\n",
       "  --xr-font-color0: var(--jp-content-font-color0, rgba(0, 0, 0, 1));\n",
       "  --xr-font-color2: var(--jp-content-font-color2, rgba(0, 0, 0, 0.54));\n",
       "  --xr-font-color3: var(--jp-content-font-color3, rgba(0, 0, 0, 0.38));\n",
       "  --xr-border-color: var(--jp-border-color2, #e0e0e0);\n",
       "  --xr-disabled-color: var(--jp-layout-color3, #bdbdbd);\n",
       "  --xr-background-color: var(--jp-layout-color0, white);\n",
       "  --xr-background-color-row-even: var(--jp-layout-color1, white);\n",
       "  --xr-background-color-row-odd: var(--jp-layout-color2, #eeeeee);\n",
       "}\n",
       "\n",
       "html[theme=dark],\n",
       "body.vscode-dark {\n",
       "  --xr-font-color0: rgba(255, 255, 255, 1);\n",
       "  --xr-font-color2: rgba(255, 255, 255, 0.54);\n",
       "  --xr-font-color3: rgba(255, 255, 255, 0.38);\n",
       "  --xr-border-color: #1F1F1F;\n",
       "  --xr-disabled-color: #515151;\n",
       "  --xr-background-color: #111111;\n",
       "  --xr-background-color-row-even: #111111;\n",
       "  --xr-background-color-row-odd: #313131;\n",
       "}\n",
       "\n",
       ".xr-wrap {\n",
       "  display: block;\n",
       "  min-width: 300px;\n",
       "  max-width: 700px;\n",
       "}\n",
       "\n",
       ".xr-text-repr-fallback {\n",
       "  /* fallback to plain text repr when CSS is not injected (untrusted notebook) */\n",
       "  display: none;\n",
       "}\n",
       "\n",
       ".xr-header {\n",
       "  padding-top: 6px;\n",
       "  padding-bottom: 6px;\n",
       "  margin-bottom: 4px;\n",
       "  border-bottom: solid 1px var(--xr-border-color);\n",
       "}\n",
       "\n",
       ".xr-header > div,\n",
       ".xr-header > ul {\n",
       "  display: inline;\n",
       "  margin-top: 0;\n",
       "  margin-bottom: 0;\n",
       "}\n",
       "\n",
       ".xr-obj-type,\n",
       ".xr-array-name {\n",
       "  margin-left: 2px;\n",
       "  margin-right: 10px;\n",
       "}\n",
       "\n",
       ".xr-obj-type {\n",
       "  color: var(--xr-font-color2);\n",
       "}\n",
       "\n",
       ".xr-sections {\n",
       "  padding-left: 0 !important;\n",
       "  display: grid;\n",
       "  grid-template-columns: 150px auto auto 1fr 20px 20px;\n",
       "}\n",
       "\n",
       ".xr-section-item {\n",
       "  display: contents;\n",
       "}\n",
       "\n",
       ".xr-section-item input {\n",
       "  display: none;\n",
       "}\n",
       "\n",
       ".xr-section-item input + label {\n",
       "  color: var(--xr-disabled-color);\n",
       "}\n",
       "\n",
       ".xr-section-item input:enabled + label {\n",
       "  cursor: pointer;\n",
       "  color: var(--xr-font-color2);\n",
       "}\n",
       "\n",
       ".xr-section-item input:enabled + label:hover {\n",
       "  color: var(--xr-font-color0);\n",
       "}\n",
       "\n",
       ".xr-section-summary {\n",
       "  grid-column: 1;\n",
       "  color: var(--xr-font-color2);\n",
       "  font-weight: 500;\n",
       "}\n",
       "\n",
       ".xr-section-summary > span {\n",
       "  display: inline-block;\n",
       "  padding-left: 0.5em;\n",
       "}\n",
       "\n",
       ".xr-section-summary-in:disabled + label {\n",
       "  color: var(--xr-font-color2);\n",
       "}\n",
       "\n",
       ".xr-section-summary-in + label:before {\n",
       "  display: inline-block;\n",
       "  content: '►';\n",
       "  font-size: 11px;\n",
       "  width: 15px;\n",
       "  text-align: center;\n",
       "}\n",
       "\n",
       ".xr-section-summary-in:disabled + label:before {\n",
       "  color: var(--xr-disabled-color);\n",
       "}\n",
       "\n",
       ".xr-section-summary-in:checked + label:before {\n",
       "  content: '▼';\n",
       "}\n",
       "\n",
       ".xr-section-summary-in:checked + label > span {\n",
       "  display: none;\n",
       "}\n",
       "\n",
       ".xr-section-summary,\n",
       ".xr-section-inline-details {\n",
       "  padding-top: 4px;\n",
       "  padding-bottom: 4px;\n",
       "}\n",
       "\n",
       ".xr-section-inline-details {\n",
       "  grid-column: 2 / -1;\n",
       "}\n",
       "\n",
       ".xr-section-details {\n",
       "  display: none;\n",
       "  grid-column: 1 / -1;\n",
       "  margin-bottom: 5px;\n",
       "}\n",
       "\n",
       ".xr-section-summary-in:checked ~ .xr-section-details {\n",
       "  display: contents;\n",
       "}\n",
       "\n",
       ".xr-array-wrap {\n",
       "  grid-column: 1 / -1;\n",
       "  display: grid;\n",
       "  grid-template-columns: 20px auto;\n",
       "}\n",
       "\n",
       ".xr-array-wrap > label {\n",
       "  grid-column: 1;\n",
       "  vertical-align: top;\n",
       "}\n",
       "\n",
       ".xr-preview {\n",
       "  color: var(--xr-font-color3);\n",
       "}\n",
       "\n",
       ".xr-array-preview,\n",
       ".xr-array-data {\n",
       "  padding: 0 5px !important;\n",
       "  grid-column: 2;\n",
       "}\n",
       "\n",
       ".xr-array-data,\n",
       ".xr-array-in:checked ~ .xr-array-preview {\n",
       "  display: none;\n",
       "}\n",
       "\n",
       ".xr-array-in:checked ~ .xr-array-data,\n",
       ".xr-array-preview {\n",
       "  display: inline-block;\n",
       "}\n",
       "\n",
       ".xr-dim-list {\n",
       "  display: inline-block !important;\n",
       "  list-style: none;\n",
       "  padding: 0 !important;\n",
       "  margin: 0;\n",
       "}\n",
       "\n",
       ".xr-dim-list li {\n",
       "  display: inline-block;\n",
       "  padding: 0;\n",
       "  margin: 0;\n",
       "}\n",
       "\n",
       ".xr-dim-list:before {\n",
       "  content: '(';\n",
       "}\n",
       "\n",
       ".xr-dim-list:after {\n",
       "  content: ')';\n",
       "}\n",
       "\n",
       ".xr-dim-list li:not(:last-child):after {\n",
       "  content: ',';\n",
       "  padding-right: 5px;\n",
       "}\n",
       "\n",
       ".xr-has-index {\n",
       "  font-weight: bold;\n",
       "}\n",
       "\n",
       ".xr-var-list,\n",
       ".xr-var-item {\n",
       "  display: contents;\n",
       "}\n",
       "\n",
       ".xr-var-item > div,\n",
       ".xr-var-item label,\n",
       ".xr-var-item > .xr-var-name span {\n",
       "  background-color: var(--xr-background-color-row-even);\n",
       "  margin-bottom: 0;\n",
       "}\n",
       "\n",
       ".xr-var-item > .xr-var-name:hover span {\n",
       "  padding-right: 5px;\n",
       "}\n",
       "\n",
       ".xr-var-list > li:nth-child(odd) > div,\n",
       ".xr-var-list > li:nth-child(odd) > label,\n",
       ".xr-var-list > li:nth-child(odd) > .xr-var-name span {\n",
       "  background-color: var(--xr-background-color-row-odd);\n",
       "}\n",
       "\n",
       ".xr-var-name {\n",
       "  grid-column: 1;\n",
       "}\n",
       "\n",
       ".xr-var-dims {\n",
       "  grid-column: 2;\n",
       "}\n",
       "\n",
       ".xr-var-dtype {\n",
       "  grid-column: 3;\n",
       "  text-align: right;\n",
       "  color: var(--xr-font-color2);\n",
       "}\n",
       "\n",
       ".xr-var-preview {\n",
       "  grid-column: 4;\n",
       "}\n",
       "\n",
       ".xr-var-name,\n",
       ".xr-var-dims,\n",
       ".xr-var-dtype,\n",
       ".xr-preview,\n",
       ".xr-attrs dt {\n",
       "  white-space: nowrap;\n",
       "  overflow: hidden;\n",
       "  text-overflow: ellipsis;\n",
       "  padding-right: 10px;\n",
       "}\n",
       "\n",
       ".xr-var-name:hover,\n",
       ".xr-var-dims:hover,\n",
       ".xr-var-dtype:hover,\n",
       ".xr-attrs dt:hover {\n",
       "  overflow: visible;\n",
       "  width: auto;\n",
       "  z-index: 1;\n",
       "}\n",
       "\n",
       ".xr-var-attrs,\n",
       ".xr-var-data {\n",
       "  display: none;\n",
       "  background-color: var(--xr-background-color) !important;\n",
       "  padding-bottom: 5px !important;\n",
       "}\n",
       "\n",
       ".xr-var-attrs-in:checked ~ .xr-var-attrs,\n",
       ".xr-var-data-in:checked ~ .xr-var-data {\n",
       "  display: block;\n",
       "}\n",
       "\n",
       ".xr-var-data > table {\n",
       "  float: right;\n",
       "}\n",
       "\n",
       ".xr-var-name span,\n",
       ".xr-var-data,\n",
       ".xr-attrs {\n",
       "  padding-left: 25px !important;\n",
       "}\n",
       "\n",
       ".xr-attrs,\n",
       ".xr-var-attrs,\n",
       ".xr-var-data {\n",
       "  grid-column: 1 / -1;\n",
       "}\n",
       "\n",
       "dl.xr-attrs {\n",
       "  padding: 0;\n",
       "  margin: 0;\n",
       "  display: grid;\n",
       "  grid-template-columns: 125px auto;\n",
       "}\n",
       "\n",
       ".xr-attrs dt,\n",
       ".xr-attrs dd {\n",
       "  padding: 0;\n",
       "  margin: 0;\n",
       "  float: left;\n",
       "  padding-right: 10px;\n",
       "  width: auto;\n",
       "}\n",
       "\n",
       ".xr-attrs dt {\n",
       "  font-weight: normal;\n",
       "  grid-column: 1;\n",
       "}\n",
       "\n",
       ".xr-attrs dt:hover span {\n",
       "  display: inline-block;\n",
       "  background: var(--xr-background-color);\n",
       "  padding-right: 10px;\n",
       "}\n",
       "\n",
       ".xr-attrs dd {\n",
       "  grid-column: 2;\n",
       "  white-space: pre-wrap;\n",
       "  word-break: break-all;\n",
       "}\n",
       "\n",
       ".xr-icon-database,\n",
       ".xr-icon-file-text2 {\n",
       "  display: inline-block;\n",
       "  vertical-align: middle;\n",
       "  width: 1em;\n",
       "  height: 1.5em !important;\n",
       "  stroke-width: 0;\n",
       "  stroke: currentColor;\n",
       "  fill: currentColor;\n",
       "}\n",
       "</style><pre class='xr-text-repr-fallback'>&lt;xarray.DataArray &#x27;scalar_target_names&#x27; (scalar_target: 2)&gt;\n",
       "array([b&#x27;shortwave_surface_down_flux_w_m02&#x27;, b&#x27;shortwave_toa_up_flux_w_m02&#x27;],\n",
       "      dtype=&#x27;|S35&#x27;)\n",
       "Dimensions without coordinates: scalar_target</pre><div class='xr-wrap' hidden><div class='xr-header'><div class='xr-obj-type'>xarray.DataArray</div><div class='xr-array-name'>'scalar_target_names'</div><ul class='xr-dim-list'><li><span>scalar_target</span>: 2</li></ul></div><ul class='xr-sections'><li class='xr-section-item'><div class='xr-array-wrap'><input id='section-eb852ab9-3f84-4e24-bc92-0bb21ddff759' class='xr-array-in' type='checkbox' checked><label for='section-eb852ab9-3f84-4e24-bc92-0bb21ddff759' title='Show/hide data repr'><svg class='icon xr-icon-database'><use xlink:href='#icon-database'></use></svg></label><div class='xr-array-preview xr-preview'><span>b&#x27;shortwave_surface_down_flux_w_m02&#x27; b&#x27;shortwave_toa_up_flux_w_m02&#x27;</span></div><div class='xr-array-data'><pre>array([b&#x27;shortwave_surface_down_flux_w_m02&#x27;, b&#x27;shortwave_toa_up_flux_w_m02&#x27;],\n",
       "      dtype=&#x27;|S35&#x27;)</pre></div></div></li><li class='xr-section-item'><input id='section-3a80e460-7162-47b4-b3f9-b4e183293437' class='xr-section-summary-in' type='checkbox' disabled ><label for='section-3a80e460-7162-47b4-b3f9-b4e183293437' class='xr-section-summary'  title='Expand/collapse section'>Coordinates: <span>(0)</span></label><div class='xr-section-inline-details'></div><div class='xr-section-details'><ul class='xr-var-list'></ul></div></li><li class='xr-section-item'><input id='section-3f7655ab-83a1-41f4-b98a-4909d80f001c' class='xr-section-summary-in' type='checkbox' disabled ><label for='section-3f7655ab-83a1-41f4-b98a-4909d80f001c' class='xr-section-summary'  title='Expand/collapse section'>Attributes: <span>(0)</span></label><div class='xr-section-inline-details'></div><div class='xr-section-details'><dl class='xr-attrs'></dl></div></li></ul></div></div>"
      ],
      "text/plain": [
       "<xarray.DataArray 'scalar_target_names' (scalar_target: 2)>\n",
       "array([b'shortwave_surface_down_flux_w_m02', b'shortwave_toa_up_flux_w_m02'],\n",
       "      dtype='|S35')\n",
       "Dimensions without coordinates: scalar_target"
      ]
     },
     "execution_count": 15,
     "metadata": {},
     "output_type": "execute_result"
    }
   ],
   "source": [
    "data2018['scalar_target_names']"
   ]
  },
  {
   "cell_type": "code",
   "execution_count": 16,
   "id": "0907b3c1",
   "metadata": {},
   "outputs": [
    {
     "data": {
      "text/html": [
       "<div><svg style=\"position: absolute; width: 0; height: 0; overflow: hidden\">\n",
       "<defs>\n",
       "<symbol id=\"icon-database\" viewBox=\"0 0 32 32\">\n",
       "<path d=\"M16 0c-8.837 0-16 2.239-16 5v4c0 2.761 7.163 5 16 5s16-2.239 16-5v-4c0-2.761-7.163-5-16-5z\"></path>\n",
       "<path d=\"M16 17c-8.837 0-16-2.239-16-5v6c0 2.761 7.163 5 16 5s16-2.239 16-5v-6c0 2.761-7.163 5-16 5z\"></path>\n",
       "<path d=\"M16 26c-8.837 0-16-2.239-16-5v6c0 2.761 7.163 5 16 5s16-2.239 16-5v-6c0 2.761-7.163 5-16 5z\"></path>\n",
       "</symbol>\n",
       "<symbol id=\"icon-file-text2\" viewBox=\"0 0 32 32\">\n",
       "<path d=\"M28.681 7.159c-0.694-0.947-1.662-2.053-2.724-3.116s-2.169-2.030-3.116-2.724c-1.612-1.182-2.393-1.319-2.841-1.319h-15.5c-1.378 0-2.5 1.121-2.5 2.5v27c0 1.378 1.122 2.5 2.5 2.5h23c1.378 0 2.5-1.122 2.5-2.5v-19.5c0-0.448-0.137-1.23-1.319-2.841zM24.543 5.457c0.959 0.959 1.712 1.825 2.268 2.543h-4.811v-4.811c0.718 0.556 1.584 1.309 2.543 2.268zM28 29.5c0 0.271-0.229 0.5-0.5 0.5h-23c-0.271 0-0.5-0.229-0.5-0.5v-27c0-0.271 0.229-0.5 0.5-0.5 0 0 15.499-0 15.5 0v7c0 0.552 0.448 1 1 1h7v19.5z\"></path>\n",
       "<path d=\"M23 26h-14c-0.552 0-1-0.448-1-1s0.448-1 1-1h14c0.552 0 1 0.448 1 1s-0.448 1-1 1z\"></path>\n",
       "<path d=\"M23 22h-14c-0.552 0-1-0.448-1-1s0.448-1 1-1h14c0.552 0 1 0.448 1 1s-0.448 1-1 1z\"></path>\n",
       "<path d=\"M23 18h-14c-0.552 0-1-0.448-1-1s0.448-1 1-1h14c0.552 0 1 0.448 1 1s-0.448 1-1 1z\"></path>\n",
       "</symbol>\n",
       "</defs>\n",
       "</svg>\n",
       "<style>/* CSS stylesheet for displaying xarray objects in jupyterlab.\n",
       " *\n",
       " */\n",
       "\n",
       ":root {\n",
       "  --xr-font-color0: var(--jp-content-font-color0, rgba(0, 0, 0, 1));\n",
       "  --xr-font-color2: var(--jp-content-font-color2, rgba(0, 0, 0, 0.54));\n",
       "  --xr-font-color3: var(--jp-content-font-color3, rgba(0, 0, 0, 0.38));\n",
       "  --xr-border-color: var(--jp-border-color2, #e0e0e0);\n",
       "  --xr-disabled-color: var(--jp-layout-color3, #bdbdbd);\n",
       "  --xr-background-color: var(--jp-layout-color0, white);\n",
       "  --xr-background-color-row-even: var(--jp-layout-color1, white);\n",
       "  --xr-background-color-row-odd: var(--jp-layout-color2, #eeeeee);\n",
       "}\n",
       "\n",
       "html[theme=dark],\n",
       "body.vscode-dark {\n",
       "  --xr-font-color0: rgba(255, 255, 255, 1);\n",
       "  --xr-font-color2: rgba(255, 255, 255, 0.54);\n",
       "  --xr-font-color3: rgba(255, 255, 255, 0.38);\n",
       "  --xr-border-color: #1F1F1F;\n",
       "  --xr-disabled-color: #515151;\n",
       "  --xr-background-color: #111111;\n",
       "  --xr-background-color-row-even: #111111;\n",
       "  --xr-background-color-row-odd: #313131;\n",
       "}\n",
       "\n",
       ".xr-wrap {\n",
       "  display: block;\n",
       "  min-width: 300px;\n",
       "  max-width: 700px;\n",
       "}\n",
       "\n",
       ".xr-text-repr-fallback {\n",
       "  /* fallback to plain text repr when CSS is not injected (untrusted notebook) */\n",
       "  display: none;\n",
       "}\n",
       "\n",
       ".xr-header {\n",
       "  padding-top: 6px;\n",
       "  padding-bottom: 6px;\n",
       "  margin-bottom: 4px;\n",
       "  border-bottom: solid 1px var(--xr-border-color);\n",
       "}\n",
       "\n",
       ".xr-header > div,\n",
       ".xr-header > ul {\n",
       "  display: inline;\n",
       "  margin-top: 0;\n",
       "  margin-bottom: 0;\n",
       "}\n",
       "\n",
       ".xr-obj-type,\n",
       ".xr-array-name {\n",
       "  margin-left: 2px;\n",
       "  margin-right: 10px;\n",
       "}\n",
       "\n",
       ".xr-obj-type {\n",
       "  color: var(--xr-font-color2);\n",
       "}\n",
       "\n",
       ".xr-sections {\n",
       "  padding-left: 0 !important;\n",
       "  display: grid;\n",
       "  grid-template-columns: 150px auto auto 1fr 20px 20px;\n",
       "}\n",
       "\n",
       ".xr-section-item {\n",
       "  display: contents;\n",
       "}\n",
       "\n",
       ".xr-section-item input {\n",
       "  display: none;\n",
       "}\n",
       "\n",
       ".xr-section-item input + label {\n",
       "  color: var(--xr-disabled-color);\n",
       "}\n",
       "\n",
       ".xr-section-item input:enabled + label {\n",
       "  cursor: pointer;\n",
       "  color: var(--xr-font-color2);\n",
       "}\n",
       "\n",
       ".xr-section-item input:enabled + label:hover {\n",
       "  color: var(--xr-font-color0);\n",
       "}\n",
       "\n",
       ".xr-section-summary {\n",
       "  grid-column: 1;\n",
       "  color: var(--xr-font-color2);\n",
       "  font-weight: 500;\n",
       "}\n",
       "\n",
       ".xr-section-summary > span {\n",
       "  display: inline-block;\n",
       "  padding-left: 0.5em;\n",
       "}\n",
       "\n",
       ".xr-section-summary-in:disabled + label {\n",
       "  color: var(--xr-font-color2);\n",
       "}\n",
       "\n",
       ".xr-section-summary-in + label:before {\n",
       "  display: inline-block;\n",
       "  content: '►';\n",
       "  font-size: 11px;\n",
       "  width: 15px;\n",
       "  text-align: center;\n",
       "}\n",
       "\n",
       ".xr-section-summary-in:disabled + label:before {\n",
       "  color: var(--xr-disabled-color);\n",
       "}\n",
       "\n",
       ".xr-section-summary-in:checked + label:before {\n",
       "  content: '▼';\n",
       "}\n",
       "\n",
       ".xr-section-summary-in:checked + label > span {\n",
       "  display: none;\n",
       "}\n",
       "\n",
       ".xr-section-summary,\n",
       ".xr-section-inline-details {\n",
       "  padding-top: 4px;\n",
       "  padding-bottom: 4px;\n",
       "}\n",
       "\n",
       ".xr-section-inline-details {\n",
       "  grid-column: 2 / -1;\n",
       "}\n",
       "\n",
       ".xr-section-details {\n",
       "  display: none;\n",
       "  grid-column: 1 / -1;\n",
       "  margin-bottom: 5px;\n",
       "}\n",
       "\n",
       ".xr-section-summary-in:checked ~ .xr-section-details {\n",
       "  display: contents;\n",
       "}\n",
       "\n",
       ".xr-array-wrap {\n",
       "  grid-column: 1 / -1;\n",
       "  display: grid;\n",
       "  grid-template-columns: 20px auto;\n",
       "}\n",
       "\n",
       ".xr-array-wrap > label {\n",
       "  grid-column: 1;\n",
       "  vertical-align: top;\n",
       "}\n",
       "\n",
       ".xr-preview {\n",
       "  color: var(--xr-font-color3);\n",
       "}\n",
       "\n",
       ".xr-array-preview,\n",
       ".xr-array-data {\n",
       "  padding: 0 5px !important;\n",
       "  grid-column: 2;\n",
       "}\n",
       "\n",
       ".xr-array-data,\n",
       ".xr-array-in:checked ~ .xr-array-preview {\n",
       "  display: none;\n",
       "}\n",
       "\n",
       ".xr-array-in:checked ~ .xr-array-data,\n",
       ".xr-array-preview {\n",
       "  display: inline-block;\n",
       "}\n",
       "\n",
       ".xr-dim-list {\n",
       "  display: inline-block !important;\n",
       "  list-style: none;\n",
       "  padding: 0 !important;\n",
       "  margin: 0;\n",
       "}\n",
       "\n",
       ".xr-dim-list li {\n",
       "  display: inline-block;\n",
       "  padding: 0;\n",
       "  margin: 0;\n",
       "}\n",
       "\n",
       ".xr-dim-list:before {\n",
       "  content: '(';\n",
       "}\n",
       "\n",
       ".xr-dim-list:after {\n",
       "  content: ')';\n",
       "}\n",
       "\n",
       ".xr-dim-list li:not(:last-child):after {\n",
       "  content: ',';\n",
       "  padding-right: 5px;\n",
       "}\n",
       "\n",
       ".xr-has-index {\n",
       "  font-weight: bold;\n",
       "}\n",
       "\n",
       ".xr-var-list,\n",
       ".xr-var-item {\n",
       "  display: contents;\n",
       "}\n",
       "\n",
       ".xr-var-item > div,\n",
       ".xr-var-item label,\n",
       ".xr-var-item > .xr-var-name span {\n",
       "  background-color: var(--xr-background-color-row-even);\n",
       "  margin-bottom: 0;\n",
       "}\n",
       "\n",
       ".xr-var-item > .xr-var-name:hover span {\n",
       "  padding-right: 5px;\n",
       "}\n",
       "\n",
       ".xr-var-list > li:nth-child(odd) > div,\n",
       ".xr-var-list > li:nth-child(odd) > label,\n",
       ".xr-var-list > li:nth-child(odd) > .xr-var-name span {\n",
       "  background-color: var(--xr-background-color-row-odd);\n",
       "}\n",
       "\n",
       ".xr-var-name {\n",
       "  grid-column: 1;\n",
       "}\n",
       "\n",
       ".xr-var-dims {\n",
       "  grid-column: 2;\n",
       "}\n",
       "\n",
       ".xr-var-dtype {\n",
       "  grid-column: 3;\n",
       "  text-align: right;\n",
       "  color: var(--xr-font-color2);\n",
       "}\n",
       "\n",
       ".xr-var-preview {\n",
       "  grid-column: 4;\n",
       "}\n",
       "\n",
       ".xr-var-name,\n",
       ".xr-var-dims,\n",
       ".xr-var-dtype,\n",
       ".xr-preview,\n",
       ".xr-attrs dt {\n",
       "  white-space: nowrap;\n",
       "  overflow: hidden;\n",
       "  text-overflow: ellipsis;\n",
       "  padding-right: 10px;\n",
       "}\n",
       "\n",
       ".xr-var-name:hover,\n",
       ".xr-var-dims:hover,\n",
       ".xr-var-dtype:hover,\n",
       ".xr-attrs dt:hover {\n",
       "  overflow: visible;\n",
       "  width: auto;\n",
       "  z-index: 1;\n",
       "}\n",
       "\n",
       ".xr-var-attrs,\n",
       ".xr-var-data {\n",
       "  display: none;\n",
       "  background-color: var(--xr-background-color) !important;\n",
       "  padding-bottom: 5px !important;\n",
       "}\n",
       "\n",
       ".xr-var-attrs-in:checked ~ .xr-var-attrs,\n",
       ".xr-var-data-in:checked ~ .xr-var-data {\n",
       "  display: block;\n",
       "}\n",
       "\n",
       ".xr-var-data > table {\n",
       "  float: right;\n",
       "}\n",
       "\n",
       ".xr-var-name span,\n",
       ".xr-var-data,\n",
       ".xr-attrs {\n",
       "  padding-left: 25px !important;\n",
       "}\n",
       "\n",
       ".xr-attrs,\n",
       ".xr-var-attrs,\n",
       ".xr-var-data {\n",
       "  grid-column: 1 / -1;\n",
       "}\n",
       "\n",
       "dl.xr-attrs {\n",
       "  padding: 0;\n",
       "  margin: 0;\n",
       "  display: grid;\n",
       "  grid-template-columns: 125px auto;\n",
       "}\n",
       "\n",
       ".xr-attrs dt,\n",
       ".xr-attrs dd {\n",
       "  padding: 0;\n",
       "  margin: 0;\n",
       "  float: left;\n",
       "  padding-right: 10px;\n",
       "  width: auto;\n",
       "}\n",
       "\n",
       ".xr-attrs dt {\n",
       "  font-weight: normal;\n",
       "  grid-column: 1;\n",
       "}\n",
       "\n",
       ".xr-attrs dt:hover span {\n",
       "  display: inline-block;\n",
       "  background: var(--xr-background-color);\n",
       "  padding-right: 10px;\n",
       "}\n",
       "\n",
       ".xr-attrs dd {\n",
       "  grid-column: 2;\n",
       "  white-space: pre-wrap;\n",
       "  word-break: break-all;\n",
       "}\n",
       "\n",
       ".xr-icon-database,\n",
       ".xr-icon-file-text2 {\n",
       "  display: inline-block;\n",
       "  vertical-align: middle;\n",
       "  width: 1em;\n",
       "  height: 1.5em !important;\n",
       "  stroke-width: 0;\n",
       "  stroke: currentColor;\n",
       "  fill: currentColor;\n",
       "}\n",
       "</style><pre class='xr-text-repr-fallback'>&lt;xarray.DataArray &#x27;scalar_predictor_names&#x27; (scalar_predictor: 6)&gt;\n",
       "array([b&#x27;zenith_angle_radians&#x27;, b&#x27;albedo&#x27;, b&#x27;latitude_deg_n&#x27;,\n",
       "       b&#x27;longitude_deg_e&#x27;, b&#x27;column_liquid_water_path_kg_m02&#x27;,\n",
       "       b&#x27;column_ice_water_path_kg_m02&#x27;], dtype=&#x27;|S35&#x27;)\n",
       "Dimensions without coordinates: scalar_predictor</pre><div class='xr-wrap' hidden><div class='xr-header'><div class='xr-obj-type'>xarray.DataArray</div><div class='xr-array-name'>'scalar_predictor_names'</div><ul class='xr-dim-list'><li><span>scalar_predictor</span>: 6</li></ul></div><ul class='xr-sections'><li class='xr-section-item'><div class='xr-array-wrap'><input id='section-5c1d3f83-6455-4b57-8fbd-2226159987e3' class='xr-array-in' type='checkbox' checked><label for='section-5c1d3f83-6455-4b57-8fbd-2226159987e3' title='Show/hide data repr'><svg class='icon xr-icon-database'><use xlink:href='#icon-database'></use></svg></label><div class='xr-array-preview xr-preview'><span>b&#x27;zenith_angle_radians&#x27; b&#x27;albedo&#x27; ... b&#x27;column_ice_water_path_kg_m02&#x27;</span></div><div class='xr-array-data'><pre>array([b&#x27;zenith_angle_radians&#x27;, b&#x27;albedo&#x27;, b&#x27;latitude_deg_n&#x27;,\n",
       "       b&#x27;longitude_deg_e&#x27;, b&#x27;column_liquid_water_path_kg_m02&#x27;,\n",
       "       b&#x27;column_ice_water_path_kg_m02&#x27;], dtype=&#x27;|S35&#x27;)</pre></div></div></li><li class='xr-section-item'><input id='section-b4290ea3-81a0-4cff-816e-452ddec270c9' class='xr-section-summary-in' type='checkbox' disabled ><label for='section-b4290ea3-81a0-4cff-816e-452ddec270c9' class='xr-section-summary'  title='Expand/collapse section'>Coordinates: <span>(0)</span></label><div class='xr-section-inline-details'></div><div class='xr-section-details'><ul class='xr-var-list'></ul></div></li><li class='xr-section-item'><input id='section-bbc876c6-1df2-4d11-8702-f562c858d942' class='xr-section-summary-in' type='checkbox' disabled ><label for='section-bbc876c6-1df2-4d11-8702-f562c858d942' class='xr-section-summary'  title='Expand/collapse section'>Attributes: <span>(0)</span></label><div class='xr-section-inline-details'></div><div class='xr-section-details'><dl class='xr-attrs'></dl></div></li></ul></div></div>"
      ],
      "text/plain": [
       "<xarray.DataArray 'scalar_predictor_names' (scalar_predictor: 6)>\n",
       "array([b'zenith_angle_radians', b'albedo', b'latitude_deg_n',\n",
       "       b'longitude_deg_e', b'column_liquid_water_path_kg_m02',\n",
       "       b'column_ice_water_path_kg_m02'], dtype='|S35')\n",
       "Dimensions without coordinates: scalar_predictor"
      ]
     },
     "execution_count": 16,
     "metadata": {},
     "output_type": "execute_result"
    }
   ],
   "source": [
    "data2018['scalar_predictor_names']"
   ]
  },
  {
   "cell_type": "code",
   "execution_count": 17,
   "id": "5da7c7fb",
   "metadata": {},
   "outputs": [
    {
     "data": {
      "text/html": [
       "<div><svg style=\"position: absolute; width: 0; height: 0; overflow: hidden\">\n",
       "<defs>\n",
       "<symbol id=\"icon-database\" viewBox=\"0 0 32 32\">\n",
       "<path d=\"M16 0c-8.837 0-16 2.239-16 5v4c0 2.761 7.163 5 16 5s16-2.239 16-5v-4c0-2.761-7.163-5-16-5z\"></path>\n",
       "<path d=\"M16 17c-8.837 0-16-2.239-16-5v6c0 2.761 7.163 5 16 5s16-2.239 16-5v-6c0 2.761-7.163 5-16 5z\"></path>\n",
       "<path d=\"M16 26c-8.837 0-16-2.239-16-5v6c0 2.761 7.163 5 16 5s16-2.239 16-5v-6c0 2.761-7.163 5-16 5z\"></path>\n",
       "</symbol>\n",
       "<symbol id=\"icon-file-text2\" viewBox=\"0 0 32 32\">\n",
       "<path d=\"M28.681 7.159c-0.694-0.947-1.662-2.053-2.724-3.116s-2.169-2.030-3.116-2.724c-1.612-1.182-2.393-1.319-2.841-1.319h-15.5c-1.378 0-2.5 1.121-2.5 2.5v27c0 1.378 1.122 2.5 2.5 2.5h23c1.378 0 2.5-1.122 2.5-2.5v-19.5c0-0.448-0.137-1.23-1.319-2.841zM24.543 5.457c0.959 0.959 1.712 1.825 2.268 2.543h-4.811v-4.811c0.718 0.556 1.584 1.309 2.543 2.268zM28 29.5c0 0.271-0.229 0.5-0.5 0.5h-23c-0.271 0-0.5-0.229-0.5-0.5v-27c0-0.271 0.229-0.5 0.5-0.5 0 0 15.499-0 15.5 0v7c0 0.552 0.448 1 1 1h7v19.5z\"></path>\n",
       "<path d=\"M23 26h-14c-0.552 0-1-0.448-1-1s0.448-1 1-1h14c0.552 0 1 0.448 1 1s-0.448 1-1 1z\"></path>\n",
       "<path d=\"M23 22h-14c-0.552 0-1-0.448-1-1s0.448-1 1-1h14c0.552 0 1 0.448 1 1s-0.448 1-1 1z\"></path>\n",
       "<path d=\"M23 18h-14c-0.552 0-1-0.448-1-1s0.448-1 1-1h14c0.552 0 1 0.448 1 1s-0.448 1-1 1z\"></path>\n",
       "</symbol>\n",
       "</defs>\n",
       "</svg>\n",
       "<style>/* CSS stylesheet for displaying xarray objects in jupyterlab.\n",
       " *\n",
       " */\n",
       "\n",
       ":root {\n",
       "  --xr-font-color0: var(--jp-content-font-color0, rgba(0, 0, 0, 1));\n",
       "  --xr-font-color2: var(--jp-content-font-color2, rgba(0, 0, 0, 0.54));\n",
       "  --xr-font-color3: var(--jp-content-font-color3, rgba(0, 0, 0, 0.38));\n",
       "  --xr-border-color: var(--jp-border-color2, #e0e0e0);\n",
       "  --xr-disabled-color: var(--jp-layout-color3, #bdbdbd);\n",
       "  --xr-background-color: var(--jp-layout-color0, white);\n",
       "  --xr-background-color-row-even: var(--jp-layout-color1, white);\n",
       "  --xr-background-color-row-odd: var(--jp-layout-color2, #eeeeee);\n",
       "}\n",
       "\n",
       "html[theme=dark],\n",
       "body.vscode-dark {\n",
       "  --xr-font-color0: rgba(255, 255, 255, 1);\n",
       "  --xr-font-color2: rgba(255, 255, 255, 0.54);\n",
       "  --xr-font-color3: rgba(255, 255, 255, 0.38);\n",
       "  --xr-border-color: #1F1F1F;\n",
       "  --xr-disabled-color: #515151;\n",
       "  --xr-background-color: #111111;\n",
       "  --xr-background-color-row-even: #111111;\n",
       "  --xr-background-color-row-odd: #313131;\n",
       "}\n",
       "\n",
       ".xr-wrap {\n",
       "  display: block;\n",
       "  min-width: 300px;\n",
       "  max-width: 700px;\n",
       "}\n",
       "\n",
       ".xr-text-repr-fallback {\n",
       "  /* fallback to plain text repr when CSS is not injected (untrusted notebook) */\n",
       "  display: none;\n",
       "}\n",
       "\n",
       ".xr-header {\n",
       "  padding-top: 6px;\n",
       "  padding-bottom: 6px;\n",
       "  margin-bottom: 4px;\n",
       "  border-bottom: solid 1px var(--xr-border-color);\n",
       "}\n",
       "\n",
       ".xr-header > div,\n",
       ".xr-header > ul {\n",
       "  display: inline;\n",
       "  margin-top: 0;\n",
       "  margin-bottom: 0;\n",
       "}\n",
       "\n",
       ".xr-obj-type,\n",
       ".xr-array-name {\n",
       "  margin-left: 2px;\n",
       "  margin-right: 10px;\n",
       "}\n",
       "\n",
       ".xr-obj-type {\n",
       "  color: var(--xr-font-color2);\n",
       "}\n",
       "\n",
       ".xr-sections {\n",
       "  padding-left: 0 !important;\n",
       "  display: grid;\n",
       "  grid-template-columns: 150px auto auto 1fr 20px 20px;\n",
       "}\n",
       "\n",
       ".xr-section-item {\n",
       "  display: contents;\n",
       "}\n",
       "\n",
       ".xr-section-item input {\n",
       "  display: none;\n",
       "}\n",
       "\n",
       ".xr-section-item input + label {\n",
       "  color: var(--xr-disabled-color);\n",
       "}\n",
       "\n",
       ".xr-section-item input:enabled + label {\n",
       "  cursor: pointer;\n",
       "  color: var(--xr-font-color2);\n",
       "}\n",
       "\n",
       ".xr-section-item input:enabled + label:hover {\n",
       "  color: var(--xr-font-color0);\n",
       "}\n",
       "\n",
       ".xr-section-summary {\n",
       "  grid-column: 1;\n",
       "  color: var(--xr-font-color2);\n",
       "  font-weight: 500;\n",
       "}\n",
       "\n",
       ".xr-section-summary > span {\n",
       "  display: inline-block;\n",
       "  padding-left: 0.5em;\n",
       "}\n",
       "\n",
       ".xr-section-summary-in:disabled + label {\n",
       "  color: var(--xr-font-color2);\n",
       "}\n",
       "\n",
       ".xr-section-summary-in + label:before {\n",
       "  display: inline-block;\n",
       "  content: '►';\n",
       "  font-size: 11px;\n",
       "  width: 15px;\n",
       "  text-align: center;\n",
       "}\n",
       "\n",
       ".xr-section-summary-in:disabled + label:before {\n",
       "  color: var(--xr-disabled-color);\n",
       "}\n",
       "\n",
       ".xr-section-summary-in:checked + label:before {\n",
       "  content: '▼';\n",
       "}\n",
       "\n",
       ".xr-section-summary-in:checked + label > span {\n",
       "  display: none;\n",
       "}\n",
       "\n",
       ".xr-section-summary,\n",
       ".xr-section-inline-details {\n",
       "  padding-top: 4px;\n",
       "  padding-bottom: 4px;\n",
       "}\n",
       "\n",
       ".xr-section-inline-details {\n",
       "  grid-column: 2 / -1;\n",
       "}\n",
       "\n",
       ".xr-section-details {\n",
       "  display: none;\n",
       "  grid-column: 1 / -1;\n",
       "  margin-bottom: 5px;\n",
       "}\n",
       "\n",
       ".xr-section-summary-in:checked ~ .xr-section-details {\n",
       "  display: contents;\n",
       "}\n",
       "\n",
       ".xr-array-wrap {\n",
       "  grid-column: 1 / -1;\n",
       "  display: grid;\n",
       "  grid-template-columns: 20px auto;\n",
       "}\n",
       "\n",
       ".xr-array-wrap > label {\n",
       "  grid-column: 1;\n",
       "  vertical-align: top;\n",
       "}\n",
       "\n",
       ".xr-preview {\n",
       "  color: var(--xr-font-color3);\n",
       "}\n",
       "\n",
       ".xr-array-preview,\n",
       ".xr-array-data {\n",
       "  padding: 0 5px !important;\n",
       "  grid-column: 2;\n",
       "}\n",
       "\n",
       ".xr-array-data,\n",
       ".xr-array-in:checked ~ .xr-array-preview {\n",
       "  display: none;\n",
       "}\n",
       "\n",
       ".xr-array-in:checked ~ .xr-array-data,\n",
       ".xr-array-preview {\n",
       "  display: inline-block;\n",
       "}\n",
       "\n",
       ".xr-dim-list {\n",
       "  display: inline-block !important;\n",
       "  list-style: none;\n",
       "  padding: 0 !important;\n",
       "  margin: 0;\n",
       "}\n",
       "\n",
       ".xr-dim-list li {\n",
       "  display: inline-block;\n",
       "  padding: 0;\n",
       "  margin: 0;\n",
       "}\n",
       "\n",
       ".xr-dim-list:before {\n",
       "  content: '(';\n",
       "}\n",
       "\n",
       ".xr-dim-list:after {\n",
       "  content: ')';\n",
       "}\n",
       "\n",
       ".xr-dim-list li:not(:last-child):after {\n",
       "  content: ',';\n",
       "  padding-right: 5px;\n",
       "}\n",
       "\n",
       ".xr-has-index {\n",
       "  font-weight: bold;\n",
       "}\n",
       "\n",
       ".xr-var-list,\n",
       ".xr-var-item {\n",
       "  display: contents;\n",
       "}\n",
       "\n",
       ".xr-var-item > div,\n",
       ".xr-var-item label,\n",
       ".xr-var-item > .xr-var-name span {\n",
       "  background-color: var(--xr-background-color-row-even);\n",
       "  margin-bottom: 0;\n",
       "}\n",
       "\n",
       ".xr-var-item > .xr-var-name:hover span {\n",
       "  padding-right: 5px;\n",
       "}\n",
       "\n",
       ".xr-var-list > li:nth-child(odd) > div,\n",
       ".xr-var-list > li:nth-child(odd) > label,\n",
       ".xr-var-list > li:nth-child(odd) > .xr-var-name span {\n",
       "  background-color: var(--xr-background-color-row-odd);\n",
       "}\n",
       "\n",
       ".xr-var-name {\n",
       "  grid-column: 1;\n",
       "}\n",
       "\n",
       ".xr-var-dims {\n",
       "  grid-column: 2;\n",
       "}\n",
       "\n",
       ".xr-var-dtype {\n",
       "  grid-column: 3;\n",
       "  text-align: right;\n",
       "  color: var(--xr-font-color2);\n",
       "}\n",
       "\n",
       ".xr-var-preview {\n",
       "  grid-column: 4;\n",
       "}\n",
       "\n",
       ".xr-var-name,\n",
       ".xr-var-dims,\n",
       ".xr-var-dtype,\n",
       ".xr-preview,\n",
       ".xr-attrs dt {\n",
       "  white-space: nowrap;\n",
       "  overflow: hidden;\n",
       "  text-overflow: ellipsis;\n",
       "  padding-right: 10px;\n",
       "}\n",
       "\n",
       ".xr-var-name:hover,\n",
       ".xr-var-dims:hover,\n",
       ".xr-var-dtype:hover,\n",
       ".xr-attrs dt:hover {\n",
       "  overflow: visible;\n",
       "  width: auto;\n",
       "  z-index: 1;\n",
       "}\n",
       "\n",
       ".xr-var-attrs,\n",
       ".xr-var-data {\n",
       "  display: none;\n",
       "  background-color: var(--xr-background-color) !important;\n",
       "  padding-bottom: 5px !important;\n",
       "}\n",
       "\n",
       ".xr-var-attrs-in:checked ~ .xr-var-attrs,\n",
       ".xr-var-data-in:checked ~ .xr-var-data {\n",
       "  display: block;\n",
       "}\n",
       "\n",
       ".xr-var-data > table {\n",
       "  float: right;\n",
       "}\n",
       "\n",
       ".xr-var-name span,\n",
       ".xr-var-data,\n",
       ".xr-attrs {\n",
       "  padding-left: 25px !important;\n",
       "}\n",
       "\n",
       ".xr-attrs,\n",
       ".xr-var-attrs,\n",
       ".xr-var-data {\n",
       "  grid-column: 1 / -1;\n",
       "}\n",
       "\n",
       "dl.xr-attrs {\n",
       "  padding: 0;\n",
       "  margin: 0;\n",
       "  display: grid;\n",
       "  grid-template-columns: 125px auto;\n",
       "}\n",
       "\n",
       ".xr-attrs dt,\n",
       ".xr-attrs dd {\n",
       "  padding: 0;\n",
       "  margin: 0;\n",
       "  float: left;\n",
       "  padding-right: 10px;\n",
       "  width: auto;\n",
       "}\n",
       "\n",
       ".xr-attrs dt {\n",
       "  font-weight: normal;\n",
       "  grid-column: 1;\n",
       "}\n",
       "\n",
       ".xr-attrs dt:hover span {\n",
       "  display: inline-block;\n",
       "  background: var(--xr-background-color);\n",
       "  padding-right: 10px;\n",
       "}\n",
       "\n",
       ".xr-attrs dd {\n",
       "  grid-column: 2;\n",
       "  white-space: pre-wrap;\n",
       "  word-break: break-all;\n",
       "}\n",
       "\n",
       ".xr-icon-database,\n",
       ".xr-icon-file-text2 {\n",
       "  display: inline-block;\n",
       "  vertical-align: middle;\n",
       "  width: 1em;\n",
       "  height: 1.5em !important;\n",
       "  stroke-width: 0;\n",
       "  stroke: currentColor;\n",
       "  fill: currentColor;\n",
       "}\n",
       "</style><pre class='xr-text-repr-fallback'>&lt;xarray.DataArray &#x27;vector_predictor_names&#x27; (vector_predictor: 12)&gt;\n",
       "array([b&#x27;pressure_pascals&#x27;, b&#x27;temperature_kelvins&#x27;,\n",
       "       b&#x27;specific_humidity_kg_kg01&#x27;, b&#x27;liquid_water_content_kg_m03&#x27;,\n",
       "       b&#x27;ice_water_content_kg_m03&#x27;, b&#x27;liquid_water_path_kg_m02&#x27;,\n",
       "       b&#x27;ice_water_path_kg_m02&#x27;, b&#x27;vapour_path_kg_m02&#x27;,\n",
       "       b&#x27;upward_liquid_water_path_kg_m02&#x27;, b&#x27;upward_ice_water_path_kg_m02&#x27;,\n",
       "       b&#x27;upward_vapour_path_kg_m02&#x27;, b&#x27;relative_humidity_unitless&#x27;],\n",
       "      dtype=&#x27;|S35&#x27;)\n",
       "Dimensions without coordinates: vector_predictor</pre><div class='xr-wrap' hidden><div class='xr-header'><div class='xr-obj-type'>xarray.DataArray</div><div class='xr-array-name'>'vector_predictor_names'</div><ul class='xr-dim-list'><li><span>vector_predictor</span>: 12</li></ul></div><ul class='xr-sections'><li class='xr-section-item'><div class='xr-array-wrap'><input id='section-6825027f-d36d-48b2-9fbc-ab783addb238' class='xr-array-in' type='checkbox' checked><label for='section-6825027f-d36d-48b2-9fbc-ab783addb238' title='Show/hide data repr'><svg class='icon xr-icon-database'><use xlink:href='#icon-database'></use></svg></label><div class='xr-array-preview xr-preview'><span>b&#x27;pressure_pascals&#x27; ... b&#x27;relative_humidity_unitless&#x27;</span></div><div class='xr-array-data'><pre>array([b&#x27;pressure_pascals&#x27;, b&#x27;temperature_kelvins&#x27;,\n",
       "       b&#x27;specific_humidity_kg_kg01&#x27;, b&#x27;liquid_water_content_kg_m03&#x27;,\n",
       "       b&#x27;ice_water_content_kg_m03&#x27;, b&#x27;liquid_water_path_kg_m02&#x27;,\n",
       "       b&#x27;ice_water_path_kg_m02&#x27;, b&#x27;vapour_path_kg_m02&#x27;,\n",
       "       b&#x27;upward_liquid_water_path_kg_m02&#x27;, b&#x27;upward_ice_water_path_kg_m02&#x27;,\n",
       "       b&#x27;upward_vapour_path_kg_m02&#x27;, b&#x27;relative_humidity_unitless&#x27;],\n",
       "      dtype=&#x27;|S35&#x27;)</pre></div></div></li><li class='xr-section-item'><input id='section-5a09f0d8-6a86-42bf-80a4-7367de605351' class='xr-section-summary-in' type='checkbox' disabled ><label for='section-5a09f0d8-6a86-42bf-80a4-7367de605351' class='xr-section-summary'  title='Expand/collapse section'>Coordinates: <span>(0)</span></label><div class='xr-section-inline-details'></div><div class='xr-section-details'><ul class='xr-var-list'></ul></div></li><li class='xr-section-item'><input id='section-9e5c0e8c-632b-4ea9-9233-efd6614bd06e' class='xr-section-summary-in' type='checkbox' disabled ><label for='section-9e5c0e8c-632b-4ea9-9233-efd6614bd06e' class='xr-section-summary'  title='Expand/collapse section'>Attributes: <span>(0)</span></label><div class='xr-section-inline-details'></div><div class='xr-section-details'><dl class='xr-attrs'></dl></div></li></ul></div></div>"
      ],
      "text/plain": [
       "<xarray.DataArray 'vector_predictor_names' (vector_predictor: 12)>\n",
       "array([b'pressure_pascals', b'temperature_kelvins',\n",
       "       b'specific_humidity_kg_kg01', b'liquid_water_content_kg_m03',\n",
       "       b'ice_water_content_kg_m03', b'liquid_water_path_kg_m02',\n",
       "       b'ice_water_path_kg_m02', b'vapour_path_kg_m02',\n",
       "       b'upward_liquid_water_path_kg_m02', b'upward_ice_water_path_kg_m02',\n",
       "       b'upward_vapour_path_kg_m02', b'relative_humidity_unitless'],\n",
       "      dtype='|S35')\n",
       "Dimensions without coordinates: vector_predictor"
      ]
     },
     "execution_count": 17,
     "metadata": {},
     "output_type": "execute_result"
    }
   ],
   "source": [
    "data2018['vector_predictor_names']"
   ]
  },
  {
   "cell_type": "code",
   "execution_count": 18,
   "id": "27336dba",
   "metadata": {},
   "outputs": [
    {
     "data": {
      "text/plain": [
       "(898025, 73, 12)"
      ]
     },
     "execution_count": 18,
     "metadata": {},
     "output_type": "execute_result"
    }
   ],
   "source": [
    "data2018['vector_predictor_matrix'].shape"
   ]
  },
  {
   "cell_type": "code",
   "execution_count": 19,
   "id": "4f51055a",
   "metadata": {},
   "outputs": [],
   "source": [
    "pload = data2018['vector_predictor_matrix'][:,:,0].values\n",
    "pmean = np.mean(pload,axis=0)"
   ]
  },
  {
   "cell_type": "code",
   "execution_count": 20,
   "id": "e8244fcd",
   "metadata": {},
   "outputs": [
    {
     "data": {
      "text/plain": [
       "(898025, 2)"
      ]
     },
     "execution_count": 20,
     "metadata": {},
     "output_type": "execute_result"
    }
   ],
   "source": [
    "data2018['scalar_target_matrix'].shape"
   ]
  },
  {
   "cell_type": "code",
   "execution_count": 21,
   "id": "03bcb259",
   "metadata": {},
   "outputs": [
    {
     "data": {
      "text/plain": [
       "Text(0.5, 0, 'TOA SW upwards flux (W/m2)')"
      ]
     },
     "execution_count": 21,
     "metadata": {},
     "output_type": "execute_result"
    },
    {
     "data": {
      "image/png": "[encoded data removed]",
      "text/plain": [
       "<Figure size 432x288 with 1 Axes>"
      ]
     },
     "metadata": {
      "needs_background": "light"
     },
     "output_type": "display_data"
    }
   ],
   "source": [
    "plt.hist(data2018['scalar_target_matrix'][:,1].values.flatten(),bins=100);\n",
    "plt.xlabel('TOA SW upwards flux (W/m2)')"
   ]
  },
  {
   "cell_type": "code",
   "execution_count": 22,
   "id": "709e8811",
   "metadata": {},
   "outputs": [
    {
     "data": {
      "text/plain": [
       "(898025, 73, 5)"
      ]
     },
     "execution_count": 22,
     "metadata": {},
     "output_type": "execute_result"
    }
   ],
   "source": [
    "data2018['vector_target_matrix'].shape"
   ]
  },
  {
   "cell_type": "code",
   "execution_count": 23,
   "id": "4d9a4659",
   "metadata": {},
   "outputs": [
    {
     "data": {
      "text/plain": [
       "Text(0.5, 0, 'TOA SW downwards flux (W/m2)')"
      ]
     },
     "execution_count": 23,
     "metadata": {},
     "output_type": "execute_result"
    },
    {
     "data": {
      "image/png": "[encoded data removed]",
      "text/plain": [
       "<Figure size 432x288 with 1 Axes>"
      ]
     },
     "metadata": {
      "needs_background": "light"
     },
     "output_type": "display_data"
    }
   ],
   "source": [
    "plt.hist(data2018['vector_target_matrix'][:,-1,0].values.flatten(),bins=100);\n",
    "plt.xlabel('TOA SW downwards flux (W/m2)')"
   ]
  },
  {
   "cell_type": "code",
   "execution_count": 24,
   "id": "3a5a9fba",
   "metadata": {},
   "outputs": [],
   "source": [
    "FSWnet_downwards = (data2018['vector_target_matrix'][:,:,0]-data2018['vector_target_matrix'][:,:,1]).values"
   ]
  },
  {
   "cell_type": "code",
   "execution_count": 25,
   "id": "a53657c4",
   "metadata": {},
   "outputs": [
    {
     "data": {
      "text/plain": [
       "(898025, 73)"
      ]
     },
     "execution_count": 25,
     "metadata": {},
     "output_type": "execute_result"
    }
   ],
   "source": [
    "FSWnet_downwards.shape"
   ]
  },
  {
   "cell_type": "code",
   "execution_count": 26,
   "id": "af0e55a8",
   "metadata": {},
   "outputs": [],
   "source": [
    "FSWnet_down_mean = np.mean(FSWnet_downwards,axis=0)\n",
    "FSWnet_25 = np.percentile(a=FSWnet_downwards,q=25,axis=0)\n",
    "FSWnet_75 = np.percentile(a=FSWnet_downwards,q=75,axis=0)\n",
    "FSWnet_1 = np.percentile(a=FSWnet_downwards,q=1,axis=0)\n",
    "FSWnet_99 = np.percentile(a=FSWnet_downwards,q=99,axis=0)"
   ]
  },
  {
   "cell_type": "code",
   "execution_count": 27,
   "id": "465a1d41",
   "metadata": {},
   "outputs": [
    {
     "data": {
      "image/png": "[encoded data removed]",
      "text/plain": [
       "<Figure size 432x288 with 1 Axes>"
      ]
     },
     "metadata": {
      "needs_background": "light"
     },
     "output_type": "display_data"
    }
   ],
   "source": [
    "plt.plot(FSWnet_down_mean,pmean,color='k')\n",
    "plt.fill_betweenx(y=pmean,x1=FSWnet_1,x2=FSWnet_99,alpha=0.25)\n",
    "plt.fill_betweenx(y=pmean,x1=FSWnet_25,x2=FSWnet_75,alpha=0.5)\n",
    "plt.gca().invert_yaxis()\n",
    "plt.grid()\n",
    "plt.xlabel('FSWnet (W/m2)');\n",
    "plt.ylabel('Pressure [Pa]');"
   ]
  },
  {
   "cell_type": "code",
   "execution_count": 28,
   "id": "1a836539",
   "metadata": {},
   "outputs": [
    {
     "data": {
      "text/plain": [
       "Text(0.5, 0, 'Fnet/(Fnet at TOA)')"
      ]
     },
     "execution_count": 28,
     "metadata": {},
     "output_type": "execute_result"
    },
    {
     "data": {
      "image/png": "[encoded data removed]",
      "text/plain": [
       "<Figure size 432x288 with 1 Axes>"
      ]
     },
     "metadata": {
      "needs_background": "light"
     },
     "output_type": "display_data"
    }
   ],
   "source": [
    "plt.hist((FSWnet_downwards/np.expand_dims(FSWnet_downwards[:,-1],axis=1)).flatten(),bins=100);\n",
    "plt.xlabel('Fnet/(Fnet at TOA)')"
   ]
  },
  {
   "cell_type": "markdown",
   "id": "6b66722b",
   "metadata": {},
   "source": [
    "x = [Fnet_top,zenith_angle,p,qv,ql,qi] of length 294  \n",
    "y = [Fnet] of length 72"
   ]
  },
  {
   "cell_type": "code",
   "execution_count": 29,
   "id": "c1c23138",
   "metadata": {},
   "outputs": [],
   "source": [
    "zen_angle = data2018['scalar_predictor_matrix'][:,0].values"
   ]
  },
  {
   "cell_type": "code",
   "execution_count": 30,
   "id": "9ff3378b",
   "metadata": {},
   "outputs": [
    {
     "data": {
      "text/plain": [
       "Text(0.5, 0, 'Zenith Angle (rad)')"
      ]
     },
     "execution_count": 30,
     "metadata": {},
     "output_type": "execute_result"
    },
    {
     "data": {
      "image/png": "[encoded data removed]",
      "text/plain": [
       "<Figure size 432x288 with 1 Axes>"
      ]
     },
     "metadata": {
      "needs_background": "light"
     },
     "output_type": "display_data"
    }
   ],
   "source": [
    "plt.hist(zen_angle.flatten(),bins=100)\n",
    "plt.xlabel('Zenith Angle (rad)')"
   ]
  },
  {
   "cell_type": "code",
   "execution_count": 31,
   "id": "32206b68",
   "metadata": {},
   "outputs": [
    {
     "data": {
      "text/plain": [
       "(898025, 73)"
      ]
     },
     "execution_count": 31,
     "metadata": {},
     "output_type": "execute_result"
    }
   ],
   "source": [
    "pload.shape"
   ]
  },
  {
   "cell_type": "code",
   "execution_count": 32,
   "id": "04172d6d",
   "metadata": {},
   "outputs": [],
   "source": [
    "qvload = data2018['vector_predictor_matrix'][:,:,2].values\n",
    "qlload = data2018['vector_predictor_matrix'][:,:,3].values\n",
    "qiload = data2018['vector_predictor_matrix'][:,:,4].values"
   ]
  },
  {
   "cell_type": "code",
   "execution_count": 33,
   "id": "c06ba92c",
   "metadata": {},
   "outputs": [
    {
     "data": {
      "image/png": "[encoded data removed]",
      "text/plain": [
       "<Figure size 1080x360 with 3 Axes>"
      ]
     },
     "metadata": {
      "needs_background": "light"
     },
     "output_type": "display_data"
    }
   ],
   "source": [
    "fig,ax = plt.subplots(1,3,figsize=(15,5))\n",
    "\n",
    "ax[0].plot(np.mean(qvload,axis=0),pmean)\n",
    "ax[0].invert_yaxis()\n",
    "\n",
    "ax[1].plot(np.mean(qlload,axis=0),pmean)\n",
    "ax[1].invert_yaxis()\n",
    "\n",
    "ax[2].plot(np.mean(qiload,axis=0),pmean)\n",
    "ax[2].invert_yaxis()"
   ]
  },
  {
   "cell_type": "code",
   "execution_count": 34,
   "id": "5e548ac3",
   "metadata": {},
   "outputs": [
    {
     "data": {
      "text/plain": [
       "(0.0, 100.0)"
      ]
     },
     "execution_count": 34,
     "metadata": {},
     "output_type": "execute_result"
    },
    {
     "data": {
      "image/png": "[encoded data removed]",
      "text/plain": [
       "<Figure size 1080x360 with 3 Axes>"
      ]
     },
     "metadata": {
      "needs_background": "light"
     },
     "output_type": "display_data"
    }
   ],
   "source": [
    "fig,ax = plt.subplots(1,3,figsize=(15,5))\n",
    "\n",
    "ax[0].hist(qvload.flatten(),bins=100)\n",
    "ax[0].set_xlabel('Specific humidity (kg/kg)')\n",
    "ax[0].set_ylim((0,5e6))\n",
    "\n",
    "ax[1].hist(qlload.flatten(),bins=100)\n",
    "ax[1].set_xlabel('Liquid mass concentration (kg/kg)')\n",
    "ax[1].set_ylim((0,1e4))\n",
    "\n",
    "ax[2].hist(qiload.flatten(),bins=100)\n",
    "ax[2].set_xlabel('Ice concentration (kg/kg)')\n",
    "ax[2].set_ylim((0,1e2))"
   ]
  },
  {
   "cell_type": "markdown",
   "id": "49be6e09",
   "metadata": {},
   "source": [
    "x = [Fnet_top,zenith_angle,p,qv,ql,qi] of length 294  \n",
    "y = [Fnet] of length 72"
   ]
  },
  {
   "cell_type": "code",
   "execution_count": 35,
   "id": "d0d94833",
   "metadata": {},
   "outputs": [],
   "source": [
    "x = np.concatenate((\n",
    "    np.expand_dims(FSWnet_downwards[:,-1],axis=1),\n",
    "    np.expand_dims(zen_angle,axis=1),\n",
    "    pload,\n",
    "    qvload,\n",
    "    qlload,\n",
    "    qiload),\n",
    "    axis=1\n",
    ")"
   ]
  },
  {
   "cell_type": "code",
   "execution_count": 36,
   "id": "a4a06060",
   "metadata": {},
   "outputs": [
    {
     "data": {
      "text/plain": [
       "(898025, 294)"
      ]
     },
     "execution_count": 36,
     "metadata": {},
     "output_type": "execute_result"
    }
   ],
   "source": [
    "x.shape"
   ]
  },
  {
   "cell_type": "code",
   "execution_count": 37,
   "id": "13fcb09a",
   "metadata": {},
   "outputs": [],
   "source": [
    "y = FSWnet_downwards[:,]"
   ]
  },
  {
   "cell_type": "code",
   "execution_count": 38,
   "id": "48d88bd1",
   "metadata": {},
   "outputs": [
    {
     "data": {
      "text/plain": [
       "(898025, 73)"
      ]
     },
     "execution_count": 38,
     "metadata": {},
     "output_type": "execute_result"
    }
   ],
   "source": [
    "y.shape"
   ]
  },
  {
   "cell_type": "markdown",
   "id": "702f5382",
   "metadata": {},
   "source": [
    "## Create custom keras/tf model"
   ]
  },
  {
   "cell_type": "code",
   "execution_count": 115,
   "id": "806e2a75",
   "metadata": {},
   "outputs": [],
   "source": [
    "class Absorb_Layer(tf.keras.layers.Layer):\n",
    "    \"\"\"y = sum(w.q) + b\"\"\"\n",
    "\n",
    "    def __init__(self, input_dim=73, fac_qv=1e3, fac_ql=1e6, fac_qi=1e6, **kwargs):\n",
    "        super(Absorb_Layer, self).__init__()\n",
    "        # Assign attributes\n",
    "        self.input_dim, self.fac_qv, self.fac_ql, self.fac_qi = \\\n",
    "        np.array(input_dim), np.array(fac_qv), np.array(fac_ql), np.array(fac_qi)\n",
    "        # Random weights initialization and definition for absorption\n",
    "        k_init = tf.zeros_initializer()\n",
    "        self.k = tf.Variable(\n",
    "            initial_value=k_init(shape=(3,), dtype=\"float32\"),\n",
    "            trainable=True,\n",
    "            constraint=lambda z: tf.clip_by_value(z, 0, np.infty),\n",
    "            name='k'\n",
    "        )\n",
    "        k0_init = tf.zeros_initializer()\n",
    "        self.k0 = tf.Variable(\n",
    "            initial_value=k0_init(shape=(1,), dtype=\"float32\"), trainable=True,\n",
    "            constraint=lambda z: tf.clip_by_value(z, 0, np.infty),\n",
    "            name='k0'\n",
    "        )\n",
    "        # Hardcode indices for now\n",
    "        self.QV_i = slice(75,148)\n",
    "        self.QL_i = slice(148,221)\n",
    "        self.QI_i = slice(221,294)\n",
    "        super().__init__(**kwargs)\n",
    "    \n",
    "    def build(self, input_shape):\n",
    "        super().build(input_shape)\n",
    "    \n",
    "    def get_config(self):\n",
    "        config = {'input_dim': self.input_dim, \n",
    "                  'fac_qv': self.fac_qv,\n",
    "                  'fac_ql': self.fac_ql, \n",
    "                  'fac_qi': self.fac_qi}\n",
    "        base_config = super().get_config()\n",
    "        return dict(list(base_config.items()) + list(config.items()))\n",
    "    \n",
    "    def call(self, arrs):\n",
    "        \n",
    "        inp = arrs[0]\n",
    "        \n",
    "        # 1. Extract QV/QL/QI separately\n",
    "        qv = inp[:,self.QV_i]\n",
    "        ql = inp[:,self.QL_i]\n",
    "        qi = inp[:,self.QI_i]\n",
    "\n",
    "        # 2. Multiply each one by individual weight and sum it all\n",
    "        absorb = self.k[0]*self.fac_qv*qv + self.k[1]*self.fac_ql*ql + \\\n",
    "        self.k[2]*self.fac_qi*qi + self.k0 \n",
    "        \n",
    "        return absorb\n",
    "\n",
    "    def compute_output_shape(self, input_shape):\n",
    "        \"It's a simple sum at each level so shape 73\"\n",
    "        return (input_shape[0][0], 73)"
   ]
  },
  {
   "cell_type": "code",
   "execution_count": 116,
   "id": "64ce7c2a",
   "metadata": {},
   "outputs": [],
   "source": [
    "class Optical_Thickness(tf.keras.layers.Layer):\n",
    "    \"\"\"y = sum(w.q) + b\"\"\"\n",
    "\n",
    "    def __init__(self, input_dim=73, epsilon=1e-2, **kwargs):\n",
    "        super(Optical_Thickness, self).__init__()\n",
    "        # Assign attributes\n",
    "        self.input_dim, self.epsilon = \\\n",
    "        np.array(input_dim), np.array(np.float32(epsilon))\n",
    "        # Random weights initialization and definition for pressure broadening\n",
    "#         pbp_init = tf.zeros_initializer()\n",
    "#         self.pbp = tf.Variable(\n",
    "#             initial_value=pbp_init(shape=(1,), dtype=\"float32\"),\n",
    "#             trainable=True,\n",
    "#             constraint=lambda z: tf.clip_by_value(z, 0, np.infty),\n",
    "#             name='pbp'\n",
    "#         )\n",
    "#         k1_init = tf.zeros_initializer()\n",
    "#         self.k1 = tf.Variable(\n",
    "#             initial_value=k1_init(shape=(1,), dtype=\"float32\"), trainable=True,\n",
    "#             constraint=lambda z: tf.clip_by_value(z, 0, np.infty),\n",
    "#             name='k1'\n",
    "#         )\n",
    "        \n",
    "        # Hardcode indices for now\n",
    "        self.zen_ang_i = 1\n",
    "        self.P_i = slice(2,75)\n",
    "        self.PS_i = 2\n",
    "        self.D = 1\n",
    "        self.G = 9.81\n",
    "        self.dPend = slice(0,72)\n",
    "        self.dPbeg = slice(1,73)\n",
    "        super().__init__(**kwargs)\n",
    "    \n",
    "    def build(self, input_shape):\n",
    "        super().build(input_shape)\n",
    "        \n",
    "    def get_config(self):\n",
    "        config = {'input_dim': self.input_dim, \n",
    "                  'epsilon': self.epsilon}\n",
    "        base_config = super().get_config()\n",
    "        return dict(list(base_config.items()) + list(config.items()))\n",
    "    \n",
    "    def call(self, arrs):\n",
    "        \n",
    "        inp,absorb = arrs\n",
    "        \n",
    "        # 1. Extract P, PS, and zenith angle\n",
    "        p = inp[:,self.P_i]\n",
    "        ps = inp[:,self.PS_i]\n",
    "        za = inp[:,self.zen_ang_i]\n",
    "        \n",
    "        # 2. Form pressure broadening\n",
    "        #pb = (p/ps[:,None])**(self.pbp*self.fac_pbp)\n",
    "        \n",
    "        # 3. Form integrand\n",
    "        #pb *= self.D/self.G # Multiply by D/G constant\n",
    "        #pb *= absorb # Multiply by total absorption\n",
    "        #pb += self.k1 # Add absorption by other gas\n",
    "        pb = absorb/(self.G*\\\n",
    "                     tf.math.maximum(self.epsilon,tf.math.cos(za[:,None])))\n",
    "        \n",
    "        # 4. Vertically integrate from top (last index) to level p\n",
    "        dP = p[:,self.dPend] - p[:,self.dPbeg]\n",
    "        integrand = 0.5*(pb[:,self.dPend] + pb[:,self.dPbeg])\n",
    "        integrand = tf.reverse(integrand,axis=[1])\n",
    "        integral = tf.math.cumsum(integrand,axis=1)\n",
    "        integral = tf.reverse(integral,axis=[1])\n",
    "        integral = tf.concat([integral,0*ps[:,None]],axis=1)\n",
    "        \n",
    "        return integral\n",
    "\n",
    "    def compute_output_shape(self, input_shape):\n",
    "        \"It's a simple sum at each level so shape 73\"\n",
    "        return (input_shape[0][0], 73)"
   ]
  },
  {
   "cell_type": "code",
   "execution_count": 117,
   "id": "a61b118e",
   "metadata": {},
   "outputs": [],
   "source": [
    "class Absorb_Flux(tf.keras.layers.Layer):\n",
    "    \"\"\"y = sum(w.q) + b\"\"\"\n",
    "\n",
    "    def __init__(self, input_dim=73,**kwargs):\n",
    "        super(Absorb_Flux, self).__init__()\n",
    "        # Attributes\n",
    "        self.input_dim = input_dim\n",
    "        # Hardcode indices for now\n",
    "        self.F_TOA = 0\n",
    "        super().__init__(**kwargs)\n",
    "    \n",
    "    def build(self, input_shape):\n",
    "        super().build(input_shape)\n",
    "        \n",
    "    def get_config(self):\n",
    "        config = {'input_dim': self.input_dim}\n",
    "        base_config = super().get_config()\n",
    "        return dict(list(base_config.items()) + list(config.items()))\n",
    "    \n",
    "    def call(self, arrs):\n",
    "        \n",
    "        inp,optthi = arrs\n",
    "        \n",
    "        # 1. Take exponential\n",
    "        decay = tf.math.exp(-optthi)\n",
    "        \n",
    "        # 2. Extract TOA flux\n",
    "        F_TOA = inp[:,self.F_TOA]\n",
    "        \n",
    "        # 2. Multiply by TOA flux\n",
    "        fnet = decay*F_TOA[:,None]\n",
    "        \n",
    "        return fnet\n",
    "\n",
    "    def compute_output_shape(self, input_shape):\n",
    "        \"It's a simple sum at each level so shape 73\"\n",
    "        return (input_shape[0][0], 73)"
   ]
  },
  {
   "cell_type": "markdown",
   "id": "1a55a627",
   "metadata": {},
   "source": [
    "## Train model"
   ]
  },
  {
   "cell_type": "code",
   "execution_count": 118,
   "id": "72d6478a",
   "metadata": {},
   "outputs": [],
   "source": [
    "inp = K.Input(shape=(294,))\n",
    "absorb = Absorb_Layer()([inp])\n",
    "optthi = Optical_Thickness()([inp,absorb])\n",
    "flux = Absorb_Flux()([inp,optthi])\n",
    "model = tf.keras.models.Model(inp,flux)"
   ]
  },
  {
   "cell_type": "code",
   "execution_count": 119,
   "id": "7250ec96",
   "metadata": {},
   "outputs": [],
   "source": [
    "model.compile(optimizer='Adam',loss='mse')"
   ]
  },
  {
   "cell_type": "code",
   "execution_count": 120,
   "id": "b695fd90",
   "metadata": {},
   "outputs": [
    {
     "name": "stdout",
     "output_type": "stream",
     "text": [
      "Epoch 1/10\n",
      "1754/1754 [==============================] - 4s 2ms/step - loss: 935.4521\n",
      "Epoch 2/10\n",
      "1754/1754 [==============================] - 4s 2ms/step - loss: 912.9331\n",
      "Epoch 3/10\n",
      "1754/1754 [==============================] - 4s 2ms/step - loss: 913.4922\n",
      "Epoch 4/10\n",
      "1754/1754 [==============================] - 4s 2ms/step - loss: 914.2753\n",
      "Epoch 5/10\n",
      "1754/1754 [==============================] - 4s 2ms/step - loss: 914.4852\n",
      "Epoch 6/10\n",
      "1754/1754 [==============================] - 4s 2ms/step - loss: 914.3654\n",
      "Epoch 7/10\n",
      "1754/1754 [==============================] - 4s 2ms/step - loss: 914.4053\n",
      "Epoch 8/10\n",
      "1754/1754 [==============================] - 4s 2ms/step - loss: 914.3510\n",
      "Epoch 9/10\n",
      "1754/1754 [==============================] - 4s 2ms/step - loss: 914.4291\n",
      "Epoch 10/10\n",
      "1754/1754 [==============================] - 4s 2ms/step - loss: 914.3596\n"
     ]
    }
   ],
   "source": [
    "history = model.fit(x,y,epochs=10,batch_size=512)"
   ]
  },
  {
   "cell_type": "code",
   "execution_count": 121,
   "id": "7ddb4c2c",
   "metadata": {},
   "outputs": [],
   "source": [
    "path_HDF5 = '/work/FAC/FGSE/IDYST/tbeucler/default/tbeucler/HDF5_DATA/ml4rt/'"
   ]
  },
  {
   "cell_type": "code",
   "execution_count": 122,
   "id": "b4fb88d3",
   "metadata": {},
   "outputs": [],
   "source": [
    "model.save(path_HDF5+'2021_10_21_SW_abs.hdf5')"
   ]
  },
  {
   "cell_type": "code",
   "execution_count": 123,
   "id": "36b62151",
   "metadata": {},
   "outputs": [],
   "source": [
    "dict_lay = {'Absorb_Layer':Absorb_Layer,'Optical_Thickness':Optical_Thickness,'Absorb_Flux':Absorb_Flux}"
   ]
  },
  {
   "cell_type": "code",
   "execution_count": 124,
   "id": "42a0704c",
   "metadata": {},
   "outputs": [],
   "source": [
    "#model.load_weights(path_HDF5+'2021_10_21_SW_abs.hdf5')"
   ]
  },
  {
   "cell_type": "code",
   "execution_count": 125,
   "id": "b1beab28",
   "metadata": {},
   "outputs": [],
   "source": [
    "#model = K.models.load_model(path_HDF5+'2021_10_21_SW_abs.hdf5',custom_objects=dict_lay)"
   ]
  },
  {
   "cell_type": "code",
   "execution_count": 126,
   "id": "4479cb5d",
   "metadata": {},
   "outputs": [
    {
     "data": {
      "text/plain": [
       "[<tf.Variable 'k:0' shape=(3,) dtype=float32, numpy=array([0.00116458, 0.00286141, 0.00107097], dtype=float32)>,\n",
       " <tf.Variable 'k0:0' shape=(1,) dtype=float32, numpy=array([0.02102046], dtype=float32)>]"
      ]
     },
     "execution_count": 126,
     "metadata": {},
     "output_type": "execute_result"
    }
   ],
   "source": [
    "model.weights"
   ]
  },
  {
   "cell_type": "markdown",
   "id": "8ea722f1",
   "metadata": {},
   "source": [
    "Overall predictions"
   ]
  },
  {
   "cell_type": "code",
   "execution_count": 127,
   "id": "35d0e3bf",
   "metadata": {},
   "outputs": [],
   "source": [
    "F_pred = model.predict(x)"
   ]
  },
  {
   "cell_type": "code",
   "execution_count": 128,
   "id": "919ad4a6",
   "metadata": {},
   "outputs": [
    {
     "data": {
      "text/plain": [
       "Text(0.5, 1.0, 'Simple absorption model')"
      ]
     },
     "execution_count": 128,
     "metadata": {},
     "output_type": "execute_result"
    },
    {
     "data": {
      "image/png": "[encoded data removed]",
      "text/plain": [
       "<Figure size 360x540 with 1 Axes>"
      ]
     },
     "metadata": {
      "needs_background": "light"
     },
     "output_type": "display_data"
    }
   ],
   "source": [
    "plt.figure(figsize=(5,7.5))\n",
    "\n",
    "plt.plot(np.mean(F_pred,axis=0),pmean/100,color='b',label='Prediction')\n",
    "plt.plot(np.mean(y,axis=0),pmean/100,color='k',label='Truth')\n",
    "\n",
    "# plt.plot(np.percentile(a=F_pred,q=25,axis=0),pmean/100,color='b',linestyle='--')\n",
    "# plt.plot(np.percentile(a=y,q=25,axis=0),pmean/100,color='k',linestyle='--')\n",
    "\n",
    "# plt.plot(np.percentile(a=F_pred,q=75,axis=0),pmean/100,color='b',linestyle='--')\n",
    "# plt.plot(np.percentile(a=y,q=75,axis=0),pmean/100,color='k',linestyle='--')\n",
    "\n",
    "plt.fill_betweenx(y=pmean/100,\n",
    "                  x1=np.percentile(a=F_pred,q=25,axis=0),\n",
    "                  x2=np.percentile(a=F_pred,q=75,axis=0),\n",
    "                  alpha=0.25,color='b')\n",
    "plt.fill_betweenx(y=pmean/100,\n",
    "                  x1=np.percentile(a=y,q=25,axis=0),\n",
    "                  x2=np.percentile(a=y,q=75,axis=0),\n",
    "                  alpha=0.25,color='k')\n",
    "\n",
    "plt.gca().invert_yaxis()\n",
    "plt.legend()\n",
    "plt.grid()\n",
    "plt.xlabel('Net SW Flux [W/m$^{2}$]')\n",
    "plt.ylabel('Pressure [hPa]')\n",
    "plt.title('Simple absorption model')"
   ]
  },
  {
   "cell_type": "code",
   "execution_count": 129,
   "id": "f356db6b",
   "metadata": {},
   "outputs": [
    {
     "data": {
      "text/plain": [
       "909.53674"
      ]
     },
     "execution_count": 129,
     "metadata": {},
     "output_type": "execute_result"
    }
   ],
   "source": [
    "np.mean((F_pred-y)**2)"
   ]
  },
  {
   "cell_type": "code",
   "execution_count": 130,
   "id": "042af1dc",
   "metadata": {},
   "outputs": [
    {
     "data": {
      "text/plain": [
       "69123.625"
      ]
     },
     "execution_count": 130,
     "metadata": {},
     "output_type": "execute_result"
    }
   ],
   "source": [
    "np.mean((y-np.mean(y,axis=0))**2)"
   ]
  },
  {
   "cell_type": "code",
   "execution_count": 131,
   "id": "4f36e359",
   "metadata": {},
   "outputs": [
    {
     "data": {
      "text/plain": [
       "162273.44"
      ]
     },
     "execution_count": 131,
     "metadata": {},
     "output_type": "execute_result"
    }
   ],
   "source": [
    "np.mean(y**2)"
   ]
  },
  {
   "cell_type": "code",
   "execution_count": 132,
   "id": "64cd26e2",
   "metadata": {},
   "outputs": [
    {
     "data": {
      "image/png": "[encoded data removed]",
      "text/plain": [
       "<Figure size 432x288 with 1 Axes>"
      ]
     },
     "metadata": {
      "needs_background": "light"
     },
     "output_type": "display_data"
    }
   ],
   "source": [
    "plt.scatter(y.flatten(),F_pred.flatten())\n",
    "plt.xlabel('True net SW flux [W/m${^2}$]')\n",
    "plt.ylabel('Predicted net SW flux [W/m${^2}$]')\n",
    "plt.grid()"
   ]
  },
  {
   "cell_type": "markdown",
   "id": "b78d62cf",
   "metadata": {},
   "source": [
    "Predictions as a function of zenith angle"
   ]
  },
  {
   "cell_type": "markdown",
   "id": "2c8e5191",
   "metadata": {},
   "source": [
    "x = [Fnet_top,zenith_angle,p,qv,ql,qi] of length 294  \n",
    "y = [Fnet] of length 72"
   ]
  },
  {
   "cell_type": "code",
   "execution_count": 133,
   "id": "04a7f38b",
   "metadata": {},
   "outputs": [],
   "source": [
    "# From https://stackoverflow.com/questions/2413522/weighted-standard-deviation-in-np\n",
    "def weighted_avg_and_std(values, weights):\n",
    "    \"\"\"\n",
    "    Return the weighted average and standard deviation.\n",
    "    values, weights -- np ndarrays with the same shape.\n",
    "    \"\"\"\n",
    "    if np.sum(weights)>0:\n",
    "        average = np.average(values, weights=weights)\n",
    "        variance = np.average((values-average)**2, weights=weights)\n",
    "    else:\n",
    "        average = np.nan\n",
    "        variance = np.nan\n",
    "    return (average, np.sqrt(variance))\n",
    "\n",
    "# Make function to calculate conditional mean and std\n",
    "# We condition field_y on field_x\n",
    "def conditional_avg_and_std(bin_edges,field_x,field_y):\n",
    "    # Initialization\n",
    "    Nbin = np.size(bin_edges)\n",
    "    Ym = np.zeros((Nbin-1,1))\n",
    "    Ystd = np.copy(Ym)\n",
    "\n",
    "    for ibin,edge in enumerate(bin_edges):\n",
    "        print('ibin=',ibin,'/',Nbin-1,' & edge=',edge,end=\"\\r\")\n",
    "        if ibin>0:\n",
    "            w = (field_x>=edge_left)*(field_x<edge)\n",
    "            Ym[ibin-1],Ystd[ibin-1] = weighted_avg_and_std(field_y,w)\n",
    "\n",
    "        edge_left = edge\n",
    "    \n",
    "    return Ym,Ystd"
   ]
  },
  {
   "cell_type": "markdown",
   "id": "c9aa2cf6",
   "metadata": {},
   "source": [
    "See if zenith angle used appropriately"
   ]
  },
  {
   "cell_type": "code",
   "execution_count": 134,
   "id": "f14d2033",
   "metadata": {},
   "outputs": [],
   "source": [
    "his_za = np.histogram(x[:,1].flatten(),bins=100)"
   ]
  },
  {
   "cell_type": "code",
   "execution_count": 135,
   "id": "1f653469",
   "metadata": {},
   "outputs": [
    {
     "name": "stdout",
     "output_type": "stream",
     "text": [
      "ibin= 100 / 100  & edge= 1.4835294\r"
     ]
    }
   ],
   "source": [
    "Y_av = conditional_avg_and_std(his_za[1],x[:,1],y[:,0])"
   ]
  },
  {
   "cell_type": "code",
   "execution_count": 136,
   "id": "70fe4bdb",
   "metadata": {},
   "outputs": [
    {
     "name": "stdout",
     "output_type": "stream",
     "text": [
      "ibin= 100 / 100  & edge= 1.4835294\r"
     ]
    }
   ],
   "source": [
    "Ypred_av = conditional_avg_and_std(his_za[1],x[:,1],F_pred[:,0])"
   ]
  },
  {
   "cell_type": "code",
   "execution_count": 137,
   "id": "0332c7f4",
   "metadata": {},
   "outputs": [],
   "source": [
    "# From edges to middle of bins\n",
    "def edgTObin(edges):\n",
    "    return 0.5*(edges[1:]+edges[:-1])"
   ]
  },
  {
   "cell_type": "code",
   "execution_count": 138,
   "id": "c28c1370",
   "metadata": {},
   "outputs": [
    {
     "data": {
      "text/plain": [
       "Text(0.5, 1.0, 'Conditional average')"
      ]
     },
     "execution_count": 138,
     "metadata": {},
     "output_type": "execute_result"
    },
    {
     "data": {
      "image/png": "[encoded data removed]",
      "text/plain": [
       "<Figure size 432x288 with 1 Axes>"
      ]
     },
     "metadata": {
      "needs_background": "light"
     },
     "output_type": "display_data"
    }
   ],
   "source": [
    "plt.plot(edgTObin(his_za[1]),Y_av[0],label='Truth')\n",
    "plt.plot(edgTObin(his_za[1]),Ypred_av[0],label='Pred')\n",
    "plt.grid()\n",
    "plt.legend()\n",
    "plt.xlabel('Zenith Angle (rad)')\n",
    "plt.ylabel('Net SW flux surf. (W/m$^{2}$)')\n",
    "plt.title('Conditional average')"
   ]
  },
  {
   "cell_type": "markdown",
   "id": "fbb9c23e",
   "metadata": {},
   "source": [
    "Decomposing predictions"
   ]
  },
  {
   "cell_type": "code",
   "execution_count": 139,
   "id": "0b70c330",
   "metadata": {},
   "outputs": [],
   "source": [
    "inp = K.Input(shape=(294,))\n",
    "absorb = Absorb_Layer()([inp])\n",
    "# optthi = Optical_Thickness()([inp,absorb])\n",
    "# flux = Absorb_Flux()([inp,optthi])\n",
    "model1 = tf.keras.models.Model(inp,absorb)"
   ]
  },
  {
   "cell_type": "code",
   "execution_count": 140,
   "id": "55a72a24",
   "metadata": {},
   "outputs": [],
   "source": [
    "model1.compile(optimizer='Adam',loss='mse')"
   ]
  },
  {
   "cell_type": "code",
   "execution_count": 141,
   "id": "f9b17784",
   "metadata": {},
   "outputs": [
    {
     "data": {
      "text/plain": [
       "[<tf.Variable 'k:0' shape=(3,) dtype=float32, numpy=array([0., 0., 0.], dtype=float32)>,\n",
       " <tf.Variable 'k0:0' shape=(1,) dtype=float32, numpy=array([0.], dtype=float32)>]"
      ]
     },
     "execution_count": 141,
     "metadata": {},
     "output_type": "execute_result"
    }
   ],
   "source": [
    "model1.weights"
   ]
  },
  {
   "cell_type": "code",
   "execution_count": 142,
   "id": "f5446b02",
   "metadata": {},
   "outputs": [
    {
     "data": {
      "text/plain": [
       "<tf.Variable 'UnreadVariable' shape=(3,) dtype=float32, numpy=array([0.00116458, 0.00286141, 0.00107097], dtype=float32)>"
      ]
     },
     "execution_count": 142,
     "metadata": {},
     "output_type": "execute_result"
    }
   ],
   "source": [
    "model1.weights[0].assign(model.weights[0])"
   ]
  },
  {
   "cell_type": "code",
   "execution_count": 143,
   "id": "7fdfb2fc",
   "metadata": {},
   "outputs": [
    {
     "data": {
      "text/plain": [
       "<tf.Variable 'UnreadVariable' shape=(1,) dtype=float32, numpy=array([0.02102046], dtype=float32)>"
      ]
     },
     "execution_count": 143,
     "metadata": {},
     "output_type": "execute_result"
    }
   ],
   "source": [
    "model1.weights[1].assign(model.weights[1])"
   ]
  },
  {
   "cell_type": "code",
   "execution_count": 144,
   "id": "6528c4b7",
   "metadata": {},
   "outputs": [
    {
     "data": {
      "text/plain": [
       "[<tf.Variable 'k:0' shape=(3,) dtype=float32, numpy=array([0.00116458, 0.00286141, 0.00107097], dtype=float32)>,\n",
       " <tf.Variable 'k0:0' shape=(1,) dtype=float32, numpy=array([0.02102046], dtype=float32)>]"
      ]
     },
     "execution_count": 144,
     "metadata": {},
     "output_type": "execute_result"
    }
   ],
   "source": [
    "model1.weights"
   ]
  },
  {
   "cell_type": "code",
   "execution_count": 145,
   "id": "d4d5e840",
   "metadata": {},
   "outputs": [],
   "source": [
    "absorb_test = model1.predict(x)"
   ]
  },
  {
   "cell_type": "code",
   "execution_count": 146,
   "id": "3aca6d90",
   "metadata": {},
   "outputs": [
    {
     "data": {
      "text/plain": [
       "(898025, 73)"
      ]
     },
     "execution_count": 146,
     "metadata": {},
     "output_type": "execute_result"
    }
   ],
   "source": [
    "absorb_test.shape"
   ]
  },
  {
   "cell_type": "code",
   "execution_count": 147,
   "id": "7d1781be",
   "metadata": {},
   "outputs": [
    {
     "data": {
      "text/plain": [
       "Text(0, 0.5, 'Pressure [Pa]')"
      ]
     },
     "execution_count": 147,
     "metadata": {},
     "output_type": "execute_result"
    },
    {
     "data": {
      "image/png": "[encoded data removed]",
      "text/plain": [
       "<Figure size 360x540 with 1 Axes>"
      ]
     },
     "metadata": {
      "needs_background": "light"
     },
     "output_type": "display_data"
    }
   ],
   "source": [
    "plt.figure(figsize=(5,7.5))\n",
    "\n",
    "plt.plot(np.mean(absorb_test,axis=0),pmean)\n",
    "plt.gca().invert_yaxis()\n",
    "plt.xlabel('Absorption [s2/m]')\n",
    "plt.ylabel('Pressure [Pa]')"
   ]
  },
  {
   "cell_type": "code",
   "execution_count": 148,
   "id": "bdcc3adf",
   "metadata": {},
   "outputs": [],
   "source": [
    "inp = K.Input(shape=(294,))\n",
    "absorb = Absorb_Layer()([inp])\n",
    "optthi = Optical_Thickness()([inp,absorb])\n",
    "# flux = Absorb_Flux()([inp,optthi])\n",
    "model2 = tf.keras.models.Model(inp,optthi)"
   ]
  },
  {
   "cell_type": "code",
   "execution_count": 149,
   "id": "b7eea59c",
   "metadata": {},
   "outputs": [],
   "source": [
    "model2.compile(optimizer='Adam',loss='mse')"
   ]
  },
  {
   "cell_type": "code",
   "execution_count": 150,
   "id": "af548d64",
   "metadata": {},
   "outputs": [
    {
     "data": {
      "text/plain": [
       "[<tf.Variable 'k:0' shape=(3,) dtype=float32, numpy=array([0., 0., 0.], dtype=float32)>,\n",
       " <tf.Variable 'k0:0' shape=(1,) dtype=float32, numpy=array([0.], dtype=float32)>]"
      ]
     },
     "execution_count": 150,
     "metadata": {},
     "output_type": "execute_result"
    }
   ],
   "source": [
    "model2.weights"
   ]
  },
  {
   "cell_type": "code",
   "execution_count": 151,
   "id": "c90afa3f",
   "metadata": {},
   "outputs": [
    {
     "data": {
      "text/plain": [
       "<tf.Variable 'UnreadVariable' shape=(3,) dtype=float32, numpy=array([0.00116458, 0.00286141, 0.00107097], dtype=float32)>"
      ]
     },
     "execution_count": 151,
     "metadata": {},
     "output_type": "execute_result"
    }
   ],
   "source": [
    "model2.weights[0].assign(model.weights[0])"
   ]
  },
  {
   "cell_type": "code",
   "execution_count": 152,
   "id": "039237ef",
   "metadata": {},
   "outputs": [
    {
     "data": {
      "text/plain": [
       "<tf.Variable 'UnreadVariable' shape=(1,) dtype=float32, numpy=array([0.02102046], dtype=float32)>"
      ]
     },
     "execution_count": 152,
     "metadata": {},
     "output_type": "execute_result"
    }
   ],
   "source": [
    "model2.weights[1].assign(model.weights[1])"
   ]
  },
  {
   "cell_type": "code",
   "execution_count": 154,
   "id": "3a033ed9",
   "metadata": {},
   "outputs": [],
   "source": [
    "# model2.weights[2].assign(model.weights[2])\n",
    "# model2.weights[3].assign(model.weights[3])"
   ]
  },
  {
   "cell_type": "code",
   "execution_count": 155,
   "id": "4b8cbddc",
   "metadata": {},
   "outputs": [
    {
     "data": {
      "text/plain": [
       "[<tf.Variable 'k:0' shape=(3,) dtype=float32, numpy=array([0.00116458, 0.00286141, 0.00107097], dtype=float32)>,\n",
       " <tf.Variable 'k0:0' shape=(1,) dtype=float32, numpy=array([0.02102046], dtype=float32)>]"
      ]
     },
     "execution_count": 155,
     "metadata": {},
     "output_type": "execute_result"
    }
   ],
   "source": [
    "model2.weights"
   ]
  },
  {
   "cell_type": "code",
   "execution_count": 156,
   "id": "d94f45d7",
   "metadata": {},
   "outputs": [
    {
     "data": {
      "text/plain": [
       "(898025, 73)"
      ]
     },
     "execution_count": 156,
     "metadata": {},
     "output_type": "execute_result"
    }
   ],
   "source": [
    "optT_test = model2.predict(x)\n",
    "\n",
    "optT_test.shape"
   ]
  },
  {
   "cell_type": "code",
   "execution_count": 157,
   "id": "2dcba266",
   "metadata": {},
   "outputs": [
    {
     "data": {
      "text/plain": [
       "Text(0, 0.5, 'Pressure [Pa]')"
      ]
     },
     "execution_count": 157,
     "metadata": {},
     "output_type": "execute_result"
    },
    {
     "data": {
      "image/png": "[encoded data removed]",
      "text/plain": [
       "<Figure size 360x540 with 1 Axes>"
      ]
     },
     "metadata": {
      "needs_background": "light"
     },
     "output_type": "display_data"
    }
   ],
   "source": [
    "plt.figure(figsize=(5,7.5))\n",
    "\n",
    "plt.plot(np.mean(optT_test,axis=0),pmean)\n",
    "plt.gca().invert_yaxis()\n",
    "plt.xlabel('Optical thickness')\n",
    "plt.ylabel('Pressure [Pa]')"
   ]
  },
  {
   "cell_type": "code",
   "execution_count": null,
   "id": "0ff9bfb0",
   "metadata": {},
   "outputs": [],
   "source": []
  },
  {
   "cell_type": "code",
   "execution_count": null,
   "id": "6985488d",
   "metadata": {},
   "outputs": [],
   "source": []
  }
 ],
 "metadata": {
  "kernelspec": {
   "display_name": "Python 3 (ipykernel)",
   "language": "python",
   "name": "python3"
  },
  "language_info": {
   "codemirror_mode": {
    "name": "ipython",
    "version": 3
   },
   "file_extension": ".py",
   "mimetype": "text/x-python",
   "name": "python",
   "nbconvert_exporter": "python",
   "pygments_lexer": "ipython3",
   "version": "3.7.7"
  }
 },
 "nbformat": 4,
 "nbformat_minor": 5
}
