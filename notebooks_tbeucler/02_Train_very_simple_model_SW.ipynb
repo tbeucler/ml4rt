{
 "cells": [
  {
   "cell_type": "markdown",
   "id": "4b1ed6bc",
   "metadata": {},
   "source": [
    "tb - Train coefficients of a simple analytic model for SW radiative transfer via stochastic gradient descent"
   ]
  },
  {
   "cell_type": "markdown",
   "id": "cc5760da",
   "metadata": {},
   "source": [
    "Then calculate (1) Number of free parameters; and (2) error statistics of the net shortwave flux prediction (in $W m^{-2}$)"
   ]
  },
  {
   "cell_type": "markdown",
   "id": "1a28d6a2",
   "metadata": {},
   "source": [
    "# Imports"
   ]
  },
  {
   "cell_type": "code",
   "execution_count": 4,
   "id": "2b060191",
   "metadata": {},
   "outputs": [],
   "source": [
    "from ml4rt.io.example_io import *\n",
    "from ml4rt.utils.normalization import *\n",
    "from ml4rt.machine_learning.neural_net import *\n",
    "from ml4rt.machine_learning.u_net_architecture import *\n",
    "from ml4rt.machine_learning.u_net_pp_architecture import *\n",
    "\n",
    "import dill\n",
    "\n",
    "import matplotlib as mpl\n",
    "import matplotlib.pyplot as plt\n",
    "import numpy as np\n",
    "import xarray as xr\n",
    "import seaborn as sns\n",
    "\n",
    "import tensorflow as tf\n",
    "from tensorflow import keras as K"
   ]
  },
  {
   "cell_type": "code",
   "execution_count": 5,
   "id": "f4b19019",
   "metadata": {},
   "outputs": [],
   "source": [
    "fz = 15\n",
    "lw = 4\n",
    "siz = 100\n",
    "\n",
    "plt.rc('text', usetex=False)\n",
    "mpl.rcParams['mathtext.fontset'] = 'stix'\n",
    "mpl.rcParams['font.family'] = 'STIXGeneral'\n",
    "plt.rc('font', family='serif', size=fz)\n",
    "mpl.rcParams['lines.linewidth'] = lw"
   ]
  },
  {
   "cell_type": "markdown",
   "id": "7b4dfb37",
   "metadata": {},
   "source": [
    "# Data Generator"
   ]
  },
  {
   "cell_type": "markdown",
   "id": "4fce4b8c",
   "metadata": {},
   "source": [
    "## Loading model's metadata using dill"
   ]
  },
  {
   "cell_type": "code",
   "execution_count": 6,
   "id": "3b9de706",
   "metadata": {},
   "outputs": [],
   "source": [
    "path_data = '/work/FAC/FGSE/IDYST/tbeucler/default/tbeucler/2021_Ryan_Lagerquist_SW/'"
   ]
  },
  {
   "cell_type": "code",
   "execution_count": 7,
   "id": "e88dde00",
   "metadata": {},
   "outputs": [],
   "source": [
    "model_arc = dill.load(open(path_data+'actual_model/model_metadata.dill','rb'))"
   ]
  },
  {
   "cell_type": "code",
   "execution_count": 8,
   "id": "8d3ad44b",
   "metadata": {},
   "outputs": [
    {
     "data": {
      "text/plain": [
       "dict_keys(['num_epochs', 'num_training_batches_per_epoch', 'training_option_dict', 'num_validation_batches_per_epoch', 'validation_option_dict', 'net_type_string', 'loss_function_or_dict', 'do_early_stopping', 'plateau_lr_multiplier'])"
      ]
     },
     "execution_count": 8,
     "metadata": {},
     "output_type": "execute_result"
    }
   ],
   "source": [
    "model_arc.keys()"
   ]
  },
  {
   "cell_type": "code",
   "execution_count": 9,
   "id": "3dad03e6",
   "metadata": {},
   "outputs": [
    {
     "data": {
      "text/plain": [
       "'u_net'"
      ]
     },
     "execution_count": 9,
     "metadata": {},
     "output_type": "execute_result"
    }
   ],
   "source": [
    "model_arc['net_type_string']"
   ]
  },
  {
   "cell_type": "code",
   "execution_count": 10,
   "id": "e5a63c75",
   "metadata": {},
   "outputs": [
    {
     "data": {
      "text/plain": [
       "{'scalar_predictor_names': ['zenith_angle_radians', 'albedo'],\n",
       " 'vector_predictor_names': ['pressure_pascals',\n",
       "  'temperature_kelvins',\n",
       "  'specific_humidity_kg_kg01',\n",
       "  'liquid_water_content_kg_m03',\n",
       "  'ice_water_content_kg_m03',\n",
       "  'relative_humidity_unitless',\n",
       "  'liquid_water_path_kg_m02',\n",
       "  'ice_water_path_kg_m02',\n",
       "  'vapour_path_kg_m02',\n",
       "  'upward_liquid_water_path_kg_m02',\n",
       "  'upward_ice_water_path_kg_m02',\n",
       "  'upward_vapour_path_kg_m02'],\n",
       " 'scalar_target_names': ['shortwave_surface_down_flux_w_m02',\n",
       "  'shortwave_toa_up_flux_w_m02'],\n",
       " 'vector_target_names': ['shortwave_heating_rate_k_day01'],\n",
       " 'heights_m_agl': array([1.00e+01, 2.00e+01, 4.00e+01, 6.00e+01, 8.00e+01, 1.00e+02,\n",
       "        1.20e+02, 1.40e+02, 1.60e+02, 1.80e+02, 2.00e+02, 2.25e+02,\n",
       "        2.50e+02, 2.75e+02, 3.00e+02, 3.50e+02, 4.00e+02, 4.50e+02,\n",
       "        5.00e+02, 6.00e+02, 7.00e+02, 8.00e+02, 9.00e+02, 1.00e+03,\n",
       "        1.10e+03, 1.20e+03, 1.30e+03, 1.40e+03, 1.50e+03, 1.60e+03,\n",
       "        1.70e+03, 1.80e+03, 1.90e+03, 2.00e+03, 2.20e+03, 2.40e+03,\n",
       "        2.60e+03, 2.80e+03, 3.00e+03, 3.20e+03, 3.40e+03, 3.60e+03,\n",
       "        3.80e+03, 4.00e+03, 4.20e+03, 4.40e+03, 4.60e+03, 4.80e+03,\n",
       "        5.00e+03, 5.50e+03, 6.00e+03, 6.50e+03, 7.00e+03, 8.00e+03,\n",
       "        9.00e+03, 1.00e+04, 1.10e+04, 1.20e+04, 1.30e+04, 1.40e+04,\n",
       "        1.50e+04, 1.80e+04, 2.00e+04, 2.20e+04, 2.40e+04, 2.70e+04,\n",
       "        3.00e+04, 3.30e+04, 3.60e+04, 3.90e+04, 4.20e+04, 4.60e+04,\n",
       "        5.00e+04]),\n",
       " 'min_column_lwp_kg_m02': 0.0,\n",
       " 'max_column_lwp_kg_m02': 1000000000000.0,\n",
       " 'omit_heating_rate': False,\n",
       " 'predictor_norm_type_string': 'z_score',\n",
       " 'predictor_min_norm_value': 0.0,\n",
       " 'predictor_max_norm_value': 1.0,\n",
       " 'vector_target_norm_type_string': None,\n",
       " 'vector_target_min_norm_value': 0.0,\n",
       " 'vector_target_max_norm_value': 1.0,\n",
       " 'scalar_target_norm_type_string': 'minmax',\n",
       " 'scalar_target_min_norm_value': 0.0,\n",
       " 'scalar_target_max_norm_value': 1.0,\n",
       " 'example_dir_name': '/scratch1/RDARCH/rda-ghpcs/Ryan.Lagerquist/ml4rt_project/examples/non_tropical_sites',\n",
       " 'num_examples_per_batch': 256,\n",
       " 'first_time_unix_sec': 1514764800,\n",
       " 'last_time_unix_sec': 1545695999,\n",
       " 'normalization_file_name': '/scratch1/RDARCH/rda-ghpcs/Ryan.Lagerquist/ml4rt_project/examples/non_tropical_sites/learning_examples_20190101-20201031.nc'}"
      ]
     },
     "execution_count": 10,
     "metadata": {},
     "output_type": "execute_result"
    }
   ],
   "source": [
    "model_arc['validation_option_dict']"
   ]
  },
  {
   "cell_type": "code",
   "execution_count": 27,
   "id": "96c9c611",
   "metadata": {},
   "outputs": [],
   "source": [
    "model_arc['validation_option_dict']['example_dir_name'] = \\\n",
    "'/work/FAC/FGSE/IDYST/tbeucler/default/tbeucler/2021_Ryan_Lagerquist_SW/non_tropical_sites'"
   ]
  },
  {
   "cell_type": "code",
   "execution_count": 28,
   "id": "3538d9e7",
   "metadata": {},
   "outputs": [],
   "source": [
    "model_arc['validation_option_dict']['normalization_file_name'] = model_arc['validation_option_dict']['example_dir_name'] + \\\n",
    "'/learning_examples_20170101-20181224.nc'"
   ]
  },
  {
   "cell_type": "markdown",
   "id": "a0c7d8cb",
   "metadata": {},
   "source": [
    "tgb - 6/14/2022 - Train on 2018 non tropical sites for now"
   ]
  },
  {
   "cell_type": "code",
   "execution_count": 29,
   "id": "c3985d73",
   "metadata": {},
   "outputs": [],
   "source": [
    "model_arc['validation_option_dict']['first_time_unix_sec'] = 1514764800 # Jan 1, 2018 at 12:00:00AM\n",
    "model_arc['validation_option_dict']['last_time_unix_sec'] = 1546300799 # Dec 31, 2018 at 11:59:59PM"
   ]
  },
  {
   "cell_type": "markdown",
   "id": "455bb93e",
   "metadata": {},
   "source": [
    "tgb - 6/14/2022 - Train on 2019/2020 non-tropical sites to test generalization ability, similar to experiment 1 of Ryan's paper"
   ]
  },
  {
   "cell_type": "code",
   "execution_count": 19,
   "id": "5dbb2d40",
   "metadata": {},
   "outputs": [],
   "source": [
    "# model_arc['validation_option_dict']['first_time_unix_sec'] = 1546326000 # Jan 1, 2019 at 12:00:00AM\n",
    "# model_arc['validation_option_dict']['last_time_unix_sec'] = 1577818799 # Dec 31, 2019 at 11:59:59PM"
   ]
  },
  {
   "cell_type": "code",
   "execution_count": 30,
   "id": "0df1ceef",
   "metadata": {},
   "outputs": [],
   "source": [
    "Unetpp_gen = data_generator(model_arc['validation_option_dict'],True,model_arc['net_type_string'])"
   ]
  },
  {
   "cell_type": "code",
   "execution_count": 31,
   "id": "e1089a17",
   "metadata": {},
   "outputs": [
    {
     "name": "stdout",
     "output_type": "stream",
     "text": [
      "Reading training examples (for normalization) from: \"/work/FAC/FGSE/IDYST/tbeucler/default/tbeucler/2021_Ryan_Lagerquist_SW/non_tropical_sites/learning_examples_20170101-20181224.nc\"...\n",
      "\n",
      "Reading data from: \"/work/FAC/FGSE/IDYST/tbeucler/default/tbeucler/2021_Ryan_Lagerquist_SW/non_tropical_sites/learning_examples_2018.nc\"...\n"
     ]
    },
    {
     "name": "stderr",
     "output_type": "stream",
     "text": [
      "/work/FAC/FGSE/IDYST/tbeucler/default/tbeucler/ml4rt/notebooks_tbeucler/ml4rt/io/example_io.py:304: UserWarning: Removing 0 of 898025 examples (profiles), because they are at Summit GL.\n",
      "  warnings.warn(warning_string)\n"
     ]
    },
    {
     "name": "stdout",
     "output_type": "stream",
     "text": [
      "Applying Z_SCORE normalization to predictors...\n",
      "Applying MINMAX normalization to scalar targets...\n"
     ]
    }
   ],
   "source": [
    "Unetpp_data = create_data(model_arc['validation_option_dict'],True, \n",
    "                          model_arc['net_type_string'],exclude_summit_greenland=True)"
   ]
  },
  {
   "cell_type": "markdown",
   "id": "2f46c25e",
   "metadata": {},
   "source": [
    "# Create small prototype using xarray"
   ]
  },
  {
   "cell_type": "markdown",
   "id": "07be20e0",
   "metadata": {},
   "source": [
    "## Data loading and pre-processing"
   ]
  },
  {
   "cell_type": "code",
   "execution_count": 11,
   "id": "9502f7fe",
   "metadata": {},
   "outputs": [],
   "source": [
    "Nontrop_folder = '/work/FAC/FGSE/IDYST/tbeucler/default/tbeucler/2021_Ryan_Lagerquist_SW/non_tropical_sites/'\n",
    "Trop_folder = '/work/FAC/FGSE/IDYST/tbeucler/default/tbeucler/2021_Ryan_Lagerquist_SW/tropical_sites/'"
   ]
  },
  {
   "cell_type": "code",
   "execution_count": 12,
   "id": "fc421e0c",
   "metadata": {},
   "outputs": [],
   "source": [
    "data2018 = xr.open_dataset(Nontrop_folder+'learning_examples_2018.nc')\n",
    "data2019 = xr.open_dataset(Nontrop_folder+'learning_examples_2019.nc')\n",
    "data2020 = xr.open_dataset(Nontrop_folder+'learning_examples_2020.nc')\n",
    "\n",
    "trop2017 = xr.open_dataset(Trop_folder+'learning_examples_2017.nc')"
   ]
  },
  {
   "cell_type": "markdown",
   "id": "91f4a3fb",
   "metadata": {},
   "source": [
    "## 2018 dataset"
   ]
  },
  {
   "cell_type": "markdown",
   "id": "05ffeeae",
   "metadata": {},
   "source": [
    "### Data analysis"
   ]
  },
  {
   "cell_type": "code",
   "execution_count": 14,
   "id": "906c6ca4",
   "metadata": {},
   "outputs": [
    {
     "data": {
      "text/html": [
       "<div><svg style=\"position: absolute; width: 0; height: 0; overflow: hidden\">\n",
       "<defs>\n",
       "<symbol id=\"icon-database\" viewBox=\"0 0 32 32\">\n",
       "<path d=\"M16 0c-8.837 0-16 2.239-16 5v4c0 2.761 7.163 5 16 5s16-2.239 16-5v-4c0-2.761-7.163-5-16-5z\"></path>\n",
       "<path d=\"M16 17c-8.837 0-16-2.239-16-5v6c0 2.761 7.163 5 16 5s16-2.239 16-5v-6c0 2.761-7.163 5-16 5z\"></path>\n",
       "<path d=\"M16 26c-8.837 0-16-2.239-16-5v6c0 2.761 7.163 5 16 5s16-2.239 16-5v-6c0 2.761-7.163 5-16 5z\"></path>\n",
       "</symbol>\n",
       "<symbol id=\"icon-file-text2\" viewBox=\"0 0 32 32\">\n",
       "<path d=\"M28.681 7.159c-0.694-0.947-1.662-2.053-2.724-3.116s-2.169-2.030-3.116-2.724c-1.612-1.182-2.393-1.319-2.841-1.319h-15.5c-1.378 0-2.5 1.121-2.5 2.5v27c0 1.378 1.122 2.5 2.5 2.5h23c1.378 0 2.5-1.122 2.5-2.5v-19.5c0-0.448-0.137-1.23-1.319-2.841zM24.543 5.457c0.959 0.959 1.712 1.825 2.268 2.543h-4.811v-4.811c0.718 0.556 1.584 1.309 2.543 2.268zM28 29.5c0 0.271-0.229 0.5-0.5 0.5h-23c-0.271 0-0.5-0.229-0.5-0.5v-27c0-0.271 0.229-0.5 0.5-0.5 0 0 15.499-0 15.5 0v7c0 0.552 0.448 1 1 1h7v19.5z\"></path>\n",
       "<path d=\"M23 26h-14c-0.552 0-1-0.448-1-1s0.448-1 1-1h14c0.552 0 1 0.448 1 1s-0.448 1-1 1z\"></path>\n",
       "<path d=\"M23 22h-14c-0.552 0-1-0.448-1-1s0.448-1 1-1h14c0.552 0 1 0.448 1 1s-0.448 1-1 1z\"></path>\n",
       "<path d=\"M23 18h-14c-0.552 0-1-0.448-1-1s0.448-1 1-1h14c0.552 0 1 0.448 1 1s-0.448 1-1 1z\"></path>\n",
       "</symbol>\n",
       "</defs>\n",
       "</svg>\n",
       "<style>/* CSS stylesheet for displaying xarray objects in jupyterlab.\n",
       " *\n",
       " */\n",
       "\n",
       ":root {\n",
       "  --xr-font-color0: var(--jp-content-font-color0, rgba(0, 0, 0, 1));\n",
       "  --xr-font-color2: var(--jp-content-font-color2, rgba(0, 0, 0, 0.54));\n",
       "  --xr-font-color3: var(--jp-content-font-color3, rgba(0, 0, 0, 0.38));\n",
       "  --xr-border-color: var(--jp-border-color2, #e0e0e0);\n",
       "  --xr-disabled-color: var(--jp-layout-color3, #bdbdbd);\n",
       "  --xr-background-color: var(--jp-layout-color0, white);\n",
       "  --xr-background-color-row-even: var(--jp-layout-color1, white);\n",
       "  --xr-background-color-row-odd: var(--jp-layout-color2, #eeeeee);\n",
       "}\n",
       "\n",
       "html[theme=dark],\n",
       "body.vscode-dark {\n",
       "  --xr-font-color0: rgba(255, 255, 255, 1);\n",
       "  --xr-font-color2: rgba(255, 255, 255, 0.54);\n",
       "  --xr-font-color3: rgba(255, 255, 255, 0.38);\n",
       "  --xr-border-color: #1F1F1F;\n",
       "  --xr-disabled-color: #515151;\n",
       "  --xr-background-color: #111111;\n",
       "  --xr-background-color-row-even: #111111;\n",
       "  --xr-background-color-row-odd: #313131;\n",
       "}\n",
       "\n",
       ".xr-wrap {\n",
       "  display: block;\n",
       "  min-width: 300px;\n",
       "  max-width: 700px;\n",
       "}\n",
       "\n",
       ".xr-text-repr-fallback {\n",
       "  /* fallback to plain text repr when CSS is not injected (untrusted notebook) */\n",
       "  display: none;\n",
       "}\n",
       "\n",
       ".xr-header {\n",
       "  padding-top: 6px;\n",
       "  padding-bottom: 6px;\n",
       "  margin-bottom: 4px;\n",
       "  border-bottom: solid 1px var(--xr-border-color);\n",
       "}\n",
       "\n",
       ".xr-header > div,\n",
       ".xr-header > ul {\n",
       "  display: inline;\n",
       "  margin-top: 0;\n",
       "  margin-bottom: 0;\n",
       "}\n",
       "\n",
       ".xr-obj-type,\n",
       ".xr-array-name {\n",
       "  margin-left: 2px;\n",
       "  margin-right: 10px;\n",
       "}\n",
       "\n",
       ".xr-obj-type {\n",
       "  color: var(--xr-font-color2);\n",
       "}\n",
       "\n",
       ".xr-sections {\n",
       "  padding-left: 0 !important;\n",
       "  display: grid;\n",
       "  grid-template-columns: 150px auto auto 1fr 20px 20px;\n",
       "}\n",
       "\n",
       ".xr-section-item {\n",
       "  display: contents;\n",
       "}\n",
       "\n",
       ".xr-section-item input {\n",
       "  display: none;\n",
       "}\n",
       "\n",
       ".xr-section-item input + label {\n",
       "  color: var(--xr-disabled-color);\n",
       "}\n",
       "\n",
       ".xr-section-item input:enabled + label {\n",
       "  cursor: pointer;\n",
       "  color: var(--xr-font-color2);\n",
       "}\n",
       "\n",
       ".xr-section-item input:enabled + label:hover {\n",
       "  color: var(--xr-font-color0);\n",
       "}\n",
       "\n",
       ".xr-section-summary {\n",
       "  grid-column: 1;\n",
       "  color: var(--xr-font-color2);\n",
       "  font-weight: 500;\n",
       "}\n",
       "\n",
       ".xr-section-summary > span {\n",
       "  display: inline-block;\n",
       "  padding-left: 0.5em;\n",
       "}\n",
       "\n",
       ".xr-section-summary-in:disabled + label {\n",
       "  color: var(--xr-font-color2);\n",
       "}\n",
       "\n",
       ".xr-section-summary-in + label:before {\n",
       "  display: inline-block;\n",
       "  content: '►';\n",
       "  font-size: 11px;\n",
       "  width: 15px;\n",
       "  text-align: center;\n",
       "}\n",
       "\n",
       ".xr-section-summary-in:disabled + label:before {\n",
       "  color: var(--xr-disabled-color);\n",
       "}\n",
       "\n",
       ".xr-section-summary-in:checked + label:before {\n",
       "  content: '▼';\n",
       "}\n",
       "\n",
       ".xr-section-summary-in:checked + label > span {\n",
       "  display: none;\n",
       "}\n",
       "\n",
       ".xr-section-summary,\n",
       ".xr-section-inline-details {\n",
       "  padding-top: 4px;\n",
       "  padding-bottom: 4px;\n",
       "}\n",
       "\n",
       ".xr-section-inline-details {\n",
       "  grid-column: 2 / -1;\n",
       "}\n",
       "\n",
       ".xr-section-details {\n",
       "  display: none;\n",
       "  grid-column: 1 / -1;\n",
       "  margin-bottom: 5px;\n",
       "}\n",
       "\n",
       ".xr-section-summary-in:checked ~ .xr-section-details {\n",
       "  display: contents;\n",
       "}\n",
       "\n",
       ".xr-array-wrap {\n",
       "  grid-column: 1 / -1;\n",
       "  display: grid;\n",
       "  grid-template-columns: 20px auto;\n",
       "}\n",
       "\n",
       ".xr-array-wrap > label {\n",
       "  grid-column: 1;\n",
       "  vertical-align: top;\n",
       "}\n",
       "\n",
       ".xr-preview {\n",
       "  color: var(--xr-font-color3);\n",
       "}\n",
       "\n",
       ".xr-array-preview,\n",
       ".xr-array-data {\n",
       "  padding: 0 5px !important;\n",
       "  grid-column: 2;\n",
       "}\n",
       "\n",
       ".xr-array-data,\n",
       ".xr-array-in:checked ~ .xr-array-preview {\n",
       "  display: none;\n",
       "}\n",
       "\n",
       ".xr-array-in:checked ~ .xr-array-data,\n",
       ".xr-array-preview {\n",
       "  display: inline-block;\n",
       "}\n",
       "\n",
       ".xr-dim-list {\n",
       "  display: inline-block !important;\n",
       "  list-style: none;\n",
       "  padding: 0 !important;\n",
       "  margin: 0;\n",
       "}\n",
       "\n",
       ".xr-dim-list li {\n",
       "  display: inline-block;\n",
       "  padding: 0;\n",
       "  margin: 0;\n",
       "}\n",
       "\n",
       ".xr-dim-list:before {\n",
       "  content: '(';\n",
       "}\n",
       "\n",
       ".xr-dim-list:after {\n",
       "  content: ')';\n",
       "}\n",
       "\n",
       ".xr-dim-list li:not(:last-child):after {\n",
       "  content: ',';\n",
       "  padding-right: 5px;\n",
       "}\n",
       "\n",
       ".xr-has-index {\n",
       "  font-weight: bold;\n",
       "}\n",
       "\n",
       ".xr-var-list,\n",
       ".xr-var-item {\n",
       "  display: contents;\n",
       "}\n",
       "\n",
       ".xr-var-item > div,\n",
       ".xr-var-item label,\n",
       ".xr-var-item > .xr-var-name span {\n",
       "  background-color: var(--xr-background-color-row-even);\n",
       "  margin-bottom: 0;\n",
       "}\n",
       "\n",
       ".xr-var-item > .xr-var-name:hover span {\n",
       "  padding-right: 5px;\n",
       "}\n",
       "\n",
       ".xr-var-list > li:nth-child(odd) > div,\n",
       ".xr-var-list > li:nth-child(odd) > label,\n",
       ".xr-var-list > li:nth-child(odd) > .xr-var-name span {\n",
       "  background-color: var(--xr-background-color-row-odd);\n",
       "}\n",
       "\n",
       ".xr-var-name {\n",
       "  grid-column: 1;\n",
       "}\n",
       "\n",
       ".xr-var-dims {\n",
       "  grid-column: 2;\n",
       "}\n",
       "\n",
       ".xr-var-dtype {\n",
       "  grid-column: 3;\n",
       "  text-align: right;\n",
       "  color: var(--xr-font-color2);\n",
       "}\n",
       "\n",
       ".xr-var-preview {\n",
       "  grid-column: 4;\n",
       "}\n",
       "\n",
       ".xr-var-name,\n",
       ".xr-var-dims,\n",
       ".xr-var-dtype,\n",
       ".xr-preview,\n",
       ".xr-attrs dt {\n",
       "  white-space: nowrap;\n",
       "  overflow: hidden;\n",
       "  text-overflow: ellipsis;\n",
       "  padding-right: 10px;\n",
       "}\n",
       "\n",
       ".xr-var-name:hover,\n",
       ".xr-var-dims:hover,\n",
       ".xr-var-dtype:hover,\n",
       ".xr-attrs dt:hover {\n",
       "  overflow: visible;\n",
       "  width: auto;\n",
       "  z-index: 1;\n",
       "}\n",
       "\n",
       ".xr-var-attrs,\n",
       ".xr-var-data {\n",
       "  display: none;\n",
       "  background-color: var(--xr-background-color) !important;\n",
       "  padding-bottom: 5px !important;\n",
       "}\n",
       "\n",
       ".xr-var-attrs-in:checked ~ .xr-var-attrs,\n",
       ".xr-var-data-in:checked ~ .xr-var-data {\n",
       "  display: block;\n",
       "}\n",
       "\n",
       ".xr-var-data > table {\n",
       "  float: right;\n",
       "}\n",
       "\n",
       ".xr-var-name span,\n",
       ".xr-var-data,\n",
       ".xr-attrs {\n",
       "  padding-left: 25px !important;\n",
       "}\n",
       "\n",
       ".xr-attrs,\n",
       ".xr-var-attrs,\n",
       ".xr-var-data {\n",
       "  grid-column: 1 / -1;\n",
       "}\n",
       "\n",
       "dl.xr-attrs {\n",
       "  padding: 0;\n",
       "  margin: 0;\n",
       "  display: grid;\n",
       "  grid-template-columns: 125px auto;\n",
       "}\n",
       "\n",
       ".xr-attrs dt,\n",
       ".xr-attrs dd {\n",
       "  padding: 0;\n",
       "  margin: 0;\n",
       "  float: left;\n",
       "  padding-right: 10px;\n",
       "  width: auto;\n",
       "}\n",
       "\n",
       ".xr-attrs dt {\n",
       "  font-weight: normal;\n",
       "  grid-column: 1;\n",
       "}\n",
       "\n",
       ".xr-attrs dt:hover span {\n",
       "  display: inline-block;\n",
       "  background: var(--xr-background-color);\n",
       "  padding-right: 10px;\n",
       "}\n",
       "\n",
       ".xr-attrs dd {\n",
       "  grid-column: 2;\n",
       "  white-space: pre-wrap;\n",
       "  word-break: break-all;\n",
       "}\n",
       "\n",
       ".xr-icon-database,\n",
       ".xr-icon-file-text2 {\n",
       "  display: inline-block;\n",
       "  vertical-align: middle;\n",
       "  width: 1em;\n",
       "  height: 1.5em !important;\n",
       "  stroke-width: 0;\n",
       "  stroke: currentColor;\n",
       "  fill: currentColor;\n",
       "}\n",
       "</style><pre class='xr-text-repr-fallback'>&lt;xarray.DataArray &#x27;vector_target_names&#x27; (vector_target: 5)&gt;\n",
       "array([b&#x27;shortwave_down_flux_w_m02&#x27;, b&#x27;shortwave_up_flux_w_m02&#x27;,\n",
       "       b&#x27;shortwave_heating_rate_k_day01&#x27;,\n",
       "       b&#x27;shortwave_down_flux_increment_w_m03&#x27;,\n",
       "       b&#x27;shortwave_up_flux_increment_w_m03&#x27;], dtype=&#x27;|S35&#x27;)\n",
       "Dimensions without coordinates: vector_target</pre><div class='xr-wrap' hidden><div class='xr-header'><div class='xr-obj-type'>xarray.DataArray</div><div class='xr-array-name'>'vector_target_names'</div><ul class='xr-dim-list'><li><span>vector_target</span>: 5</li></ul></div><ul class='xr-sections'><li class='xr-section-item'><div class='xr-array-wrap'><input id='section-e30c7cb6-992f-4009-b347-c85ee991e8ea' class='xr-array-in' type='checkbox' checked><label for='section-e30c7cb6-992f-4009-b347-c85ee991e8ea' title='Show/hide data repr'><svg class='icon xr-icon-database'><use xlink:href='#icon-database'></use></svg></label><div class='xr-array-preview xr-preview'><span>b&#x27;shortwave_down_flux_w_m02&#x27; ... b&#x27;shortwave_up_flux_increment_w_m03&#x27;</span></div><div class='xr-array-data'><pre>array([b&#x27;shortwave_down_flux_w_m02&#x27;, b&#x27;shortwave_up_flux_w_m02&#x27;,\n",
       "       b&#x27;shortwave_heating_rate_k_day01&#x27;,\n",
       "       b&#x27;shortwave_down_flux_increment_w_m03&#x27;,\n",
       "       b&#x27;shortwave_up_flux_increment_w_m03&#x27;], dtype=&#x27;|S35&#x27;)</pre></div></div></li><li class='xr-section-item'><input id='section-846483f0-30c6-4380-b0b9-859b88492b4b' class='xr-section-summary-in' type='checkbox' disabled ><label for='section-846483f0-30c6-4380-b0b9-859b88492b4b' class='xr-section-summary'  title='Expand/collapse section'>Coordinates: <span>(0)</span></label><div class='xr-section-inline-details'></div><div class='xr-section-details'><ul class='xr-var-list'></ul></div></li><li class='xr-section-item'><input id='section-5dcbdd09-20d2-480b-a32d-4d2be087b7a4' class='xr-section-summary-in' type='checkbox' disabled ><label for='section-5dcbdd09-20d2-480b-a32d-4d2be087b7a4' class='xr-section-summary'  title='Expand/collapse section'>Attributes: <span>(0)</span></label><div class='xr-section-inline-details'></div><div class='xr-section-details'><dl class='xr-attrs'></dl></div></li></ul></div></div>"
      ],
      "text/plain": [
       "<xarray.DataArray 'vector_target_names' (vector_target: 5)>\n",
       "array([b'shortwave_down_flux_w_m02', b'shortwave_up_flux_w_m02',\n",
       "       b'shortwave_heating_rate_k_day01',\n",
       "       b'shortwave_down_flux_increment_w_m03',\n",
       "       b'shortwave_up_flux_increment_w_m03'], dtype='|S35')\n",
       "Dimensions without coordinates: vector_target"
      ]
     },
     "execution_count": 14,
     "metadata": {},
     "output_type": "execute_result"
    }
   ],
   "source": [
    "data2018['vector_target_names']"
   ]
  },
  {
   "cell_type": "code",
   "execution_count": 15,
   "id": "666b448d",
   "metadata": {},
   "outputs": [
    {
     "data": {
      "text/html": [
       "<div><svg style=\"position: absolute; width: 0; height: 0; overflow: hidden\">\n",
       "<defs>\n",
       "<symbol id=\"icon-database\" viewBox=\"0 0 32 32\">\n",
       "<path d=\"M16 0c-8.837 0-16 2.239-16 5v4c0 2.761 7.163 5 16 5s16-2.239 16-5v-4c0-2.761-7.163-5-16-5z\"></path>\n",
       "<path d=\"M16 17c-8.837 0-16-2.239-16-5v6c0 2.761 7.163 5 16 5s16-2.239 16-5v-6c0 2.761-7.163 5-16 5z\"></path>\n",
       "<path d=\"M16 26c-8.837 0-16-2.239-16-5v6c0 2.761 7.163 5 16 5s16-2.239 16-5v-6c0 2.761-7.163 5-16 5z\"></path>\n",
       "</symbol>\n",
       "<symbol id=\"icon-file-text2\" viewBox=\"0 0 32 32\">\n",
       "<path d=\"M28.681 7.159c-0.694-0.947-1.662-2.053-2.724-3.116s-2.169-2.030-3.116-2.724c-1.612-1.182-2.393-1.319-2.841-1.319h-15.5c-1.378 0-2.5 1.121-2.5 2.5v27c0 1.378 1.122 2.5 2.5 2.5h23c1.378 0 2.5-1.122 2.5-2.5v-19.5c0-0.448-0.137-1.23-1.319-2.841zM24.543 5.457c0.959 0.959 1.712 1.825 2.268 2.543h-4.811v-4.811c0.718 0.556 1.584 1.309 2.543 2.268zM28 29.5c0 0.271-0.229 0.5-0.5 0.5h-23c-0.271 0-0.5-0.229-0.5-0.5v-27c0-0.271 0.229-0.5 0.5-0.5 0 0 15.499-0 15.5 0v7c0 0.552 0.448 1 1 1h7v19.5z\"></path>\n",
       "<path d=\"M23 26h-14c-0.552 0-1-0.448-1-1s0.448-1 1-1h14c0.552 0 1 0.448 1 1s-0.448 1-1 1z\"></path>\n",
       "<path d=\"M23 22h-14c-0.552 0-1-0.448-1-1s0.448-1 1-1h14c0.552 0 1 0.448 1 1s-0.448 1-1 1z\"></path>\n",
       "<path d=\"M23 18h-14c-0.552 0-1-0.448-1-1s0.448-1 1-1h14c0.552 0 1 0.448 1 1s-0.448 1-1 1z\"></path>\n",
       "</symbol>\n",
       "</defs>\n",
       "</svg>\n",
       "<style>/* CSS stylesheet for displaying xarray objects in jupyterlab.\n",
       " *\n",
       " */\n",
       "\n",
       ":root {\n",
       "  --xr-font-color0: var(--jp-content-font-color0, rgba(0, 0, 0, 1));\n",
       "  --xr-font-color2: var(--jp-content-font-color2, rgba(0, 0, 0, 0.54));\n",
       "  --xr-font-color3: var(--jp-content-font-color3, rgba(0, 0, 0, 0.38));\n",
       "  --xr-border-color: var(--jp-border-color2, #e0e0e0);\n",
       "  --xr-disabled-color: var(--jp-layout-color3, #bdbdbd);\n",
       "  --xr-background-color: var(--jp-layout-color0, white);\n",
       "  --xr-background-color-row-even: var(--jp-layout-color1, white);\n",
       "  --xr-background-color-row-odd: var(--jp-layout-color2, #eeeeee);\n",
       "}\n",
       "\n",
       "html[theme=dark],\n",
       "body.vscode-dark {\n",
       "  --xr-font-color0: rgba(255, 255, 255, 1);\n",
       "  --xr-font-color2: rgba(255, 255, 255, 0.54);\n",
       "  --xr-font-color3: rgba(255, 255, 255, 0.38);\n",
       "  --xr-border-color: #1F1F1F;\n",
       "  --xr-disabled-color: #515151;\n",
       "  --xr-background-color: #111111;\n",
       "  --xr-background-color-row-even: #111111;\n",
       "  --xr-background-color-row-odd: #313131;\n",
       "}\n",
       "\n",
       ".xr-wrap {\n",
       "  display: block;\n",
       "  min-width: 300px;\n",
       "  max-width: 700px;\n",
       "}\n",
       "\n",
       ".xr-text-repr-fallback {\n",
       "  /* fallback to plain text repr when CSS is not injected (untrusted notebook) */\n",
       "  display: none;\n",
       "}\n",
       "\n",
       ".xr-header {\n",
       "  padding-top: 6px;\n",
       "  padding-bottom: 6px;\n",
       "  margin-bottom: 4px;\n",
       "  border-bottom: solid 1px var(--xr-border-color);\n",
       "}\n",
       "\n",
       ".xr-header > div,\n",
       ".xr-header > ul {\n",
       "  display: inline;\n",
       "  margin-top: 0;\n",
       "  margin-bottom: 0;\n",
       "}\n",
       "\n",
       ".xr-obj-type,\n",
       ".xr-array-name {\n",
       "  margin-left: 2px;\n",
       "  margin-right: 10px;\n",
       "}\n",
       "\n",
       ".xr-obj-type {\n",
       "  color: var(--xr-font-color2);\n",
       "}\n",
       "\n",
       ".xr-sections {\n",
       "  padding-left: 0 !important;\n",
       "  display: grid;\n",
       "  grid-template-columns: 150px auto auto 1fr 20px 20px;\n",
       "}\n",
       "\n",
       ".xr-section-item {\n",
       "  display: contents;\n",
       "}\n",
       "\n",
       ".xr-section-item input {\n",
       "  display: none;\n",
       "}\n",
       "\n",
       ".xr-section-item input + label {\n",
       "  color: var(--xr-disabled-color);\n",
       "}\n",
       "\n",
       ".xr-section-item input:enabled + label {\n",
       "  cursor: pointer;\n",
       "  color: var(--xr-font-color2);\n",
       "}\n",
       "\n",
       ".xr-section-item input:enabled + label:hover {\n",
       "  color: var(--xr-font-color0);\n",
       "}\n",
       "\n",
       ".xr-section-summary {\n",
       "  grid-column: 1;\n",
       "  color: var(--xr-font-color2);\n",
       "  font-weight: 500;\n",
       "}\n",
       "\n",
       ".xr-section-summary > span {\n",
       "  display: inline-block;\n",
       "  padding-left: 0.5em;\n",
       "}\n",
       "\n",
       ".xr-section-summary-in:disabled + label {\n",
       "  color: var(--xr-font-color2);\n",
       "}\n",
       "\n",
       ".xr-section-summary-in + label:before {\n",
       "  display: inline-block;\n",
       "  content: '►';\n",
       "  font-size: 11px;\n",
       "  width: 15px;\n",
       "  text-align: center;\n",
       "}\n",
       "\n",
       ".xr-section-summary-in:disabled + label:before {\n",
       "  color: var(--xr-disabled-color);\n",
       "}\n",
       "\n",
       ".xr-section-summary-in:checked + label:before {\n",
       "  content: '▼';\n",
       "}\n",
       "\n",
       ".xr-section-summary-in:checked + label > span {\n",
       "  display: none;\n",
       "}\n",
       "\n",
       ".xr-section-summary,\n",
       ".xr-section-inline-details {\n",
       "  padding-top: 4px;\n",
       "  padding-bottom: 4px;\n",
       "}\n",
       "\n",
       ".xr-section-inline-details {\n",
       "  grid-column: 2 / -1;\n",
       "}\n",
       "\n",
       ".xr-section-details {\n",
       "  display: none;\n",
       "  grid-column: 1 / -1;\n",
       "  margin-bottom: 5px;\n",
       "}\n",
       "\n",
       ".xr-section-summary-in:checked ~ .xr-section-details {\n",
       "  display: contents;\n",
       "}\n",
       "\n",
       ".xr-array-wrap {\n",
       "  grid-column: 1 / -1;\n",
       "  display: grid;\n",
       "  grid-template-columns: 20px auto;\n",
       "}\n",
       "\n",
       ".xr-array-wrap > label {\n",
       "  grid-column: 1;\n",
       "  vertical-align: top;\n",
       "}\n",
       "\n",
       ".xr-preview {\n",
       "  color: var(--xr-font-color3);\n",
       "}\n",
       "\n",
       ".xr-array-preview,\n",
       ".xr-array-data {\n",
       "  padding: 0 5px !important;\n",
       "  grid-column: 2;\n",
       "}\n",
       "\n",
       ".xr-array-data,\n",
       ".xr-array-in:checked ~ .xr-array-preview {\n",
       "  display: none;\n",
       "}\n",
       "\n",
       ".xr-array-in:checked ~ .xr-array-data,\n",
       ".xr-array-preview {\n",
       "  display: inline-block;\n",
       "}\n",
       "\n",
       ".xr-dim-list {\n",
       "  display: inline-block !important;\n",
       "  list-style: none;\n",
       "  padding: 0 !important;\n",
       "  margin: 0;\n",
       "}\n",
       "\n",
       ".xr-dim-list li {\n",
       "  display: inline-block;\n",
       "  padding: 0;\n",
       "  margin: 0;\n",
       "}\n",
       "\n",
       ".xr-dim-list:before {\n",
       "  content: '(';\n",
       "}\n",
       "\n",
       ".xr-dim-list:after {\n",
       "  content: ')';\n",
       "}\n",
       "\n",
       ".xr-dim-list li:not(:last-child):after {\n",
       "  content: ',';\n",
       "  padding-right: 5px;\n",
       "}\n",
       "\n",
       ".xr-has-index {\n",
       "  font-weight: bold;\n",
       "}\n",
       "\n",
       ".xr-var-list,\n",
       ".xr-var-item {\n",
       "  display: contents;\n",
       "}\n",
       "\n",
       ".xr-var-item > div,\n",
       ".xr-var-item label,\n",
       ".xr-var-item > .xr-var-name span {\n",
       "  background-color: var(--xr-background-color-row-even);\n",
       "  margin-bottom: 0;\n",
       "}\n",
       "\n",
       ".xr-var-item > .xr-var-name:hover span {\n",
       "  padding-right: 5px;\n",
       "}\n",
       "\n",
       ".xr-var-list > li:nth-child(odd) > div,\n",
       ".xr-var-list > li:nth-child(odd) > label,\n",
       ".xr-var-list > li:nth-child(odd) > .xr-var-name span {\n",
       "  background-color: var(--xr-background-color-row-odd);\n",
       "}\n",
       "\n",
       ".xr-var-name {\n",
       "  grid-column: 1;\n",
       "}\n",
       "\n",
       ".xr-var-dims {\n",
       "  grid-column: 2;\n",
       "}\n",
       "\n",
       ".xr-var-dtype {\n",
       "  grid-column: 3;\n",
       "  text-align: right;\n",
       "  color: var(--xr-font-color2);\n",
       "}\n",
       "\n",
       ".xr-var-preview {\n",
       "  grid-column: 4;\n",
       "}\n",
       "\n",
       ".xr-var-name,\n",
       ".xr-var-dims,\n",
       ".xr-var-dtype,\n",
       ".xr-preview,\n",
       ".xr-attrs dt {\n",
       "  white-space: nowrap;\n",
       "  overflow: hidden;\n",
       "  text-overflow: ellipsis;\n",
       "  padding-right: 10px;\n",
       "}\n",
       "\n",
       ".xr-var-name:hover,\n",
       ".xr-var-dims:hover,\n",
       ".xr-var-dtype:hover,\n",
       ".xr-attrs dt:hover {\n",
       "  overflow: visible;\n",
       "  width: auto;\n",
       "  z-index: 1;\n",
       "}\n",
       "\n",
       ".xr-var-attrs,\n",
       ".xr-var-data {\n",
       "  display: none;\n",
       "  background-color: var(--xr-background-color) !important;\n",
       "  padding-bottom: 5px !important;\n",
       "}\n",
       "\n",
       ".xr-var-attrs-in:checked ~ .xr-var-attrs,\n",
       ".xr-var-data-in:checked ~ .xr-var-data {\n",
       "  display: block;\n",
       "}\n",
       "\n",
       ".xr-var-data > table {\n",
       "  float: right;\n",
       "}\n",
       "\n",
       ".xr-var-name span,\n",
       ".xr-var-data,\n",
       ".xr-attrs {\n",
       "  padding-left: 25px !important;\n",
       "}\n",
       "\n",
       ".xr-attrs,\n",
       ".xr-var-attrs,\n",
       ".xr-var-data {\n",
       "  grid-column: 1 / -1;\n",
       "}\n",
       "\n",
       "dl.xr-attrs {\n",
       "  padding: 0;\n",
       "  margin: 0;\n",
       "  display: grid;\n",
       "  grid-template-columns: 125px auto;\n",
       "}\n",
       "\n",
       ".xr-attrs dt,\n",
       ".xr-attrs dd {\n",
       "  padding: 0;\n",
       "  margin: 0;\n",
       "  float: left;\n",
       "  padding-right: 10px;\n",
       "  width: auto;\n",
       "}\n",
       "\n",
       ".xr-attrs dt {\n",
       "  font-weight: normal;\n",
       "  grid-column: 1;\n",
       "}\n",
       "\n",
       ".xr-attrs dt:hover span {\n",
       "  display: inline-block;\n",
       "  background: var(--xr-background-color);\n",
       "  padding-right: 10px;\n",
       "}\n",
       "\n",
       ".xr-attrs dd {\n",
       "  grid-column: 2;\n",
       "  white-space: pre-wrap;\n",
       "  word-break: break-all;\n",
       "}\n",
       "\n",
       ".xr-icon-database,\n",
       ".xr-icon-file-text2 {\n",
       "  display: inline-block;\n",
       "  vertical-align: middle;\n",
       "  width: 1em;\n",
       "  height: 1.5em !important;\n",
       "  stroke-width: 0;\n",
       "  stroke: currentColor;\n",
       "  fill: currentColor;\n",
       "}\n",
       "</style><pre class='xr-text-repr-fallback'>&lt;xarray.DataArray &#x27;scalar_target_names&#x27; (scalar_target: 2)&gt;\n",
       "array([b&#x27;shortwave_surface_down_flux_w_m02&#x27;, b&#x27;shortwave_toa_up_flux_w_m02&#x27;],\n",
       "      dtype=&#x27;|S35&#x27;)\n",
       "Dimensions without coordinates: scalar_target</pre><div class='xr-wrap' hidden><div class='xr-header'><div class='xr-obj-type'>xarray.DataArray</div><div class='xr-array-name'>'scalar_target_names'</div><ul class='xr-dim-list'><li><span>scalar_target</span>: 2</li></ul></div><ul class='xr-sections'><li class='xr-section-item'><div class='xr-array-wrap'><input id='section-41bfedc5-a437-457b-b6e3-9fac18778c79' class='xr-array-in' type='checkbox' checked><label for='section-41bfedc5-a437-457b-b6e3-9fac18778c79' title='Show/hide data repr'><svg class='icon xr-icon-database'><use xlink:href='#icon-database'></use></svg></label><div class='xr-array-preview xr-preview'><span>b&#x27;shortwave_surface_down_flux_w_m02&#x27; b&#x27;shortwave_toa_up_flux_w_m02&#x27;</span></div><div class='xr-array-data'><pre>array([b&#x27;shortwave_surface_down_flux_w_m02&#x27;, b&#x27;shortwave_toa_up_flux_w_m02&#x27;],\n",
       "      dtype=&#x27;|S35&#x27;)</pre></div></div></li><li class='xr-section-item'><input id='section-34687e64-4719-4db4-99bb-6fab9e587441' class='xr-section-summary-in' type='checkbox' disabled ><label for='section-34687e64-4719-4db4-99bb-6fab9e587441' class='xr-section-summary'  title='Expand/collapse section'>Coordinates: <span>(0)</span></label><div class='xr-section-inline-details'></div><div class='xr-section-details'><ul class='xr-var-list'></ul></div></li><li class='xr-section-item'><input id='section-04a5e2b3-782b-414b-9877-c0639f307a75' class='xr-section-summary-in' type='checkbox' disabled ><label for='section-04a5e2b3-782b-414b-9877-c0639f307a75' class='xr-section-summary'  title='Expand/collapse section'>Attributes: <span>(0)</span></label><div class='xr-section-inline-details'></div><div class='xr-section-details'><dl class='xr-attrs'></dl></div></li></ul></div></div>"
      ],
      "text/plain": [
       "<xarray.DataArray 'scalar_target_names' (scalar_target: 2)>\n",
       "array([b'shortwave_surface_down_flux_w_m02', b'shortwave_toa_up_flux_w_m02'],\n",
       "      dtype='|S35')\n",
       "Dimensions without coordinates: scalar_target"
      ]
     },
     "execution_count": 15,
     "metadata": {},
     "output_type": "execute_result"
    }
   ],
   "source": [
    "data2018['scalar_target_names']"
   ]
  },
  {
   "cell_type": "code",
   "execution_count": 16,
   "id": "0907b3c1",
   "metadata": {},
   "outputs": [
    {
     "data": {
      "text/html": [
       "<div><svg style=\"position: absolute; width: 0; height: 0; overflow: hidden\">\n",
       "<defs>\n",
       "<symbol id=\"icon-database\" viewBox=\"0 0 32 32\">\n",
       "<path d=\"M16 0c-8.837 0-16 2.239-16 5v4c0 2.761 7.163 5 16 5s16-2.239 16-5v-4c0-2.761-7.163-5-16-5z\"></path>\n",
       "<path d=\"M16 17c-8.837 0-16-2.239-16-5v6c0 2.761 7.163 5 16 5s16-2.239 16-5v-6c0 2.761-7.163 5-16 5z\"></path>\n",
       "<path d=\"M16 26c-8.837 0-16-2.239-16-5v6c0 2.761 7.163 5 16 5s16-2.239 16-5v-6c0 2.761-7.163 5-16 5z\"></path>\n",
       "</symbol>\n",
       "<symbol id=\"icon-file-text2\" viewBox=\"0 0 32 32\">\n",
       "<path d=\"M28.681 7.159c-0.694-0.947-1.662-2.053-2.724-3.116s-2.169-2.030-3.116-2.724c-1.612-1.182-2.393-1.319-2.841-1.319h-15.5c-1.378 0-2.5 1.121-2.5 2.5v27c0 1.378 1.122 2.5 2.5 2.5h23c1.378 0 2.5-1.122 2.5-2.5v-19.5c0-0.448-0.137-1.23-1.319-2.841zM24.543 5.457c0.959 0.959 1.712 1.825 2.268 2.543h-4.811v-4.811c0.718 0.556 1.584 1.309 2.543 2.268zM28 29.5c0 0.271-0.229 0.5-0.5 0.5h-23c-0.271 0-0.5-0.229-0.5-0.5v-27c0-0.271 0.229-0.5 0.5-0.5 0 0 15.499-0 15.5 0v7c0 0.552 0.448 1 1 1h7v19.5z\"></path>\n",
       "<path d=\"M23 26h-14c-0.552 0-1-0.448-1-1s0.448-1 1-1h14c0.552 0 1 0.448 1 1s-0.448 1-1 1z\"></path>\n",
       "<path d=\"M23 22h-14c-0.552 0-1-0.448-1-1s0.448-1 1-1h14c0.552 0 1 0.448 1 1s-0.448 1-1 1z\"></path>\n",
       "<path d=\"M23 18h-14c-0.552 0-1-0.448-1-1s0.448-1 1-1h14c0.552 0 1 0.448 1 1s-0.448 1-1 1z\"></path>\n",
       "</symbol>\n",
       "</defs>\n",
       "</svg>\n",
       "<style>/* CSS stylesheet for displaying xarray objects in jupyterlab.\n",
       " *\n",
       " */\n",
       "\n",
       ":root {\n",
       "  --xr-font-color0: var(--jp-content-font-color0, rgba(0, 0, 0, 1));\n",
       "  --xr-font-color2: var(--jp-content-font-color2, rgba(0, 0, 0, 0.54));\n",
       "  --xr-font-color3: var(--jp-content-font-color3, rgba(0, 0, 0, 0.38));\n",
       "  --xr-border-color: var(--jp-border-color2, #e0e0e0);\n",
       "  --xr-disabled-color: var(--jp-layout-color3, #bdbdbd);\n",
       "  --xr-background-color: var(--jp-layout-color0, white);\n",
       "  --xr-background-color-row-even: var(--jp-layout-color1, white);\n",
       "  --xr-background-color-row-odd: var(--jp-layout-color2, #eeeeee);\n",
       "}\n",
       "\n",
       "html[theme=dark],\n",
       "body.vscode-dark {\n",
       "  --xr-font-color0: rgba(255, 255, 255, 1);\n",
       "  --xr-font-color2: rgba(255, 255, 255, 0.54);\n",
       "  --xr-font-color3: rgba(255, 255, 255, 0.38);\n",
       "  --xr-border-color: #1F1F1F;\n",
       "  --xr-disabled-color: #515151;\n",
       "  --xr-background-color: #111111;\n",
       "  --xr-background-color-row-even: #111111;\n",
       "  --xr-background-color-row-odd: #313131;\n",
       "}\n",
       "\n",
       ".xr-wrap {\n",
       "  display: block;\n",
       "  min-width: 300px;\n",
       "  max-width: 700px;\n",
       "}\n",
       "\n",
       ".xr-text-repr-fallback {\n",
       "  /* fallback to plain text repr when CSS is not injected (untrusted notebook) */\n",
       "  display: none;\n",
       "}\n",
       "\n",
       ".xr-header {\n",
       "  padding-top: 6px;\n",
       "  padding-bottom: 6px;\n",
       "  margin-bottom: 4px;\n",
       "  border-bottom: solid 1px var(--xr-border-color);\n",
       "}\n",
       "\n",
       ".xr-header > div,\n",
       ".xr-header > ul {\n",
       "  display: inline;\n",
       "  margin-top: 0;\n",
       "  margin-bottom: 0;\n",
       "}\n",
       "\n",
       ".xr-obj-type,\n",
       ".xr-array-name {\n",
       "  margin-left: 2px;\n",
       "  margin-right: 10px;\n",
       "}\n",
       "\n",
       ".xr-obj-type {\n",
       "  color: var(--xr-font-color2);\n",
       "}\n",
       "\n",
       ".xr-sections {\n",
       "  padding-left: 0 !important;\n",
       "  display: grid;\n",
       "  grid-template-columns: 150px auto auto 1fr 20px 20px;\n",
       "}\n",
       "\n",
       ".xr-section-item {\n",
       "  display: contents;\n",
       "}\n",
       "\n",
       ".xr-section-item input {\n",
       "  display: none;\n",
       "}\n",
       "\n",
       ".xr-section-item input + label {\n",
       "  color: var(--xr-disabled-color);\n",
       "}\n",
       "\n",
       ".xr-section-item input:enabled + label {\n",
       "  cursor: pointer;\n",
       "  color: var(--xr-font-color2);\n",
       "}\n",
       "\n",
       ".xr-section-item input:enabled + label:hover {\n",
       "  color: var(--xr-font-color0);\n",
       "}\n",
       "\n",
       ".xr-section-summary {\n",
       "  grid-column: 1;\n",
       "  color: var(--xr-font-color2);\n",
       "  font-weight: 500;\n",
       "}\n",
       "\n",
       ".xr-section-summary > span {\n",
       "  display: inline-block;\n",
       "  padding-left: 0.5em;\n",
       "}\n",
       "\n",
       ".xr-section-summary-in:disabled + label {\n",
       "  color: var(--xr-font-color2);\n",
       "}\n",
       "\n",
       ".xr-section-summary-in + label:before {\n",
       "  display: inline-block;\n",
       "  content: '►';\n",
       "  font-size: 11px;\n",
       "  width: 15px;\n",
       "  text-align: center;\n",
       "}\n",
       "\n",
       ".xr-section-summary-in:disabled + label:before {\n",
       "  color: var(--xr-disabled-color);\n",
       "}\n",
       "\n",
       ".xr-section-summary-in:checked + label:before {\n",
       "  content: '▼';\n",
       "}\n",
       "\n",
       ".xr-section-summary-in:checked + label > span {\n",
       "  display: none;\n",
       "}\n",
       "\n",
       ".xr-section-summary,\n",
       ".xr-section-inline-details {\n",
       "  padding-top: 4px;\n",
       "  padding-bottom: 4px;\n",
       "}\n",
       "\n",
       ".xr-section-inline-details {\n",
       "  grid-column: 2 / -1;\n",
       "}\n",
       "\n",
       ".xr-section-details {\n",
       "  display: none;\n",
       "  grid-column: 1 / -1;\n",
       "  margin-bottom: 5px;\n",
       "}\n",
       "\n",
       ".xr-section-summary-in:checked ~ .xr-section-details {\n",
       "  display: contents;\n",
       "}\n",
       "\n",
       ".xr-array-wrap {\n",
       "  grid-column: 1 / -1;\n",
       "  display: grid;\n",
       "  grid-template-columns: 20px auto;\n",
       "}\n",
       "\n",
       ".xr-array-wrap > label {\n",
       "  grid-column: 1;\n",
       "  vertical-align: top;\n",
       "}\n",
       "\n",
       ".xr-preview {\n",
       "  color: var(--xr-font-color3);\n",
       "}\n",
       "\n",
       ".xr-array-preview,\n",
       ".xr-array-data {\n",
       "  padding: 0 5px !important;\n",
       "  grid-column: 2;\n",
       "}\n",
       "\n",
       ".xr-array-data,\n",
       ".xr-array-in:checked ~ .xr-array-preview {\n",
       "  display: none;\n",
       "}\n",
       "\n",
       ".xr-array-in:checked ~ .xr-array-data,\n",
       ".xr-array-preview {\n",
       "  display: inline-block;\n",
       "}\n",
       "\n",
       ".xr-dim-list {\n",
       "  display: inline-block !important;\n",
       "  list-style: none;\n",
       "  padding: 0 !important;\n",
       "  margin: 0;\n",
       "}\n",
       "\n",
       ".xr-dim-list li {\n",
       "  display: inline-block;\n",
       "  padding: 0;\n",
       "  margin: 0;\n",
       "}\n",
       "\n",
       ".xr-dim-list:before {\n",
       "  content: '(';\n",
       "}\n",
       "\n",
       ".xr-dim-list:after {\n",
       "  content: ')';\n",
       "}\n",
       "\n",
       ".xr-dim-list li:not(:last-child):after {\n",
       "  content: ',';\n",
       "  padding-right: 5px;\n",
       "}\n",
       "\n",
       ".xr-has-index {\n",
       "  font-weight: bold;\n",
       "}\n",
       "\n",
       ".xr-var-list,\n",
       ".xr-var-item {\n",
       "  display: contents;\n",
       "}\n",
       "\n",
       ".xr-var-item > div,\n",
       ".xr-var-item label,\n",
       ".xr-var-item > .xr-var-name span {\n",
       "  background-color: var(--xr-background-color-row-even);\n",
       "  margin-bottom: 0;\n",
       "}\n",
       "\n",
       ".xr-var-item > .xr-var-name:hover span {\n",
       "  padding-right: 5px;\n",
       "}\n",
       "\n",
       ".xr-var-list > li:nth-child(odd) > div,\n",
       ".xr-var-list > li:nth-child(odd) > label,\n",
       ".xr-var-list > li:nth-child(odd) > .xr-var-name span {\n",
       "  background-color: var(--xr-background-color-row-odd);\n",
       "}\n",
       "\n",
       ".xr-var-name {\n",
       "  grid-column: 1;\n",
       "}\n",
       "\n",
       ".xr-var-dims {\n",
       "  grid-column: 2;\n",
       "}\n",
       "\n",
       ".xr-var-dtype {\n",
       "  grid-column: 3;\n",
       "  text-align: right;\n",
       "  color: var(--xr-font-color2);\n",
       "}\n",
       "\n",
       ".xr-var-preview {\n",
       "  grid-column: 4;\n",
       "}\n",
       "\n",
       ".xr-var-name,\n",
       ".xr-var-dims,\n",
       ".xr-var-dtype,\n",
       ".xr-preview,\n",
       ".xr-attrs dt {\n",
       "  white-space: nowrap;\n",
       "  overflow: hidden;\n",
       "  text-overflow: ellipsis;\n",
       "  padding-right: 10px;\n",
       "}\n",
       "\n",
       ".xr-var-name:hover,\n",
       ".xr-var-dims:hover,\n",
       ".xr-var-dtype:hover,\n",
       ".xr-attrs dt:hover {\n",
       "  overflow: visible;\n",
       "  width: auto;\n",
       "  z-index: 1;\n",
       "}\n",
       "\n",
       ".xr-var-attrs,\n",
       ".xr-var-data {\n",
       "  display: none;\n",
       "  background-color: var(--xr-background-color) !important;\n",
       "  padding-bottom: 5px !important;\n",
       "}\n",
       "\n",
       ".xr-var-attrs-in:checked ~ .xr-var-attrs,\n",
       ".xr-var-data-in:checked ~ .xr-var-data {\n",
       "  display: block;\n",
       "}\n",
       "\n",
       ".xr-var-data > table {\n",
       "  float: right;\n",
       "}\n",
       "\n",
       ".xr-var-name span,\n",
       ".xr-var-data,\n",
       ".xr-attrs {\n",
       "  padding-left: 25px !important;\n",
       "}\n",
       "\n",
       ".xr-attrs,\n",
       ".xr-var-attrs,\n",
       ".xr-var-data {\n",
       "  grid-column: 1 / -1;\n",
       "}\n",
       "\n",
       "dl.xr-attrs {\n",
       "  padding: 0;\n",
       "  margin: 0;\n",
       "  display: grid;\n",
       "  grid-template-columns: 125px auto;\n",
       "}\n",
       "\n",
       ".xr-attrs dt,\n",
       ".xr-attrs dd {\n",
       "  padding: 0;\n",
       "  margin: 0;\n",
       "  float: left;\n",
       "  padding-right: 10px;\n",
       "  width: auto;\n",
       "}\n",
       "\n",
       ".xr-attrs dt {\n",
       "  font-weight: normal;\n",
       "  grid-column: 1;\n",
       "}\n",
       "\n",
       ".xr-attrs dt:hover span {\n",
       "  display: inline-block;\n",
       "  background: var(--xr-background-color);\n",
       "  padding-right: 10px;\n",
       "}\n",
       "\n",
       ".xr-attrs dd {\n",
       "  grid-column: 2;\n",
       "  white-space: pre-wrap;\n",
       "  word-break: break-all;\n",
       "}\n",
       "\n",
       ".xr-icon-database,\n",
       ".xr-icon-file-text2 {\n",
       "  display: inline-block;\n",
       "  vertical-align: middle;\n",
       "  width: 1em;\n",
       "  height: 1.5em !important;\n",
       "  stroke-width: 0;\n",
       "  stroke: currentColor;\n",
       "  fill: currentColor;\n",
       "}\n",
       "</style><pre class='xr-text-repr-fallback'>&lt;xarray.DataArray &#x27;scalar_predictor_names&#x27; (scalar_predictor: 6)&gt;\n",
       "array([b&#x27;zenith_angle_radians&#x27;, b&#x27;albedo&#x27;, b&#x27;latitude_deg_n&#x27;,\n",
       "       b&#x27;longitude_deg_e&#x27;, b&#x27;column_liquid_water_path_kg_m02&#x27;,\n",
       "       b&#x27;column_ice_water_path_kg_m02&#x27;], dtype=&#x27;|S35&#x27;)\n",
       "Dimensions without coordinates: scalar_predictor</pre><div class='xr-wrap' hidden><div class='xr-header'><div class='xr-obj-type'>xarray.DataArray</div><div class='xr-array-name'>'scalar_predictor_names'</div><ul class='xr-dim-list'><li><span>scalar_predictor</span>: 6</li></ul></div><ul class='xr-sections'><li class='xr-section-item'><div class='xr-array-wrap'><input id='section-4133a7de-77e8-4c19-ac23-5a3d5808c0b8' class='xr-array-in' type='checkbox' checked><label for='section-4133a7de-77e8-4c19-ac23-5a3d5808c0b8' title='Show/hide data repr'><svg class='icon xr-icon-database'><use xlink:href='#icon-database'></use></svg></label><div class='xr-array-preview xr-preview'><span>b&#x27;zenith_angle_radians&#x27; b&#x27;albedo&#x27; ... b&#x27;column_ice_water_path_kg_m02&#x27;</span></div><div class='xr-array-data'><pre>array([b&#x27;zenith_angle_radians&#x27;, b&#x27;albedo&#x27;, b&#x27;latitude_deg_n&#x27;,\n",
       "       b&#x27;longitude_deg_e&#x27;, b&#x27;column_liquid_water_path_kg_m02&#x27;,\n",
       "       b&#x27;column_ice_water_path_kg_m02&#x27;], dtype=&#x27;|S35&#x27;)</pre></div></div></li><li class='xr-section-item'><input id='section-4682c09d-527c-4334-956b-6d869d34b7ee' class='xr-section-summary-in' type='checkbox' disabled ><label for='section-4682c09d-527c-4334-956b-6d869d34b7ee' class='xr-section-summary'  title='Expand/collapse section'>Coordinates: <span>(0)</span></label><div class='xr-section-inline-details'></div><div class='xr-section-details'><ul class='xr-var-list'></ul></div></li><li class='xr-section-item'><input id='section-f89aea94-5952-4b8a-9ddb-e689229e2601' class='xr-section-summary-in' type='checkbox' disabled ><label for='section-f89aea94-5952-4b8a-9ddb-e689229e2601' class='xr-section-summary'  title='Expand/collapse section'>Attributes: <span>(0)</span></label><div class='xr-section-inline-details'></div><div class='xr-section-details'><dl class='xr-attrs'></dl></div></li></ul></div></div>"
      ],
      "text/plain": [
       "<xarray.DataArray 'scalar_predictor_names' (scalar_predictor: 6)>\n",
       "array([b'zenith_angle_radians', b'albedo', b'latitude_deg_n',\n",
       "       b'longitude_deg_e', b'column_liquid_water_path_kg_m02',\n",
       "       b'column_ice_water_path_kg_m02'], dtype='|S35')\n",
       "Dimensions without coordinates: scalar_predictor"
      ]
     },
     "execution_count": 16,
     "metadata": {},
     "output_type": "execute_result"
    }
   ],
   "source": [
    "data2018['scalar_predictor_names']"
   ]
  },
  {
   "cell_type": "code",
   "execution_count": 92,
   "id": "5da7c7fb",
   "metadata": {},
   "outputs": [
    {
     "data": {
      "text/html": [
       "<div><svg style=\"position: absolute; width: 0; height: 0; overflow: hidden\">\n",
       "<defs>\n",
       "<symbol id=\"icon-database\" viewBox=\"0 0 32 32\">\n",
       "<path d=\"M16 0c-8.837 0-16 2.239-16 5v4c0 2.761 7.163 5 16 5s16-2.239 16-5v-4c0-2.761-7.163-5-16-5z\"></path>\n",
       "<path d=\"M16 17c-8.837 0-16-2.239-16-5v6c0 2.761 7.163 5 16 5s16-2.239 16-5v-6c0 2.761-7.163 5-16 5z\"></path>\n",
       "<path d=\"M16 26c-8.837 0-16-2.239-16-5v6c0 2.761 7.163 5 16 5s16-2.239 16-5v-6c0 2.761-7.163 5-16 5z\"></path>\n",
       "</symbol>\n",
       "<symbol id=\"icon-file-text2\" viewBox=\"0 0 32 32\">\n",
       "<path d=\"M28.681 7.159c-0.694-0.947-1.662-2.053-2.724-3.116s-2.169-2.030-3.116-2.724c-1.612-1.182-2.393-1.319-2.841-1.319h-15.5c-1.378 0-2.5 1.121-2.5 2.5v27c0 1.378 1.122 2.5 2.5 2.5h23c1.378 0 2.5-1.122 2.5-2.5v-19.5c0-0.448-0.137-1.23-1.319-2.841zM24.543 5.457c0.959 0.959 1.712 1.825 2.268 2.543h-4.811v-4.811c0.718 0.556 1.584 1.309 2.543 2.268zM28 29.5c0 0.271-0.229 0.5-0.5 0.5h-23c-0.271 0-0.5-0.229-0.5-0.5v-27c0-0.271 0.229-0.5 0.5-0.5 0 0 15.499-0 15.5 0v7c0 0.552 0.448 1 1 1h7v19.5z\"></path>\n",
       "<path d=\"M23 26h-14c-0.552 0-1-0.448-1-1s0.448-1 1-1h14c0.552 0 1 0.448 1 1s-0.448 1-1 1z\"></path>\n",
       "<path d=\"M23 22h-14c-0.552 0-1-0.448-1-1s0.448-1 1-1h14c0.552 0 1 0.448 1 1s-0.448 1-1 1z\"></path>\n",
       "<path d=\"M23 18h-14c-0.552 0-1-0.448-1-1s0.448-1 1-1h14c0.552 0 1 0.448 1 1s-0.448 1-1 1z\"></path>\n",
       "</symbol>\n",
       "</defs>\n",
       "</svg>\n",
       "<style>/* CSS stylesheet for displaying xarray objects in jupyterlab.\n",
       " *\n",
       " */\n",
       "\n",
       ":root {\n",
       "  --xr-font-color0: var(--jp-content-font-color0, rgba(0, 0, 0, 1));\n",
       "  --xr-font-color2: var(--jp-content-font-color2, rgba(0, 0, 0, 0.54));\n",
       "  --xr-font-color3: var(--jp-content-font-color3, rgba(0, 0, 0, 0.38));\n",
       "  --xr-border-color: var(--jp-border-color2, #e0e0e0);\n",
       "  --xr-disabled-color: var(--jp-layout-color3, #bdbdbd);\n",
       "  --xr-background-color: var(--jp-layout-color0, white);\n",
       "  --xr-background-color-row-even: var(--jp-layout-color1, white);\n",
       "  --xr-background-color-row-odd: var(--jp-layout-color2, #eeeeee);\n",
       "}\n",
       "\n",
       "html[theme=dark],\n",
       "body.vscode-dark {\n",
       "  --xr-font-color0: rgba(255, 255, 255, 1);\n",
       "  --xr-font-color2: rgba(255, 255, 255, 0.54);\n",
       "  --xr-font-color3: rgba(255, 255, 255, 0.38);\n",
       "  --xr-border-color: #1F1F1F;\n",
       "  --xr-disabled-color: #515151;\n",
       "  --xr-background-color: #111111;\n",
       "  --xr-background-color-row-even: #111111;\n",
       "  --xr-background-color-row-odd: #313131;\n",
       "}\n",
       "\n",
       ".xr-wrap {\n",
       "  display: block;\n",
       "  min-width: 300px;\n",
       "  max-width: 700px;\n",
       "}\n",
       "\n",
       ".xr-text-repr-fallback {\n",
       "  /* fallback to plain text repr when CSS is not injected (untrusted notebook) */\n",
       "  display: none;\n",
       "}\n",
       "\n",
       ".xr-header {\n",
       "  padding-top: 6px;\n",
       "  padding-bottom: 6px;\n",
       "  margin-bottom: 4px;\n",
       "  border-bottom: solid 1px var(--xr-border-color);\n",
       "}\n",
       "\n",
       ".xr-header > div,\n",
       ".xr-header > ul {\n",
       "  display: inline;\n",
       "  margin-top: 0;\n",
       "  margin-bottom: 0;\n",
       "}\n",
       "\n",
       ".xr-obj-type,\n",
       ".xr-array-name {\n",
       "  margin-left: 2px;\n",
       "  margin-right: 10px;\n",
       "}\n",
       "\n",
       ".xr-obj-type {\n",
       "  color: var(--xr-font-color2);\n",
       "}\n",
       "\n",
       ".xr-sections {\n",
       "  padding-left: 0 !important;\n",
       "  display: grid;\n",
       "  grid-template-columns: 150px auto auto 1fr 20px 20px;\n",
       "}\n",
       "\n",
       ".xr-section-item {\n",
       "  display: contents;\n",
       "}\n",
       "\n",
       ".xr-section-item input {\n",
       "  display: none;\n",
       "}\n",
       "\n",
       ".xr-section-item input + label {\n",
       "  color: var(--xr-disabled-color);\n",
       "}\n",
       "\n",
       ".xr-section-item input:enabled + label {\n",
       "  cursor: pointer;\n",
       "  color: var(--xr-font-color2);\n",
       "}\n",
       "\n",
       ".xr-section-item input:enabled + label:hover {\n",
       "  color: var(--xr-font-color0);\n",
       "}\n",
       "\n",
       ".xr-section-summary {\n",
       "  grid-column: 1;\n",
       "  color: var(--xr-font-color2);\n",
       "  font-weight: 500;\n",
       "}\n",
       "\n",
       ".xr-section-summary > span {\n",
       "  display: inline-block;\n",
       "  padding-left: 0.5em;\n",
       "}\n",
       "\n",
       ".xr-section-summary-in:disabled + label {\n",
       "  color: var(--xr-font-color2);\n",
       "}\n",
       "\n",
       ".xr-section-summary-in + label:before {\n",
       "  display: inline-block;\n",
       "  content: '►';\n",
       "  font-size: 11px;\n",
       "  width: 15px;\n",
       "  text-align: center;\n",
       "}\n",
       "\n",
       ".xr-section-summary-in:disabled + label:before {\n",
       "  color: var(--xr-disabled-color);\n",
       "}\n",
       "\n",
       ".xr-section-summary-in:checked + label:before {\n",
       "  content: '▼';\n",
       "}\n",
       "\n",
       ".xr-section-summary-in:checked + label > span {\n",
       "  display: none;\n",
       "}\n",
       "\n",
       ".xr-section-summary,\n",
       ".xr-section-inline-details {\n",
       "  padding-top: 4px;\n",
       "  padding-bottom: 4px;\n",
       "}\n",
       "\n",
       ".xr-section-inline-details {\n",
       "  grid-column: 2 / -1;\n",
       "}\n",
       "\n",
       ".xr-section-details {\n",
       "  display: none;\n",
       "  grid-column: 1 / -1;\n",
       "  margin-bottom: 5px;\n",
       "}\n",
       "\n",
       ".xr-section-summary-in:checked ~ .xr-section-details {\n",
       "  display: contents;\n",
       "}\n",
       "\n",
       ".xr-array-wrap {\n",
       "  grid-column: 1 / -1;\n",
       "  display: grid;\n",
       "  grid-template-columns: 20px auto;\n",
       "}\n",
       "\n",
       ".xr-array-wrap > label {\n",
       "  grid-column: 1;\n",
       "  vertical-align: top;\n",
       "}\n",
       "\n",
       ".xr-preview {\n",
       "  color: var(--xr-font-color3);\n",
       "}\n",
       "\n",
       ".xr-array-preview,\n",
       ".xr-array-data {\n",
       "  padding: 0 5px !important;\n",
       "  grid-column: 2;\n",
       "}\n",
       "\n",
       ".xr-array-data,\n",
       ".xr-array-in:checked ~ .xr-array-preview {\n",
       "  display: none;\n",
       "}\n",
       "\n",
       ".xr-array-in:checked ~ .xr-array-data,\n",
       ".xr-array-preview {\n",
       "  display: inline-block;\n",
       "}\n",
       "\n",
       ".xr-dim-list {\n",
       "  display: inline-block !important;\n",
       "  list-style: none;\n",
       "  padding: 0 !important;\n",
       "  margin: 0;\n",
       "}\n",
       "\n",
       ".xr-dim-list li {\n",
       "  display: inline-block;\n",
       "  padding: 0;\n",
       "  margin: 0;\n",
       "}\n",
       "\n",
       ".xr-dim-list:before {\n",
       "  content: '(';\n",
       "}\n",
       "\n",
       ".xr-dim-list:after {\n",
       "  content: ')';\n",
       "}\n",
       "\n",
       ".xr-dim-list li:not(:last-child):after {\n",
       "  content: ',';\n",
       "  padding-right: 5px;\n",
       "}\n",
       "\n",
       ".xr-has-index {\n",
       "  font-weight: bold;\n",
       "}\n",
       "\n",
       ".xr-var-list,\n",
       ".xr-var-item {\n",
       "  display: contents;\n",
       "}\n",
       "\n",
       ".xr-var-item > div,\n",
       ".xr-var-item label,\n",
       ".xr-var-item > .xr-var-name span {\n",
       "  background-color: var(--xr-background-color-row-even);\n",
       "  margin-bottom: 0;\n",
       "}\n",
       "\n",
       ".xr-var-item > .xr-var-name:hover span {\n",
       "  padding-right: 5px;\n",
       "}\n",
       "\n",
       ".xr-var-list > li:nth-child(odd) > div,\n",
       ".xr-var-list > li:nth-child(odd) > label,\n",
       ".xr-var-list > li:nth-child(odd) > .xr-var-name span {\n",
       "  background-color: var(--xr-background-color-row-odd);\n",
       "}\n",
       "\n",
       ".xr-var-name {\n",
       "  grid-column: 1;\n",
       "}\n",
       "\n",
       ".xr-var-dims {\n",
       "  grid-column: 2;\n",
       "}\n",
       "\n",
       ".xr-var-dtype {\n",
       "  grid-column: 3;\n",
       "  text-align: right;\n",
       "  color: var(--xr-font-color2);\n",
       "}\n",
       "\n",
       ".xr-var-preview {\n",
       "  grid-column: 4;\n",
       "}\n",
       "\n",
       ".xr-var-name,\n",
       ".xr-var-dims,\n",
       ".xr-var-dtype,\n",
       ".xr-preview,\n",
       ".xr-attrs dt {\n",
       "  white-space: nowrap;\n",
       "  overflow: hidden;\n",
       "  text-overflow: ellipsis;\n",
       "  padding-right: 10px;\n",
       "}\n",
       "\n",
       ".xr-var-name:hover,\n",
       ".xr-var-dims:hover,\n",
       ".xr-var-dtype:hover,\n",
       ".xr-attrs dt:hover {\n",
       "  overflow: visible;\n",
       "  width: auto;\n",
       "  z-index: 1;\n",
       "}\n",
       "\n",
       ".xr-var-attrs,\n",
       ".xr-var-data {\n",
       "  display: none;\n",
       "  background-color: var(--xr-background-color) !important;\n",
       "  padding-bottom: 5px !important;\n",
       "}\n",
       "\n",
       ".xr-var-attrs-in:checked ~ .xr-var-attrs,\n",
       ".xr-var-data-in:checked ~ .xr-var-data {\n",
       "  display: block;\n",
       "}\n",
       "\n",
       ".xr-var-data > table {\n",
       "  float: right;\n",
       "}\n",
       "\n",
       ".xr-var-name span,\n",
       ".xr-var-data,\n",
       ".xr-attrs {\n",
       "  padding-left: 25px !important;\n",
       "}\n",
       "\n",
       ".xr-attrs,\n",
       ".xr-var-attrs,\n",
       ".xr-var-data {\n",
       "  grid-column: 1 / -1;\n",
       "}\n",
       "\n",
       "dl.xr-attrs {\n",
       "  padding: 0;\n",
       "  margin: 0;\n",
       "  display: grid;\n",
       "  grid-template-columns: 125px auto;\n",
       "}\n",
       "\n",
       ".xr-attrs dt,\n",
       ".xr-attrs dd {\n",
       "  padding: 0;\n",
       "  margin: 0;\n",
       "  float: left;\n",
       "  padding-right: 10px;\n",
       "  width: auto;\n",
       "}\n",
       "\n",
       ".xr-attrs dt {\n",
       "  font-weight: normal;\n",
       "  grid-column: 1;\n",
       "}\n",
       "\n",
       ".xr-attrs dt:hover span {\n",
       "  display: inline-block;\n",
       "  background: var(--xr-background-color);\n",
       "  padding-right: 10px;\n",
       "}\n",
       "\n",
       ".xr-attrs dd {\n",
       "  grid-column: 2;\n",
       "  white-space: pre-wrap;\n",
       "  word-break: break-all;\n",
       "}\n",
       "\n",
       ".xr-icon-database,\n",
       ".xr-icon-file-text2 {\n",
       "  display: inline-block;\n",
       "  vertical-align: middle;\n",
       "  width: 1em;\n",
       "  height: 1.5em !important;\n",
       "  stroke-width: 0;\n",
       "  stroke: currentColor;\n",
       "  fill: currentColor;\n",
       "}\n",
       "</style><pre class='xr-text-repr-fallback'>&lt;xarray.DataArray &#x27;vector_predictor_names&#x27; (vector_predictor: 12)&gt;\n",
       "array([b&#x27;pressure_pascals&#x27;, b&#x27;temperature_kelvins&#x27;,\n",
       "       b&#x27;specific_humidity_kg_kg01&#x27;, b&#x27;liquid_water_content_kg_m03&#x27;,\n",
       "       b&#x27;ice_water_content_kg_m03&#x27;, b&#x27;liquid_water_path_kg_m02&#x27;,\n",
       "       b&#x27;ice_water_path_kg_m02&#x27;, b&#x27;vapour_path_kg_m02&#x27;,\n",
       "       b&#x27;upward_liquid_water_path_kg_m02&#x27;, b&#x27;upward_ice_water_path_kg_m02&#x27;,\n",
       "       b&#x27;upward_vapour_path_kg_m02&#x27;, b&#x27;relative_humidity_unitless&#x27;],\n",
       "      dtype=&#x27;|S35&#x27;)\n",
       "Dimensions without coordinates: vector_predictor</pre><div class='xr-wrap' hidden><div class='xr-header'><div class='xr-obj-type'>xarray.DataArray</div><div class='xr-array-name'>'vector_predictor_names'</div><ul class='xr-dim-list'><li><span>vector_predictor</span>: 12</li></ul></div><ul class='xr-sections'><li class='xr-section-item'><div class='xr-array-wrap'><input id='section-f79c82fc-1882-4703-b976-c24cdf70b47e' class='xr-array-in' type='checkbox' checked><label for='section-f79c82fc-1882-4703-b976-c24cdf70b47e' title='Show/hide data repr'><svg class='icon xr-icon-database'><use xlink:href='#icon-database'></use></svg></label><div class='xr-array-preview xr-preview'><span>b&#x27;pressure_pascals&#x27; ... b&#x27;relative_humidity_unitless&#x27;</span></div><div class='xr-array-data'><pre>array([b&#x27;pressure_pascals&#x27;, b&#x27;temperature_kelvins&#x27;,\n",
       "       b&#x27;specific_humidity_kg_kg01&#x27;, b&#x27;liquid_water_content_kg_m03&#x27;,\n",
       "       b&#x27;ice_water_content_kg_m03&#x27;, b&#x27;liquid_water_path_kg_m02&#x27;,\n",
       "       b&#x27;ice_water_path_kg_m02&#x27;, b&#x27;vapour_path_kg_m02&#x27;,\n",
       "       b&#x27;upward_liquid_water_path_kg_m02&#x27;, b&#x27;upward_ice_water_path_kg_m02&#x27;,\n",
       "       b&#x27;upward_vapour_path_kg_m02&#x27;, b&#x27;relative_humidity_unitless&#x27;],\n",
       "      dtype=&#x27;|S35&#x27;)</pre></div></div></li><li class='xr-section-item'><input id='section-10a2c1fb-0099-4a6c-8306-336e8308f16d' class='xr-section-summary-in' type='checkbox' disabled ><label for='section-10a2c1fb-0099-4a6c-8306-336e8308f16d' class='xr-section-summary'  title='Expand/collapse section'>Coordinates: <span>(0)</span></label><div class='xr-section-inline-details'></div><div class='xr-section-details'><ul class='xr-var-list'></ul></div></li><li class='xr-section-item'><input id='section-2a5a68ba-2bda-459b-8fb9-4ee25d0c8166' class='xr-section-summary-in' type='checkbox' disabled ><label for='section-2a5a68ba-2bda-459b-8fb9-4ee25d0c8166' class='xr-section-summary'  title='Expand/collapse section'>Attributes: <span>(0)</span></label><div class='xr-section-inline-details'></div><div class='xr-section-details'><dl class='xr-attrs'></dl></div></li></ul></div></div>"
      ],
      "text/plain": [
       "<xarray.DataArray 'vector_predictor_names' (vector_predictor: 12)>\n",
       "array([b'pressure_pascals', b'temperature_kelvins',\n",
       "       b'specific_humidity_kg_kg01', b'liquid_water_content_kg_m03',\n",
       "       b'ice_water_content_kg_m03', b'liquid_water_path_kg_m02',\n",
       "       b'ice_water_path_kg_m02', b'vapour_path_kg_m02',\n",
       "       b'upward_liquid_water_path_kg_m02', b'upward_ice_water_path_kg_m02',\n",
       "       b'upward_vapour_path_kg_m02', b'relative_humidity_unitless'],\n",
       "      dtype='|S35')\n",
       "Dimensions without coordinates: vector_predictor"
      ]
     },
     "execution_count": 92,
     "metadata": {},
     "output_type": "execute_result"
    }
   ],
   "source": [
    "data2019['vector_predictor_names']"
   ]
  },
  {
   "cell_type": "code",
   "execution_count": 18,
   "id": "27336dba",
   "metadata": {},
   "outputs": [
    {
     "data": {
      "text/plain": [
       "(898025, 73, 12)"
      ]
     },
     "execution_count": 18,
     "metadata": {},
     "output_type": "execute_result"
    }
   ],
   "source": [
    "data2018['vector_predictor_matrix'].shape"
   ]
  },
  {
   "cell_type": "code",
   "execution_count": 19,
   "id": "4f51055a",
   "metadata": {},
   "outputs": [],
   "source": [
    "pload = data2018['vector_predictor_matrix'][:,:,0].values\n",
    "pmean = np.mean(pload,axis=0)"
   ]
  },
  {
   "cell_type": "code",
   "execution_count": 20,
   "id": "e8244fcd",
   "metadata": {},
   "outputs": [
    {
     "data": {
      "text/plain": [
       "(898025, 2)"
      ]
     },
     "execution_count": 20,
     "metadata": {},
     "output_type": "execute_result"
    }
   ],
   "source": [
    "data2018['scalar_target_matrix'].shape"
   ]
  },
  {
   "cell_type": "code",
   "execution_count": 21,
   "id": "03bcb259",
   "metadata": {},
   "outputs": [
    {
     "data": {
      "text/plain": [
       "Text(0.5, 0, 'TOA SW upwards flux (W/m2)')"
      ]
     },
     "execution_count": 21,
     "metadata": {},
     "output_type": "execute_result"
    },
    {
     "data": {
      "image/png": "[encoded data removed]",
      "text/plain": [
       "<Figure size 432x288 with 1 Axes>"
      ]
     },
     "metadata": {
      "needs_background": "light"
     },
     "output_type": "display_data"
    }
   ],
   "source": [
    "plt.hist(data2018['scalar_target_matrix'][:,1].values.flatten(),bins=100);\n",
    "plt.xlabel('TOA SW upwards flux (W/m2)')"
   ]
  },
  {
   "cell_type": "code",
   "execution_count": 22,
   "id": "709e8811",
   "metadata": {},
   "outputs": [
    {
     "data": {
      "text/plain": [
       "(898025, 73, 5)"
      ]
     },
     "execution_count": 22,
     "metadata": {},
     "output_type": "execute_result"
    }
   ],
   "source": [
    "data2018['vector_target_matrix'].shape"
   ]
  },
  {
   "cell_type": "code",
   "execution_count": 23,
   "id": "4d9a4659",
   "metadata": {},
   "outputs": [
    {
     "data": {
      "text/plain": [
       "Text(0.5, 0, 'TOA SW downwards flux (W/m2)')"
      ]
     },
     "execution_count": 23,
     "metadata": {},
     "output_type": "execute_result"
    },
    {
     "data": {
      "image/png": "[encoded data removed]",
      "text/plain": [
       "<Figure size 432x288 with 1 Axes>"
      ]
     },
     "metadata": {
      "needs_background": "light"
     },
     "output_type": "display_data"
    }
   ],
   "source": [
    "plt.hist(data2018['vector_target_matrix'][:,-1,0].values.flatten(),bins=100);\n",
    "plt.xlabel('TOA SW downwards flux (W/m2)')"
   ]
  },
  {
   "cell_type": "code",
   "execution_count": 24,
   "id": "3a5a9fba",
   "metadata": {},
   "outputs": [],
   "source": [
    "FSWnet_downwards = (data2018['vector_target_matrix'][:,:,0]-data2018['vector_target_matrix'][:,:,1]).values"
   ]
  },
  {
   "cell_type": "code",
   "execution_count": 25,
   "id": "a53657c4",
   "metadata": {},
   "outputs": [
    {
     "data": {
      "text/plain": [
       "(898025, 73)"
      ]
     },
     "execution_count": 25,
     "metadata": {},
     "output_type": "execute_result"
    }
   ],
   "source": [
    "FSWnet_downwards.shape"
   ]
  },
  {
   "cell_type": "code",
   "execution_count": 26,
   "id": "af0e55a8",
   "metadata": {},
   "outputs": [],
   "source": [
    "FSWnet_down_mean = np.mean(FSWnet_downwards,axis=0)\n",
    "FSWnet_25 = np.percentile(a=FSWnet_downwards,q=25,axis=0)\n",
    "FSWnet_75 = np.percentile(a=FSWnet_downwards,q=75,axis=0)\n",
    "FSWnet_1 = np.percentile(a=FSWnet_downwards,q=1,axis=0)\n",
    "FSWnet_99 = np.percentile(a=FSWnet_downwards,q=99,axis=0)"
   ]
  },
  {
   "cell_type": "code",
   "execution_count": 27,
   "id": "465a1d41",
   "metadata": {},
   "outputs": [
    {
     "data": {
      "image/png": "[encoded data removed]",
      "text/plain": [
       "<Figure size 432x288 with 1 Axes>"
      ]
     },
     "metadata": {
      "needs_background": "light"
     },
     "output_type": "display_data"
    }
   ],
   "source": [
    "plt.plot(FSWnet_down_mean,pmean,color='k')\n",
    "plt.fill_betweenx(y=pmean,x1=FSWnet_1,x2=FSWnet_99,alpha=0.25)\n",
    "plt.fill_betweenx(y=pmean,x1=FSWnet_25,x2=FSWnet_75,alpha=0.5)\n",
    "plt.gca().invert_yaxis()\n",
    "plt.grid()\n",
    "plt.xlabel('FSWnet (W/m2)');\n",
    "plt.ylabel('Pressure [Pa]');"
   ]
  },
  {
   "cell_type": "code",
   "execution_count": 28,
   "id": "1a836539",
   "metadata": {},
   "outputs": [
    {
     "data": {
      "text/plain": [
       "Text(0.5, 0, 'Fnet/(Fnet at TOA)')"
      ]
     },
     "execution_count": 28,
     "metadata": {},
     "output_type": "execute_result"
    },
    {
     "data": {
      "image/png": "[encoded data removed]",
      "text/plain": [
       "<Figure size 432x288 with 1 Axes>"
      ]
     },
     "metadata": {
      "needs_background": "light"
     },
     "output_type": "display_data"
    }
   ],
   "source": [
    "plt.hist((FSWnet_downwards/np.expand_dims(FSWnet_downwards[:,-1],axis=1)).flatten(),bins=100);\n",
    "plt.xlabel('Fnet/(Fnet at TOA)')"
   ]
  },
  {
   "cell_type": "markdown",
   "id": "6b66722b",
   "metadata": {},
   "source": [
    "x = [Fnet_top,zenith_angle,p,qv,ql,qi] of length 294  \n",
    "y = [Fnet] of length 72"
   ]
  },
  {
   "cell_type": "code",
   "execution_count": 29,
   "id": "c1c23138",
   "metadata": {},
   "outputs": [],
   "source": [
    "zen_angle = data2018['scalar_predictor_matrix'][:,0].values"
   ]
  },
  {
   "cell_type": "code",
   "execution_count": 30,
   "id": "9ff3378b",
   "metadata": {},
   "outputs": [
    {
     "data": {
      "text/plain": [
       "Text(0.5, 0, 'Zenith Angle (rad)')"
      ]
     },
     "execution_count": 30,
     "metadata": {},
     "output_type": "execute_result"
    },
    {
     "data": {
      "image/png": "[encoded data removed]",
      "text/plain": [
       "<Figure size 432x288 with 1 Axes>"
      ]
     },
     "metadata": {
      "needs_background": "light"
     },
     "output_type": "display_data"
    }
   ],
   "source": [
    "plt.hist(zen_angle.flatten(),bins=100)\n",
    "plt.xlabel('Zenith Angle (rad)')"
   ]
  },
  {
   "cell_type": "code",
   "execution_count": 31,
   "id": "32206b68",
   "metadata": {},
   "outputs": [
    {
     "data": {
      "text/plain": [
       "(898025, 73)"
      ]
     },
     "execution_count": 31,
     "metadata": {},
     "output_type": "execute_result"
    }
   ],
   "source": [
    "pload.shape"
   ]
  },
  {
   "cell_type": "code",
   "execution_count": 32,
   "id": "04172d6d",
   "metadata": {},
   "outputs": [],
   "source": [
    "qvload = data2018['vector_predictor_matrix'][:,:,2].values\n",
    "qlload = data2018['vector_predictor_matrix'][:,:,3].values\n",
    "qiload = data2018['vector_predictor_matrix'][:,:,4].values"
   ]
  },
  {
   "cell_type": "code",
   "execution_count": 33,
   "id": "c06ba92c",
   "metadata": {},
   "outputs": [
    {
     "data": {
      "image/png": "[encoded data removed]",
      "text/plain": [
       "<Figure size 1080x360 with 3 Axes>"
      ]
     },
     "metadata": {
      "needs_background": "light"
     },
     "output_type": "display_data"
    }
   ],
   "source": [
    "fig,ax = plt.subplots(1,3,figsize=(15,5))\n",
    "\n",
    "ax[0].plot(np.mean(qvload,axis=0),pmean)\n",
    "ax[0].invert_yaxis()\n",
    "\n",
    "ax[1].plot(np.mean(qlload,axis=0),pmean)\n",
    "ax[1].invert_yaxis()\n",
    "\n",
    "ax[2].plot(np.mean(qiload,axis=0),pmean)\n",
    "ax[2].invert_yaxis()"
   ]
  },
  {
   "cell_type": "code",
   "execution_count": 34,
   "id": "5e548ac3",
   "metadata": {},
   "outputs": [
    {
     "data": {
      "text/plain": [
       "(0.0, 100.0)"
      ]
     },
     "execution_count": 34,
     "metadata": {},
     "output_type": "execute_result"
    },
    {
     "data": {
      "image/png": "[encoded data removed]",
      "text/plain": [
       "<Figure size 1080x360 with 3 Axes>"
      ]
     },
     "metadata": {
      "needs_background": "light"
     },
     "output_type": "display_data"
    }
   ],
   "source": [
    "fig,ax = plt.subplots(1,3,figsize=(15,5))\n",
    "\n",
    "ax[0].hist(qvload.flatten(),bins=100)\n",
    "ax[0].set_xlabel('Specific humidity (kg/kg)')\n",
    "ax[0].set_ylim((0,5e6))\n",
    "\n",
    "ax[1].hist(qlload.flatten(),bins=100)\n",
    "ax[1].set_xlabel('Liquid mass concentration (kg/kg)')\n",
    "ax[1].set_ylim((0,1e4))\n",
    "\n",
    "ax[2].hist(qiload.flatten(),bins=100)\n",
    "ax[2].set_xlabel('Ice concentration (kg/kg)')\n",
    "ax[2].set_ylim((0,1e2))"
   ]
  },
  {
   "cell_type": "markdown",
   "id": "49be6e09",
   "metadata": {},
   "source": [
    "x = [Fnet_top,zenith_angle,p,qv,ql,qi] of length 294  \n",
    "y = [Fnet] of length 72"
   ]
  },
  {
   "cell_type": "code",
   "execution_count": 35,
   "id": "d0d94833",
   "metadata": {},
   "outputs": [],
   "source": [
    "x = np.concatenate((\n",
    "    np.expand_dims(FSWnet_downwards[:,-1],axis=1),\n",
    "    np.expand_dims(zen_angle,axis=1),\n",
    "    pload,\n",
    "    qvload,\n",
    "    qlload,\n",
    "    qiload),\n",
    "    axis=1\n",
    ")"
   ]
  },
  {
   "cell_type": "code",
   "execution_count": 36,
   "id": "a4a06060",
   "metadata": {},
   "outputs": [
    {
     "data": {
      "text/plain": [
       "(898025, 294)"
      ]
     },
     "execution_count": 36,
     "metadata": {},
     "output_type": "execute_result"
    }
   ],
   "source": [
    "x.shape"
   ]
  },
  {
   "cell_type": "code",
   "execution_count": 37,
   "id": "13fcb09a",
   "metadata": {},
   "outputs": [],
   "source": [
    "y = FSWnet_downwards[:,]"
   ]
  },
  {
   "cell_type": "code",
   "execution_count": 38,
   "id": "48d88bd1",
   "metadata": {},
   "outputs": [
    {
     "data": {
      "text/plain": [
       "(898025, 73)"
      ]
     },
     "execution_count": 38,
     "metadata": {},
     "output_type": "execute_result"
    }
   ],
   "source": [
    "y.shape"
   ]
  },
  {
   "cell_type": "markdown",
   "id": "f988c981",
   "metadata": {},
   "source": [
    "### Calculate median/std of qv/ql/qi to normalize them before the two-stream model"
   ]
  },
  {
   "cell_type": "code",
   "execution_count": 39,
   "id": "f853e246",
   "metadata": {},
   "outputs": [],
   "source": [
    "x_mean = np.mean(x,axis=0)"
   ]
  },
  {
   "cell_type": "code",
   "execution_count": 40,
   "id": "3c516148",
   "metadata": {},
   "outputs": [],
   "source": [
    "x_std = np.std(x,axis=0)"
   ]
  },
  {
   "cell_type": "code",
   "execution_count": 41,
   "id": "f7e720ce",
   "metadata": {},
   "outputs": [
    {
     "name": "stderr",
     "output_type": "stream",
     "text": [
      "/work/FAC/FGSE/IDYST/tbeucler/default/tbeucler/miniconda3/envs/ml4rt/lib/python3.7/site-packages/ipykernel_launcher.py:1: RuntimeWarning: invalid value encountered in true_divide\n",
      "  \"\"\"Entry point for launching an IPython kernel.\n"
     ]
    }
   ],
   "source": [
    "x_normalized = (x-x_mean)/x_std"
   ]
  },
  {
   "cell_type": "code",
   "execution_count": 42,
   "id": "085f3766",
   "metadata": {},
   "outputs": [
    {
     "name": "stderr",
     "output_type": "stream",
     "text": [
      "/work/FAC/FGSE/IDYST/tbeucler/default/tbeucler/miniconda3/envs/ml4rt/lib/python3.7/site-packages/ipykernel_launcher.py:1: RuntimeWarning: divide by zero encountered in log10\n",
      "  \"\"\"Entry point for launching an IPython kernel.\n",
      "/work/FAC/FGSE/IDYST/tbeucler/default/tbeucler/miniconda3/envs/ml4rt/lib/python3.7/site-packages/ipykernel_launcher.py:3: RuntimeWarning: divide by zero encountered in log10\n",
      "  This is separate from the ipykernel package so we can avoid doing imports until\n"
     ]
    },
    {
     "data": {
      "text/plain": [
       "[<matplotlib.lines.Line2D at 0x7f36a5d0bcd0>]"
      ]
     },
     "execution_count": 42,
     "metadata": {},
     "output_type": "execute_result"
    },
    {
     "data": {
      "image/png": "[encoded data removed]",
      "text/plain": [
       "<Figure size 432x288 with 1 Axes>"
      ]
     },
     "metadata": {
      "needs_background": "light"
     },
     "output_type": "display_data"
    },
    {
     "data": {
      "image/png": "[encoded data removed]",
      "text/plain": [
       "<Figure size 432x288 with 1 Axes>"
      ]
     },
     "metadata": {
      "needs_background": "light"
     },
     "output_type": "display_data"
    }
   ],
   "source": [
    "plt.plot(np.log10(x_mean))\n",
    "plt.figure()\n",
    "plt.plot(np.log10(x_std))"
   ]
  },
  {
   "cell_type": "code",
   "execution_count": 43,
   "id": "ebbb0d33",
   "metadata": {},
   "outputs": [],
   "source": [
    "x_std_filled = np.copy(x_std)\n",
    "x_std_filled[x_std_filled==0] = 1"
   ]
  },
  {
   "cell_type": "markdown",
   "id": "83269b92",
   "metadata": {},
   "source": [
    "Full Z-score normalization"
   ]
  },
  {
   "cell_type": "code",
   "execution_count": 44,
   "id": "b5f8397d",
   "metadata": {},
   "outputs": [],
   "source": [
    "x_normalized = (x-x_mean)/x_std_filled"
   ]
  },
  {
   "cell_type": "markdown",
   "id": "75c68de1",
   "metadata": {},
   "source": [
    "Normalize only water species (for optical thickness calculations), with one normalization set per variable (to maintain vertical profile), and leave the rest as is"
   ]
  },
  {
   "cell_type": "markdown",
   "id": "987f9cd1",
   "metadata": {},
   "source": [
    "`x = [Fnet_top,zenith_angle,p,qv,ql,qi]` of length 294  \n",
    "`y = [Fnet]` of length 72"
   ]
  },
  {
   "cell_type": "code",
   "execution_count": 67,
   "id": "695e9010",
   "metadata": {},
   "outputs": [],
   "source": [
    "QV_i = slice(75,148)\n",
    "QL_i = slice(148,221)\n",
    "QI_i = slice(221,294)"
   ]
  },
  {
   "cell_type": "code",
   "execution_count": 68,
   "id": "14c9abb6",
   "metadata": {},
   "outputs": [
    {
     "name": "stdout",
     "output_type": "stream",
     "text": [
      "0.0025044703 9.973105e-06 5.6954034e-15\n"
     ]
    }
   ],
   "source": [
    "x_mean_qv = np.mean(x[:,QV_i],axis=(0,1))\n",
    "x_mean_ql = np.mean(x[:,QL_i],axis=(0,1))\n",
    "x_mean_qi = np.mean(x[:,QI_i],axis=(0,1))\n",
    "print(x_mean_qv,x_mean_ql,x_mean_qi)"
   ]
  },
  {
   "cell_type": "code",
   "execution_count": 69,
   "id": "34db6983",
   "metadata": {},
   "outputs": [
    {
     "name": "stdout",
     "output_type": "stream",
     "text": [
      "0.003874701 9.44847e-05 9.1013655e-12\n"
     ]
    }
   ],
   "source": [
    "x_std_qv = np.max(np.std(x[:,QV_i],axis=0))\n",
    "x_std_ql = np.max(np.std(x[:,QL_i],axis=0))\n",
    "x_std_qi = np.max(np.std(x[:,QI_i],axis=0))\n",
    "print(x_std_qv,x_std_ql,x_std_qi)"
   ]
  },
  {
   "cell_type": "code",
   "execution_count": 70,
   "id": "09e23b89",
   "metadata": {},
   "outputs": [],
   "source": [
    "qv_norm = (x[:,QV_i]-x_mean_qv)/x_std_qv\n",
    "ql_norm = (x[:,QL_i]-x_mean_ql)/x_std_ql\n",
    "qi_norm = (x[:,QI_i]-x_mean_qi)/x_std_qi"
   ]
  },
  {
   "cell_type": "code",
   "execution_count": 71,
   "id": "14dc158f",
   "metadata": {},
   "outputs": [],
   "source": [
    "x_normalized = np.concatenate(\n",
    "    (x[:,:75],\n",
    "    qv_norm,\n",
    "    ql_norm,\n",
    "    qi_norm),\n",
    "    axis=1\n",
    ")"
   ]
  },
  {
   "cell_type": "code",
   "execution_count": 72,
   "id": "642753e9",
   "metadata": {},
   "outputs": [
    {
     "data": {
      "text/plain": [
       "[<matplotlib.lines.Line2D at 0x7f3613c682d0>]"
      ]
     },
     "execution_count": 72,
     "metadata": {},
     "output_type": "execute_result"
    },
    {
     "data": {
      "image/png": "[encoded data removed]",
      "text/plain": [
       "<Figure size 1080x360 with 6 Axes>"
      ]
     },
     "metadata": {
      "needs_background": "light"
     },
     "output_type": "display_data"
    }
   ],
   "source": [
    "fig,ax = plt.subplots(2,3,figsize=(15,5))\n",
    "\n",
    "ax[0,0].plot(pmean,np.mean(x[:,QI_i],axis=0))\n",
    "ax[1,0].plot(pmean,np.mean(x_normalized[:,QI_i],axis=0))\n",
    "\n",
    "ax[0,1].plot(pmean,np.mean(x[:,QL_i],axis=0))\n",
    "ax[1,1].plot(pmean,np.mean(x_normalized[:,QL_i],axis=0))\n",
    "\n",
    "ax[0,2].plot(pmean,np.mean(x[:,QV_i],axis=0))\n",
    "ax[1,2].plot(pmean,np.mean(x_normalized[:,QV_i],axis=0))"
   ]
  },
  {
   "cell_type": "code",
   "execution_count": 73,
   "id": "38b1ca6c",
   "metadata": {},
   "outputs": [
    {
     "data": {
      "text/plain": [
       "[<matplotlib.lines.Line2D at 0x7f36139e56d0>]"
      ]
     },
     "execution_count": 73,
     "metadata": {},
     "output_type": "execute_result"
    },
    {
     "data": {
      "image/png": "[encoded data removed]",
      "text/plain": [
       "<Figure size 1080x360 with 6 Axes>"
      ]
     },
     "metadata": {
      "needs_background": "light"
     },
     "output_type": "display_data"
    }
   ],
   "source": [
    "fig,ax = plt.subplots(2,3,figsize=(15,5))\n",
    "\n",
    "ax[0,0].plot(pmean,np.std(x[:,QI_i],axis=0))\n",
    "ax[1,0].plot(pmean,np.std(x_normalized[:,QI_i],axis=0))\n",
    "\n",
    "ax[0,1].plot(pmean,np.std(x[:,QL_i],axis=0))\n",
    "ax[1,1].plot(pmean,np.std(x_normalized[:,QL_i],axis=0))\n",
    "\n",
    "ax[0,2].plot(pmean,np.std(x[:,QV_i],axis=0))\n",
    "ax[1,2].plot(pmean,np.std(x_normalized[:,QV_i],axis=0))"
   ]
  },
  {
   "cell_type": "markdown",
   "id": "0e0424b5",
   "metadata": {},
   "source": [
    "## 2019-2020 non-tropical dataset"
   ]
  },
  {
   "cell_type": "code",
   "execution_count": 13,
   "id": "cab19852",
   "metadata": {},
   "outputs": [
    {
     "data": {
      "text/html": [
       "<div><svg style=\"position: absolute; width: 0; height: 0; overflow: hidden\">\n",
       "<defs>\n",
       "<symbol id=\"icon-database\" viewBox=\"0 0 32 32\">\n",
       "<path d=\"M16 0c-8.837 0-16 2.239-16 5v4c0 2.761 7.163 5 16 5s16-2.239 16-5v-4c0-2.761-7.163-5-16-5z\"></path>\n",
       "<path d=\"M16 17c-8.837 0-16-2.239-16-5v6c0 2.761 7.163 5 16 5s16-2.239 16-5v-6c0 2.761-7.163 5-16 5z\"></path>\n",
       "<path d=\"M16 26c-8.837 0-16-2.239-16-5v6c0 2.761 7.163 5 16 5s16-2.239 16-5v-6c0 2.761-7.163 5-16 5z\"></path>\n",
       "</symbol>\n",
       "<symbol id=\"icon-file-text2\" viewBox=\"0 0 32 32\">\n",
       "<path d=\"M28.681 7.159c-0.694-0.947-1.662-2.053-2.724-3.116s-2.169-2.030-3.116-2.724c-1.612-1.182-2.393-1.319-2.841-1.319h-15.5c-1.378 0-2.5 1.121-2.5 2.5v27c0 1.378 1.122 2.5 2.5 2.5h23c1.378 0 2.5-1.122 2.5-2.5v-19.5c0-0.448-0.137-1.23-1.319-2.841zM24.543 5.457c0.959 0.959 1.712 1.825 2.268 2.543h-4.811v-4.811c0.718 0.556 1.584 1.309 2.543 2.268zM28 29.5c0 0.271-0.229 0.5-0.5 0.5h-23c-0.271 0-0.5-0.229-0.5-0.5v-27c0-0.271 0.229-0.5 0.5-0.5 0 0 15.499-0 15.5 0v7c0 0.552 0.448 1 1 1h7v19.5z\"></path>\n",
       "<path d=\"M23 26h-14c-0.552 0-1-0.448-1-1s0.448-1 1-1h14c0.552 0 1 0.448 1 1s-0.448 1-1 1z\"></path>\n",
       "<path d=\"M23 22h-14c-0.552 0-1-0.448-1-1s0.448-1 1-1h14c0.552 0 1 0.448 1 1s-0.448 1-1 1z\"></path>\n",
       "<path d=\"M23 18h-14c-0.552 0-1-0.448-1-1s0.448-1 1-1h14c0.552 0 1 0.448 1 1s-0.448 1-1 1z\"></path>\n",
       "</symbol>\n",
       "</defs>\n",
       "</svg>\n",
       "<style>/* CSS stylesheet for displaying xarray objects in jupyterlab.\n",
       " *\n",
       " */\n",
       "\n",
       ":root {\n",
       "  --xr-font-color0: var(--jp-content-font-color0, rgba(0, 0, 0, 1));\n",
       "  --xr-font-color2: var(--jp-content-font-color2, rgba(0, 0, 0, 0.54));\n",
       "  --xr-font-color3: var(--jp-content-font-color3, rgba(0, 0, 0, 0.38));\n",
       "  --xr-border-color: var(--jp-border-color2, #e0e0e0);\n",
       "  --xr-disabled-color: var(--jp-layout-color3, #bdbdbd);\n",
       "  --xr-background-color: var(--jp-layout-color0, white);\n",
       "  --xr-background-color-row-even: var(--jp-layout-color1, white);\n",
       "  --xr-background-color-row-odd: var(--jp-layout-color2, #eeeeee);\n",
       "}\n",
       "\n",
       "html[theme=dark],\n",
       "body.vscode-dark {\n",
       "  --xr-font-color0: rgba(255, 255, 255, 1);\n",
       "  --xr-font-color2: rgba(255, 255, 255, 0.54);\n",
       "  --xr-font-color3: rgba(255, 255, 255, 0.38);\n",
       "  --xr-border-color: #1F1F1F;\n",
       "  --xr-disabled-color: #515151;\n",
       "  --xr-background-color: #111111;\n",
       "  --xr-background-color-row-even: #111111;\n",
       "  --xr-background-color-row-odd: #313131;\n",
       "}\n",
       "\n",
       ".xr-wrap {\n",
       "  display: block;\n",
       "  min-width: 300px;\n",
       "  max-width: 700px;\n",
       "}\n",
       "\n",
       ".xr-text-repr-fallback {\n",
       "  /* fallback to plain text repr when CSS is not injected (untrusted notebook) */\n",
       "  display: none;\n",
       "}\n",
       "\n",
       ".xr-header {\n",
       "  padding-top: 6px;\n",
       "  padding-bottom: 6px;\n",
       "  margin-bottom: 4px;\n",
       "  border-bottom: solid 1px var(--xr-border-color);\n",
       "}\n",
       "\n",
       ".xr-header > div,\n",
       ".xr-header > ul {\n",
       "  display: inline;\n",
       "  margin-top: 0;\n",
       "  margin-bottom: 0;\n",
       "}\n",
       "\n",
       ".xr-obj-type,\n",
       ".xr-array-name {\n",
       "  margin-left: 2px;\n",
       "  margin-right: 10px;\n",
       "}\n",
       "\n",
       ".xr-obj-type {\n",
       "  color: var(--xr-font-color2);\n",
       "}\n",
       "\n",
       ".xr-sections {\n",
       "  padding-left: 0 !important;\n",
       "  display: grid;\n",
       "  grid-template-columns: 150px auto auto 1fr 20px 20px;\n",
       "}\n",
       "\n",
       ".xr-section-item {\n",
       "  display: contents;\n",
       "}\n",
       "\n",
       ".xr-section-item input {\n",
       "  display: none;\n",
       "}\n",
       "\n",
       ".xr-section-item input + label {\n",
       "  color: var(--xr-disabled-color);\n",
       "}\n",
       "\n",
       ".xr-section-item input:enabled + label {\n",
       "  cursor: pointer;\n",
       "  color: var(--xr-font-color2);\n",
       "}\n",
       "\n",
       ".xr-section-item input:enabled + label:hover {\n",
       "  color: var(--xr-font-color0);\n",
       "}\n",
       "\n",
       ".xr-section-summary {\n",
       "  grid-column: 1;\n",
       "  color: var(--xr-font-color2);\n",
       "  font-weight: 500;\n",
       "}\n",
       "\n",
       ".xr-section-summary > span {\n",
       "  display: inline-block;\n",
       "  padding-left: 0.5em;\n",
       "}\n",
       "\n",
       ".xr-section-summary-in:disabled + label {\n",
       "  color: var(--xr-font-color2);\n",
       "}\n",
       "\n",
       ".xr-section-summary-in + label:before {\n",
       "  display: inline-block;\n",
       "  content: '►';\n",
       "  font-size: 11px;\n",
       "  width: 15px;\n",
       "  text-align: center;\n",
       "}\n",
       "\n",
       ".xr-section-summary-in:disabled + label:before {\n",
       "  color: var(--xr-disabled-color);\n",
       "}\n",
       "\n",
       ".xr-section-summary-in:checked + label:before {\n",
       "  content: '▼';\n",
       "}\n",
       "\n",
       ".xr-section-summary-in:checked + label > span {\n",
       "  display: none;\n",
       "}\n",
       "\n",
       ".xr-section-summary,\n",
       ".xr-section-inline-details {\n",
       "  padding-top: 4px;\n",
       "  padding-bottom: 4px;\n",
       "}\n",
       "\n",
       ".xr-section-inline-details {\n",
       "  grid-column: 2 / -1;\n",
       "}\n",
       "\n",
       ".xr-section-details {\n",
       "  display: none;\n",
       "  grid-column: 1 / -1;\n",
       "  margin-bottom: 5px;\n",
       "}\n",
       "\n",
       ".xr-section-summary-in:checked ~ .xr-section-details {\n",
       "  display: contents;\n",
       "}\n",
       "\n",
       ".xr-array-wrap {\n",
       "  grid-column: 1 / -1;\n",
       "  display: grid;\n",
       "  grid-template-columns: 20px auto;\n",
       "}\n",
       "\n",
       ".xr-array-wrap > label {\n",
       "  grid-column: 1;\n",
       "  vertical-align: top;\n",
       "}\n",
       "\n",
       ".xr-preview {\n",
       "  color: var(--xr-font-color3);\n",
       "}\n",
       "\n",
       ".xr-array-preview,\n",
       ".xr-array-data {\n",
       "  padding: 0 5px !important;\n",
       "  grid-column: 2;\n",
       "}\n",
       "\n",
       ".xr-array-data,\n",
       ".xr-array-in:checked ~ .xr-array-preview {\n",
       "  display: none;\n",
       "}\n",
       "\n",
       ".xr-array-in:checked ~ .xr-array-data,\n",
       ".xr-array-preview {\n",
       "  display: inline-block;\n",
       "}\n",
       "\n",
       ".xr-dim-list {\n",
       "  display: inline-block !important;\n",
       "  list-style: none;\n",
       "  padding: 0 !important;\n",
       "  margin: 0;\n",
       "}\n",
       "\n",
       ".xr-dim-list li {\n",
       "  display: inline-block;\n",
       "  padding: 0;\n",
       "  margin: 0;\n",
       "}\n",
       "\n",
       ".xr-dim-list:before {\n",
       "  content: '(';\n",
       "}\n",
       "\n",
       ".xr-dim-list:after {\n",
       "  content: ')';\n",
       "}\n",
       "\n",
       ".xr-dim-list li:not(:last-child):after {\n",
       "  content: ',';\n",
       "  padding-right: 5px;\n",
       "}\n",
       "\n",
       ".xr-has-index {\n",
       "  font-weight: bold;\n",
       "}\n",
       "\n",
       ".xr-var-list,\n",
       ".xr-var-item {\n",
       "  display: contents;\n",
       "}\n",
       "\n",
       ".xr-var-item > div,\n",
       ".xr-var-item label,\n",
       ".xr-var-item > .xr-var-name span {\n",
       "  background-color: var(--xr-background-color-row-even);\n",
       "  margin-bottom: 0;\n",
       "}\n",
       "\n",
       ".xr-var-item > .xr-var-name:hover span {\n",
       "  padding-right: 5px;\n",
       "}\n",
       "\n",
       ".xr-var-list > li:nth-child(odd) > div,\n",
       ".xr-var-list > li:nth-child(odd) > label,\n",
       ".xr-var-list > li:nth-child(odd) > .xr-var-name span {\n",
       "  background-color: var(--xr-background-color-row-odd);\n",
       "}\n",
       "\n",
       ".xr-var-name {\n",
       "  grid-column: 1;\n",
       "}\n",
       "\n",
       ".xr-var-dims {\n",
       "  grid-column: 2;\n",
       "}\n",
       "\n",
       ".xr-var-dtype {\n",
       "  grid-column: 3;\n",
       "  text-align: right;\n",
       "  color: var(--xr-font-color2);\n",
       "}\n",
       "\n",
       ".xr-var-preview {\n",
       "  grid-column: 4;\n",
       "}\n",
       "\n",
       ".xr-var-name,\n",
       ".xr-var-dims,\n",
       ".xr-var-dtype,\n",
       ".xr-preview,\n",
       ".xr-attrs dt {\n",
       "  white-space: nowrap;\n",
       "  overflow: hidden;\n",
       "  text-overflow: ellipsis;\n",
       "  padding-right: 10px;\n",
       "}\n",
       "\n",
       ".xr-var-name:hover,\n",
       ".xr-var-dims:hover,\n",
       ".xr-var-dtype:hover,\n",
       ".xr-attrs dt:hover {\n",
       "  overflow: visible;\n",
       "  width: auto;\n",
       "  z-index: 1;\n",
       "}\n",
       "\n",
       ".xr-var-attrs,\n",
       ".xr-var-data {\n",
       "  display: none;\n",
       "  background-color: var(--xr-background-color) !important;\n",
       "  padding-bottom: 5px !important;\n",
       "}\n",
       "\n",
       ".xr-var-attrs-in:checked ~ .xr-var-attrs,\n",
       ".xr-var-data-in:checked ~ .xr-var-data {\n",
       "  display: block;\n",
       "}\n",
       "\n",
       ".xr-var-data > table {\n",
       "  float: right;\n",
       "}\n",
       "\n",
       ".xr-var-name span,\n",
       ".xr-var-data,\n",
       ".xr-attrs {\n",
       "  padding-left: 25px !important;\n",
       "}\n",
       "\n",
       ".xr-attrs,\n",
       ".xr-var-attrs,\n",
       ".xr-var-data {\n",
       "  grid-column: 1 / -1;\n",
       "}\n",
       "\n",
       "dl.xr-attrs {\n",
       "  padding: 0;\n",
       "  margin: 0;\n",
       "  display: grid;\n",
       "  grid-template-columns: 125px auto;\n",
       "}\n",
       "\n",
       ".xr-attrs dt,\n",
       ".xr-attrs dd {\n",
       "  padding: 0;\n",
       "  margin: 0;\n",
       "  float: left;\n",
       "  padding-right: 10px;\n",
       "  width: auto;\n",
       "}\n",
       "\n",
       ".xr-attrs dt {\n",
       "  font-weight: normal;\n",
       "  grid-column: 1;\n",
       "}\n",
       "\n",
       ".xr-attrs dt:hover span {\n",
       "  display: inline-block;\n",
       "  background: var(--xr-background-color);\n",
       "  padding-right: 10px;\n",
       "}\n",
       "\n",
       ".xr-attrs dd {\n",
       "  grid-column: 2;\n",
       "  white-space: pre-wrap;\n",
       "  word-break: break-all;\n",
       "}\n",
       "\n",
       ".xr-icon-database,\n",
       ".xr-icon-file-text2 {\n",
       "  display: inline-block;\n",
       "  vertical-align: middle;\n",
       "  width: 1em;\n",
       "  height: 1.5em !important;\n",
       "  stroke-width: 0;\n",
       "  stroke: currentColor;\n",
       "  fill: currentColor;\n",
       "}\n",
       "</style><pre class='xr-text-repr-fallback'>&lt;xarray.DataArray &#x27;vector_predictor_names&#x27; (vector_predictor: 12)&gt;\n",
       "array([b&#x27;pressure_pascals&#x27;, b&#x27;temperature_kelvins&#x27;,\n",
       "       b&#x27;specific_humidity_kg_kg01&#x27;, b&#x27;liquid_water_content_kg_m03&#x27;,\n",
       "       b&#x27;ice_water_content_kg_m03&#x27;, b&#x27;liquid_water_path_kg_m02&#x27;,\n",
       "       b&#x27;ice_water_path_kg_m02&#x27;, b&#x27;vapour_path_kg_m02&#x27;,\n",
       "       b&#x27;upward_liquid_water_path_kg_m02&#x27;, b&#x27;upward_ice_water_path_kg_m02&#x27;,\n",
       "       b&#x27;upward_vapour_path_kg_m02&#x27;, b&#x27;relative_humidity_unitless&#x27;],\n",
       "      dtype=&#x27;|S35&#x27;)\n",
       "Dimensions without coordinates: vector_predictor</pre><div class='xr-wrap' hidden><div class='xr-header'><div class='xr-obj-type'>xarray.DataArray</div><div class='xr-array-name'>'vector_predictor_names'</div><ul class='xr-dim-list'><li><span>vector_predictor</span>: 12</li></ul></div><ul class='xr-sections'><li class='xr-section-item'><div class='xr-array-wrap'><input id='section-da99749c-deeb-4dc6-b5c5-949ebdcf91bb' class='xr-array-in' type='checkbox' checked><label for='section-da99749c-deeb-4dc6-b5c5-949ebdcf91bb' title='Show/hide data repr'><svg class='icon xr-icon-database'><use xlink:href='#icon-database'></use></svg></label><div class='xr-array-preview xr-preview'><span>b&#x27;pressure_pascals&#x27; ... b&#x27;relative_humidity_unitless&#x27;</span></div><div class='xr-array-data'><pre>array([b&#x27;pressure_pascals&#x27;, b&#x27;temperature_kelvins&#x27;,\n",
       "       b&#x27;specific_humidity_kg_kg01&#x27;, b&#x27;liquid_water_content_kg_m03&#x27;,\n",
       "       b&#x27;ice_water_content_kg_m03&#x27;, b&#x27;liquid_water_path_kg_m02&#x27;,\n",
       "       b&#x27;ice_water_path_kg_m02&#x27;, b&#x27;vapour_path_kg_m02&#x27;,\n",
       "       b&#x27;upward_liquid_water_path_kg_m02&#x27;, b&#x27;upward_ice_water_path_kg_m02&#x27;,\n",
       "       b&#x27;upward_vapour_path_kg_m02&#x27;, b&#x27;relative_humidity_unitless&#x27;],\n",
       "      dtype=&#x27;|S35&#x27;)</pre></div></div></li><li class='xr-section-item'><input id='section-086484e6-8907-4f3a-9939-87b710ab7a66' class='xr-section-summary-in' type='checkbox' disabled ><label for='section-086484e6-8907-4f3a-9939-87b710ab7a66' class='xr-section-summary'  title='Expand/collapse section'>Coordinates: <span>(0)</span></label><div class='xr-section-inline-details'></div><div class='xr-section-details'><ul class='xr-var-list'></ul></div></li><li class='xr-section-item'><input id='section-c967b16c-c54c-4b08-8468-ec7b78f2324d' class='xr-section-summary-in' type='checkbox' disabled ><label for='section-c967b16c-c54c-4b08-8468-ec7b78f2324d' class='xr-section-summary'  title='Expand/collapse section'>Attributes: <span>(0)</span></label><div class='xr-section-inline-details'></div><div class='xr-section-details'><dl class='xr-attrs'></dl></div></li></ul></div></div>"
      ],
      "text/plain": [
       "<xarray.DataArray 'vector_predictor_names' (vector_predictor: 12)>\n",
       "array([b'pressure_pascals', b'temperature_kelvins',\n",
       "       b'specific_humidity_kg_kg01', b'liquid_water_content_kg_m03',\n",
       "       b'ice_water_content_kg_m03', b'liquid_water_path_kg_m02',\n",
       "       b'ice_water_path_kg_m02', b'vapour_path_kg_m02',\n",
       "       b'upward_liquid_water_path_kg_m02', b'upward_ice_water_path_kg_m02',\n",
       "       b'upward_vapour_path_kg_m02', b'relative_humidity_unitless'],\n",
       "      dtype='|S35')\n",
       "Dimensions without coordinates: vector_predictor"
      ]
     },
     "execution_count": 13,
     "metadata": {},
     "output_type": "execute_result"
    }
   ],
   "source": [
    "data2019['vector_predictor_names']"
   ]
  },
  {
   "cell_type": "code",
   "execution_count": 14,
   "id": "7469d427",
   "metadata": {},
   "outputs": [],
   "source": [
    "pload2019 = data2019['vector_predictor_matrix'][:,:,0].values\n",
    "pload2020 = data2020['vector_predictor_matrix'][:,:,0].values\n",
    "pload = np.concatenate((pload2019,pload2020),axis=0)"
   ]
  },
  {
   "cell_type": "code",
   "execution_count": 15,
   "id": "94f6b003",
   "metadata": {},
   "outputs": [],
   "source": [
    "FSWnet2019_downwards = (data2019['vector_target_matrix'][:,:,0]-data2019['vector_target_matrix'][:,:,1]).values\n",
    "FSWnet2020_downwards = (data2020['vector_target_matrix'][:,:,0]-data2020['vector_target_matrix'][:,:,1]).values\n",
    "FSWnet_downwards = np.concatenate((FSWnet2019_downwards,FSWnet2020_downwards),axis=0)"
   ]
  },
  {
   "cell_type": "code",
   "execution_count": 16,
   "id": "fa7a23a5",
   "metadata": {},
   "outputs": [],
   "source": [
    "zen_angle2019 = data2019['scalar_predictor_matrix'][:,0].values\n",
    "zen_angle2020 = data2020['scalar_predictor_matrix'][:,0].values\n",
    "zen_angle = np.concatenate((zen_angle2019,zen_angle2020),axis=0)"
   ]
  },
  {
   "cell_type": "code",
   "execution_count": 17,
   "id": "6af0aff3",
   "metadata": {},
   "outputs": [],
   "source": [
    "QVup2019 = data2019['vector_predictor_matrix'][:,:,7].values\n",
    "QVup2020 = data2020['vector_predictor_matrix'][:,:,7].values\n",
    "QVup = np.concatenate((QVup2019,QVup2020),axis=0)"
   ]
  },
  {
   "cell_type": "code",
   "execution_count": 18,
   "id": "f67c1a6d",
   "metadata": {},
   "outputs": [],
   "source": [
    "QLup2019 = data2019['vector_predictor_matrix'][:,:,5].values\n",
    "QLup2020 = data2020['vector_predictor_matrix'][:,:,5].values\n",
    "QLup = np.concatenate((QLup2019,QLup2020),axis=0)"
   ]
  },
  {
   "cell_type": "code",
   "execution_count": 19,
   "id": "d2fa5957",
   "metadata": {},
   "outputs": [
    {
     "data": {
      "text/plain": [
       "(1499097, 73)"
      ]
     },
     "execution_count": 19,
     "metadata": {},
     "output_type": "execute_result"
    }
   ],
   "source": [
    "pload.shape"
   ]
  },
  {
   "cell_type": "code",
   "execution_count": 20,
   "id": "59380c12",
   "metadata": {},
   "outputs": [
    {
     "data": {
      "text/plain": [
       "(964823, 73)"
      ]
     },
     "execution_count": 20,
     "metadata": {},
     "output_type": "execute_result"
    }
   ],
   "source": [
    "pload2019.shape"
   ]
  },
  {
   "cell_type": "code",
   "execution_count": 21,
   "id": "8f5464b6",
   "metadata": {},
   "outputs": [],
   "source": [
    "x201920 = \\\n",
    "np.concatenate((\n",
    "    np.expand_dims(FSWnet_downwards[:,-1],axis=1),\n",
    "    np.expand_dims(zen_angle,axis=1),\n",
    "    QVup,\n",
    "    QLup),\n",
    "    axis=1\n",
    ")"
   ]
  },
  {
   "cell_type": "code",
   "execution_count": 22,
   "id": "336ac519",
   "metadata": {},
   "outputs": [
    {
     "data": {
      "text/plain": [
       "(1499097, 73)"
      ]
     },
     "execution_count": 22,
     "metadata": {},
     "output_type": "execute_result"
    }
   ],
   "source": [
    "y201920 = FSWnet_downwards\n",
    "y201920.shape"
   ]
  },
  {
   "cell_type": "code",
   "execution_count": 23,
   "id": "40a9817b",
   "metadata": {},
   "outputs": [
    {
     "data": {
      "text/plain": [
       "(1499097, 148)"
      ]
     },
     "execution_count": 23,
     "metadata": {},
     "output_type": "execute_result"
    }
   ],
   "source": [
    "x201920.shape # dim 1: 2+3*73"
   ]
  },
  {
   "cell_type": "code",
   "execution_count": 24,
   "id": "d9d7d885",
   "metadata": {},
   "outputs": [],
   "source": [
    "QV_i = slice(2,2+73)\n",
    "QL_i = slice(2+73,2+2*73)\n",
    "QI_i = slice(2+2*73,2+3*73)"
   ]
  },
  {
   "cell_type": "markdown",
   "id": "dbed717a",
   "metadata": {},
   "source": [
    "## 2017 Tropical test set"
   ]
  },
  {
   "cell_type": "code",
   "execution_count": 25,
   "id": "fd5049a6",
   "metadata": {},
   "outputs": [],
   "source": [
    "pload2017 = trop2017['vector_predictor_matrix'][:,:,0].values\n",
    "FSWnet2017_downwards = (trop2017['vector_target_matrix'][:,:,0]-trop2017['vector_target_matrix'][:,:,1]).values\n",
    "zen_angle2017 = trop2017['scalar_predictor_matrix'][:,0].values\n",
    "QVup2017 = trop2017['vector_predictor_matrix'][:,:,7].values\n",
    "QLup2017 = trop2017['vector_predictor_matrix'][:,:,5].values"
   ]
  },
  {
   "cell_type": "code",
   "execution_count": 26,
   "id": "295eaf7a",
   "metadata": {},
   "outputs": [
    {
     "data": {
      "text/plain": [
       "(1499097, 73)"
      ]
     },
     "execution_count": 26,
     "metadata": {},
     "output_type": "execute_result"
    }
   ],
   "source": [
    "x2017 = \\\n",
    "np.concatenate((\n",
    "    np.expand_dims(FSWnet2017_downwards[:,-1],axis=1),\n",
    "    np.expand_dims(zen_angle2017,axis=1),\n",
    "    QVup2017,\n",
    "    QLup2017),\n",
    "    axis=1\n",
    ")\n",
    "\n",
    "y2017 = FSWnet2017_downwards\n",
    "y201920.shape"
   ]
  },
  {
   "cell_type": "markdown",
   "id": "83affcfc",
   "metadata": {},
   "source": [
    "## Create simple scipy optimize model"
   ]
  },
  {
   "cell_type": "code",
   "execution_count": 27,
   "id": "64ed1dbf",
   "metadata": {},
   "outputs": [],
   "source": [
    "def MSE(kappa,ypred,ytrue):\n",
    "    return np.mean((ypred-ytrue)**2,axis=(0,1))"
   ]
  },
  {
   "cell_type": "code",
   "execution_count": 28,
   "id": "8a43149a",
   "metadata": {},
   "outputs": [],
   "source": [
    "def prediction(x,kappa):\n",
    "    \n",
    "    QV_i = slice(2,2+73)\n",
    "    QL_i = slice(2+73,2+2*73)\n",
    "    \n",
    "    tau = kappa[0]+kappa[1]*x[:,QV_i]+1e3*kappa[2]*x[:,QL_i]\n",
    "    return x[:,0:1]*np.exp(-tau/(np.cos(x[:,1:2])))"
   ]
  },
  {
   "cell_type": "code",
   "execution_count": 29,
   "id": "c6386a9f",
   "metadata": {},
   "outputs": [],
   "source": [
    "def residuals(kappa,x,y):\n",
    "    \n",
    "    QV_i = slice(2,2+73)\n",
    "    QL_i = slice(2+73,2+2*73)\n",
    "    \n",
    "    tau = kappa[0]+kappa[1]*x[:,QV_i]+1e3*kappa[2]*x[:,QL_i]\n",
    "    ypred = x[:,0:1]*np.exp(-tau/(np.cos(x[:,1:2])))\n",
    "    \n",
    "    return (y-ypred).flatten()"
   ]
  },
  {
   "cell_type": "code",
   "execution_count": 222,
   "id": "2cf96799",
   "metadata": {},
   "outputs": [],
   "source": [
    "kappa_guess = [0,1e-2,1e-2]"
   ]
  },
  {
   "cell_type": "code",
   "execution_count": 219,
   "id": "85ea0f7e",
   "metadata": {},
   "outputs": [],
   "source": [
    "ytest = prediction(x201920[:1000,:],kappa_guess)"
   ]
  },
  {
   "cell_type": "code",
   "execution_count": 223,
   "id": "9ae48f21",
   "metadata": {},
   "outputs": [],
   "source": [
    "resid = residuals(kappa_guess,x201920[:1000,:],y201920[:1000,:])"
   ]
  },
  {
   "cell_type": "code",
   "execution_count": 226,
   "id": "f27ff820",
   "metadata": {},
   "outputs": [
    {
     "data": {
      "image/png": "[encoded data removed]",
      "text/plain": [
       "<Figure size 432x288 with 1 Axes>"
      ]
     },
     "metadata": {
      "needs_background": "light"
     },
     "output_type": "display_data"
    }
   ],
   "source": [
    "plt.hist(resid.flatten(),bins=10);"
   ]
  },
  {
   "cell_type": "code",
   "execution_count": 220,
   "id": "1cd9c9cb",
   "metadata": {},
   "outputs": [
    {
     "data": {
      "text/plain": [
       "[<matplotlib.lines.Line2D at 0x7fe7fe868690>]"
      ]
     },
     "execution_count": 220,
     "metadata": {},
     "output_type": "execute_result"
    },
    {
     "data": {
      "image/png": "[encoded data removed]",
      "text/plain": [
       "<Figure size 432x288 with 1 Axes>"
      ]
     },
     "metadata": {
      "needs_background": "light"
     },
     "output_type": "display_data"
    }
   ],
   "source": [
    "plt.plot(np.mean(ytest,axis=0),np.mean(pload,axis=0))\n",
    "plt.gca().invert_yaxis()\n",
    "plt.plot(np.mean(y201920[:1000,:],axis=0),np.mean(pload,axis=0))"
   ]
  },
  {
   "cell_type": "code",
   "execution_count": 251,
   "id": "6a8e3783",
   "metadata": {},
   "outputs": [],
   "source": [
    "N_samples = 1000000"
   ]
  },
  {
   "cell_type": "code",
   "execution_count": 252,
   "id": "a49714e8",
   "metadata": {},
   "outputs": [
    {
     "name": "stdout",
     "output_type": "stream",
     "text": [
      " active_mask: array([0., 0., 0.])\n",
      "        cost: 38846152704.0\n",
      "         fun: array([-56.700806, -56.892456, -56.96997 , ...,  55.287933,  57.15619 ,\n",
      "        59.374084], dtype=float32)\n",
      "        grad: array([-2753569.19505426,  4350375.14110222,  3856146.164166  ])\n",
      "         jac: array([[9.94192139e+02, 1.60811992e+04, 0.00000000e+00],\n",
      "       [9.94722473e+02, 1.59882148e+04, 0.00000000e+00],\n",
      "       [9.95606384e+02, 1.58489150e+04, 0.00000000e+00],\n",
      "       ...,\n",
      "       [1.04236377e+03, 8.83883461e-02, 0.00000000e+00],\n",
      "       [1.04245215e+03, 0.00000000e+00, 0.00000000e+00],\n",
      "       [1.04236377e+03, 0.00000000e+00, 0.00000000e+00]])\n",
      "     message: '`xtol` termination condition is satisfied.'\n",
      "        nfev: 14\n",
      "        njev: 8\n",
      "  optimality: 4350375.141102225\n",
      "      status: 3\n",
      "     success: True\n",
      "           x: array([0.05188049, 0.00592465, 0.00346496])\n"
     ]
    }
   ],
   "source": [
    "LS = scipy.optimize.least_squares(residuals,kappa_guess,args=(x201920[:N_samples,:],y201920[:N_samples,:]))\n",
    "print(LS)"
   ]
  },
  {
   "cell_type": "code",
   "execution_count": 253,
   "id": "64a63309",
   "metadata": {},
   "outputs": [],
   "source": [
    "kappa_LS = LS.x"
   ]
  },
  {
   "cell_type": "code",
   "execution_count": 254,
   "id": "bf573364",
   "metadata": {},
   "outputs": [],
   "source": [
    "ytest = prediction(x201920[:N_samples,:],kappa_LS)"
   ]
  },
  {
   "cell_type": "code",
   "execution_count": 255,
   "id": "07182b39",
   "metadata": {},
   "outputs": [
    {
     "data": {
      "text/plain": [
       "1066.4026"
      ]
     },
     "execution_count": 255,
     "metadata": {},
     "output_type": "execute_result"
    }
   ],
   "source": [
    "np.mean((ytest-y201920[:N_samples,:])**2)"
   ]
  },
  {
   "cell_type": "markdown",
   "id": "702f5382",
   "metadata": {},
   "source": [
    "## Create custom keras/tf model"
   ]
  },
  {
   "cell_type": "markdown",
   "id": "5e85c669",
   "metadata": {},
   "source": [
    "### Version only using upward vapor/liquid path"
   ]
  },
  {
   "cell_type": "code",
   "execution_count": 30,
   "id": "42403fe8",
   "metadata": {},
   "outputs": [],
   "source": [
    "class One_Stream_RT(tf.keras.layers.Layer):\n",
    "    \"\"\"y = sum(w.q) + b\"\"\"\n",
    "\n",
    "    def __init__(self, input_dim=73, **kwargs):\n",
    "        super(One_Stream_RT, self).__init__()\n",
    "        # Assign attributes\n",
    "        self.input_dim = np.array(input_dim)\n",
    "        # Random weights initialization and definition for absorption\n",
    "        k_init = tf.zeros_initializer()\n",
    "        self.k = tf.Variable(\n",
    "            initial_value=k_init(shape=(3,), dtype=\"float32\"),\n",
    "            trainable=True,\n",
    "            constraint=lambda z: tf.clip_by_value(z, 0, np.infty),\n",
    "            name='k'\n",
    "        )\n",
    "        # Hardcode indices for now\n",
    "        self.F_TOA = 0\n",
    "        self.zen_ang_i = 1\n",
    "        self.QV_i = slice(2,2+73)\n",
    "        self.QL_i = slice(2+73,2+2*73)\n",
    "        super().__init__(**kwargs)\n",
    "    \n",
    "    def build(self, input_shape):\n",
    "        super().build(input_shape)\n",
    "    \n",
    "    def get_config(self):\n",
    "        config = {'input_dim': self.input_dim}\n",
    "        base_config = super().get_config()\n",
    "        return dict(list(base_config.items()) + list(config.items()))\n",
    "    \n",
    "    def call(self, arrs):\n",
    "        \n",
    "        inp = arrs[0]\n",
    "        \n",
    "        # 1. Extract variables separately\n",
    "        F_TOA = inp[:,self.F_TOA]\n",
    "        QV = inp[:,self.QV_i]\n",
    "        QL = inp[:,self.QL_i]\n",
    "        za = inp[:,self.zen_ang_i]\n",
    "        \n",
    "        # 2. One-stream SW radiation model\n",
    "        absorb = self.k[0]+self.k[1]*QV+self.k[2]*1e3*QL\n",
    "        F = F_TOA[:,None]*tf.math.exp(-absorb/tf.math.cos(za[:,None]))\n",
    "        \n",
    "        return F\n",
    "\n",
    "    def compute_output_shape(self, input_shape):\n",
    "        \"It's a simple sum at each level so shape 73\"\n",
    "        return (input_shape[0][0], 73)"
   ]
  },
  {
   "cell_type": "markdown",
   "id": "25788ced",
   "metadata": {},
   "source": [
    "### Version integrating the full profile of vapor/liquid water"
   ]
  },
  {
   "cell_type": "code",
   "execution_count": 45,
   "id": "806e2a75",
   "metadata": {},
   "outputs": [],
   "source": [
    "class Absorb_Layer(tf.keras.layers.Layer):\n",
    "    \"\"\"y = sum(w.q) + b\"\"\"\n",
    "\n",
    "    def __init__(self, input_dim=73, fac_qv=1, fac_ql=1, fac_qi=1, **kwargs):\n",
    "        super(Absorb_Layer, self).__init__()\n",
    "        # Assign attributes\n",
    "        self.input_dim, self.fac_qv, self.fac_ql, self.fac_qi = \\\n",
    "        np.array(input_dim), np.array(fac_qv), np.array(fac_ql), np.array(fac_qi)\n",
    "        # Random weights initialization and definition for absorption\n",
    "        k_init = tf.zeros_initializer()\n",
    "        self.k = tf.Variable(\n",
    "            initial_value=k_init(shape=(3,), dtype=\"float32\"),\n",
    "            trainable=True,\n",
    "            constraint=lambda z: tf.clip_by_value(z, 0, np.infty),\n",
    "            name='k'\n",
    "        )\n",
    "        k0_init = tf.zeros_initializer()\n",
    "        self.k0 = tf.Variable(\n",
    "            initial_value=k0_init(shape=(1,), dtype=\"float32\"), trainable=True,\n",
    "            constraint=lambda z: tf.clip_by_value(z, 0, np.infty),\n",
    "            name='k0'\n",
    "        )\n",
    "        # Hardcode indices for now\n",
    "        self.QV_i = slice(75,148)\n",
    "        self.QL_i = slice(148,221)\n",
    "        self.QI_i = slice(221,294)\n",
    "        super().__init__(**kwargs)\n",
    "    \n",
    "    def build(self, input_shape):\n",
    "        super().build(input_shape)\n",
    "    \n",
    "    def get_config(self):\n",
    "        config = {'input_dim': self.input_dim, \n",
    "                  'fac_qv': self.fac_qv,\n",
    "                  'fac_ql': self.fac_ql, \n",
    "                  'fac_qi': self.fac_qi}\n",
    "        base_config = super().get_config()\n",
    "        return dict(list(base_config.items()) + list(config.items()))\n",
    "    \n",
    "    def call(self, arrs):\n",
    "        \n",
    "        inp = arrs[0]\n",
    "        \n",
    "        # 1. Extract QV/QL/QI separately\n",
    "        qv = inp[:,self.QV_i]\n",
    "        ql = inp[:,self.QL_i]\n",
    "        qi = inp[:,self.QI_i]\n",
    "\n",
    "        # 2. Multiply each one by individual weight and sum it all\n",
    "        absorb = self.k[0]*self.fac_qv*qv + self.k[1]*self.fac_ql*ql + \\\n",
    "        self.k[2]*self.fac_qi*qi + self.k0 \n",
    "        \n",
    "        return absorb\n",
    "\n",
    "    def compute_output_shape(self, input_shape):\n",
    "        \"It's a simple sum at each level so shape 73\"\n",
    "        return (input_shape[0][0], 73)"
   ]
  },
  {
   "cell_type": "code",
   "execution_count": 46,
   "id": "64ce7c2a",
   "metadata": {},
   "outputs": [],
   "source": [
    "class Optical_Thickness(tf.keras.layers.Layer):\n",
    "    \"\"\"y = sum(w.q) + b\"\"\"\n",
    "\n",
    "    def __init__(self, input_dim=73, epsilon=1e-2, **kwargs):\n",
    "        super(Optical_Thickness, self).__init__()\n",
    "        # Assign attributes\n",
    "        self.input_dim, self.epsilon = \\\n",
    "        np.array(input_dim), np.array(np.float32(epsilon))\n",
    "        \n",
    "        # Hardcode indices for now\n",
    "        self.zen_ang_i = 1\n",
    "        self.P_i = slice(2,75)\n",
    "        self.PS_i = 2\n",
    "        self.D = 1\n",
    "        self.G = 9.81\n",
    "        self.dPend = slice(0,72)\n",
    "        self.dPbeg = slice(1,73)\n",
    "        super().__init__(**kwargs)\n",
    "    \n",
    "    def build(self, input_shape):\n",
    "        super().build(input_shape)\n",
    "        \n",
    "    def get_config(self):\n",
    "        config = {'input_dim': self.input_dim, \n",
    "                  'epsilon': self.epsilon}\n",
    "        base_config = super().get_config()\n",
    "        return dict(list(base_config.items()) + list(config.items()))\n",
    "    \n",
    "    def call(self, arrs):\n",
    "        \n",
    "        inp,absorb = arrs\n",
    "        \n",
    "        # 1. Extract P, PS, and zenith angle\n",
    "        p = inp[:,self.P_i]\n",
    "        ps = inp[:,self.PS_i]\n",
    "        za = inp[:,self.zen_ang_i]\n",
    "        pb = absorb/(self.G*\\\n",
    "                     tf.math.maximum(self.epsilon,tf.math.cos(za[:,None])))\n",
    "        \n",
    "        # 4. Vertically integrate from top (last index) to level p\n",
    "        dP = p[:,self.dPend] - p[:,self.dPbeg]\n",
    "        integrand = 0.5*(pb[:,self.dPend] + pb[:,self.dPbeg])\n",
    "        integrand = tf.reverse(integrand,axis=[1])\n",
    "        integral = tf.math.cumsum(integrand,axis=1)\n",
    "        integral = tf.reverse(integral,axis=[1])\n",
    "        integral = tf.concat([integral,0*ps[:,None]],axis=1)\n",
    "        \n",
    "        return integral\n",
    "\n",
    "    def compute_output_shape(self, input_shape):\n",
    "        \"It's a simple sum at each level so shape 73\"\n",
    "        return (input_shape[0][0], 73)"
   ]
  },
  {
   "cell_type": "code",
   "execution_count": 47,
   "id": "a61b118e",
   "metadata": {},
   "outputs": [],
   "source": [
    "class Absorb_Flux(tf.keras.layers.Layer):\n",
    "    \"\"\"y = sum(w.q) + b\"\"\"\n",
    "\n",
    "    def __init__(self, input_dim=73,**kwargs):\n",
    "        super(Absorb_Flux, self).__init__()\n",
    "        # Attributes\n",
    "        self.input_dim = input_dim\n",
    "        # Hardcode indices for now\n",
    "        self.F_TOA = 0\n",
    "        super().__init__(**kwargs)\n",
    "    \n",
    "    def build(self, input_shape):\n",
    "        super().build(input_shape)\n",
    "        \n",
    "    def get_config(self):\n",
    "        config = {'input_dim': self.input_dim}\n",
    "        base_config = super().get_config()\n",
    "        return dict(list(base_config.items()) + list(config.items()))\n",
    "    \n",
    "    def call(self, arrs):\n",
    "        \n",
    "        inp,optthi = arrs\n",
    "        \n",
    "        # 1. Take exponential\n",
    "        decay = tf.math.exp(-optthi)\n",
    "        \n",
    "        # 2. Extract TOA flux\n",
    "        F_TOA = inp[:,self.F_TOA]\n",
    "        \n",
    "        # 2. Multiply by TOA flux\n",
    "        fnet = decay*F_TOA[:,None]\n",
    "        \n",
    "        return fnet\n",
    "\n",
    "    def compute_output_shape(self, input_shape):\n",
    "        \"It's a simple sum at each level so shape 73\"\n",
    "        return (input_shape[0][0], 73)"
   ]
  },
  {
   "cell_type": "markdown",
   "id": "1a55a627",
   "metadata": {},
   "source": [
    "## Train model"
   ]
  },
  {
   "cell_type": "markdown",
   "id": "d96689bc",
   "metadata": {},
   "source": [
    "### Version directly taking upward vapor/liquid paths"
   ]
  },
  {
   "cell_type": "code",
   "execution_count": 31,
   "id": "07a1163d",
   "metadata": {},
   "outputs": [
    {
     "name": "stderr",
     "output_type": "stream",
     "text": [
      "2022-06-15 00:38:51.433370: I tensorflow/core/platform/cpu_feature_guard.cc:143] Your CPU supports instructions that this TensorFlow binary was not compiled to use: SSE4.1 SSE4.2 AVX AVX2 FMA\n",
      "2022-06-15 00:38:51.452111: I tensorflow/core/platform/profile_utils/cpu_utils.cc:102] CPU Frequency: 2894740000 Hz\n",
      "2022-06-15 00:38:51.454639: I tensorflow/compiler/xla/service/service.cc:168] XLA service 0x556d9cdff390 initialized for platform Host (this does not guarantee that XLA will be used). Devices:\n",
      "2022-06-15 00:38:51.454686: I tensorflow/compiler/xla/service/service.cc:176]   StreamExecutor device (0): Host, Default Version\n",
      "2022-06-15 00:38:51.454837: I tensorflow/core/common_runtime/process_util.cc:147] Creating new thread pool with default inter op setting: 2. Tune using inter_op_parallelism_threads for best performance.\n"
     ]
    }
   ],
   "source": [
    "inp = K.Input(shape=(148,))\n",
    "flux = One_Stream_RT()([inp])\n",
    "model = tf.keras.models.Model(inp,flux)"
   ]
  },
  {
   "cell_type": "code",
   "execution_count": 32,
   "id": "22e23b22",
   "metadata": {},
   "outputs": [],
   "source": [
    "Adam_lrM5 = tf.keras.optimizers.Adam(\n",
    "    learning_rate=1e-6,\n",
    "    beta_1=0.9,\n",
    "    beta_2=0.999,\n",
    "    epsilon=1e-07,\n",
    "    amsgrad=False,\n",
    "    name=\"Adam\",\n",
    ")"
   ]
  },
  {
   "cell_type": "code",
   "execution_count": 33,
   "id": "34fc8023",
   "metadata": {},
   "outputs": [],
   "source": [
    "model.compile(optimizer=Adam_lrM5,loss='mse')"
   ]
  },
  {
   "cell_type": "code",
   "execution_count": 34,
   "id": "05f96b41",
   "metadata": {},
   "outputs": [
    {
     "name": "stdout",
     "output_type": "stream",
     "text": [
      "Epoch 1/20\n",
      "11712/11712 [==============================] - 26s 2ms/step - loss: 3299.9260\n",
      "Epoch 2/20\n",
      "11712/11712 [==============================] - 24s 2ms/step - loss: 1546.7574\n",
      "Epoch 3/20\n",
      "11712/11712 [==============================] - 27s 2ms/step - loss: 1301.4312\n",
      "Epoch 4/20\n",
      "11712/11712 [==============================] - 25s 2ms/step - loss: 1152.1024\n",
      "Epoch 5/20\n",
      "11712/11712 [==============================] - 24s 2ms/step - loss: 1087.3838\n",
      "Epoch 6/20\n",
      "11712/11712 [==============================] - 25s 2ms/step - loss: 1076.8837\n",
      "Epoch 7/20\n",
      "11712/11712 [==============================] - 24s 2ms/step - loss: 1076.6898\n",
      "Epoch 8/20\n",
      "11712/11712 [==============================] - 26s 2ms/step - loss: 1076.6857\n",
      "Epoch 9/20\n",
      "11712/11712 [==============================] - 24s 2ms/step - loss: 1076.6855\n",
      "Epoch 10/20\n",
      "11712/11712 [==============================] - 26s 2ms/step - loss: 1076.6885\n",
      "Epoch 11/20\n",
      "11712/11712 [==============================] - 25s 2ms/step - loss: 1076.6854\n",
      "Epoch 12/20\n",
      "11712/11712 [==============================] - 24s 2ms/step - loss: 1076.6863\n",
      "Epoch 13/20\n",
      "11712/11712 [==============================] - 26s 2ms/step - loss: 1076.6864\n",
      "Epoch 14/20\n",
      "11712/11712 [==============================] - 24s 2ms/step - loss: 1076.6866\n",
      "Epoch 15/20\n",
      "11712/11712 [==============================] - 25s 2ms/step - loss: 1076.6820\n",
      "Epoch 16/20\n",
      "11712/11712 [==============================] - 24s 2ms/step - loss: 1076.6891\n",
      "Epoch 17/20\n",
      "11712/11712 [==============================] - 26s 2ms/step - loss: 1076.6847\n",
      "Epoch 18/20\n",
      "11712/11712 [==============================] - 24s 2ms/step - loss: 1076.6831\n",
      "Epoch 19/20\n",
      "11712/11712 [==============================] - 27s 2ms/step - loss: 1076.6891\n",
      "Epoch 20/20\n",
      "11712/11712 [==============================] - 25s 2ms/step - loss: 1076.6823\n"
     ]
    }
   ],
   "source": [
    "history = model.fit(x201920,y201920,epochs=20,batch_size=128)"
   ]
  },
  {
   "cell_type": "code",
   "execution_count": 35,
   "id": "71c857ed",
   "metadata": {},
   "outputs": [
    {
     "data": {
      "text/plain": [
       "[<tf.Variable 'k:0' shape=(3,) dtype=float32, numpy=array([0.05319668, 0.00607786, 0.00352458], dtype=float32)>]"
      ]
     },
     "execution_count": 35,
     "metadata": {},
     "output_type": "execute_result"
    }
   ],
   "source": [
    "model.weights"
   ]
  },
  {
   "cell_type": "markdown",
   "id": "2a09e3ef",
   "metadata": {},
   "source": [
    "### Version integrating the full vertical profile of water vapor"
   ]
  },
  {
   "cell_type": "code",
   "execution_count": 48,
   "id": "72d6478a",
   "metadata": {},
   "outputs": [
    {
     "name": "stderr",
     "output_type": "stream",
     "text": [
      "2022-03-07 21:39:46.488842: I tensorflow/core/platform/cpu_feature_guard.cc:143] Your CPU supports instructions that this TensorFlow binary was not compiled to use: SSE4.1 SSE4.2 AVX AVX2 FMA\n",
      "2022-03-07 21:39:46.948947: I tensorflow/core/platform/profile_utils/cpu_utils.cc:102] CPU Frequency: 2894395000 Hz\n",
      "2022-03-07 21:39:46.952088: I tensorflow/compiler/xla/service/service.cc:168] XLA service 0x55f0607762c0 initialized for platform Host (this does not guarantee that XLA will be used). Devices:\n",
      "2022-03-07 21:39:46.952163: I tensorflow/compiler/xla/service/service.cc:176]   StreamExecutor device (0): Host, Default Version\n",
      "2022-03-07 21:39:46.967010: I tensorflow/core/common_runtime/process_util.cc:147] Creating new thread pool with default inter op setting: 2. Tune using inter_op_parallelism_threads for best performance.\n"
     ]
    }
   ],
   "source": [
    "inp = K.Input(shape=(294,))\n",
    "absorb = Absorb_Layer()([inp])\n",
    "optthi = Optical_Thickness()([inp,absorb])\n",
    "flux = Absorb_Flux()([inp,optthi])\n",
    "model = tf.keras.models.Model(inp,flux)"
   ]
  },
  {
   "cell_type": "code",
   "execution_count": 49,
   "id": "261a7bd8",
   "metadata": {},
   "outputs": [],
   "source": [
    "Adam_lrM5 = tf.keras.optimizers.Adam(\n",
    "    learning_rate=1e-5,\n",
    "    beta_1=0.9,\n",
    "    beta_2=0.999,\n",
    "    epsilon=1e-07,\n",
    "    amsgrad=False,\n",
    "    name=\"Adam\",\n",
    ")"
   ]
  },
  {
   "cell_type": "code",
   "execution_count": 50,
   "id": "7250ec96",
   "metadata": {},
   "outputs": [],
   "source": [
    "model.compile(optimizer=Adam_lrM5,loss='mse')"
   ]
  },
  {
   "cell_type": "code",
   "execution_count": 125,
   "id": "b695fd90",
   "metadata": {},
   "outputs": [
    {
     "name": "stdout",
     "output_type": "stream",
     "text": [
      "Epoch 1/20\n",
      "7016/7016 [==============================] - 8s 1ms/step - loss: 2443.2288\n",
      "Epoch 2/20\n",
      "7016/7016 [==============================] - 8s 1ms/step - loss: 1164.3871\n",
      "Epoch 3/20\n",
      "7016/7016 [==============================] - 8s 1ms/step - loss: 1009.8867\n",
      "Epoch 4/20\n",
      "7016/7016 [==============================] - 8s 1ms/step - loss: 947.5882\n",
      "Epoch 5/20\n",
      "7016/7016 [==============================] - 8s 1ms/step - loss: 924.5251\n",
      "Epoch 6/20\n",
      "7016/7016 [==============================] - 8s 1ms/step - loss: 915.7813\n",
      "Epoch 7/20\n",
      "7016/7016 [==============================] - 8s 1ms/step - loss: 912.1648\n",
      "Epoch 8/20\n",
      "7016/7016 [==============================] - 8s 1ms/step - loss: 910.5569\n",
      "Epoch 9/20\n",
      "7016/7016 [==============================] - 8s 1ms/step - loss: 909.8109\n",
      "Epoch 10/20\n",
      "7016/7016 [==============================] - 8s 1ms/step - loss: 909.4550\n",
      "Epoch 11/20\n",
      "7016/7016 [==============================] - 8s 1ms/step - loss: 909.2808\n",
      "Epoch 12/20\n",
      "7016/7016 [==============================] - 8s 1ms/step - loss: 909.1869\n",
      "Epoch 13/20\n",
      "7016/7016 [==============================] - 8s 1ms/step - loss: 909.1289\n",
      "Epoch 14/20\n",
      "7016/7016 [==============================] - 8s 1ms/step - loss: 909.1055\n",
      "Epoch 15/20\n",
      "7016/7016 [==============================] - 8s 1ms/step - loss: 909.0878\n",
      "Epoch 16/20\n",
      "7016/7016 [==============================] - 8s 1ms/step - loss: 909.0911\n",
      "Epoch 17/20\n",
      "7016/7016 [==============================] - 8s 1ms/step - loss: 909.0894\n",
      "Epoch 18/20\n",
      "7016/7016 [==============================] - 8s 1ms/step - loss: 909.0875\n",
      "Epoch 19/20\n",
      "7016/7016 [==============================] - 8s 1ms/step - loss: 909.0865\n",
      "Epoch 20/20\n",
      "7016/7016 [==============================] - 8s 1ms/step - loss: 909.0723\n"
     ]
    }
   ],
   "source": [
    "#history = model.fit(x_normalized,y,epochs=20,batch_size=128)"
   ]
  },
  {
   "cell_type": "code",
   "execution_count": 51,
   "id": "7ddb4c2c",
   "metadata": {},
   "outputs": [],
   "source": [
    "path_HDF5 = '/work/FAC/FGSE/IDYST/tbeucler/default/tbeucler/HDF5_DATA/ml4rt/'"
   ]
  },
  {
   "cell_type": "code",
   "execution_count": 52,
   "id": "b4fb88d3",
   "metadata": {},
   "outputs": [],
   "source": [
    "#model.save(path_HDF5+'2022_03_07_SW_abs.hdf5')"
   ]
  },
  {
   "cell_type": "code",
   "execution_count": 53,
   "id": "36b62151",
   "metadata": {},
   "outputs": [],
   "source": [
    "dict_lay = {'Absorb_Layer':Absorb_Layer,'Optical_Thickness':Optical_Thickness,'Absorb_Flux':Absorb_Flux}"
   ]
  },
  {
   "cell_type": "code",
   "execution_count": 54,
   "id": "42a0704c",
   "metadata": {},
   "outputs": [],
   "source": [
    "model.load_weights(path_HDF5+'2022_03_07_SW_abs.hdf5')"
   ]
  },
  {
   "cell_type": "code",
   "execution_count": 56,
   "id": "6a31a400",
   "metadata": {},
   "outputs": [],
   "source": [
    "inp2 = K.Input(shape=(294,))\n",
    "absorb = Absorb_Layer(fac_qv=1e3, fac_ql=1e6, fac_qi=1e6)([inp2])\n",
    "optthi = Optical_Thickness()([inp2,absorb])\n",
    "flux2 = Absorb_Flux()([inp2,optthi])\n",
    "model2 = tf.keras.models.Model(inp2,flux2)"
   ]
  },
  {
   "cell_type": "code",
   "execution_count": 57,
   "id": "7191b3a2",
   "metadata": {},
   "outputs": [],
   "source": [
    "model2.load_weights(path_HDF5+'2021_10_21_SW_abs.hdf5')"
   ]
  },
  {
   "cell_type": "code",
   "execution_count": 58,
   "id": "b1beab28",
   "metadata": {},
   "outputs": [],
   "source": [
    "#model = K.models.load_model(path_HDF5+'2021_10_21_SW_abs.hdf5',custom_objects=dict_lay)"
   ]
  },
  {
   "cell_type": "code",
   "execution_count": 59,
   "id": "4479cb5d",
   "metadata": {},
   "outputs": [
    {
     "data": {
      "text/plain": [
       "[<tf.Variable 'k:0' shape=(3,) dtype=float32, numpy=array([4.6624602e-03, 2.5871807e-01, 2.7388674e-07], dtype=float32)>,\n",
       " <tf.Variable 'k0:0' shape=(1,) dtype=float32, numpy=array([0.05137667], dtype=float32)>]"
      ]
     },
     "execution_count": 59,
     "metadata": {},
     "output_type": "execute_result"
    }
   ],
   "source": [
    "model.weights"
   ]
  },
  {
   "cell_type": "code",
   "execution_count": 60,
   "id": "71bf2672",
   "metadata": {},
   "outputs": [
    {
     "data": {
      "text/plain": [
       "[<tf.Variable 'k:0' shape=(3,) dtype=float32, numpy=array([0.00116458, 0.00286141, 0.00107097], dtype=float32)>,\n",
       " <tf.Variable 'k0:0' shape=(1,) dtype=float32, numpy=array([0.02102046], dtype=float32)>]"
      ]
     },
     "execution_count": 60,
     "metadata": {},
     "output_type": "execute_result"
    }
   ],
   "source": [
    "model2.weights"
   ]
  },
  {
   "cell_type": "markdown",
   "id": "8ea722f1",
   "metadata": {},
   "source": [
    "Overall predictions"
   ]
  },
  {
   "cell_type": "code",
   "execution_count": 74,
   "id": "35d0e3bf",
   "metadata": {},
   "outputs": [],
   "source": [
    "F_pred = model.predict(x_normalized)"
   ]
  },
  {
   "cell_type": "code",
   "execution_count": 62,
   "id": "b815dae5",
   "metadata": {},
   "outputs": [],
   "source": [
    "F_pred2 = model.predict(x)"
   ]
  },
  {
   "cell_type": "code",
   "execution_count": 77,
   "id": "919ad4a6",
   "metadata": {},
   "outputs": [
    {
     "data": {
      "text/plain": [
       "Text(0.5, 1.0, 'Simple absorption model')"
      ]
     },
     "execution_count": 77,
     "metadata": {},
     "output_type": "execute_result"
    },
    {
     "data": {
      "image/png": "[encoded data removed]",
      "text/plain": [
       "<Figure size 360x540 with 1 Axes>"
      ]
     },
     "metadata": {
      "needs_background": "light"
     },
     "output_type": "display_data"
    }
   ],
   "source": [
    "plt.figure(figsize=(5,7.5))\n",
    "\n",
    "plt.plot(np.mean(F_pred,axis=0),pmean/100,color='b',label='Prediction')\n",
    "plt.plot(np.mean(F_pred2,axis=0),pmean/100,color='b',linestyle='--')\n",
    "plt.plot(np.mean(y,axis=0),pmean/100,color='k',label='Truth')\n",
    "\n",
    "# plt.plot(np.percentile(a=F_pred,q=25,axis=0),pmean/100,color='b',linestyle='--')\n",
    "# plt.plot(np.percentile(a=y,q=25,axis=0),pmean/100,color='k',linestyle='--')\n",
    "\n",
    "# plt.plot(np.percentile(a=F_pred,q=75,axis=0),pmean/100,color='b',linestyle='--')\n",
    "# plt.plot(np.percentile(a=y,q=75,axis=0),pmean/100,color='k',linestyle='--')\n",
    "\n",
    "plt.fill_betweenx(y=pmean/100,\n",
    "                  x1=np.percentile(a=F_pred,q=25,axis=0),\n",
    "                  x2=np.percentile(a=F_pred,q=75,axis=0),\n",
    "                  alpha=0.25,color='b')\n",
    "plt.fill_betweenx(y=pmean/100,\n",
    "                  x1=np.percentile(a=y,q=25,axis=0),\n",
    "                  x2=np.percentile(a=y,q=75,axis=0),\n",
    "                  alpha=0.25,color='k')\n",
    "\n",
    "plt.gca().invert_yaxis()\n",
    "plt.legend()\n",
    "plt.grid()\n",
    "plt.xlabel('Net SW Flux [W/m$^{2}$]')\n",
    "plt.ylabel('Pressure [hPa]')\n",
    "plt.title('Simple absorption model')"
   ]
  },
  {
   "cell_type": "code",
   "execution_count": 78,
   "id": "f356db6b",
   "metadata": {},
   "outputs": [
    {
     "data": {
      "text/plain": [
       "909.08466"
      ]
     },
     "execution_count": 78,
     "metadata": {},
     "output_type": "execute_result"
    }
   ],
   "source": [
    "np.mean((F_pred-y)**2)"
   ]
  },
  {
   "cell_type": "code",
   "execution_count": 79,
   "id": "74904030",
   "metadata": {},
   "outputs": [
    {
     "data": {
      "text/plain": [
       "5256.104"
      ]
     },
     "execution_count": 79,
     "metadata": {},
     "output_type": "execute_result"
    }
   ],
   "source": [
    "np.mean((F_pred2-y)**2)"
   ]
  },
  {
   "cell_type": "code",
   "execution_count": 80,
   "id": "042af1dc",
   "metadata": {},
   "outputs": [
    {
     "data": {
      "text/plain": [
       "69123.625"
      ]
     },
     "execution_count": 80,
     "metadata": {},
     "output_type": "execute_result"
    }
   ],
   "source": [
    "np.mean((y-np.mean(y,axis=0))**2)"
   ]
  },
  {
   "cell_type": "code",
   "execution_count": 81,
   "id": "4f36e359",
   "metadata": {},
   "outputs": [
    {
     "data": {
      "text/plain": [
       "162273.44"
      ]
     },
     "execution_count": 81,
     "metadata": {},
     "output_type": "execute_result"
    }
   ],
   "source": [
    "np.mean(y**2)"
   ]
  },
  {
   "cell_type": "code",
   "execution_count": 82,
   "id": "3df11bf2",
   "metadata": {},
   "outputs": [],
   "source": [
    "y_min = np.min(y)"
   ]
  },
  {
   "cell_type": "code",
   "execution_count": 83,
   "id": "5a83d3cd",
   "metadata": {},
   "outputs": [],
   "source": [
    "y_max = np.max(y)"
   ]
  },
  {
   "cell_type": "code",
   "execution_count": 84,
   "id": "64cd26e2",
   "metadata": {},
   "outputs": [
    {
     "data": {
      "image/png": "[encoded data removed]",
      "text/plain": [
       "<Figure size 432x288 with 1 Axes>"
      ]
     },
     "metadata": {
      "needs_background": "light"
     },
     "output_type": "display_data"
    }
   ],
   "source": [
    "plt.scatter(y.flatten(),F_pred.flatten())\n",
    "y_plot = np.linspace(y_min,y_max,100)\n",
    "plt.plot(y_plot,y_plot,color='k')\n",
    "plt.xlabel('True net SW flux [W/m${^2}$]')\n",
    "plt.ylabel('Predicted net SW flux [W/m${^2}$]')\n",
    "plt.grid()"
   ]
  },
  {
   "cell_type": "code",
   "execution_count": 85,
   "id": "b23c1b2a",
   "metadata": {},
   "outputs": [],
   "source": [
    "#sns.jointplot(x=y.flatten(), y=F_pred.flatten(), kind=\"kde\")"
   ]
  },
  {
   "cell_type": "markdown",
   "id": "b78d62cf",
   "metadata": {},
   "source": [
    "Predictions as a function of zenith angle"
   ]
  },
  {
   "cell_type": "markdown",
   "id": "2c8e5191",
   "metadata": {},
   "source": [
    "x = [Fnet_top,zenith_angle,p,qv,ql,qi] of length 294  \n",
    "y = [Fnet] of length 72"
   ]
  },
  {
   "cell_type": "code",
   "execution_count": 86,
   "id": "04a7f38b",
   "metadata": {},
   "outputs": [],
   "source": [
    "# From https://stackoverflow.com/questions/2413522/weighted-standard-deviation-in-np\n",
    "def weighted_avg_and_std(values, weights):\n",
    "    \"\"\"\n",
    "    Return the weighted average and standard deviation.\n",
    "    values, weights -- np ndarrays with the same shape.\n",
    "    \"\"\"\n",
    "    if np.sum(weights)>0:\n",
    "        average = np.average(values, weights=weights)\n",
    "        variance = np.average((values-average)**2, weights=weights)\n",
    "    else:\n",
    "        average = np.nan\n",
    "        variance = np.nan\n",
    "    return (average, np.sqrt(variance))\n",
    "\n",
    "# Make function to calculate conditional mean and std\n",
    "# We condition field_y on field_x\n",
    "def conditional_avg_and_std(bin_edges,field_x,field_y):\n",
    "    # Initialization\n",
    "    Nbin = np.size(bin_edges)\n",
    "    Ym = np.zeros((Nbin-1,1))\n",
    "    Ystd = np.copy(Ym)\n",
    "\n",
    "    for ibin,edge in enumerate(bin_edges):\n",
    "        print('ibin=',ibin,'/',Nbin-1,' & edge=',edge,end=\"\\r\")\n",
    "        if ibin>0:\n",
    "            w = (field_x>=edge_left)*(field_x<edge)\n",
    "            Ym[ibin-1],Ystd[ibin-1] = weighted_avg_and_std(field_y,w)\n",
    "\n",
    "        edge_left = edge\n",
    "    \n",
    "    return Ym,Ystd"
   ]
  },
  {
   "cell_type": "markdown",
   "id": "c9aa2cf6",
   "metadata": {},
   "source": [
    "See if zenith angle used appropriately"
   ]
  },
  {
   "cell_type": "code",
   "execution_count": 87,
   "id": "f14d2033",
   "metadata": {},
   "outputs": [],
   "source": [
    "his_za = np.histogram(x[:,1].flatten(),bins=100)"
   ]
  },
  {
   "cell_type": "code",
   "execution_count": 88,
   "id": "1f653469",
   "metadata": {},
   "outputs": [
    {
     "name": "stdout",
     "output_type": "stream",
     "text": [
      "ibin= 100 / 100  & edge= 1.4835294 / 100  & edge= 0.78649306\r"
     ]
    }
   ],
   "source": [
    "Y_av = conditional_avg_and_std(his_za[1],x[:,1],y[:,0])"
   ]
  },
  {
   "cell_type": "code",
   "execution_count": 89,
   "id": "70fe4bdb",
   "metadata": {},
   "outputs": [
    {
     "name": "stdout",
     "output_type": "stream",
     "text": [
      "ibin= 100 / 100  & edge= 1.4835294\r"
     ]
    }
   ],
   "source": [
    "Ypred_av = conditional_avg_and_std(his_za[1],x[:,1],F_pred[:,0])"
   ]
  },
  {
   "cell_type": "code",
   "execution_count": 90,
   "id": "65965983",
   "metadata": {},
   "outputs": [
    {
     "name": "stdout",
     "output_type": "stream",
     "text": [
      "ibin= 100 / 100  & edge= 1.4835294\r"
     ]
    }
   ],
   "source": [
    "Y_S0_av = conditional_avg_and_std(his_za[1],x[:,1],y[:,0]/x[:,0])\n",
    "Ypred_S0_av = conditional_avg_and_std(his_za[1],x[:,1],F_pred[:,0]/x[:,0])"
   ]
  },
  {
   "cell_type": "code",
   "execution_count": 91,
   "id": "0332c7f4",
   "metadata": {},
   "outputs": [],
   "source": [
    "# From edges to middle of bins\n",
    "def edgTObin(edges):\n",
    "    return 0.5*(edges[1:]+edges[:-1])"
   ]
  },
  {
   "cell_type": "code",
   "execution_count": 92,
   "id": "c28c1370",
   "metadata": {},
   "outputs": [
    {
     "data": {
      "text/plain": [
       "Text(0.5, 1.0, 'Conditional average')"
      ]
     },
     "execution_count": 92,
     "metadata": {},
     "output_type": "execute_result"
    },
    {
     "data": {
      "image/png": "[encoded data removed]",
      "text/plain": [
       "<Figure size 432x288 with 1 Axes>"
      ]
     },
     "metadata": {
      "needs_background": "light"
     },
     "output_type": "display_data"
    }
   ],
   "source": [
    "plt.plot(edgTObin(his_za[1]),Y_av[0],label='Truth')\n",
    "plt.plot(edgTObin(his_za[1]),Ypred_av[0],label='Pred')\n",
    "plt.grid()\n",
    "plt.legend()\n",
    "plt.xlabel('Zenith Angle (rad)')\n",
    "plt.ylabel('Net SW flux surf. (W/m$^{2}$)')\n",
    "plt.title('Conditional average')"
   ]
  },
  {
   "cell_type": "code",
   "execution_count": 93,
   "id": "48641890",
   "metadata": {},
   "outputs": [
    {
     "data": {
      "text/plain": [
       "Text(0.5, 1.0, 'Net SW flux / TOA flux')"
      ]
     },
     "execution_count": 93,
     "metadata": {},
     "output_type": "execute_result"
    },
    {
     "data": {
      "image/png": "[encoded data removed]",
      "text/plain": [
       "<Figure size 432x288 with 1 Axes>"
      ]
     },
     "metadata": {
      "needs_background": "light"
     },
     "output_type": "display_data"
    }
   ],
   "source": [
    "plt.plot(edgTObin(his_za[1]),Y_S0_av[0],label='Truth')\n",
    "plt.plot(edgTObin(his_za[1]),Ypred_S0_av[0],label='Pred')\n",
    "plt.grid()\n",
    "plt.legend()\n",
    "plt.xlabel('Zenith Angle (rad)')\n",
    "plt.ylabel('Conditional average')\n",
    "plt.title('Net SW flux / TOA flux')"
   ]
  },
  {
   "cell_type": "markdown",
   "id": "fbb9c23e",
   "metadata": {},
   "source": [
    "Decomposing predictions"
   ]
  },
  {
   "cell_type": "code",
   "execution_count": 94,
   "id": "0b70c330",
   "metadata": {},
   "outputs": [],
   "source": [
    "inp = K.Input(shape=(294,))\n",
    "absorb = Absorb_Layer()([inp])\n",
    "# optthi = Optical_Thickness()([inp,absorb])\n",
    "# flux = Absorb_Flux()([inp,optthi])\n",
    "model1 = tf.keras.models.Model(inp,absorb)"
   ]
  },
  {
   "cell_type": "code",
   "execution_count": 95,
   "id": "55a72a24",
   "metadata": {},
   "outputs": [],
   "source": [
    "model1.compile(optimizer='Adam',loss='mse')"
   ]
  },
  {
   "cell_type": "code",
   "execution_count": 96,
   "id": "f9b17784",
   "metadata": {},
   "outputs": [
    {
     "data": {
      "text/plain": [
       "[<tf.Variable 'k:0' shape=(3,) dtype=float32, numpy=array([0., 0., 0.], dtype=float32)>,\n",
       " <tf.Variable 'k0:0' shape=(1,) dtype=float32, numpy=array([0.], dtype=float32)>]"
      ]
     },
     "execution_count": 96,
     "metadata": {},
     "output_type": "execute_result"
    }
   ],
   "source": [
    "model1.weights"
   ]
  },
  {
   "cell_type": "code",
   "execution_count": 97,
   "id": "f5446b02",
   "metadata": {},
   "outputs": [
    {
     "data": {
      "text/plain": [
       "<tf.Variable 'UnreadVariable' shape=(3,) dtype=float32, numpy=array([4.6624602e-03, 2.5871807e-01, 2.7388674e-07], dtype=float32)>"
      ]
     },
     "execution_count": 97,
     "metadata": {},
     "output_type": "execute_result"
    }
   ],
   "source": [
    "model1.weights[0].assign(model.weights[0])"
   ]
  },
  {
   "cell_type": "code",
   "execution_count": 98,
   "id": "7fdfb2fc",
   "metadata": {},
   "outputs": [
    {
     "data": {
      "text/plain": [
       "<tf.Variable 'UnreadVariable' shape=(1,) dtype=float32, numpy=array([0.05137667], dtype=float32)>"
      ]
     },
     "execution_count": 98,
     "metadata": {},
     "output_type": "execute_result"
    }
   ],
   "source": [
    "model1.weights[1].assign(model.weights[1])"
   ]
  },
  {
   "cell_type": "code",
   "execution_count": 99,
   "id": "6528c4b7",
   "metadata": {},
   "outputs": [
    {
     "data": {
      "text/plain": [
       "[<tf.Variable 'k:0' shape=(3,) dtype=float32, numpy=array([4.6624602e-03, 2.5871807e-01, 2.7388674e-07], dtype=float32)>,\n",
       " <tf.Variable 'k0:0' shape=(1,) dtype=float32, numpy=array([0.05137667], dtype=float32)>]"
      ]
     },
     "execution_count": 99,
     "metadata": {},
     "output_type": "execute_result"
    }
   ],
   "source": [
    "model1.weights"
   ]
  },
  {
   "cell_type": "code",
   "execution_count": 100,
   "id": "d4d5e840",
   "metadata": {},
   "outputs": [],
   "source": [
    "absorb_test = model1.predict(x)"
   ]
  },
  {
   "cell_type": "code",
   "execution_count": 101,
   "id": "3aca6d90",
   "metadata": {},
   "outputs": [
    {
     "data": {
      "text/plain": [
       "(898025, 73)"
      ]
     },
     "execution_count": 101,
     "metadata": {},
     "output_type": "execute_result"
    }
   ],
   "source": [
    "absorb_test.shape"
   ]
  },
  {
   "cell_type": "code",
   "execution_count": 112,
   "id": "7d1781be",
   "metadata": {},
   "outputs": [
    {
     "data": {
      "text/plain": [
       "Text(0, 0.5, 'Pressure [Pa]')"
      ]
     },
     "execution_count": 112,
     "metadata": {},
     "output_type": "execute_result"
    },
    {
     "data": {
      "image/png": "[encoded data removed]",
      "text/plain": [
       "<Figure size 1080x540 with 1 Axes>"
      ]
     },
     "metadata": {
      "needs_background": "light"
     },
     "output_type": "display_data"
    }
   ],
   "source": [
    "plt.figure(figsize=(15,7.5))\n",
    "\n",
    "plt.plot(np.mean(absorb_test,axis=0),pmean)\n",
    "plt.gca().invert_yaxis()\n",
    "plt.xlabel('Absorption [s2/m]')\n",
    "plt.ylabel('Pressure [Pa]')"
   ]
  },
  {
   "cell_type": "code",
   "execution_count": 103,
   "id": "bdcc3adf",
   "metadata": {},
   "outputs": [],
   "source": [
    "inp = K.Input(shape=(294,))\n",
    "absorb = Absorb_Layer()([inp])\n",
    "optthi = Optical_Thickness()([inp,absorb])\n",
    "# flux = Absorb_Flux()([inp,optthi])\n",
    "model2 = tf.keras.models.Model(inp,optthi)"
   ]
  },
  {
   "cell_type": "code",
   "execution_count": 104,
   "id": "b7eea59c",
   "metadata": {},
   "outputs": [],
   "source": [
    "model2.compile(optimizer='Adam',loss='mse')"
   ]
  },
  {
   "cell_type": "code",
   "execution_count": 105,
   "id": "af548d64",
   "metadata": {},
   "outputs": [
    {
     "data": {
      "text/plain": [
       "[<tf.Variable 'k:0' shape=(3,) dtype=float32, numpy=array([0., 0., 0.], dtype=float32)>,\n",
       " <tf.Variable 'k0:0' shape=(1,) dtype=float32, numpy=array([0.], dtype=float32)>]"
      ]
     },
     "execution_count": 105,
     "metadata": {},
     "output_type": "execute_result"
    }
   ],
   "source": [
    "model2.weights"
   ]
  },
  {
   "cell_type": "code",
   "execution_count": 106,
   "id": "c90afa3f",
   "metadata": {},
   "outputs": [
    {
     "data": {
      "text/plain": [
       "<tf.Variable 'UnreadVariable' shape=(3,) dtype=float32, numpy=array([4.6624602e-03, 2.5871807e-01, 2.7388674e-07], dtype=float32)>"
      ]
     },
     "execution_count": 106,
     "metadata": {},
     "output_type": "execute_result"
    }
   ],
   "source": [
    "model2.weights[0].assign(model.weights[0])"
   ]
  },
  {
   "cell_type": "code",
   "execution_count": 107,
   "id": "039237ef",
   "metadata": {},
   "outputs": [
    {
     "data": {
      "text/plain": [
       "<tf.Variable 'UnreadVariable' shape=(1,) dtype=float32, numpy=array([0.05137667], dtype=float32)>"
      ]
     },
     "execution_count": 107,
     "metadata": {},
     "output_type": "execute_result"
    }
   ],
   "source": [
    "model2.weights[1].assign(model.weights[1])"
   ]
  },
  {
   "cell_type": "code",
   "execution_count": 108,
   "id": "3a033ed9",
   "metadata": {},
   "outputs": [],
   "source": [
    "# model2.weights[2].assign(model.weights[2])\n",
    "# model2.weights[3].assign(model.weights[3])"
   ]
  },
  {
   "cell_type": "code",
   "execution_count": 109,
   "id": "4b8cbddc",
   "metadata": {},
   "outputs": [
    {
     "data": {
      "text/plain": [
       "[<tf.Variable 'k:0' shape=(3,) dtype=float32, numpy=array([4.6624602e-03, 2.5871807e-01, 2.7388674e-07], dtype=float32)>,\n",
       " <tf.Variable 'k0:0' shape=(1,) dtype=float32, numpy=array([0.05137667], dtype=float32)>]"
      ]
     },
     "execution_count": 109,
     "metadata": {},
     "output_type": "execute_result"
    }
   ],
   "source": [
    "model2.weights"
   ]
  },
  {
   "cell_type": "code",
   "execution_count": 110,
   "id": "d94f45d7",
   "metadata": {},
   "outputs": [
    {
     "data": {
      "text/plain": [
       "(898025, 73)"
      ]
     },
     "execution_count": 110,
     "metadata": {},
     "output_type": "execute_result"
    }
   ],
   "source": [
    "optT_test = model2.predict(x)\n",
    "\n",
    "optT_test.shape"
   ]
  },
  {
   "cell_type": "code",
   "execution_count": 111,
   "id": "2dcba266",
   "metadata": {},
   "outputs": [
    {
     "data": {
      "text/plain": [
       "Text(0, 0.5, 'Pressure [Pa]')"
      ]
     },
     "execution_count": 111,
     "metadata": {},
     "output_type": "execute_result"
    },
    {
     "data": {
      "image/png": "[encoded data removed]",
      "text/plain": [
       "<Figure size 360x540 with 1 Axes>"
      ]
     },
     "metadata": {
      "needs_background": "light"
     },
     "output_type": "display_data"
    }
   ],
   "source": [
    "plt.figure(figsize=(5,7.5))\n",
    "\n",
    "plt.plot(np.mean(optT_test,axis=0),pmean)\n",
    "plt.gca().invert_yaxis()\n",
    "plt.xlabel('Optical thickness')\n",
    "plt.ylabel('Pressure [Pa]')"
   ]
  },
  {
   "cell_type": "markdown",
   "id": "05fb5c39",
   "metadata": {},
   "source": []
  },
  {
   "cell_type": "code",
   "execution_count": 113,
   "id": "6985488d",
   "metadata": {},
   "outputs": [
    {
     "data": {
      "text/plain": [
       "(898025, 294)"
      ]
     },
     "execution_count": 113,
     "metadata": {},
     "output_type": "execute_result"
    }
   ],
   "source": [
    "x.shape"
   ]
  },
  {
   "cell_type": "markdown",
   "id": "38fce211",
   "metadata": {},
   "source": [
    "## Error analysis"
   ]
  },
  {
   "cell_type": "markdown",
   "id": "a3187b94",
   "metadata": {},
   "source": [
    "### Version directly using the path"
   ]
  },
  {
   "cell_type": "markdown",
   "id": "bbad923d",
   "metadata": {},
   "source": [
    "Number of parameters = 3"
   ]
  },
  {
   "cell_type": "markdown",
   "id": "d5d6c8e3",
   "metadata": {},
   "source": [
    "Value of parameters"
   ]
  },
  {
   "cell_type": "code",
   "execution_count": 39,
   "id": "008ed5c7",
   "metadata": {},
   "outputs": [],
   "source": [
    "kappa_NN = np.array([0.05213128, 0.00579355, 0.00343533])"
   ]
  },
  {
   "cell_type": "code",
   "execution_count": 40,
   "id": "2a8d5ae4",
   "metadata": {},
   "outputs": [],
   "source": [
    "kappa_NN1920 = np.array([0.05319668, 0.00607786, 0.00352458])"
   ]
  },
  {
   "cell_type": "markdown",
   "id": "494f7567",
   "metadata": {},
   "source": [
    "Mean-squared error on the training set"
   ]
  },
  {
   "cell_type": "code",
   "execution_count": 41,
   "id": "dfa237a8",
   "metadata": {},
   "outputs": [],
   "source": [
    "ypred = prediction(x201920,kappa_NN)"
   ]
  },
  {
   "cell_type": "code",
   "execution_count": 42,
   "id": "f108bdd4",
   "metadata": {},
   "outputs": [],
   "source": [
    "ypred_1920 = prediction(x201920,kappa_NN1920)"
   ]
  },
  {
   "cell_type": "code",
   "execution_count": 43,
   "id": "2cb022a0",
   "metadata": {},
   "outputs": [
    {
     "name": "stdout",
     "output_type": "stream",
     "text": [
      "1081.2156\n"
     ]
    }
   ],
   "source": [
    "mse = np.mean((ypred-y201920)**2)\n",
    "print(mse)"
   ]
  },
  {
   "cell_type": "code",
   "execution_count": 44,
   "id": "c5144ed2",
   "metadata": {},
   "outputs": [
    {
     "name": "stdout",
     "output_type": "stream",
     "text": [
      "1076.68\n"
     ]
    }
   ],
   "source": [
    "mse = np.mean((ypred_1920-y201920)**2)\n",
    "print(mse)"
   ]
  },
  {
   "cell_type": "markdown",
   "id": "8fc14835",
   "metadata": {},
   "source": [
    "Mean-squared error on the tropical test set"
   ]
  },
  {
   "cell_type": "code",
   "execution_count": 45,
   "id": "da4d47c5",
   "metadata": {},
   "outputs": [],
   "source": [
    "ypred_2017 = prediction(x2017,kappa_NN)"
   ]
  },
  {
   "cell_type": "code",
   "execution_count": 46,
   "id": "e2215e82",
   "metadata": {},
   "outputs": [],
   "source": [
    "ypred_2017_updated = prediction(x2017,kappa_NN1920)"
   ]
  },
  {
   "cell_type": "code",
   "execution_count": 47,
   "id": "bc5ea978",
   "metadata": {},
   "outputs": [
    {
     "name": "stdout",
     "output_type": "stream",
     "text": [
      "2161.1487\n"
     ]
    }
   ],
   "source": [
    "mse = np.mean((ypred_2017-y2017)**2)\n",
    "print(mse)"
   ]
  },
  {
   "cell_type": "code",
   "execution_count": 48,
   "id": "6ec5d9f4",
   "metadata": {},
   "outputs": [
    {
     "name": "stdout",
     "output_type": "stream",
     "text": [
      "2412.6987\n"
     ]
    }
   ],
   "source": [
    "mse = np.mean((ypred_2017_updated-y2017)**2)\n",
    "print(mse)"
   ]
  },
  {
   "cell_type": "markdown",
   "id": "72a9767d",
   "metadata": {},
   "source": [
    "Number of samples in the non-tropical (2019,2020) sites"
   ]
  },
  {
   "cell_type": "code",
   "execution_count": 285,
   "id": "327a6322",
   "metadata": {},
   "outputs": [
    {
     "data": {
      "text/plain": [
       "1929646"
      ]
     },
     "execution_count": 285,
     "metadata": {},
     "output_type": "execute_result"
    }
   ],
   "source": [
    "ypred.shape[0]"
   ]
  },
  {
   "cell_type": "markdown",
   "id": "a842c4c0",
   "metadata": {},
   "source": [
    "Number of samples in the tropical 2017 sites"
   ]
  },
  {
   "cell_type": "code",
   "execution_count": 286,
   "id": "c94b400d",
   "metadata": {},
   "outputs": [
    {
     "data": {
      "text/plain": [
       "260300"
      ]
     },
     "execution_count": 286,
     "metadata": {},
     "output_type": "execute_result"
    }
   ],
   "source": [
    "ypred_2017.shape[0]"
   ]
  },
  {
   "cell_type": "markdown",
   "id": "2fc5be9f",
   "metadata": {},
   "source": [
    "### Version integrating the full profile of vapor/liquid water"
   ]
  },
  {
   "cell_type": "code",
   "execution_count": 124,
   "id": "c2b87d1e",
   "metadata": {},
   "outputs": [],
   "source": [
    "mse = np.mean((F_pred-y)**2,axis=1)"
   ]
  },
  {
   "cell_type": "code",
   "execution_count": 125,
   "id": "372b0d87",
   "metadata": {},
   "outputs": [],
   "source": [
    "his_mse = np.histogram(mse,bins=100);"
   ]
  },
  {
   "cell_type": "markdown",
   "id": "efb699e0",
   "metadata": {},
   "source": [
    "`x = [Fnet_top,zenith_angle,p,qv,ql,qi]` of length 294  \n",
    "`y = [Fnet]` of length 72"
   ]
  },
  {
   "cell_type": "code",
   "execution_count": 130,
   "id": "e7edae23",
   "metadata": {},
   "outputs": [
    {
     "name": "stdout",
     "output_type": "stream",
     "text": [
      "ibin= 100 / 100  & edge= 18334.723\r"
     ]
    }
   ],
   "source": [
    "Fnet_surf_av = conditional_avg_and_std(his_mse[1],mse,y[:,0])\n",
    "Fnet_top_av = conditional_avg_and_std(his_mse[1],mse,x[:,0])"
   ]
  },
  {
   "cell_type": "code",
   "execution_count": 131,
   "id": "92c39bce",
   "metadata": {},
   "outputs": [
    {
     "data": {
      "text/plain": [
       "Text(0.5, 1.0, 'Conditional average')"
      ]
     },
     "execution_count": 131,
     "metadata": {},
     "output_type": "execute_result"
    },
    {
     "data": {
      "image/png": "[encoded data removed]",
      "text/plain": [
       "<Figure size 432x288 with 1 Axes>"
      ]
     },
     "metadata": {
      "needs_background": "light"
     },
     "output_type": "display_data"
    }
   ],
   "source": [
    "plt.plot(edgTObin(his_mse[1]),Fnet_surf_av[0],label='Fnet_surf')\n",
    "plt.plot(edgTObin(his_mse[1]),Fnet_top_av[0],label='Fnet_top')\n",
    "plt.grid()\n",
    "plt.legend()\n",
    "plt.xlabel('Mean squared error (W$^{2}$/m$^{4}$)')\n",
    "plt.ylabel('Net SW flux surf. (W/m$^{2}$)')\n",
    "plt.title('Conditional average')"
   ]
  },
  {
   "cell_type": "code",
   "execution_count": 134,
   "id": "6d3b019b",
   "metadata": {},
   "outputs": [
    {
     "name": "stdout",
     "output_type": "stream",
     "text": [
      "ibin= 100 / 100  & edge= 18334.723\r"
     ]
    }
   ],
   "source": [
    "zenithA_av = conditional_avg_and_std(his_mse[1],mse,x[:,1])"
   ]
  },
  {
   "cell_type": "code",
   "execution_count": 136,
   "id": "030ec600",
   "metadata": {},
   "outputs": [
    {
     "data": {
      "text/plain": [
       "Text(0.5, 1.0, 'Conditional average')"
      ]
     },
     "execution_count": 136,
     "metadata": {},
     "output_type": "execute_result"
    },
    {
     "data": {
      "image/png": "[encoded data removed]",
      "text/plain": [
       "<Figure size 432x288 with 1 Axes>"
      ]
     },
     "metadata": {
      "needs_background": "light"
     },
     "output_type": "display_data"
    }
   ],
   "source": [
    "plt.plot(edgTObin(his_mse[1]),zenithA_av[0],label='Zenith Angle')\n",
    "plt.grid()\n",
    "plt.legend()\n",
    "plt.xlabel('Mean squared error (W$^{2}$/m$^{4}$)')\n",
    "plt.ylabel('Zenith Angle (rad)')\n",
    "plt.title('Conditional average')"
   ]
  },
  {
   "cell_type": "code",
   "execution_count": 137,
   "id": "450e7913",
   "metadata": {},
   "outputs": [],
   "source": [
    "his_zA = np.histogram(x[:,1],bins=100);"
   ]
  },
  {
   "cell_type": "code",
   "execution_count": 138,
   "id": "691e2d7c",
   "metadata": {},
   "outputs": [
    {
     "name": "stdout",
     "output_type": "stream",
     "text": [
      "ibin= 100 / 100  & edge= 1.4835294\r"
     ]
    }
   ],
   "source": [
    "flux_zA = conditional_avg_and_std(his_zA[1],x[:,1],y[:,0])"
   ]
  },
  {
   "cell_type": "code",
   "execution_count": 141,
   "id": "6b6882db",
   "metadata": {},
   "outputs": [
    {
     "name": "stdout",
     "output_type": "stream",
     "text": [
      "ibin= 100 / 100  & edge= 1.4835294\r"
     ]
    }
   ],
   "source": [
    "flux_pred_zA = conditional_avg_and_std(his_zA[1],x[:,1],F_pred[:,0])"
   ]
  },
  {
   "cell_type": "code",
   "execution_count": 143,
   "id": "5cd0cc85",
   "metadata": {},
   "outputs": [
    {
     "data": {
      "text/plain": [
       "Text(0.5, 1.0, 'Conditional average')"
      ]
     },
     "execution_count": 143,
     "metadata": {},
     "output_type": "execute_result"
    },
    {
     "data": {
      "image/png": "[encoded data removed]",
      "text/plain": [
       "<Figure size 432x288 with 1 Axes>"
      ]
     },
     "metadata": {
      "needs_background": "light"
     },
     "output_type": "display_data"
    }
   ],
   "source": [
    "plt.plot(edgTObin(his_zA[1]),flux_zA[0],label='Truth')\n",
    "plt.plot(edgTObin(his_zA[1]),flux_pred_zA[0],label='Prediction')\n",
    "plt.grid()\n",
    "plt.legend()\n",
    "plt.xlabel('Zenith Angle (rad)')\n",
    "plt.ylabel('Surface flux (W/m$^{2}$)')\n",
    "plt.title('Conditional average')"
   ]
  },
  {
   "cell_type": "code",
   "execution_count": null,
   "id": "9594962e",
   "metadata": {},
   "outputs": [],
   "source": []
  }
 ],
 "metadata": {
  "kernelspec": {
   "display_name": "Python 3 (ipykernel)",
   "language": "python",
   "name": "python3"
  },
  "language_info": {
   "codemirror_mode": {
    "name": "ipython",
    "version": 3
   },
   "file_extension": ".py",
   "mimetype": "text/x-python",
   "name": "python",
   "nbconvert_exporter": "python",
   "pygments_lexer": "ipython3",
   "version": "3.7.7"
  },
  "toc": {
   "base_numbering": 1,
   "nav_menu": {},
   "number_sections": true,
   "sideBar": true,
   "skip_h1_title": false,
   "title_cell": "Table of Contents",
   "title_sidebar": "Contents",
   "toc_cell": false,
   "toc_position": {
    "height": "calc(100% - 180px)",
    "left": "10px",
    "top": "150px",
    "width": "384px"
   },
   "toc_section_display": true,
   "toc_window_display": true
  }
 },
 "nbformat": 4,
 "nbformat_minor": 5
}
