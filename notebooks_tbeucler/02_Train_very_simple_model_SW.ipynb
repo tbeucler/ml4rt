{
 "cells": [
  {
   "cell_type": "markdown",
   "id": "4b1ed6bc",
   "metadata": {},
   "source": [
    "tb - Train coefficients of a simple analytic model for SW radiative transfer via stochastic gradient descent"
   ]
  },
  {
   "cell_type": "markdown",
   "id": "cc5760da",
   "metadata": {},
   "source": [
    "Then calculate (1) Number of free parameters; and (2) error statistics of the net shortwave flux prediction (in $W m^{-2}$)"
   ]
  },
  {
   "cell_type": "markdown",
   "id": "1a28d6a2",
   "metadata": {},
   "source": [
    "# Imports"
   ]
  },
  {
   "cell_type": "code",
   "execution_count": 19,
   "id": "2b060191",
   "metadata": {},
   "outputs": [],
   "source": [
    "from ml4rt.io.example_io import *\n",
    "from ml4rt.utils.normalization import *\n",
    "from ml4rt.machine_learning.neural_net import *\n",
    "#from ml4rt.machine_learning.u_net_architecture import *\n",
    "#from ml4rt.machine_learning.u_net_pp_architecture import *\n",
    "\n",
    "import numpy as np"
   ]
  },
  {
   "cell_type": "markdown",
   "id": "1af8b0d6",
   "metadata": {},
   "source": [
    "# Read File"
   ]
  },
  {
   "cell_type": "code",
   "execution_count": 2,
   "id": "3d45df1b",
   "metadata": {},
   "outputs": [
    {
     "data": {
      "text/plain": [
       "<function ml4rt.io.example_io.read_file(netcdf_file_name, exclude_summit_greenland=False, max_heating_rate_k_day=41.5, id_strings_to_read=None, allow_missing_ids=False)>"
      ]
     },
     "execution_count": 2,
     "metadata": {},
     "output_type": "execute_result"
    }
   ],
   "source": [
    "read_file"
   ]
  },
  {
   "cell_type": "code",
   "execution_count": 3,
   "id": "3b9de706",
   "metadata": {},
   "outputs": [],
   "source": [
    "path_data = '/work/FAC/FGSE/IDYST/tbeucler/default/tbeucler/2021_Ryan_Lagerquist_SW/'"
   ]
  },
  {
   "cell_type": "code",
   "execution_count": 4,
   "id": "47b6ed3a",
   "metadata": {},
   "outputs": [
    {
     "name": "stderr",
     "output_type": "stream",
     "text": [
      "/work/FAC/FGSE/IDYST/tbeucler/default/tbeucler/ml4rt/notebooks_tbeucler/ml4rt/io/example_io.py:304: UserWarning: Removing 0 of 264638 examples (profiles), because they are at Summit GL.\n",
      "  warnings.warn(warning_string)\n"
     ]
    }
   ],
   "source": [
    "read2020 = read_file(path_data+'tropical_sites/learning_examples_2020.nc',\n",
    "                     exclude_summit_greenland=True,\n",
    "                     max_heating_rate_k_day=np.inf)"
   ]
  },
  {
   "cell_type": "code",
   "execution_count": 5,
   "id": "7743b975",
   "metadata": {},
   "outputs": [
    {
     "data": {
      "text/plain": [
       "dict_keys(['example_id_strings', 'scalar_predictor_names', 'vector_predictor_names', 'scalar_target_names', 'vector_target_names', 'scalar_predictor_matrix', 'vector_predictor_matrix', 'scalar_target_matrix', 'vector_target_matrix', 'valid_times_unix_sec', 'standard_atmo_flags', 'heights_m_agl'])"
      ]
     },
     "execution_count": 5,
     "metadata": {},
     "output_type": "execute_result"
    }
   ],
   "source": [
    "read2020.keys()"
   ]
  },
  {
   "cell_type": "code",
   "execution_count": 6,
   "id": "964d5e8d",
   "metadata": {},
   "outputs": [
    {
     "data": {
      "text/plain": [
       "(264638, 6)"
      ]
     },
     "execution_count": 6,
     "metadata": {},
     "output_type": "execute_result"
    }
   ],
   "source": [
    "read2020['scalar_predictor_matrix'].shape"
   ]
  },
  {
   "cell_type": "code",
   "execution_count": 7,
   "id": "a9c9421c",
   "metadata": {},
   "outputs": [
    {
     "data": {
      "text/plain": [
       "['zenith_angle_radians',\n",
       " 'albedo',\n",
       " 'latitude_deg_n',\n",
       " 'longitude_deg_e',\n",
       " 'column_liquid_water_path_kg_m02',\n",
       " 'column_ice_water_path_kg_m02']"
      ]
     },
     "execution_count": 7,
     "metadata": {},
     "output_type": "execute_result"
    }
   ],
   "source": [
    "read2020['scalar_predictor_names']"
   ]
  },
  {
   "cell_type": "code",
   "execution_count": 8,
   "id": "80a03617",
   "metadata": {},
   "outputs": [
    {
     "data": {
      "text/plain": [
       "(264638, 73, 12)"
      ]
     },
     "execution_count": 8,
     "metadata": {},
     "output_type": "execute_result"
    }
   ],
   "source": [
    "read2020['vector_predictor_matrix'].shape"
   ]
  },
  {
   "cell_type": "code",
   "execution_count": 9,
   "id": "40eb930a",
   "metadata": {},
   "outputs": [
    {
     "data": {
      "text/plain": [
       "['pressure_pascals',\n",
       " 'temperature_kelvins',\n",
       " 'specific_humidity_kg_kg01',\n",
       " 'liquid_water_content_kg_m03',\n",
       " 'ice_water_content_kg_m03',\n",
       " 'liquid_water_path_kg_m02',\n",
       " 'ice_water_path_kg_m02',\n",
       " 'vapour_path_kg_m02',\n",
       " 'upward_liquid_water_path_kg_m02',\n",
       " 'upward_ice_water_path_kg_m02',\n",
       " 'upward_vapour_path_kg_m02',\n",
       " 'relative_humidity_unitless']"
      ]
     },
     "execution_count": 9,
     "metadata": {},
     "output_type": "execute_result"
    }
   ],
   "source": [
    "read2020['vector_predictor_names']"
   ]
  },
  {
   "cell_type": "code",
   "execution_count": 10,
   "id": "c7acf2f7",
   "metadata": {},
   "outputs": [
    {
     "data": {
      "text/plain": [
       "['shortwave_surface_down_flux_w_m02', 'shortwave_toa_up_flux_w_m02']"
      ]
     },
     "execution_count": 10,
     "metadata": {},
     "output_type": "execute_result"
    }
   ],
   "source": [
    "read2020['scalar_target_names']"
   ]
  },
  {
   "cell_type": "code",
   "execution_count": 11,
   "id": "f20e6b7c",
   "metadata": {},
   "outputs": [
    {
     "data": {
      "text/plain": [
       "(264638, 2)"
      ]
     },
     "execution_count": 11,
     "metadata": {},
     "output_type": "execute_result"
    }
   ],
   "source": [
    "read2020['scalar_target_matrix'].shape"
   ]
  },
  {
   "cell_type": "code",
   "execution_count": 12,
   "id": "c660db0b",
   "metadata": {},
   "outputs": [
    {
     "data": {
      "text/plain": [
       "['shortwave_down_flux_w_m02',\n",
       " 'shortwave_up_flux_w_m02',\n",
       " 'shortwave_heating_rate_k_day01',\n",
       " 'shortwave_down_flux_increment_w_m03',\n",
       " 'shortwave_up_flux_increment_w_m03']"
      ]
     },
     "execution_count": 12,
     "metadata": {},
     "output_type": "execute_result"
    }
   ],
   "source": [
    "read2020['vector_target_names']"
   ]
  },
  {
   "cell_type": "code",
   "execution_count": 13,
   "id": "ea5700e3",
   "metadata": {},
   "outputs": [
    {
     "data": {
      "text/plain": [
       "(264638, 73, 5)"
      ]
     },
     "execution_count": 13,
     "metadata": {},
     "output_type": "execute_result"
    }
   ],
   "source": [
    "read2020['vector_target_matrix'].shape"
   ]
  },
  {
   "cell_type": "markdown",
   "id": "14b1bf21",
   "metadata": {},
   "source": [
    "# Data generator"
   ]
  },
  {
   "cell_type": "markdown",
   "id": "0a5c3796",
   "metadata": {},
   "source": [
    "## Load normalization parameters from non tropical sites"
   ]
  },
  {
   "cell_type": "code",
   "execution_count": 14,
   "id": "727b8b1b",
   "metadata": {},
   "outputs": [],
   "source": [
    "path_norm_param = path_data+'non_tropical_sites/learning_examples_20170101-20181224.nc'"
   ]
  },
  {
   "cell_type": "code",
   "execution_count": 15,
   "id": "c223c36b",
   "metadata": {},
   "outputs": [
    {
     "name": "stderr",
     "output_type": "stream",
     "text": [
      "/work/FAC/FGSE/IDYST/tbeucler/default/tbeucler/ml4rt/notebooks_tbeucler/ml4rt/io/example_io.py:304: UserWarning: Removing 0 of 100000 examples (profiles), because they are at Summit GL.\n",
      "  warnings.warn(warning_string)\n"
     ]
    }
   ],
   "source": [
    "norm_param = read_file(path_norm_param,\n",
    "                     exclude_summit_greenland=True,\n",
    "                     max_heating_rate_k_day=np.inf)"
   ]
  },
  {
   "cell_type": "code",
   "execution_count": 16,
   "id": "bfa59195",
   "metadata": {},
   "outputs": [
    {
     "data": {
      "text/plain": [
       "dict_keys(['example_id_strings', 'scalar_predictor_names', 'vector_predictor_names', 'scalar_target_names', 'vector_target_names', 'scalar_predictor_matrix', 'vector_predictor_matrix', 'scalar_target_matrix', 'vector_target_matrix', 'valid_times_unix_sec', 'standard_atmo_flags', 'heights_m_agl'])"
      ]
     },
     "execution_count": 16,
     "metadata": {},
     "output_type": "execute_result"
    }
   ],
   "source": [
    "norm_param.keys()"
   ]
  },
  {
   "cell_type": "markdown",
   "id": "2eacb2af",
   "metadata": {},
   "source": [
    "## Apply normalization \n",
    "Following [https://github.com/thunderhoser/ml4rt/blob/8ad36b52ead1c4870bdccaa804dee9a52144cce0/ml4rt/machine_learning/neural_net.py#L213]"
   ]
  },
  {
   "cell_type": "code",
   "execution_count": 17,
   "id": "eb97ffd4",
   "metadata": {},
   "outputs": [
    {
     "data": {
      "text/plain": [
       "<function ml4rt.utils.normalization.normalize_data(new_example_dict, training_example_dict, normalization_type_string, min_normalized_value=-1.0, max_normalized_value=1.0, separate_heights=False, apply_to_predictors=True, apply_to_vector_targets=True, apply_to_scalar_targets=True)>"
      ]
     },
     "execution_count": 17,
     "metadata": {},
     "output_type": "execute_result"
    }
   ],
   "source": [
    "normalize_data"
   ]
  },
  {
   "cell_type": "markdown",
   "id": "3b0c0283",
   "metadata": {},
   "source": [
    "The normalization is automatically applied as part of data_generator (see _read_file_for_generator)"
   ]
  },
  {
   "cell_type": "code",
   "execution_count": 18,
   "id": "b09b6110",
   "metadata": {},
   "outputs": [
    {
     "data": {
      "text/plain": [
       "<function ml4rt.machine_learning.neural_net.data_generator(option_dict, for_inference, net_type_string)>"
      ]
     },
     "execution_count": 18,
     "metadata": {},
     "output_type": "execute_result"
    }
   ],
   "source": [
    "data_generator"
   ]
  },
  {
   "cell_type": "markdown",
   "id": "50efa765",
   "metadata": {},
   "source": [
    "## Build data generator that takes "
   ]
  }
 ],
 "metadata": {
  "kernelspec": {
   "display_name": "Python 3 (ipykernel)",
   "language": "python",
   "name": "python3"
  },
  "language_info": {
   "codemirror_mode": {
    "name": "ipython",
    "version": 3
   },
   "file_extension": ".py",
   "mimetype": "text/x-python",
   "name": "python",
   "nbconvert_exporter": "python",
   "pygments_lexer": "ipython3",
   "version": "3.9.7"
  }
 },
 "nbformat": 4,
 "nbformat_minor": 5
}
