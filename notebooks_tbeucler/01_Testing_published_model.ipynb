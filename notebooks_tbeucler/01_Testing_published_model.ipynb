{
 "cells": [
  {
   "cell_type": "markdown",
   "id": "31ccaa9b",
   "metadata": {},
   "source": [
    "tb - 10/18/2021 - Reproduce results from Ryan and output (1) number of free parameters ; and (2) mean error statistics of the net shortwave flux prediction (in $W m^{-2} $) from best-performing model."
   ]
  },
  {
   "cell_type": "markdown",
   "id": "2b0bb52a",
   "metadata": {},
   "source": [
    "Kind instruction email from Ryan L below:\n",
    "\n",
    "•\tThe Python library, called ml4rt, is available here.  It's under the MIT licence, so feel free to use/modify for any non-commercial purposes.\n",
    "•\tTo read the files with learning examples (all NetCDF files in the directories tropical_sites and non_tropical_sites), use example_io.read_file, which you can find here.  I recommend always using the options exclude_summit_greenland = True (the RRTM, which is the model we're trying to emulate, made some errors on these profiles, so the labels are inaccurate) and max_heating_rate_k_day = numpy.inf (in other words, don't filter by heating rate).  example_io.read_file returns a dictionary, and the format of this dictionary is documented in the method string for example_io.read_file.\n",
    "•\tOne file (non_tropical_sites/learning_examples_20170101-20181224.nc) contains normalization parameters, used to normalize data before input to the neural net.\n",
    "•\tTo normalize data, use the method normalization.normalize_data (here), where new_example_dict contains the examples you want to normalize and training_example_dict contains normalization parameters (read from non_tropical_sites/learning_examples_20170101-20181224.nc).  For some example usage of normalization.normalize_data, see neural_net.read_file_for_generator (here), where the method is called 3 times.\n",
    "•\tTo read the model (a U-net++), use the method neural_net.read_model (here).  Make sure the metafile (model_metadata.dill) is always in the same directory as the actual model (model.h5).\n",
    "•\tTo read the data and prepare it for input to the the neural net (i.e., pre-process it the same way the training data was pre-processed), use neural_net.create_data (here) or neural_net.data_generator (here).\n",
    "•\tTo apply the trained neural net to some data, use neural_net.create_data or neural_net.data_generator to read/pre-process the data, then use neural_net.apply_model (here) with net_type_string = \"u_net\".  I recommend verbose = True and num_examples_per_batch = 5000 (but you may need it smaller if you have a computer with limited RAM).  predictor_matrix will be the predictor_matrix returned by neural_net.create_data or neural_net.data_generator.\n",
    "\n",
    "I hope this is enough to get you started.  Please let me know if you have any questions about the code.  It's a bit complicated because [a] the neural net has both scalar and vector inputs (the scalars being solar zenith angle and surface albedo, the vectors being 1-D profiles of other variables); [b] the neural net has both scalar and vector outputs (the scalars being TOA upwelling flux, sfc downwelling flux, and net flux; the vector being a 1-D profile of heating rates; other possible vector outputs are full profiles of upwelling and downwelling flux, but I've since stopped predicting these, since NWP models don't require them from a paramzn)."
   ]
  },
  {
   "cell_type": "markdown",
   "id": "1a28d6a2",
   "metadata": {},
   "source": [
    "# Imports"
   ]
  },
  {
   "cell_type": "code",
   "execution_count": 1,
   "id": "2b060191",
   "metadata": {},
   "outputs": [],
   "source": [
    "from ml4rt.io.example_io import *\n",
    "from ml4rt.utils.normalization import *\n",
    "from ml4rt.machine_learning.neural_net import *\n",
    "from ml4rt.machine_learning.u_net_architecture import *\n",
    "from ml4rt.machine_learning.u_net_pp_architecture import *\n",
    "\n",
    "import dill\n",
    "\n",
    "import matplotlib as mpl\n",
    "import matplotlib.pyplot as plt\n",
    "import numpy as np"
   ]
  },
  {
   "cell_type": "code",
   "execution_count": 2,
   "id": "f4b19019",
   "metadata": {},
   "outputs": [],
   "source": [
    "fz = 15\n",
    "lw = 4\n",
    "siz = 100\n",
    "\n",
    "plt.rc('text', usetex=False)\n",
    "mpl.rcParams['mathtext.fontset'] = 'stix'\n",
    "mpl.rcParams['font.family'] = 'STIXGeneral'\n",
    "plt.rc('font', family='serif', size=fz)\n",
    "mpl.rcParams['lines.linewidth'] = lw"
   ]
  },
  {
   "cell_type": "markdown",
   "id": "1af8b0d6",
   "metadata": {},
   "source": [
    "# Read Files"
   ]
  },
  {
   "cell_type": "code",
   "execution_count": 3,
   "id": "3d45df1b",
   "metadata": {},
   "outputs": [
    {
     "data": {
      "text/plain": [
       "<function ml4rt.io.example_io.read_file(netcdf_file_name, exclude_summit_greenland=False, max_heating_rate_k_day=41.5, id_strings_to_read=None, allow_missing_ids=False)>"
      ]
     },
     "execution_count": 3,
     "metadata": {},
     "output_type": "execute_result"
    }
   ],
   "source": [
    "read_file"
   ]
  },
  {
   "cell_type": "code",
   "execution_count": 4,
   "id": "3b9de706",
   "metadata": {},
   "outputs": [],
   "source": [
    "path_data = '/work/FAC/FGSE/IDYST/tbeucler/default/tbeucler/2021_Ryan_Lagerquist_SW/'"
   ]
  },
  {
   "cell_type": "code",
   "execution_count": 5,
   "id": "47b6ed3a",
   "metadata": {},
   "outputs": [
    {
     "name": "stderr",
     "output_type": "stream",
     "text": [
      "/work/FAC/FGSE/IDYST/tbeucler/default/tbeucler/ml4rt/notebooks_tbeucler/ml4rt/io/example_io.py:304: UserWarning: Removing 0 of 264638 examples (profiles), because they are at Summit GL.\n",
      "  warnings.warn(warning_string)\n"
     ]
    }
   ],
   "source": [
    "read2020 = read_file(path_data+'tropical_sites/learning_examples_2020.nc',\n",
    "                     exclude_summit_greenland=True)"
   ]
  },
  {
   "cell_type": "code",
   "execution_count": 6,
   "id": "7743b975",
   "metadata": {},
   "outputs": [
    {
     "data": {
      "text/plain": [
       "dict_keys(['example_id_strings', 'scalar_predictor_names', 'vector_predictor_names', 'scalar_target_names', 'vector_target_names', 'scalar_predictor_matrix', 'vector_predictor_matrix', 'scalar_target_matrix', 'vector_target_matrix', 'valid_times_unix_sec', 'standard_atmo_flags', 'heights_m_agl'])"
      ]
     },
     "execution_count": 6,
     "metadata": {},
     "output_type": "execute_result"
    }
   ],
   "source": [
    "read2020.keys()"
   ]
  },
  {
   "cell_type": "code",
   "execution_count": 7,
   "id": "964d5e8d",
   "metadata": {},
   "outputs": [
    {
     "data": {
      "text/plain": [
       "(264638, 6)"
      ]
     },
     "execution_count": 7,
     "metadata": {},
     "output_type": "execute_result"
    }
   ],
   "source": [
    "read2020['scalar_predictor_matrix'].shape"
   ]
  },
  {
   "cell_type": "code",
   "execution_count": 8,
   "id": "dbc7f73c",
   "metadata": {},
   "outputs": [
    {
     "data": {
      "text/plain": [
       "['zenith_angle_radians',\n",
       " 'albedo',\n",
       " 'latitude_deg_n',\n",
       " 'longitude_deg_e',\n",
       " 'column_liquid_water_path_kg_m02',\n",
       " 'column_ice_water_path_kg_m02']"
      ]
     },
     "execution_count": 8,
     "metadata": {},
     "output_type": "execute_result"
    }
   ],
   "source": [
    "read2020['scalar_predictor_names']"
   ]
  },
  {
   "cell_type": "code",
   "execution_count": 9,
   "id": "142c71ad",
   "metadata": {},
   "outputs": [
    {
     "data": {
      "text/plain": [
       "(264638, 73, 12)"
      ]
     },
     "execution_count": 9,
     "metadata": {},
     "output_type": "execute_result"
    }
   ],
   "source": [
    "read2020['vector_predictor_matrix'].shape"
   ]
  },
  {
   "cell_type": "code",
   "execution_count": 10,
   "id": "707b6c4a",
   "metadata": {},
   "outputs": [
    {
     "data": {
      "text/plain": [
       "['pressure_pascals',\n",
       " 'temperature_kelvins',\n",
       " 'specific_humidity_kg_kg01',\n",
       " 'liquid_water_content_kg_m03',\n",
       " 'ice_water_content_kg_m03',\n",
       " 'liquid_water_path_kg_m02',\n",
       " 'ice_water_path_kg_m02',\n",
       " 'vapour_path_kg_m02',\n",
       " 'upward_liquid_water_path_kg_m02',\n",
       " 'upward_ice_water_path_kg_m02',\n",
       " 'upward_vapour_path_kg_m02',\n",
       " 'relative_humidity_unitless']"
      ]
     },
     "execution_count": 10,
     "metadata": {},
     "output_type": "execute_result"
    }
   ],
   "source": [
    "read2020['vector_predictor_names']"
   ]
  },
  {
   "cell_type": "code",
   "execution_count": 11,
   "id": "37737224",
   "metadata": {},
   "outputs": [
    {
     "data": {
      "text/plain": [
       "['shortwave_surface_down_flux_w_m02', 'shortwave_toa_up_flux_w_m02']"
      ]
     },
     "execution_count": 11,
     "metadata": {},
     "output_type": "execute_result"
    }
   ],
   "source": [
    "read2020['scalar_target_names']"
   ]
  },
  {
   "cell_type": "code",
   "execution_count": 12,
   "id": "17b7b808",
   "metadata": {},
   "outputs": [
    {
     "data": {
      "text/plain": [
       "(264638, 2)"
      ]
     },
     "execution_count": 12,
     "metadata": {},
     "output_type": "execute_result"
    }
   ],
   "source": [
    "read2020['scalar_target_matrix'].shape"
   ]
  },
  {
   "cell_type": "code",
   "execution_count": 13,
   "id": "d343e47f",
   "metadata": {},
   "outputs": [
    {
     "data": {
      "text/plain": [
       "['shortwave_down_flux_w_m02',\n",
       " 'shortwave_up_flux_w_m02',\n",
       " 'shortwave_heating_rate_k_day01',\n",
       " 'shortwave_down_flux_increment_w_m03',\n",
       " 'shortwave_up_flux_increment_w_m03']"
      ]
     },
     "execution_count": 13,
     "metadata": {},
     "output_type": "execute_result"
    }
   ],
   "source": [
    "read2020['vector_target_names']"
   ]
  },
  {
   "cell_type": "code",
   "execution_count": 14,
   "id": "8d50bbc3",
   "metadata": {},
   "outputs": [
    {
     "data": {
      "text/plain": [
       "(264638, 73, 5)"
      ]
     },
     "execution_count": 14,
     "metadata": {},
     "output_type": "execute_result"
    }
   ],
   "source": [
    "read2020['vector_target_matrix'].shape"
   ]
  },
  {
   "cell_type": "code",
   "execution_count": 45,
   "id": "b237272f",
   "metadata": {},
   "outputs": [],
   "source": [
    "read2018_nt = read_file(path_data+'non_tropical_sites/learning_examples_2018.nc',\n",
    "                     exclude_summit_greenland=True)"
   ]
  },
  {
   "cell_type": "code",
   "execution_count": 46,
   "id": "917e990f",
   "metadata": {},
   "outputs": [
    {
     "data": {
      "text/plain": [
       "(897508, 73, 12)"
      ]
     },
     "execution_count": 46,
     "metadata": {},
     "output_type": "execute_result"
    }
   ],
   "source": [
    "read2018_nt['vector_predictor_matrix'].shape"
   ]
  },
  {
   "cell_type": "markdown",
   "id": "ebeac0a1",
   "metadata": {},
   "source": [
    "# Normalize data"
   ]
  },
  {
   "cell_type": "markdown",
   "id": "1d7f0c03",
   "metadata": {},
   "source": [
    "## Load normalization parameters from non tropical sites"
   ]
  },
  {
   "cell_type": "code",
   "execution_count": 17,
   "id": "9c376d84",
   "metadata": {},
   "outputs": [],
   "source": [
    "path_norm_param = path_data+'non_tropical_sites/learning_examples_20170101-20181224.nc'"
   ]
  },
  {
   "cell_type": "code",
   "execution_count": 18,
   "id": "c0d0fe75",
   "metadata": {},
   "outputs": [
    {
     "name": "stderr",
     "output_type": "stream",
     "text": [
      "/work/FAC/FGSE/IDYST/tbeucler/default/tbeucler/ml4rt/notebooks_tbeucler/ml4rt/io/example_io.py:304: UserWarning: Removing 0 of 100000 examples (profiles), because they are at Summit GL.\n",
      "  warnings.warn(warning_string)\n"
     ]
    }
   ],
   "source": [
    "norm_param = read_file(path_norm_param,\n",
    "                     exclude_summit_greenland=True,\n",
    "                     max_heating_rate_k_day)"
   ]
  },
  {
   "cell_type": "code",
   "execution_count": 19,
   "id": "c28fa5ff",
   "metadata": {},
   "outputs": [
    {
     "data": {
      "text/plain": [
       "dict_keys(['example_id_strings', 'scalar_predictor_names', 'vector_predictor_names', 'scalar_target_names', 'vector_target_names', 'scalar_predictor_matrix', 'vector_predictor_matrix', 'scalar_target_matrix', 'vector_target_matrix', 'valid_times_unix_sec', 'standard_atmo_flags', 'heights_m_agl'])"
      ]
     },
     "execution_count": 19,
     "metadata": {},
     "output_type": "execute_result"
    }
   ],
   "source": [
    "norm_param.keys()"
   ]
  },
  {
   "cell_type": "markdown",
   "id": "be05e46a",
   "metadata": {},
   "source": [
    "## Apply normalization \n",
    "Following [https://github.com/thunderhoser/ml4rt/blob/8ad36b52ead1c4870bdccaa804dee9a52144cce0/ml4rt/machine_learning/neural_net.py#L213]"
   ]
  },
  {
   "cell_type": "code",
   "execution_count": 20,
   "id": "2c8365a0",
   "metadata": {},
   "outputs": [
    {
     "data": {
      "text/plain": [
       "<function ml4rt.utils.normalization.normalize_data(new_example_dict, training_example_dict, normalization_type_string, min_normalized_value=-1.0, max_normalized_value=1.0, separate_heights=False, apply_to_predictors=True, apply_to_vector_targets=True, apply_to_scalar_targets=True)>"
      ]
     },
     "execution_count": 20,
     "metadata": {},
     "output_type": "execute_result"
    }
   ],
   "source": [
    "normalize_data"
   ]
  },
  {
   "cell_type": "markdown",
   "id": "b17e2807",
   "metadata": {},
   "source": [
    "The normalization is automatically applied as part of data_generator (see _read_file_for_generator)"
   ]
  },
  {
   "cell_type": "code",
   "execution_count": 21,
   "id": "84ecd16d",
   "metadata": {},
   "outputs": [
    {
     "data": {
      "text/plain": [
       "<function ml4rt.machine_learning.neural_net.data_generator(option_dict, for_inference, net_type_string)>"
      ]
     },
     "execution_count": 21,
     "metadata": {},
     "output_type": "execute_result"
    }
   ],
   "source": [
    "data_generator"
   ]
  },
  {
   "cell_type": "markdown",
   "id": "3320b0bd",
   "metadata": {},
   "source": [
    "# Read UNet++ trained by Ryan"
   ]
  },
  {
   "cell_type": "code",
   "execution_count": 22,
   "id": "662d281c",
   "metadata": {},
   "outputs": [
    {
     "data": {
      "text/plain": [
       "<function ml4rt.machine_learning.neural_net.read_model(hdf5_file_name)>"
      ]
     },
     "execution_count": 22,
     "metadata": {},
     "output_type": "execute_result"
    }
   ],
   "source": [
    "read_model"
   ]
  },
  {
   "cell_type": "code",
   "execution_count": 23,
   "id": "86d92fbc",
   "metadata": {},
   "outputs": [],
   "source": [
    "path_model = path_data + 'actual_model/model.h5'"
   ]
  },
  {
   "cell_type": "code",
   "execution_count": 24,
   "id": "5917c5ee",
   "metadata": {},
   "outputs": [
    {
     "name": "stderr",
     "output_type": "stream",
     "text": [
      "/work/FAC/FGSE/IDYST/tbeucler/default/tbeucler/miniconda3/envs/ml4rt/lib/python3.7/site-packages/tensorflow/python/keras/layers/core.py:1030: UserWarning: u_net_architecture is not loaded, but a Lambda layer uses it. It may cause errors.\n",
      "  , UserWarning)\n",
      "2021-10-20 18:26:34.540398: I tensorflow/core/platform/cpu_feature_guard.cc:143] Your CPU supports instructions that this TensorFlow binary was not compiled to use: SSE4.1 SSE4.2 AVX AVX2 FMA\n",
      "2021-10-20 18:26:34.652630: I tensorflow/core/platform/profile_utils/cpu_utils.cc:102] CPU Frequency: 2894550000 Hz\n",
      "2021-10-20 18:26:34.655155: I tensorflow/compiler/xla/service/service.cc:168] XLA service 0x565290e8ffd0 initialized for platform Host (this does not guarantee that XLA will be used). Devices:\n",
      "2021-10-20 18:26:34.655209: I tensorflow/compiler/xla/service/service.cc:176]   StreamExecutor device (0): Host, Default Version\n",
      "2021-10-20 18:26:34.657771: I tensorflow/core/common_runtime/process_util.cc:147] Creating new thread pool with default inter op setting: 2. Tune using inter_op_parallelism_threads for best performance.\n"
     ]
    }
   ],
   "source": [
    "Unetpp = read_model(path_model)"
   ]
  },
  {
   "cell_type": "code",
   "execution_count": 25,
   "id": "2e30a304",
   "metadata": {},
   "outputs": [
    {
     "name": "stdout",
     "output_type": "stream",
     "text": [
      "Model: \"model_64\"\n",
      "__________________________________________________________________________________________________\n",
      "Layer (type)                    Output Shape         Param #     Connected to                     \n",
      "==================================================================================================\n",
      "input_65 (InputLayer)           [(None, 73, 14)]     0                                            \n",
      "__________________________________________________________________________________________________\n",
      "block0-0_conv0 (Conv1D)         (None, 73, 64)       2752        input_65[0][0]                   \n",
      "__________________________________________________________________________________________________\n",
      "block0-0_conv0_activation (Leak (None, 73, 64)       0           block0-0_conv0[0][0]             \n",
      "__________________________________________________________________________________________________\n",
      "block0-0_conv0_bn (BatchNormali (None, 73, 64)       256         block0-0_conv0_activation[0][0]  \n",
      "__________________________________________________________________________________________________\n",
      "block0-0_conv1 (Conv1D)         (None, 73, 64)       12352       block0-0_conv0_bn[0][0]          \n",
      "__________________________________________________________________________________________________\n",
      "block0-0_conv1_activation (Leak (None, 73, 64)       0           block0-0_conv1[0][0]             \n",
      "__________________________________________________________________________________________________\n",
      "block0-0_conv1_bn (BatchNormali (None, 73, 64)       256         block0-0_conv1_activation[0][0]  \n",
      "__________________________________________________________________________________________________\n",
      "block0-0_pooling (MaxPooling1D) (None, 36, 64)       0           block0-0_conv1_bn[0][0]          \n",
      "__________________________________________________________________________________________________\n",
      "block1-0_conv0 (Conv1D)         (None, 36, 128)      24704       block0-0_pooling[0][0]           \n",
      "__________________________________________________________________________________________________\n",
      "block1-0_conv0_activation (Leak (None, 36, 128)      0           block1-0_conv0[0][0]             \n",
      "__________________________________________________________________________________________________\n",
      "block1-0_conv0_bn (BatchNormali (None, 36, 128)      512         block1-0_conv0_activation[0][0]  \n",
      "__________________________________________________________________________________________________\n",
      "block1-0_conv1 (Conv1D)         (None, 36, 128)      49280       block1-0_conv0_bn[0][0]          \n",
      "__________________________________________________________________________________________________\n",
      "block1-0_conv1_activation (Leak (None, 36, 128)      0           block1-0_conv1[0][0]             \n",
      "__________________________________________________________________________________________________\n",
      "block1-0_conv1_bn (BatchNormali (None, 36, 128)      512         block1-0_conv1_activation[0][0]  \n",
      "__________________________________________________________________________________________________\n",
      "block1-0_pooling (MaxPooling1D) (None, 18, 128)      0           block1-0_conv1_bn[0][0]          \n",
      "__________________________________________________________________________________________________\n",
      "block2-0_conv0 (Conv1D)         (None, 18, 256)      98560       block1-0_pooling[0][0]           \n",
      "__________________________________________________________________________________________________\n",
      "block2-0_conv0_activation (Leak (None, 18, 256)      0           block2-0_conv0[0][0]             \n",
      "__________________________________________________________________________________________________\n",
      "block2-0_conv0_bn (BatchNormali (None, 18, 256)      1024        block2-0_conv0_activation[0][0]  \n",
      "__________________________________________________________________________________________________\n",
      "block2-0_conv1 (Conv1D)         (None, 18, 256)      196864      block2-0_conv0_bn[0][0]          \n",
      "__________________________________________________________________________________________________\n",
      "block2-0_conv1_activation (Leak (None, 18, 256)      0           block2-0_conv1[0][0]             \n",
      "__________________________________________________________________________________________________\n",
      "block2-0_conv1_bn (BatchNormali (None, 18, 256)      1024        block2-0_conv1_activation[0][0]  \n",
      "__________________________________________________________________________________________________\n",
      "block2-0_pooling (MaxPooling1D) (None, 9, 256)       0           block2-0_conv1_bn[0][0]          \n",
      "__________________________________________________________________________________________________\n",
      "block3-0_conv0 (Conv1D)         (None, 9, 512)       393728      block2-0_pooling[0][0]           \n",
      "__________________________________________________________________________________________________\n",
      "block3-0_conv0_activation (Leak (None, 9, 512)       0           block3-0_conv0[0][0]             \n",
      "__________________________________________________________________________________________________\n",
      "block3-0_conv0_bn (BatchNormali (None, 9, 512)       2048        block3-0_conv0_activation[0][0]  \n",
      "__________________________________________________________________________________________________\n",
      "block3-0_conv1 (Conv1D)         (None, 9, 512)       786944      block3-0_conv0_bn[0][0]          \n",
      "__________________________________________________________________________________________________\n",
      "block3-0_conv1_activation (Leak (None, 9, 512)       0           block3-0_conv1[0][0]             \n",
      "__________________________________________________________________________________________________\n",
      "block3-0_conv1_bn (BatchNormali (None, 9, 512)       2048        block3-0_conv1_activation[0][0]  \n",
      "__________________________________________________________________________________________________\n",
      "block3-0_pooling (MaxPooling1D) (None, 4, 512)       0           block3-0_conv1_bn[0][0]          \n",
      "__________________________________________________________________________________________________\n",
      "block4-0_conv0 (Conv1D)         (None, 4, 1024)      1573888     block3-0_pooling[0][0]           \n",
      "__________________________________________________________________________________________________\n",
      "block4-0_conv0_activation (Leak (None, 4, 1024)      0           block4-0_conv0[0][0]             \n",
      "__________________________________________________________________________________________________\n",
      "block4-0_conv0_bn (BatchNormali (None, 4, 1024)      4096        block4-0_conv0_activation[0][0]  \n",
      "__________________________________________________________________________________________________\n",
      "block4-0_conv1 (Conv1D)         (None, 4, 1024)      3146752     block4-0_conv0_bn[0][0]          \n",
      "__________________________________________________________________________________________________\n",
      "block4-0_conv1_activation (Leak (None, 4, 1024)      0           block4-0_conv1[0][0]             \n",
      "__________________________________________________________________________________________________\n",
      "block4-0_conv1_bn (BatchNormali (None, 4, 1024)      4096        block4-0_conv1_activation[0][0]  \n",
      "__________________________________________________________________________________________________\n",
      "block3-1_upsampling (UpSampling (None, 8, 1024)      0           block4-0_conv1_bn[0][0]          \n",
      "__________________________________________________________________________________________________\n",
      "block3-1_upconv (Conv1D)        (None, 8, 512)       1573376     block3-1_upsampling[0][0]        \n",
      "__________________________________________________________________________________________________\n",
      "block3-1_upconv_activation (Lea (None, 8, 512)       0           block3-1_upconv[0][0]            \n",
      "__________________________________________________________________________________________________\n",
      "block3-1_upconv_padding (ZeroPa (None, 9, 512)       0           block3-1_upconv_activation[0][0] \n",
      "__________________________________________________________________________________________________\n",
      "block2-1_upsampling (UpSampling (None, 18, 512)      0           block3-0_conv1_bn[0][0]          \n",
      "__________________________________________________________________________________________________\n",
      "block3-1_skip (Concatenate)     (None, 9, 1024)      0           block3-0_conv1_bn[0][0]          \n",
      "                                                                 block3-1_upconv_padding[0][0]    \n",
      "__________________________________________________________________________________________________\n",
      "block2-1_upconv (Conv1D)        (None, 18, 256)      393472      block2-1_upsampling[0][0]        \n",
      "__________________________________________________________________________________________________\n",
      "block3-1_skipconv0 (Conv1D)     (None, 9, 512)       1573376     block3-1_skip[0][0]              \n",
      "__________________________________________________________________________________________________\n",
      "block2-1_upconv_activation (Lea (None, 18, 256)      0           block2-1_upconv[0][0]            \n",
      "__________________________________________________________________________________________________\n",
      "block3-1_skipconv0_activation ( (None, 9, 512)       0           block3-1_skipconv0[0][0]         \n",
      "__________________________________________________________________________________________________\n",
      "block1-1_upsampling (UpSampling (None, 36, 256)      0           block2-0_conv1_bn[0][0]          \n",
      "__________________________________________________________________________________________________\n",
      "block2-1_skip (Concatenate)     (None, 18, 512)      0           block2-0_conv1_bn[0][0]          \n",
      "                                                                 block2-1_upconv_activation[0][0] \n",
      "__________________________________________________________________________________________________\n",
      "block3-1_skipconv0_bn (BatchNor (None, 9, 512)       2048        block3-1_skipconv0_activation[0][\n",
      "__________________________________________________________________________________________________\n",
      "block1-1_upconv (Conv1D)        (None, 36, 128)      98432       block1-1_upsampling[0][0]        \n",
      "__________________________________________________________________________________________________\n",
      "block2-1_skipconv0 (Conv1D)     (None, 18, 256)      393472      block2-1_skip[0][0]              \n",
      "__________________________________________________________________________________________________\n",
      "block3-1_skipconv1 (Conv1D)     (None, 9, 512)       786944      block3-1_skipconv0_bn[0][0]      \n",
      "__________________________________________________________________________________________________\n",
      "block1-1_upconv_activation (Lea (None, 36, 128)      0           block1-1_upconv[0][0]            \n",
      "__________________________________________________________________________________________________\n",
      "block2-1_skipconv0_activation ( (None, 18, 256)      0           block2-1_skipconv0[0][0]         \n",
      "__________________________________________________________________________________________________\n",
      "block3-1_skipconv1_activation ( (None, 9, 512)       0           block3-1_skipconv1[0][0]         \n",
      "__________________________________________________________________________________________________\n",
      "block0-1_upsampling (UpSampling (None, 72, 128)      0           block1-0_conv1_bn[0][0]          \n",
      "__________________________________________________________________________________________________\n",
      "block1-1_skip (Concatenate)     (None, 36, 256)      0           block1-0_conv1_bn[0][0]          \n",
      "                                                                 block1-1_upconv_activation[0][0] \n",
      "__________________________________________________________________________________________________\n",
      "block2-1_skipconv0_bn (BatchNor (None, 18, 256)      1024        block2-1_skipconv0_activation[0][\n",
      "__________________________________________________________________________________________________\n",
      "block3-1_skipconv1_bn (BatchNor (None, 9, 512)       2048        block3-1_skipconv1_activation[0][\n",
      "__________________________________________________________________________________________________\n",
      "block0-1_upconv (Conv1D)        (None, 72, 64)       24640       block0-1_upsampling[0][0]        \n",
      "__________________________________________________________________________________________________\n",
      "block1-1_skipconv0 (Conv1D)     (None, 36, 128)      98432       block1-1_skip[0][0]              \n",
      "__________________________________________________________________________________________________\n",
      "block2-1_skipconv1 (Conv1D)     (None, 18, 256)      196864      block2-1_skipconv0_bn[0][0]      \n",
      "__________________________________________________________________________________________________\n",
      "block2-2_upsampling (UpSampling (None, 18, 512)      0           block3-1_skipconv1_bn[0][0]      \n",
      "__________________________________________________________________________________________________\n",
      "block0-1_upconv_activation (Lea (None, 72, 64)       0           block0-1_upconv[0][0]            \n",
      "__________________________________________________________________________________________________\n",
      "block1-1_skipconv0_activation ( (None, 36, 128)      0           block1-1_skipconv0[0][0]         \n",
      "__________________________________________________________________________________________________\n",
      "block2-1_skipconv1_activation ( (None, 18, 256)      0           block2-1_skipconv1[0][0]         \n",
      "__________________________________________________________________________________________________\n",
      "block2-2_upconv (Conv1D)        (None, 18, 256)      393472      block2-2_upsampling[0][0]        \n",
      "__________________________________________________________________________________________________\n",
      "block0-1_upconv_padding (ZeroPa (None, 73, 64)       0           block0-1_upconv_activation[0][0] \n",
      "__________________________________________________________________________________________________\n",
      "block1-1_skipconv0_bn (BatchNor (None, 36, 128)      512         block1-1_skipconv0_activation[0][\n",
      "__________________________________________________________________________________________________\n",
      "block2-1_skipconv1_bn (BatchNor (None, 18, 256)      1024        block2-1_skipconv1_activation[0][\n",
      "__________________________________________________________________________________________________\n",
      "block2-2_upconv_activation (Lea (None, 18, 256)      0           block2-2_upconv[0][0]            \n",
      "__________________________________________________________________________________________________\n",
      "block0-1_skip (Concatenate)     (None, 73, 128)      0           block0-0_conv1_bn[0][0]          \n",
      "                                                                 block0-1_upconv_padding[0][0]    \n",
      "__________________________________________________________________________________________________\n",
      "block1-1_skipconv1 (Conv1D)     (None, 36, 128)      49280       block1-1_skipconv0_bn[0][0]      \n",
      "__________________________________________________________________________________________________\n",
      "block1-2_upsampling (UpSampling (None, 36, 256)      0           block2-1_skipconv1_bn[0][0]      \n",
      "__________________________________________________________________________________________________\n",
      "block2-2_skip (Concatenate)     (None, 18, 768)      0           block2-0_conv1_bn[0][0]          \n",
      "                                                                 block2-1_skipconv1_bn[0][0]      \n",
      "                                                                 block2-2_upconv_activation[0][0] \n",
      "__________________________________________________________________________________________________\n",
      "block0-1_skipconv0 (Conv1D)     (None, 73, 64)       24640       block0-1_skip[0][0]              \n",
      "__________________________________________________________________________________________________\n",
      "block1-1_skipconv1_activation ( (None, 36, 128)      0           block1-1_skipconv1[0][0]         \n",
      "__________________________________________________________________________________________________\n",
      "block1-2_upconv (Conv1D)        (None, 36, 128)      98432       block1-2_upsampling[0][0]        \n",
      "__________________________________________________________________________________________________\n",
      "block2-2_skipconv0 (Conv1D)     (None, 18, 256)      590080      block2-2_skip[0][0]              \n",
      "__________________________________________________________________________________________________\n",
      "block0-1_skipconv0_activation ( (None, 73, 64)       0           block0-1_skipconv0[0][0]         \n",
      "__________________________________________________________________________________________________\n",
      "block1-1_skipconv1_bn (BatchNor (None, 36, 128)      512         block1-1_skipconv1_activation[0][\n",
      "__________________________________________________________________________________________________\n",
      "block1-2_upconv_activation (Lea (None, 36, 128)      0           block1-2_upconv[0][0]            \n",
      "__________________________________________________________________________________________________\n",
      "block2-2_skipconv0_activation ( (None, 18, 256)      0           block2-2_skipconv0[0][0]         \n",
      "__________________________________________________________________________________________________\n",
      "block0-1_skipconv0_bn (BatchNor (None, 73, 64)       256         block0-1_skipconv0_activation[0][\n",
      "__________________________________________________________________________________________________\n",
      "block0-2_upsampling (UpSampling (None, 72, 128)      0           block1-1_skipconv1_bn[0][0]      \n",
      "__________________________________________________________________________________________________\n",
      "block1-2_skip (Concatenate)     (None, 36, 384)      0           block1-0_conv1_bn[0][0]          \n",
      "                                                                 block1-1_skipconv1_bn[0][0]      \n",
      "                                                                 block1-2_upconv_activation[0][0] \n",
      "__________________________________________________________________________________________________\n",
      "block2-2_skipconv0_bn (BatchNor (None, 18, 256)      1024        block2-2_skipconv0_activation[0][\n",
      "__________________________________________________________________________________________________\n",
      "block0-1_skipconv1 (Conv1D)     (None, 73, 64)       12352       block0-1_skipconv0_bn[0][0]      \n",
      "__________________________________________________________________________________________________\n",
      "block0-2_upconv (Conv1D)        (None, 72, 64)       24640       block0-2_upsampling[0][0]        \n",
      "__________________________________________________________________________________________________\n",
      "block1-2_skipconv0 (Conv1D)     (None, 36, 128)      147584      block1-2_skip[0][0]              \n",
      "__________________________________________________________________________________________________\n",
      "block2-2_skipconv1 (Conv1D)     (None, 18, 256)      196864      block2-2_skipconv0_bn[0][0]      \n",
      "__________________________________________________________________________________________________\n",
      "block0-1_skipconv1_activation ( (None, 73, 64)       0           block0-1_skipconv1[0][0]         \n",
      "__________________________________________________________________________________________________\n",
      "block0-2_upconv_activation (Lea (None, 72, 64)       0           block0-2_upconv[0][0]            \n",
      "__________________________________________________________________________________________________\n",
      "block1-2_skipconv0_activation ( (None, 36, 128)      0           block1-2_skipconv0[0][0]         \n",
      "__________________________________________________________________________________________________\n",
      "block2-2_skipconv1_activation ( (None, 18, 256)      0           block2-2_skipconv1[0][0]         \n",
      "__________________________________________________________________________________________________\n",
      "block0-1_skipconv1_bn (BatchNor (None, 73, 64)       256         block0-1_skipconv1_activation[0][\n",
      "__________________________________________________________________________________________________\n",
      "block0-2_upconv_padding (ZeroPa (None, 73, 64)       0           block0-2_upconv_activation[0][0] \n",
      "__________________________________________________________________________________________________\n",
      "block1-2_skipconv0_bn (BatchNor (None, 36, 128)      512         block1-2_skipconv0_activation[0][\n",
      "__________________________________________________________________________________________________\n",
      "block2-2_skipconv1_bn (BatchNor (None, 18, 256)      1024        block2-2_skipconv1_activation[0][\n",
      "__________________________________________________________________________________________________\n",
      "block0-2_skip (Concatenate)     (None, 73, 192)      0           block0-0_conv1_bn[0][0]          \n",
      "                                                                 block0-1_skipconv1_bn[0][0]      \n",
      "                                                                 block0-2_upconv_padding[0][0]    \n",
      "__________________________________________________________________________________________________\n",
      "block1-2_skipconv1 (Conv1D)     (None, 36, 128)      49280       block1-2_skipconv0_bn[0][0]      \n",
      "__________________________________________________________________________________________________\n",
      "block1-3_upsampling (UpSampling (None, 36, 256)      0           block2-2_skipconv1_bn[0][0]      \n",
      "__________________________________________________________________________________________________\n",
      "block0-2_skipconv0 (Conv1D)     (None, 73, 64)       36928       block0-2_skip[0][0]              \n",
      "__________________________________________________________________________________________________\n",
      "block1-2_skipconv1_activation ( (None, 36, 128)      0           block1-2_skipconv1[0][0]         \n",
      "__________________________________________________________________________________________________\n",
      "block1-3_upconv (Conv1D)        (None, 36, 128)      98432       block1-3_upsampling[0][0]        \n",
      "__________________________________________________________________________________________________\n",
      "block0-2_skipconv0_activation ( (None, 73, 64)       0           block0-2_skipconv0[0][0]         \n",
      "__________________________________________________________________________________________________\n",
      "block1-2_skipconv1_bn (BatchNor (None, 36, 128)      512         block1-2_skipconv1_activation[0][\n",
      "__________________________________________________________________________________________________\n",
      "block1-3_upconv_activation (Lea (None, 36, 128)      0           block1-3_upconv[0][0]            \n",
      "__________________________________________________________________________________________________\n",
      "block0-2_skipconv0_bn (BatchNor (None, 73, 64)       256         block0-2_skipconv0_activation[0][\n",
      "__________________________________________________________________________________________________\n",
      "block0-3_upsampling (UpSampling (None, 72, 128)      0           block1-2_skipconv1_bn[0][0]      \n",
      "__________________________________________________________________________________________________\n",
      "block1-3_skip (Concatenate)     (None, 36, 512)      0           block1-0_conv1_bn[0][0]          \n",
      "                                                                 block1-1_skipconv1_bn[0][0]      \n",
      "                                                                 block1-2_skipconv1_bn[0][0]      \n",
      "                                                                 block1-3_upconv_activation[0][0] \n",
      "__________________________________________________________________________________________________\n",
      "block0-2_skipconv1 (Conv1D)     (None, 73, 64)       12352       block0-2_skipconv0_bn[0][0]      \n",
      "__________________________________________________________________________________________________\n",
      "block0-3_upconv (Conv1D)        (None, 72, 64)       24640       block0-3_upsampling[0][0]        \n",
      "__________________________________________________________________________________________________\n",
      "block1-3_skipconv0 (Conv1D)     (None, 36, 128)      196736      block1-3_skip[0][0]              \n",
      "__________________________________________________________________________________________________\n",
      "block0-2_skipconv1_activation ( (None, 73, 64)       0           block0-2_skipconv1[0][0]         \n",
      "__________________________________________________________________________________________________\n",
      "block0-3_upconv_activation (Lea (None, 72, 64)       0           block0-3_upconv[0][0]            \n",
      "__________________________________________________________________________________________________\n",
      "block1-3_skipconv0_activation ( (None, 36, 128)      0           block1-3_skipconv0[0][0]         \n",
      "__________________________________________________________________________________________________\n",
      "block0-2_skipconv1_bn (BatchNor (None, 73, 64)       256         block0-2_skipconv1_activation[0][\n",
      "__________________________________________________________________________________________________\n",
      "block0-3_upconv_padding (ZeroPa (None, 73, 64)       0           block0-3_upconv_activation[0][0] \n",
      "__________________________________________________________________________________________________\n",
      "block1-3_skipconv0_bn (BatchNor (None, 36, 128)      512         block1-3_skipconv0_activation[0][\n",
      "__________________________________________________________________________________________________\n",
      "block0-3_skip (Concatenate)     (None, 73, 256)      0           block0-0_conv1_bn[0][0]          \n",
      "                                                                 block0-1_skipconv1_bn[0][0]      \n",
      "                                                                 block0-2_skipconv1_bn[0][0]      \n",
      "                                                                 block0-3_upconv_padding[0][0]    \n",
      "__________________________________________________________________________________________________\n",
      "block1-3_skipconv1 (Conv1D)     (None, 36, 128)      49280       block1-3_skipconv0_bn[0][0]      \n",
      "__________________________________________________________________________________________________\n",
      "block0-3_skipconv0 (Conv1D)     (None, 73, 64)       49216       block0-3_skip[0][0]              \n",
      "__________________________________________________________________________________________________\n",
      "block1-3_skipconv1_activation ( (None, 36, 128)      0           block1-3_skipconv1[0][0]         \n",
      "__________________________________________________________________________________________________\n",
      "block0-3_skipconv0_activation ( (None, 73, 64)       0           block0-3_skipconv0[0][0]         \n",
      "__________________________________________________________________________________________________\n",
      "block1-3_skipconv1_bn (BatchNor (None, 36, 128)      512         block1-3_skipconv1_activation[0][\n",
      "__________________________________________________________________________________________________\n",
      "block0-3_skipconv0_bn (BatchNor (None, 73, 64)       256         block0-3_skipconv0_activation[0][\n",
      "__________________________________________________________________________________________________\n",
      "block0-4_upsampling (UpSampling (None, 72, 128)      0           block1-3_skipconv1_bn[0][0]      \n",
      "__________________________________________________________________________________________________\n",
      "block0-3_skipconv1 (Conv1D)     (None, 73, 64)       12352       block0-3_skipconv0_bn[0][0]      \n",
      "__________________________________________________________________________________________________\n",
      "block0-4_upconv (Conv1D)        (None, 72, 64)       24640       block0-4_upsampling[0][0]        \n",
      "__________________________________________________________________________________________________\n",
      "block0-3_skipconv1_activation ( (None, 73, 64)       0           block0-3_skipconv1[0][0]         \n",
      "__________________________________________________________________________________________________\n",
      "block0-4_upconv_activation (Lea (None, 72, 64)       0           block0-4_upconv[0][0]            \n",
      "__________________________________________________________________________________________________\n",
      "block0-3_skipconv1_bn (BatchNor (None, 73, 64)       256         block0-3_skipconv1_activation[0][\n",
      "__________________________________________________________________________________________________\n",
      "block0-4_upconv_padding (ZeroPa (None, 73, 64)       0           block0-4_upconv_activation[0][0] \n",
      "__________________________________________________________________________________________________\n",
      "block0-4_skip (Concatenate)     (None, 73, 320)      0           block0-0_conv1_bn[0][0]          \n",
      "                                                                 block0-1_skipconv1_bn[0][0]      \n",
      "                                                                 block0-2_skipconv1_bn[0][0]      \n",
      "                                                                 block0-3_skipconv1_bn[0][0]      \n",
      "                                                                 block0-4_upconv_padding[0][0]    \n",
      "__________________________________________________________________________________________________\n",
      "block0-4_skipconv0 (Conv1D)     (None, 73, 64)       61504       block0-4_skip[0][0]              \n",
      "__________________________________________________________________________________________________\n",
      "block0-4_skipconv0_activation ( (None, 73, 64)       0           block0-4_skipconv0[0][0]         \n",
      "__________________________________________________________________________________________________\n",
      "flatten_64 (Flatten)            (None, 4096)         0           block4-0_conv1_bn[0][0]          \n",
      "__________________________________________________________________________________________________\n",
      "block0-4_skipconv0_bn (BatchNor (None, 73, 64)       256         block0-4_skipconv0_activation[0][\n",
      "__________________________________________________________________________________________________\n",
      "dense_138 (Dense)               (None, 323)          1323331     flatten_64[0][0]                 \n",
      "__________________________________________________________________________________________________\n",
      "block0-4_skipconv1 (Conv1D)     (None, 73, 64)       12352       block0-4_skipconv0_bn[0][0]      \n",
      "__________________________________________________________________________________________________\n",
      "leaky_re_lu_74 (LeakyReLU)      (None, 323)          0           dense_138[0][0]                  \n",
      "__________________________________________________________________________________________________\n",
      "block0-4_skipconv1_activation ( (None, 73, 64)       0           block0-4_skipconv1[0][0]         \n",
      "__________________________________________________________________________________________________\n",
      "dropout_47 (Dropout)            (None, 323)          0           leaky_re_lu_74[0][0]             \n",
      "__________________________________________________________________________________________________\n",
      "block0-4_skipconv1_bn (BatchNor (None, 73, 64)       256         block0-4_skipconv1_activation[0][\n",
      "__________________________________________________________________________________________________\n",
      "batch_normalization_74 (BatchNo (None, 323)          1292        dropout_47[0][0]                 \n",
      "__________________________________________________________________________________________________\n",
      "penultimate_conv (Conv1D)       (None, 73, 2)        386         block0-4_skipconv1_bn[0][0]      \n",
      "__________________________________________________________________________________________________\n",
      "dense_139 (Dense)               (None, 25)           8100        batch_normalization_74[0][0]     \n",
      "__________________________________________________________________________________________________\n",
      "penultimate_conv_activation (Le (None, 73, 2)        0           penultimate_conv[0][0]           \n",
      "__________________________________________________________________________________________________\n",
      "leaky_re_lu_75 (LeakyReLU)      (None, 25)           0           dense_139[0][0]                  \n",
      "__________________________________________________________________________________________________\n",
      "penultimate_conv_bn (BatchNorma (None, 73, 2)        8           penultimate_conv_activation[0][0]\n",
      "__________________________________________________________________________________________________\n",
      "dropout_48 (Dropout)            (None, 25)           0           leaky_re_lu_75[0][0]             \n",
      "__________________________________________________________________________________________________\n",
      "last_conv (Conv1D)              (None, 73, 1)        3           penultimate_conv_bn[0][0]        \n",
      "__________________________________________________________________________________________________\n",
      "batch_normalization_75 (BatchNo (None, 25)           100         dropout_48[0][0]                 \n",
      "__________________________________________________________________________________________________\n",
      "last_conv_activation (ReLU)     (None, 73, 1)        0           last_conv[0][0]                  \n",
      "__________________________________________________________________________________________________\n",
      "dense_140 (Dense)               (None, 2)            52          batch_normalization_75[0][0]     \n",
      "__________________________________________________________________________________________________\n",
      "conv_output (Lambda)            (None, 73, 1)        0           last_conv_activation[0][0]       \n",
      "__________________________________________________________________________________________________\n",
      "dense_output (ReLU)             (None, 2)            0           dense_140[0][0]                  \n",
      "==================================================================================================\n",
      "Total params: 14,952,344\n",
      "Trainable params: 14,937,052\n",
      "Non-trainable params: 15,292\n",
      "__________________________________________________________________________________________________\n"
     ]
    }
   ],
   "source": [
    "Unetpp.summary()"
   ]
  },
  {
   "cell_type": "code",
   "execution_count": 26,
   "id": "1472b220",
   "metadata": {},
   "outputs": [],
   "source": [
    "Unetpp_total_p = 14952344\n",
    "Unetpp_train_p = 14937052"
   ]
  },
  {
   "cell_type": "markdown",
   "id": "b3841f55",
   "metadata": {},
   "source": [
    "# Test UNet++ trained by Ryan"
   ]
  },
  {
   "cell_type": "markdown",
   "id": "9d205ae0",
   "metadata": {},
   "source": [
    "## On shortwave heating rates and top/bottom fluxes"
   ]
  },
  {
   "cell_type": "code",
   "execution_count": 27,
   "id": "50638295",
   "metadata": {},
   "outputs": [
    {
     "data": {
      "text/plain": [
       "<function ml4rt.machine_learning.neural_net.data_generator(option_dict, for_inference, net_type_string)>"
      ]
     },
     "execution_count": 27,
     "metadata": {},
     "output_type": "execute_result"
    }
   ],
   "source": [
    "data_generator"
   ]
  },
  {
   "cell_type": "markdown",
   "id": "4fce4b8c",
   "metadata": {},
   "source": [
    "### Loading model's metadata using dill"
   ]
  },
  {
   "cell_type": "code",
   "execution_count": 28,
   "id": "e88dde00",
   "metadata": {},
   "outputs": [],
   "source": [
    "model_arc = dill.load(open(path_data+'actual_model/model_metadata.dill','rb'))"
   ]
  },
  {
   "cell_type": "code",
   "execution_count": 29,
   "id": "8d3ad44b",
   "metadata": {},
   "outputs": [
    {
     "data": {
      "text/plain": [
       "dict_keys(['num_epochs', 'num_training_batches_per_epoch', 'training_option_dict', 'num_validation_batches_per_epoch', 'validation_option_dict', 'net_type_string', 'loss_function_or_dict', 'do_early_stopping', 'plateau_lr_multiplier'])"
      ]
     },
     "execution_count": 29,
     "metadata": {},
     "output_type": "execute_result"
    }
   ],
   "source": [
    "model_arc.keys()"
   ]
  },
  {
   "cell_type": "code",
   "execution_count": 30,
   "id": "3dad03e6",
   "metadata": {},
   "outputs": [
    {
     "data": {
      "text/plain": [
       "'u_net'"
      ]
     },
     "execution_count": 30,
     "metadata": {},
     "output_type": "execute_result"
    }
   ],
   "source": [
    "model_arc['net_type_string']"
   ]
  },
  {
   "cell_type": "code",
   "execution_count": 31,
   "id": "e5a63c75",
   "metadata": {},
   "outputs": [
    {
     "data": {
      "text/plain": [
       "{'scalar_predictor_names': ['zenith_angle_radians', 'albedo'],\n",
       " 'vector_predictor_names': ['pressure_pascals',\n",
       "  'temperature_kelvins',\n",
       "  'specific_humidity_kg_kg01',\n",
       "  'liquid_water_content_kg_m03',\n",
       "  'ice_water_content_kg_m03',\n",
       "  'relative_humidity_unitless',\n",
       "  'liquid_water_path_kg_m02',\n",
       "  'ice_water_path_kg_m02',\n",
       "  'vapour_path_kg_m02',\n",
       "  'upward_liquid_water_path_kg_m02',\n",
       "  'upward_ice_water_path_kg_m02',\n",
       "  'upward_vapour_path_kg_m02'],\n",
       " 'scalar_target_names': ['shortwave_surface_down_flux_w_m02',\n",
       "  'shortwave_toa_up_flux_w_m02'],\n",
       " 'vector_target_names': ['shortwave_heating_rate_k_day01'],\n",
       " 'heights_m_agl': array([1.00e+01, 2.00e+01, 4.00e+01, 6.00e+01, 8.00e+01, 1.00e+02,\n",
       "        1.20e+02, 1.40e+02, 1.60e+02, 1.80e+02, 2.00e+02, 2.25e+02,\n",
       "        2.50e+02, 2.75e+02, 3.00e+02, 3.50e+02, 4.00e+02, 4.50e+02,\n",
       "        5.00e+02, 6.00e+02, 7.00e+02, 8.00e+02, 9.00e+02, 1.00e+03,\n",
       "        1.10e+03, 1.20e+03, 1.30e+03, 1.40e+03, 1.50e+03, 1.60e+03,\n",
       "        1.70e+03, 1.80e+03, 1.90e+03, 2.00e+03, 2.20e+03, 2.40e+03,\n",
       "        2.60e+03, 2.80e+03, 3.00e+03, 3.20e+03, 3.40e+03, 3.60e+03,\n",
       "        3.80e+03, 4.00e+03, 4.20e+03, 4.40e+03, 4.60e+03, 4.80e+03,\n",
       "        5.00e+03, 5.50e+03, 6.00e+03, 6.50e+03, 7.00e+03, 8.00e+03,\n",
       "        9.00e+03, 1.00e+04, 1.10e+04, 1.20e+04, 1.30e+04, 1.40e+04,\n",
       "        1.50e+04, 1.80e+04, 2.00e+04, 2.20e+04, 2.40e+04, 2.70e+04,\n",
       "        3.00e+04, 3.30e+04, 3.60e+04, 3.90e+04, 4.20e+04, 4.60e+04,\n",
       "        5.00e+04]),\n",
       " 'min_column_lwp_kg_m02': 0.0,\n",
       " 'max_column_lwp_kg_m02': 1000000000000.0,\n",
       " 'omit_heating_rate': False,\n",
       " 'predictor_norm_type_string': 'z_score',\n",
       " 'predictor_min_norm_value': 0.0,\n",
       " 'predictor_max_norm_value': 1.0,\n",
       " 'vector_target_norm_type_string': None,\n",
       " 'vector_target_min_norm_value': 0.0,\n",
       " 'vector_target_max_norm_value': 1.0,\n",
       " 'scalar_target_norm_type_string': 'minmax',\n",
       " 'scalar_target_min_norm_value': 0.0,\n",
       " 'scalar_target_max_norm_value': 1.0,\n",
       " 'example_dir_name': '/scratch1/RDARCH/rda-ghpcs/Ryan.Lagerquist/ml4rt_project/examples/non_tropical_sites',\n",
       " 'num_examples_per_batch': 256,\n",
       " 'first_time_unix_sec': 1514764800,\n",
       " 'last_time_unix_sec': 1545695999,\n",
       " 'normalization_file_name': '/scratch1/RDARCH/rda-ghpcs/Ryan.Lagerquist/ml4rt_project/examples/non_tropical_sites/learning_examples_20190101-20201031.nc'}"
      ]
     },
     "execution_count": 31,
     "metadata": {},
     "output_type": "execute_result"
    }
   ],
   "source": [
    "model_arc['validation_option_dict']"
   ]
  },
  {
   "cell_type": "code",
   "execution_count": 32,
   "id": "96c9c611",
   "metadata": {},
   "outputs": [],
   "source": [
    "model_arc['validation_option_dict']['example_dir_name'] = \\\n",
    "'/work/FAC/FGSE/IDYST/tbeucler/default/tbeucler/2021_Ryan_Lagerquist_SW/non_tropical_sites'"
   ]
  },
  {
   "cell_type": "code",
   "execution_count": 33,
   "id": "3538d9e7",
   "metadata": {},
   "outputs": [],
   "source": [
    "model_arc['validation_option_dict']['normalization_file_name'] = model_arc['validation_option_dict']['example_dir_name'] + \\\n",
    "'/learning_examples_20170101-20181224.nc'"
   ]
  },
  {
   "cell_type": "code",
   "execution_count": 34,
   "id": "c3985d73",
   "metadata": {},
   "outputs": [],
   "source": [
    "model_arc['validation_option_dict']['first_time_unix_sec'] = 1514764800 # Jan 1, 2018 at 12:00:00AM\n",
    "model_arc['validation_option_dict']['last_time_unix_sec'] = 1546300799 # Dec 31, 2018 at 11:59:59PM"
   ]
  },
  {
   "cell_type": "code",
   "execution_count": 35,
   "id": "0df1ceef",
   "metadata": {},
   "outputs": [],
   "source": [
    "Unetpp_gen = data_generator(model_arc['validation_option_dict'],True,model_arc['net_type_string'])"
   ]
  },
  {
   "cell_type": "code",
   "execution_count": 48,
   "id": "e1089a17",
   "metadata": {},
   "outputs": [
    {
     "name": "stdout",
     "output_type": "stream",
     "text": [
      "Reading training examples (for normalization) from: \"/work/FAC/FGSE/IDYST/tbeucler/default/tbeucler/2021_Ryan_Lagerquist_SW/non_tropical_sites/learning_examples_20170101-20181224.nc\"...\n",
      "\n",
      "Reading data from: \"/work/FAC/FGSE/IDYST/tbeucler/default/tbeucler/2021_Ryan_Lagerquist_SW/non_tropical_sites/learning_examples_2018.nc\"...\n",
      "Applying Z_SCORE normalization to predictors...\n",
      "Applying MINMAX normalization to scalar targets...\n"
     ]
    }
   ],
   "source": [
    "Unetpp_data = create_data(model_arc['validation_option_dict'],True, \n",
    "                          model_arc['net_type_string'],exclude_summit_greenland=True)"
   ]
  },
  {
   "cell_type": "code",
   "execution_count": 37,
   "id": "0296f02f",
   "metadata": {},
   "outputs": [
    {
     "data": {
      "text/plain": [
       "(897508, 73, 14)"
      ]
     },
     "execution_count": 37,
     "metadata": {},
     "output_type": "execute_result"
    }
   ],
   "source": [
    "Unetpp_data[0].shape"
   ]
  },
  {
   "cell_type": "code",
   "execution_count": 38,
   "id": "6647f862",
   "metadata": {},
   "outputs": [
    {
     "data": {
      "text/plain": [
       "(897508, 73, 1)"
      ]
     },
     "execution_count": 38,
     "metadata": {},
     "output_type": "execute_result"
    }
   ],
   "source": [
    "Unetpp_data[1][0].shape"
   ]
  },
  {
   "cell_type": "code",
   "execution_count": 39,
   "id": "985c3520",
   "metadata": {},
   "outputs": [
    {
     "data": {
      "text/plain": [
       "(897508, 2)"
      ]
     },
     "execution_count": 39,
     "metadata": {},
     "output_type": "execute_result"
    }
   ],
   "source": [
    "Unetpp_data[1][1].shape"
   ]
  },
  {
   "cell_type": "code",
   "execution_count": 40,
   "id": "8c72083d",
   "metadata": {},
   "outputs": [
    {
     "data": {
      "text/plain": [
       "<function ml4rt.machine_learning.neural_net.apply_model(model_object, predictor_matrix, num_examples_per_batch, net_type_string, verbose=False)>"
      ]
     },
     "execution_count": 40,
     "metadata": {},
     "output_type": "execute_result"
    }
   ],
   "source": [
    "apply_model"
   ]
  },
  {
   "cell_type": "code",
   "execution_count": 41,
   "id": "5590f030",
   "metadata": {},
   "outputs": [],
   "source": [
    "Unetpp_apply = apply_model(Unetpp, Unetpp_data[0][:1000,:,:],1000,model_arc['net_type_string'])"
   ]
  },
  {
   "cell_type": "code",
   "execution_count": 42,
   "id": "62bb7b8d",
   "metadata": {},
   "outputs": [
    {
     "data": {
      "text/plain": [
       "(1000, 2)"
      ]
     },
     "execution_count": 42,
     "metadata": {},
     "output_type": "execute_result"
    }
   ],
   "source": [
    "Unetpp_apply[1].shape"
   ]
  },
  {
   "cell_type": "code",
   "execution_count": 43,
   "id": "741c9541",
   "metadata": {},
   "outputs": [
    {
     "data": {
      "text/plain": [
       "(1000, 73, 1)"
      ]
     },
     "execution_count": 43,
     "metadata": {},
     "output_type": "execute_result"
    }
   ],
   "source": [
    "Unetpp_apply[0].shape"
   ]
  },
  {
   "cell_type": "code",
   "execution_count": 44,
   "id": "6a18dcad",
   "metadata": {},
   "outputs": [
    {
     "ename": "TypeError",
     "evalue": "tuple indices must be integers or slices, not str",
     "output_type": "error",
     "traceback": [
      "\u001b[0;31m---------------------------------------------------------------------------\u001b[0m",
      "\u001b[0;31mTypeError\u001b[0m                                 Traceback (most recent call last)",
      "\u001b[0;32m/tmp/ipykernel_1139904/550358833.py\u001b[0m in \u001b[0;36m<module>\u001b[0;34m\u001b[0m\n\u001b[0;32m----> 1\u001b[0;31m \u001b[0mUnet_predictors\u001b[0m \u001b[0;34m=\u001b[0m \u001b[0mdenormalize_data\u001b[0m\u001b[0;34m(\u001b[0m\u001b[0mUnetpp_data\u001b[0m\u001b[0;34m,\u001b[0m\u001b[0mmodel_arc\u001b[0m\u001b[0;34m[\u001b[0m\u001b[0;34m'validation_option_dict'\u001b[0m\u001b[0;34m]\u001b[0m\u001b[0;34m,\u001b[0m\u001b[0;34m'z_score'\u001b[0m\u001b[0;34m)\u001b[0m\u001b[0;34m\u001b[0m\u001b[0;34m\u001b[0m\u001b[0m\n\u001b[0m",
      "\u001b[0;32m/work/FAC/FGSE/IDYST/tbeucler/default/tbeucler/ml4rt/notebooks_tbeucler/ml4rt/utils/normalization.py\u001b[0m in \u001b[0;36mdenormalize_data\u001b[0;34m(new_example_dict, training_example_dict, normalization_type_string, min_normalized_value, max_normalized_value, separate_heights, apply_to_predictors, apply_to_vector_targets, apply_to_scalar_targets)\u001b[0m\n\u001b[1;32m    455\u001b[0m     \u001b[0;32mif\u001b[0m \u001b[0mapply_to_predictors\u001b[0m\u001b[0;34m:\u001b[0m\u001b[0;34m\u001b[0m\u001b[0;34m\u001b[0m\u001b[0m\n\u001b[1;32m    456\u001b[0m         scalar_predictor_names = (\n\u001b[0;32m--> 457\u001b[0;31m             \u001b[0mnew_example_dict\u001b[0m\u001b[0;34m[\u001b[0m\u001b[0mexample_utils\u001b[0m\u001b[0;34m.\u001b[0m\u001b[0mSCALAR_PREDICTOR_NAMES_KEY\u001b[0m\u001b[0;34m]\u001b[0m\u001b[0;34m\u001b[0m\u001b[0;34m\u001b[0m\u001b[0m\n\u001b[0m\u001b[1;32m    458\u001b[0m         )\n\u001b[1;32m    459\u001b[0m     \u001b[0;32melse\u001b[0m\u001b[0;34m:\u001b[0m\u001b[0;34m\u001b[0m\u001b[0;34m\u001b[0m\u001b[0m\n",
      "\u001b[0;31mTypeError\u001b[0m: tuple indices must be integers or slices, not str"
     ]
    }
   ],
   "source": [
    "Unet_predictors = denormalize_data(Unetpp_data,model_arc['validation_option_dict'],'z_score')"
   ]
  },
  {
   "cell_type": "code",
   "execution_count": null,
   "id": "42078e5d",
   "metadata": {},
   "outputs": [],
   "source": [
    "plt.plot(np.mean(Unetpp_data[0][:1000,:,5],axis=0))"
   ]
  },
  {
   "cell_type": "code",
   "execution_count": null,
   "id": "d79c3dfc",
   "metadata": {},
   "outputs": [],
   "source": []
  }
 ],
 "metadata": {
  "kernelspec": {
   "display_name": "Python 3 (ipykernel)",
   "language": "python",
   "name": "python3"
  },
  "language_info": {
   "codemirror_mode": {
    "name": "ipython",
    "version": 3
   },
   "file_extension": ".py",
   "mimetype": "text/x-python",
   "name": "python",
   "nbconvert_exporter": "python",
   "pygments_lexer": "ipython3",
   "version": "3.7.7"
  }
 },
 "nbformat": 4,
 "nbformat_minor": 5
}
