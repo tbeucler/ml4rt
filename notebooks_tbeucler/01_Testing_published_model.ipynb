{
 "cells": [
  {
   "cell_type": "markdown",
   "id": "31ccaa9b",
   "metadata": {},
   "source": [
    "tb - 10/18/2021 - Reproduce results from Ryan and output (1) number of free parameters ; and (2) mean error statistics of the net shortwave flux prediction (in $W m^{-2} $) from best-performing model."
   ]
  },
  {
   "cell_type": "markdown",
   "id": "2b0bb52a",
   "metadata": {},
   "source": [
    "Kind instruction email from Ryan L below:\n",
    "\n",
    "•\tThe Python library, called ml4rt, is available here.  It's under the MIT licence, so feel free to use/modify for any non-commercial purposes.\n",
    "•\tTo read the files with learning examples (all NetCDF files in the directories tropical_sites and non_tropical_sites), use example_io.read_file, which you can find here.  I recommend always using the options exclude_summit_greenland = True (the RRTM, which is the model we're trying to emulate, made some errors on these profiles, so the labels are inaccurate) and max_heating_rate_k_day = numpy.inf (in other words, don't filter by heating rate).  example_io.read_file returns a dictionary, and the format of this dictionary is documented in the method string for example_io.read_file.\n",
    "•\tOne file (non_tropical_sites/learning_examples_20170101-20181224.nc) contains normalization parameters, used to normalize data before input to the neural net.\n",
    "•\tTo normalize data, use the method normalization.normalize_data (here), where new_example_dict contains the examples you want to normalize and training_example_dict contains normalization parameters (read from non_tropical_sites/learning_examples_20170101-20181224.nc).  For some example usage of normalization.normalize_data, see neural_net.read_file_for_generator (here), where the method is called 3 times.\n",
    "•\tTo read the model (a U-net++), use the method neural_net.read_model (here).  Make sure the metafile (model_metadata.dill) is always in the same directory as the actual model (model.h5).\n",
    "•\tTo read the data and prepare it for input to the the neural net (i.e., pre-process it the same way the training data was pre-processed), use neural_net.create_data (here) or neural_net.data_generator (here).\n",
    "•\tTo apply the trained neural net to some data, use neural_net.create_data or neural_net.data_generator to read/pre-process the data, then use neural_net.apply_model (here) with net_type_string = \"u_net\".  I recommend verbose = True and num_examples_per_batch = 5000 (but you may need it smaller if you have a computer with limited RAM).  predictor_matrix will be the predictor_matrix returned by neural_net.create_data or neural_net.data_generator.\n",
    "\n",
    "I hope this is enough to get you started.  Please let me know if you have any questions about the code.  It's a bit complicated because [a] the neural net has both scalar and vector inputs (the scalars being solar zenith angle and surface albedo, the vectors being 1-D profiles of other variables); [b] the neural net has both scalar and vector outputs (the scalars being TOA upwelling flux, sfc downwelling flux, and net flux; the vector being a 1-D profile of heating rates; other possible vector outputs are full profiles of upwelling and downwelling flux, but I've since stopped predicting these, since NWP models don't require them from a paramzn)."
   ]
  },
  {
   "cell_type": "markdown",
   "id": "1a28d6a2",
   "metadata": {},
   "source": [
    "# Imports"
   ]
  },
  {
   "cell_type": "code",
   "execution_count": 1,
   "id": "2b060191",
   "metadata": {},
   "outputs": [],
   "source": [
    "from ml4rt.io.example_io import *\n",
    "from ml4rt.utils.normalization import *\n",
    "from ml4rt.machine_learning.neural_net import *\n",
    "from ml4rt.machine_learning.u_net_architecture import *\n",
    "from ml4rt.machine_learning.u_net_pp_architecture import *\n",
    "\n",
    "import dill\n",
    "\n",
    "import matplotlib as mpl\n",
    "import matplotlib.pyplot as plt\n",
    "import numpy as np"
   ]
  },
  {
   "cell_type": "code",
   "execution_count": 2,
   "id": "f4b19019",
   "metadata": {},
   "outputs": [],
   "source": [
    "fz = 15\n",
    "lw = 4\n",
    "siz = 100\n",
    "\n",
    "plt.rc('text', usetex=False)\n",
    "mpl.rcParams['mathtext.fontset'] = 'stix'\n",
    "mpl.rcParams['font.family'] = 'STIXGeneral'\n",
    "plt.rc('font', family='serif', size=fz)\n",
    "mpl.rcParams['lines.linewidth'] = lw"
   ]
  },
  {
   "cell_type": "markdown",
   "id": "1af8b0d6",
   "metadata": {},
   "source": [
    "# Read Files"
   ]
  },
  {
   "cell_type": "code",
   "execution_count": 3,
   "id": "3d45df1b",
   "metadata": {},
   "outputs": [
    {
     "data": {
      "text/plain": [
       "<function ml4rt.io.example_io.read_file(netcdf_file_name, exclude_summit_greenland=False, max_heating_rate_k_day=41.5, id_strings_to_read=None, allow_missing_ids=False)>"
      ]
     },
     "execution_count": 3,
     "metadata": {},
     "output_type": "execute_result"
    }
   ],
   "source": [
    "read_file"
   ]
  },
  {
   "cell_type": "code",
   "execution_count": 4,
   "id": "3b9de706",
   "metadata": {},
   "outputs": [],
   "source": [
    "path_data = '/work/FAC/FGSE/IDYST/tbeucler/default/tbeucler/2021_Ryan_Lagerquist_SW/'"
   ]
  },
  {
   "cell_type": "markdown",
   "id": "84ab0285",
   "metadata": {},
   "source": [
    "## Read 2020"
   ]
  },
  {
   "cell_type": "code",
   "execution_count": 5,
   "id": "47b6ed3a",
   "metadata": {},
   "outputs": [
    {
     "name": "stderr",
     "output_type": "stream",
     "text": [
      "/work/FAC/FGSE/IDYST/tbeucler/default/tbeucler/ml4rt/notebooks_tbeucler/ml4rt/io/example_io.py:304: UserWarning: Removing 0 of 264638 examples (profiles), because they are at Summit GL.\n",
      "  warnings.warn(warning_string)\n"
     ]
    }
   ],
   "source": [
    "read2020 = read_file(path_data+'tropical_sites/learning_examples_2020.nc',\n",
    "                     exclude_summit_greenland=True)"
   ]
  },
  {
   "cell_type": "code",
   "execution_count": 6,
   "id": "7743b975",
   "metadata": {},
   "outputs": [
    {
     "data": {
      "text/plain": [
       "dict_keys(['example_id_strings', 'scalar_predictor_names', 'vector_predictor_names', 'scalar_target_names', 'vector_target_names', 'scalar_predictor_matrix', 'vector_predictor_matrix', 'scalar_target_matrix', 'vector_target_matrix', 'valid_times_unix_sec', 'standard_atmo_flags', 'heights_m_agl'])"
      ]
     },
     "execution_count": 6,
     "metadata": {},
     "output_type": "execute_result"
    }
   ],
   "source": [
    "read2020.keys()"
   ]
  },
  {
   "cell_type": "code",
   "execution_count": 7,
   "id": "964d5e8d",
   "metadata": {},
   "outputs": [
    {
     "data": {
      "text/plain": [
       "(264638, 6)"
      ]
     },
     "execution_count": 7,
     "metadata": {},
     "output_type": "execute_result"
    }
   ],
   "source": [
    "read2020['scalar_predictor_matrix'].shape"
   ]
  },
  {
   "cell_type": "code",
   "execution_count": 8,
   "id": "dbc7f73c",
   "metadata": {},
   "outputs": [
    {
     "data": {
      "text/plain": [
       "['zenith_angle_radians',\n",
       " 'albedo',\n",
       " 'latitude_deg_n',\n",
       " 'longitude_deg_e',\n",
       " 'column_liquid_water_path_kg_m02',\n",
       " 'column_ice_water_path_kg_m02']"
      ]
     },
     "execution_count": 8,
     "metadata": {},
     "output_type": "execute_result"
    }
   ],
   "source": [
    "read2020['scalar_predictor_names']"
   ]
  },
  {
   "cell_type": "code",
   "execution_count": 9,
   "id": "142c71ad",
   "metadata": {},
   "outputs": [
    {
     "data": {
      "text/plain": [
       "(264638, 73, 12)"
      ]
     },
     "execution_count": 9,
     "metadata": {},
     "output_type": "execute_result"
    }
   ],
   "source": [
    "read2020['vector_predictor_matrix'].shape"
   ]
  },
  {
   "cell_type": "code",
   "execution_count": 10,
   "id": "707b6c4a",
   "metadata": {},
   "outputs": [
    {
     "data": {
      "text/plain": [
       "['pressure_pascals',\n",
       " 'temperature_kelvins',\n",
       " 'specific_humidity_kg_kg01',\n",
       " 'liquid_water_content_kg_m03',\n",
       " 'ice_water_content_kg_m03',\n",
       " 'liquid_water_path_kg_m02',\n",
       " 'ice_water_path_kg_m02',\n",
       " 'vapour_path_kg_m02',\n",
       " 'upward_liquid_water_path_kg_m02',\n",
       " 'upward_ice_water_path_kg_m02',\n",
       " 'upward_vapour_path_kg_m02',\n",
       " 'relative_humidity_unitless']"
      ]
     },
     "execution_count": 10,
     "metadata": {},
     "output_type": "execute_result"
    }
   ],
   "source": [
    "read2020['vector_predictor_names']"
   ]
  },
  {
   "cell_type": "code",
   "execution_count": 11,
   "id": "37737224",
   "metadata": {},
   "outputs": [
    {
     "data": {
      "text/plain": [
       "['shortwave_surface_down_flux_w_m02', 'shortwave_toa_up_flux_w_m02']"
      ]
     },
     "execution_count": 11,
     "metadata": {},
     "output_type": "execute_result"
    }
   ],
   "source": [
    "read2020['scalar_target_names']"
   ]
  },
  {
   "cell_type": "code",
   "execution_count": 12,
   "id": "17b7b808",
   "metadata": {},
   "outputs": [
    {
     "data": {
      "text/plain": [
       "(264638, 2)"
      ]
     },
     "execution_count": 12,
     "metadata": {},
     "output_type": "execute_result"
    }
   ],
   "source": [
    "read2020['scalar_target_matrix'].shape"
   ]
  },
  {
   "cell_type": "code",
   "execution_count": 13,
   "id": "d343e47f",
   "metadata": {},
   "outputs": [
    {
     "data": {
      "text/plain": [
       "['shortwave_down_flux_w_m02',\n",
       " 'shortwave_up_flux_w_m02',\n",
       " 'shortwave_heating_rate_k_day01',\n",
       " 'shortwave_down_flux_increment_w_m03',\n",
       " 'shortwave_up_flux_increment_w_m03']"
      ]
     },
     "execution_count": 13,
     "metadata": {},
     "output_type": "execute_result"
    }
   ],
   "source": [
    "read2020['vector_target_names']"
   ]
  },
  {
   "cell_type": "code",
   "execution_count": 14,
   "id": "8d50bbc3",
   "metadata": {},
   "outputs": [
    {
     "data": {
      "text/plain": [
       "(264638, 73, 5)"
      ]
     },
     "execution_count": 14,
     "metadata": {},
     "output_type": "execute_result"
    }
   ],
   "source": [
    "read2020['vector_target_matrix'].shape"
   ]
  },
  {
   "cell_type": "markdown",
   "id": "74c49b79",
   "metadata": {},
   "source": [
    "## Read 2018"
   ]
  },
  {
   "cell_type": "code",
   "execution_count": 38,
   "id": "b237272f",
   "metadata": {},
   "outputs": [],
   "source": [
    "read2018_nt = read_file(path_data+'non_tropical_sites/learning_examples_2018.nc',\n",
    "                     exclude_summit_greenland=True)"
   ]
  },
  {
   "cell_type": "code",
   "execution_count": 39,
   "id": "917e990f",
   "metadata": {},
   "outputs": [
    {
     "data": {
      "text/plain": [
       "(897508, 73, 12)"
      ]
     },
     "execution_count": 39,
     "metadata": {},
     "output_type": "execute_result"
    }
   ],
   "source": [
    "read2018_nt['vector_predictor_matrix'].shape"
   ]
  },
  {
   "cell_type": "markdown",
   "id": "bb0a1dce",
   "metadata": {},
   "source": [
    "## Read non tropical 2019/2020 and tropical 2017"
   ]
  },
  {
   "cell_type": "code",
   "execution_count": 5,
   "id": "b00e7b83",
   "metadata": {},
   "outputs": [
    {
     "name": "stderr",
     "output_type": "stream",
     "text": [
      "/work/FAC/FGSE/IDYST/tbeucler/default/tbeucler/ml4rt/notebooks_tbeucler/ml4rt/io/example_io.py:304: UserWarning: Removing 0 of 964823 examples (profiles), because they are at Summit GL.\n",
      "  warnings.warn(warning_string)\n"
     ]
    }
   ],
   "source": [
    "read2019_nt = read_file(path_data+'non_tropical_sites/learning_examples_2019.nc',\n",
    "                     exclude_summit_greenland=True)"
   ]
  },
  {
   "cell_type": "code",
   "execution_count": 6,
   "id": "a857ac1f",
   "metadata": {},
   "outputs": [
    {
     "name": "stderr",
     "output_type": "stream",
     "text": [
      "/work/FAC/FGSE/IDYST/tbeucler/default/tbeucler/ml4rt/notebooks_tbeucler/ml4rt/io/example_io.py:304: UserWarning: Removing 0 of 534274 examples (profiles), because they are at Summit GL.\n",
      "  warnings.warn(warning_string)\n"
     ]
    }
   ],
   "source": [
    "read2020_nt = read_file(path_data+'non_tropical_sites/learning_examples_2020.nc',\n",
    "                     exclude_summit_greenland=True)"
   ]
  },
  {
   "cell_type": "code",
   "execution_count": 7,
   "id": "f0f181ed",
   "metadata": {},
   "outputs": [
    {
     "name": "stderr",
     "output_type": "stream",
     "text": [
      "/work/FAC/FGSE/IDYST/tbeucler/default/tbeucler/ml4rt/notebooks_tbeucler/ml4rt/io/example_io.py:304: UserWarning: Removing 0 of 260300 examples (profiles), because they are at Summit GL.\n",
      "  warnings.warn(warning_string)\n"
     ]
    }
   ],
   "source": [
    "read2017_t = read_file(path_data+'tropical_sites/learning_examples_2017.nc',\n",
    "                     exclude_summit_greenland=True)"
   ]
  },
  {
   "cell_type": "markdown",
   "id": "ebeac0a1",
   "metadata": {},
   "source": [
    "# Normalize data (Unused at this point)"
   ]
  },
  {
   "cell_type": "markdown",
   "id": "1d7f0c03",
   "metadata": {},
   "source": [
    "## Load normalization parameters from non tropical sites"
   ]
  },
  {
   "cell_type": "code",
   "execution_count": 8,
   "id": "9c376d84",
   "metadata": {},
   "outputs": [],
   "source": [
    "path_norm_param = path_data+'non_tropical_sites/learning_examples_20170101-20181224.nc'"
   ]
  },
  {
   "cell_type": "code",
   "execution_count": 9,
   "id": "c0d0fe75",
   "metadata": {},
   "outputs": [
    {
     "ename": "SyntaxError",
     "evalue": "positional argument follows keyword argument (927265104.py, line 3)",
     "output_type": "error",
     "traceback": [
      "\u001b[0;36m  File \u001b[0;32m\"/tmp/ipykernel_2303606/927265104.py\"\u001b[0;36m, line \u001b[0;32m3\u001b[0m\n\u001b[0;31m    max_heating_rate_k_day)\u001b[0m\n\u001b[0m    ^\u001b[0m\n\u001b[0;31mSyntaxError\u001b[0m\u001b[0;31m:\u001b[0m positional argument follows keyword argument\n"
     ]
    }
   ],
   "source": [
    "norm_param = read_file(path_norm_param,\n",
    "                     exclude_summit_greenland=True,\n",
    "                     max_heating_rate_k_day)"
   ]
  },
  {
   "cell_type": "code",
   "execution_count": null,
   "id": "c28fa5ff",
   "metadata": {},
   "outputs": [],
   "source": [
    "norm_param.keys()"
   ]
  },
  {
   "cell_type": "markdown",
   "id": "be05e46a",
   "metadata": {},
   "source": [
    "## Apply normalization \n",
    "Following [https://github.com/thunderhoser/ml4rt/blob/8ad36b52ead1c4870bdccaa804dee9a52144cce0/ml4rt/machine_learning/neural_net.py#L213]"
   ]
  },
  {
   "cell_type": "code",
   "execution_count": null,
   "id": "2c8365a0",
   "metadata": {},
   "outputs": [],
   "source": [
    "normalize_data"
   ]
  },
  {
   "cell_type": "markdown",
   "id": "b17e2807",
   "metadata": {},
   "source": [
    "The normalization is automatically applied as part of data_generator (see _read_file_for_generator)"
   ]
  },
  {
   "cell_type": "code",
   "execution_count": 21,
   "id": "84ecd16d",
   "metadata": {},
   "outputs": [
    {
     "data": {
      "text/plain": [
       "<function ml4rt.machine_learning.neural_net.data_generator(option_dict, for_inference, net_type_string)>"
      ]
     },
     "execution_count": 21,
     "metadata": {},
     "output_type": "execute_result"
    }
   ],
   "source": [
    "data_generator"
   ]
  },
  {
   "cell_type": "markdown",
   "id": "3320b0bd",
   "metadata": {},
   "source": [
    "# Read UNet++ trained by Ryan"
   ]
  },
  {
   "cell_type": "code",
   "execution_count": 10,
   "id": "662d281c",
   "metadata": {},
   "outputs": [
    {
     "data": {
      "text/plain": [
       "<function ml4rt.machine_learning.neural_net.read_model(hdf5_file_name)>"
      ]
     },
     "execution_count": 10,
     "metadata": {},
     "output_type": "execute_result"
    }
   ],
   "source": [
    "read_model"
   ]
  },
  {
   "cell_type": "code",
   "execution_count": 8,
   "id": "86d92fbc",
   "metadata": {},
   "outputs": [],
   "source": [
    "path_model = path_data + 'actual_model/model.h5'"
   ]
  },
  {
   "cell_type": "code",
   "execution_count": 9,
   "id": "5917c5ee",
   "metadata": {},
   "outputs": [
    {
     "name": "stderr",
     "output_type": "stream",
     "text": [
      "/work/FAC/FGSE/IDYST/tbeucler/default/tbeucler/miniconda3/envs/ml4rt/lib/python3.7/site-packages/tensorflow/python/keras/layers/core.py:1030: UserWarning: u_net_architecture is not loaded, but a Lambda layer uses it. It may cause errors.\n",
      "  , UserWarning)\n",
      "2022-06-14 21:34:00.931040: I tensorflow/core/platform/cpu_feature_guard.cc:143] Your CPU supports instructions that this TensorFlow binary was not compiled to use: SSE4.1 SSE4.2 AVX AVX2 FMA\n",
      "2022-06-14 21:34:01.349060: I tensorflow/core/platform/profile_utils/cpu_utils.cc:102] CPU Frequency: 2894740000 Hz\n",
      "2022-06-14 21:34:01.350923: I tensorflow/compiler/xla/service/service.cc:168] XLA service 0x55f704ec6110 initialized for platform Host (this does not guarantee that XLA will be used). Devices:\n",
      "2022-06-14 21:34:01.350954: I tensorflow/compiler/xla/service/service.cc:176]   StreamExecutor device (0): Host, Default Version\n",
      "2022-06-14 21:34:01.391837: I tensorflow/core/common_runtime/process_util.cc:147] Creating new thread pool with default inter op setting: 2. Tune using inter_op_parallelism_threads for best performance.\n"
     ]
    }
   ],
   "source": [
    "Unetpp = read_model(path_model)"
   ]
  },
  {
   "cell_type": "code",
   "execution_count": 10,
   "id": "2e30a304",
   "metadata": {},
   "outputs": [
    {
     "name": "stdout",
     "output_type": "stream",
     "text": [
      "Model: \"model_64\"\n",
      "__________________________________________________________________________________________________\n",
      "Layer (type)                    Output Shape         Param #     Connected to                     \n",
      "==================================================================================================\n",
      "input_65 (InputLayer)           [(None, 73, 14)]     0                                            \n",
      "__________________________________________________________________________________________________\n",
      "block0-0_conv0 (Conv1D)         (None, 73, 64)       2752        input_65[0][0]                   \n",
      "__________________________________________________________________________________________________\n",
      "block0-0_conv0_activation (Leak (None, 73, 64)       0           block0-0_conv0[0][0]             \n",
      "__________________________________________________________________________________________________\n",
      "block0-0_conv0_bn (BatchNormali (None, 73, 64)       256         block0-0_conv0_activation[0][0]  \n",
      "__________________________________________________________________________________________________\n",
      "block0-0_conv1 (Conv1D)         (None, 73, 64)       12352       block0-0_conv0_bn[0][0]          \n",
      "__________________________________________________________________________________________________\n",
      "block0-0_conv1_activation (Leak (None, 73, 64)       0           block0-0_conv1[0][0]             \n",
      "__________________________________________________________________________________________________\n",
      "block0-0_conv1_bn (BatchNormali (None, 73, 64)       256         block0-0_conv1_activation[0][0]  \n",
      "__________________________________________________________________________________________________\n",
      "block0-0_pooling (MaxPooling1D) (None, 36, 64)       0           block0-0_conv1_bn[0][0]          \n",
      "__________________________________________________________________________________________________\n",
      "block1-0_conv0 (Conv1D)         (None, 36, 128)      24704       block0-0_pooling[0][0]           \n",
      "__________________________________________________________________________________________________\n",
      "block1-0_conv0_activation (Leak (None, 36, 128)      0           block1-0_conv0[0][0]             \n",
      "__________________________________________________________________________________________________\n",
      "block1-0_conv0_bn (BatchNormali (None, 36, 128)      512         block1-0_conv0_activation[0][0]  \n",
      "__________________________________________________________________________________________________\n",
      "block1-0_conv1 (Conv1D)         (None, 36, 128)      49280       block1-0_conv0_bn[0][0]          \n",
      "__________________________________________________________________________________________________\n",
      "block1-0_conv1_activation (Leak (None, 36, 128)      0           block1-0_conv1[0][0]             \n",
      "__________________________________________________________________________________________________\n",
      "block1-0_conv1_bn (BatchNormali (None, 36, 128)      512         block1-0_conv1_activation[0][0]  \n",
      "__________________________________________________________________________________________________\n",
      "block1-0_pooling (MaxPooling1D) (None, 18, 128)      0           block1-0_conv1_bn[0][0]          \n",
      "__________________________________________________________________________________________________\n",
      "block2-0_conv0 (Conv1D)         (None, 18, 256)      98560       block1-0_pooling[0][0]           \n",
      "__________________________________________________________________________________________________\n",
      "block2-0_conv0_activation (Leak (None, 18, 256)      0           block2-0_conv0[0][0]             \n",
      "__________________________________________________________________________________________________\n",
      "block2-0_conv0_bn (BatchNormali (None, 18, 256)      1024        block2-0_conv0_activation[0][0]  \n",
      "__________________________________________________________________________________________________\n",
      "block2-0_conv1 (Conv1D)         (None, 18, 256)      196864      block2-0_conv0_bn[0][0]          \n",
      "__________________________________________________________________________________________________\n",
      "block2-0_conv1_activation (Leak (None, 18, 256)      0           block2-0_conv1[0][0]             \n",
      "__________________________________________________________________________________________________\n",
      "block2-0_conv1_bn (BatchNormali (None, 18, 256)      1024        block2-0_conv1_activation[0][0]  \n",
      "__________________________________________________________________________________________________\n",
      "block2-0_pooling (MaxPooling1D) (None, 9, 256)       0           block2-0_conv1_bn[0][0]          \n",
      "__________________________________________________________________________________________________\n",
      "block3-0_conv0 (Conv1D)         (None, 9, 512)       393728      block2-0_pooling[0][0]           \n",
      "__________________________________________________________________________________________________\n",
      "block3-0_conv0_activation (Leak (None, 9, 512)       0           block3-0_conv0[0][0]             \n",
      "__________________________________________________________________________________________________\n",
      "block3-0_conv0_bn (BatchNormali (None, 9, 512)       2048        block3-0_conv0_activation[0][0]  \n",
      "__________________________________________________________________________________________________\n",
      "block3-0_conv1 (Conv1D)         (None, 9, 512)       786944      block3-0_conv0_bn[0][0]          \n",
      "__________________________________________________________________________________________________\n",
      "block3-0_conv1_activation (Leak (None, 9, 512)       0           block3-0_conv1[0][0]             \n",
      "__________________________________________________________________________________________________\n",
      "block3-0_conv1_bn (BatchNormali (None, 9, 512)       2048        block3-0_conv1_activation[0][0]  \n",
      "__________________________________________________________________________________________________\n",
      "block3-0_pooling (MaxPooling1D) (None, 4, 512)       0           block3-0_conv1_bn[0][0]          \n",
      "__________________________________________________________________________________________________\n",
      "block4-0_conv0 (Conv1D)         (None, 4, 1024)      1573888     block3-0_pooling[0][0]           \n",
      "__________________________________________________________________________________________________\n",
      "block4-0_conv0_activation (Leak (None, 4, 1024)      0           block4-0_conv0[0][0]             \n",
      "__________________________________________________________________________________________________\n",
      "block4-0_conv0_bn (BatchNormali (None, 4, 1024)      4096        block4-0_conv0_activation[0][0]  \n",
      "__________________________________________________________________________________________________\n",
      "block4-0_conv1 (Conv1D)         (None, 4, 1024)      3146752     block4-0_conv0_bn[0][0]          \n",
      "__________________________________________________________________________________________________\n",
      "block4-0_conv1_activation (Leak (None, 4, 1024)      0           block4-0_conv1[0][0]             \n",
      "__________________________________________________________________________________________________\n",
      "block4-0_conv1_bn (BatchNormali (None, 4, 1024)      4096        block4-0_conv1_activation[0][0]  \n",
      "__________________________________________________________________________________________________\n",
      "block3-1_upsampling (UpSampling (None, 8, 1024)      0           block4-0_conv1_bn[0][0]          \n",
      "__________________________________________________________________________________________________\n",
      "block3-1_upconv (Conv1D)        (None, 8, 512)       1573376     block3-1_upsampling[0][0]        \n",
      "__________________________________________________________________________________________________\n",
      "block3-1_upconv_activation (Lea (None, 8, 512)       0           block3-1_upconv[0][0]            \n",
      "__________________________________________________________________________________________________\n",
      "block3-1_upconv_padding (ZeroPa (None, 9, 512)       0           block3-1_upconv_activation[0][0] \n",
      "__________________________________________________________________________________________________\n",
      "block2-1_upsampling (UpSampling (None, 18, 512)      0           block3-0_conv1_bn[0][0]          \n",
      "__________________________________________________________________________________________________\n",
      "block3-1_skip (Concatenate)     (None, 9, 1024)      0           block3-0_conv1_bn[0][0]          \n",
      "                                                                 block3-1_upconv_padding[0][0]    \n",
      "__________________________________________________________________________________________________\n",
      "block2-1_upconv (Conv1D)        (None, 18, 256)      393472      block2-1_upsampling[0][0]        \n",
      "__________________________________________________________________________________________________\n",
      "block3-1_skipconv0 (Conv1D)     (None, 9, 512)       1573376     block3-1_skip[0][0]              \n",
      "__________________________________________________________________________________________________\n",
      "block2-1_upconv_activation (Lea (None, 18, 256)      0           block2-1_upconv[0][0]            \n",
      "__________________________________________________________________________________________________\n",
      "block3-1_skipconv0_activation ( (None, 9, 512)       0           block3-1_skipconv0[0][0]         \n",
      "__________________________________________________________________________________________________\n",
      "block1-1_upsampling (UpSampling (None, 36, 256)      0           block2-0_conv1_bn[0][0]          \n",
      "__________________________________________________________________________________________________\n",
      "block2-1_skip (Concatenate)     (None, 18, 512)      0           block2-0_conv1_bn[0][0]          \n",
      "                                                                 block2-1_upconv_activation[0][0] \n",
      "__________________________________________________________________________________________________\n",
      "block3-1_skipconv0_bn (BatchNor (None, 9, 512)       2048        block3-1_skipconv0_activation[0][\n",
      "__________________________________________________________________________________________________\n",
      "block1-1_upconv (Conv1D)        (None, 36, 128)      98432       block1-1_upsampling[0][0]        \n",
      "__________________________________________________________________________________________________\n",
      "block2-1_skipconv0 (Conv1D)     (None, 18, 256)      393472      block2-1_skip[0][0]              \n",
      "__________________________________________________________________________________________________\n",
      "block3-1_skipconv1 (Conv1D)     (None, 9, 512)       786944      block3-1_skipconv0_bn[0][0]      \n",
      "__________________________________________________________________________________________________\n",
      "block1-1_upconv_activation (Lea (None, 36, 128)      0           block1-1_upconv[0][0]            \n",
      "__________________________________________________________________________________________________\n",
      "block2-1_skipconv0_activation ( (None, 18, 256)      0           block2-1_skipconv0[0][0]         \n",
      "__________________________________________________________________________________________________\n",
      "block3-1_skipconv1_activation ( (None, 9, 512)       0           block3-1_skipconv1[0][0]         \n",
      "__________________________________________________________________________________________________\n",
      "block0-1_upsampling (UpSampling (None, 72, 128)      0           block1-0_conv1_bn[0][0]          \n",
      "__________________________________________________________________________________________________\n",
      "block1-1_skip (Concatenate)     (None, 36, 256)      0           block1-0_conv1_bn[0][0]          \n",
      "                                                                 block1-1_upconv_activation[0][0] \n",
      "__________________________________________________________________________________________________\n",
      "block2-1_skipconv0_bn (BatchNor (None, 18, 256)      1024        block2-1_skipconv0_activation[0][\n",
      "__________________________________________________________________________________________________\n",
      "block3-1_skipconv1_bn (BatchNor (None, 9, 512)       2048        block3-1_skipconv1_activation[0][\n",
      "__________________________________________________________________________________________________\n",
      "block0-1_upconv (Conv1D)        (None, 72, 64)       24640       block0-1_upsampling[0][0]        \n",
      "__________________________________________________________________________________________________\n",
      "block1-1_skipconv0 (Conv1D)     (None, 36, 128)      98432       block1-1_skip[0][0]              \n",
      "__________________________________________________________________________________________________\n",
      "block2-1_skipconv1 (Conv1D)     (None, 18, 256)      196864      block2-1_skipconv0_bn[0][0]      \n",
      "__________________________________________________________________________________________________\n",
      "block2-2_upsampling (UpSampling (None, 18, 512)      0           block3-1_skipconv1_bn[0][0]      \n",
      "__________________________________________________________________________________________________\n",
      "block0-1_upconv_activation (Lea (None, 72, 64)       0           block0-1_upconv[0][0]            \n",
      "__________________________________________________________________________________________________\n",
      "block1-1_skipconv0_activation ( (None, 36, 128)      0           block1-1_skipconv0[0][0]         \n",
      "__________________________________________________________________________________________________\n",
      "block2-1_skipconv1_activation ( (None, 18, 256)      0           block2-1_skipconv1[0][0]         \n",
      "__________________________________________________________________________________________________\n",
      "block2-2_upconv (Conv1D)        (None, 18, 256)      393472      block2-2_upsampling[0][0]        \n",
      "__________________________________________________________________________________________________\n",
      "block0-1_upconv_padding (ZeroPa (None, 73, 64)       0           block0-1_upconv_activation[0][0] \n",
      "__________________________________________________________________________________________________\n",
      "block1-1_skipconv0_bn (BatchNor (None, 36, 128)      512         block1-1_skipconv0_activation[0][\n",
      "__________________________________________________________________________________________________\n",
      "block2-1_skipconv1_bn (BatchNor (None, 18, 256)      1024        block2-1_skipconv1_activation[0][\n",
      "__________________________________________________________________________________________________\n",
      "block2-2_upconv_activation (Lea (None, 18, 256)      0           block2-2_upconv[0][0]            \n",
      "__________________________________________________________________________________________________\n",
      "block0-1_skip (Concatenate)     (None, 73, 128)      0           block0-0_conv1_bn[0][0]          \n",
      "                                                                 block0-1_upconv_padding[0][0]    \n",
      "__________________________________________________________________________________________________\n",
      "block1-1_skipconv1 (Conv1D)     (None, 36, 128)      49280       block1-1_skipconv0_bn[0][0]      \n",
      "__________________________________________________________________________________________________\n",
      "block1-2_upsampling (UpSampling (None, 36, 256)      0           block2-1_skipconv1_bn[0][0]      \n",
      "__________________________________________________________________________________________________\n",
      "block2-2_skip (Concatenate)     (None, 18, 768)      0           block2-0_conv1_bn[0][0]          \n",
      "                                                                 block2-1_skipconv1_bn[0][0]      \n",
      "                                                                 block2-2_upconv_activation[0][0] \n",
      "__________________________________________________________________________________________________\n",
      "block0-1_skipconv0 (Conv1D)     (None, 73, 64)       24640       block0-1_skip[0][0]              \n",
      "__________________________________________________________________________________________________\n",
      "block1-1_skipconv1_activation ( (None, 36, 128)      0           block1-1_skipconv1[0][0]         \n",
      "__________________________________________________________________________________________________\n",
      "block1-2_upconv (Conv1D)        (None, 36, 128)      98432       block1-2_upsampling[0][0]        \n",
      "__________________________________________________________________________________________________\n",
      "block2-2_skipconv0 (Conv1D)     (None, 18, 256)      590080      block2-2_skip[0][0]              \n",
      "__________________________________________________________________________________________________\n",
      "block0-1_skipconv0_activation ( (None, 73, 64)       0           block0-1_skipconv0[0][0]         \n",
      "__________________________________________________________________________________________________\n",
      "block1-1_skipconv1_bn (BatchNor (None, 36, 128)      512         block1-1_skipconv1_activation[0][\n",
      "__________________________________________________________________________________________________\n",
      "block1-2_upconv_activation (Lea (None, 36, 128)      0           block1-2_upconv[0][0]            \n",
      "__________________________________________________________________________________________________\n",
      "block2-2_skipconv0_activation ( (None, 18, 256)      0           block2-2_skipconv0[0][0]         \n",
      "__________________________________________________________________________________________________\n",
      "block0-1_skipconv0_bn (BatchNor (None, 73, 64)       256         block0-1_skipconv0_activation[0][\n",
      "__________________________________________________________________________________________________\n",
      "block0-2_upsampling (UpSampling (None, 72, 128)      0           block1-1_skipconv1_bn[0][0]      \n",
      "__________________________________________________________________________________________________\n",
      "block1-2_skip (Concatenate)     (None, 36, 384)      0           block1-0_conv1_bn[0][0]          \n",
      "                                                                 block1-1_skipconv1_bn[0][0]      \n",
      "                                                                 block1-2_upconv_activation[0][0] \n",
      "__________________________________________________________________________________________________\n",
      "block2-2_skipconv0_bn (BatchNor (None, 18, 256)      1024        block2-2_skipconv0_activation[0][\n",
      "__________________________________________________________________________________________________\n",
      "block0-1_skipconv1 (Conv1D)     (None, 73, 64)       12352       block0-1_skipconv0_bn[0][0]      \n",
      "__________________________________________________________________________________________________\n",
      "block0-2_upconv (Conv1D)        (None, 72, 64)       24640       block0-2_upsampling[0][0]        \n",
      "__________________________________________________________________________________________________\n",
      "block1-2_skipconv0 (Conv1D)     (None, 36, 128)      147584      block1-2_skip[0][0]              \n",
      "__________________________________________________________________________________________________\n",
      "block2-2_skipconv1 (Conv1D)     (None, 18, 256)      196864      block2-2_skipconv0_bn[0][0]      \n",
      "__________________________________________________________________________________________________\n",
      "block0-1_skipconv1_activation ( (None, 73, 64)       0           block0-1_skipconv1[0][0]         \n",
      "__________________________________________________________________________________________________\n",
      "block0-2_upconv_activation (Lea (None, 72, 64)       0           block0-2_upconv[0][0]            \n",
      "__________________________________________________________________________________________________\n",
      "block1-2_skipconv0_activation ( (None, 36, 128)      0           block1-2_skipconv0[0][0]         \n",
      "__________________________________________________________________________________________________\n",
      "block2-2_skipconv1_activation ( (None, 18, 256)      0           block2-2_skipconv1[0][0]         \n",
      "__________________________________________________________________________________________________\n",
      "block0-1_skipconv1_bn (BatchNor (None, 73, 64)       256         block0-1_skipconv1_activation[0][\n",
      "__________________________________________________________________________________________________\n",
      "block0-2_upconv_padding (ZeroPa (None, 73, 64)       0           block0-2_upconv_activation[0][0] \n",
      "__________________________________________________________________________________________________\n",
      "block1-2_skipconv0_bn (BatchNor (None, 36, 128)      512         block1-2_skipconv0_activation[0][\n",
      "__________________________________________________________________________________________________\n",
      "block2-2_skipconv1_bn (BatchNor (None, 18, 256)      1024        block2-2_skipconv1_activation[0][\n",
      "__________________________________________________________________________________________________\n",
      "block0-2_skip (Concatenate)     (None, 73, 192)      0           block0-0_conv1_bn[0][0]          \n",
      "                                                                 block0-1_skipconv1_bn[0][0]      \n",
      "                                                                 block0-2_upconv_padding[0][0]    \n",
      "__________________________________________________________________________________________________\n",
      "block1-2_skipconv1 (Conv1D)     (None, 36, 128)      49280       block1-2_skipconv0_bn[0][0]      \n",
      "__________________________________________________________________________________________________\n",
      "block1-3_upsampling (UpSampling (None, 36, 256)      0           block2-2_skipconv1_bn[0][0]      \n",
      "__________________________________________________________________________________________________\n",
      "block0-2_skipconv0 (Conv1D)     (None, 73, 64)       36928       block0-2_skip[0][0]              \n",
      "__________________________________________________________________________________________________\n",
      "block1-2_skipconv1_activation ( (None, 36, 128)      0           block1-2_skipconv1[0][0]         \n",
      "__________________________________________________________________________________________________\n",
      "block1-3_upconv (Conv1D)        (None, 36, 128)      98432       block1-3_upsampling[0][0]        \n",
      "__________________________________________________________________________________________________\n",
      "block0-2_skipconv0_activation ( (None, 73, 64)       0           block0-2_skipconv0[0][0]         \n",
      "__________________________________________________________________________________________________\n",
      "block1-2_skipconv1_bn (BatchNor (None, 36, 128)      512         block1-2_skipconv1_activation[0][\n",
      "__________________________________________________________________________________________________\n",
      "block1-3_upconv_activation (Lea (None, 36, 128)      0           block1-3_upconv[0][0]            \n",
      "__________________________________________________________________________________________________\n",
      "block0-2_skipconv0_bn (BatchNor (None, 73, 64)       256         block0-2_skipconv0_activation[0][\n",
      "__________________________________________________________________________________________________\n",
      "block0-3_upsampling (UpSampling (None, 72, 128)      0           block1-2_skipconv1_bn[0][0]      \n",
      "__________________________________________________________________________________________________\n",
      "block1-3_skip (Concatenate)     (None, 36, 512)      0           block1-0_conv1_bn[0][0]          \n",
      "                                                                 block1-1_skipconv1_bn[0][0]      \n",
      "                                                                 block1-2_skipconv1_bn[0][0]      \n",
      "                                                                 block1-3_upconv_activation[0][0] \n",
      "__________________________________________________________________________________________________\n",
      "block0-2_skipconv1 (Conv1D)     (None, 73, 64)       12352       block0-2_skipconv0_bn[0][0]      \n",
      "__________________________________________________________________________________________________\n",
      "block0-3_upconv (Conv1D)        (None, 72, 64)       24640       block0-3_upsampling[0][0]        \n",
      "__________________________________________________________________________________________________\n",
      "block1-3_skipconv0 (Conv1D)     (None, 36, 128)      196736      block1-3_skip[0][0]              \n",
      "__________________________________________________________________________________________________\n",
      "block0-2_skipconv1_activation ( (None, 73, 64)       0           block0-2_skipconv1[0][0]         \n",
      "__________________________________________________________________________________________________\n",
      "block0-3_upconv_activation (Lea (None, 72, 64)       0           block0-3_upconv[0][0]            \n",
      "__________________________________________________________________________________________________\n",
      "block1-3_skipconv0_activation ( (None, 36, 128)      0           block1-3_skipconv0[0][0]         \n",
      "__________________________________________________________________________________________________\n",
      "block0-2_skipconv1_bn (BatchNor (None, 73, 64)       256         block0-2_skipconv1_activation[0][\n",
      "__________________________________________________________________________________________________\n",
      "block0-3_upconv_padding (ZeroPa (None, 73, 64)       0           block0-3_upconv_activation[0][0] \n",
      "__________________________________________________________________________________________________\n",
      "block1-3_skipconv0_bn (BatchNor (None, 36, 128)      512         block1-3_skipconv0_activation[0][\n",
      "__________________________________________________________________________________________________\n",
      "block0-3_skip (Concatenate)     (None, 73, 256)      0           block0-0_conv1_bn[0][0]          \n",
      "                                                                 block0-1_skipconv1_bn[0][0]      \n",
      "                                                                 block0-2_skipconv1_bn[0][0]      \n",
      "                                                                 block0-3_upconv_padding[0][0]    \n",
      "__________________________________________________________________________________________________\n",
      "block1-3_skipconv1 (Conv1D)     (None, 36, 128)      49280       block1-3_skipconv0_bn[0][0]      \n",
      "__________________________________________________________________________________________________\n",
      "block0-3_skipconv0 (Conv1D)     (None, 73, 64)       49216       block0-3_skip[0][0]              \n",
      "__________________________________________________________________________________________________\n",
      "block1-3_skipconv1_activation ( (None, 36, 128)      0           block1-3_skipconv1[0][0]         \n",
      "__________________________________________________________________________________________________\n",
      "block0-3_skipconv0_activation ( (None, 73, 64)       0           block0-3_skipconv0[0][0]         \n",
      "__________________________________________________________________________________________________\n",
      "block1-3_skipconv1_bn (BatchNor (None, 36, 128)      512         block1-3_skipconv1_activation[0][\n",
      "__________________________________________________________________________________________________\n",
      "block0-3_skipconv0_bn (BatchNor (None, 73, 64)       256         block0-3_skipconv0_activation[0][\n",
      "__________________________________________________________________________________________________\n",
      "block0-4_upsampling (UpSampling (None, 72, 128)      0           block1-3_skipconv1_bn[0][0]      \n",
      "__________________________________________________________________________________________________\n",
      "block0-3_skipconv1 (Conv1D)     (None, 73, 64)       12352       block0-3_skipconv0_bn[0][0]      \n",
      "__________________________________________________________________________________________________\n",
      "block0-4_upconv (Conv1D)        (None, 72, 64)       24640       block0-4_upsampling[0][0]        \n",
      "__________________________________________________________________________________________________\n",
      "block0-3_skipconv1_activation ( (None, 73, 64)       0           block0-3_skipconv1[0][0]         \n",
      "__________________________________________________________________________________________________\n",
      "block0-4_upconv_activation (Lea (None, 72, 64)       0           block0-4_upconv[0][0]            \n",
      "__________________________________________________________________________________________________\n",
      "block0-3_skipconv1_bn (BatchNor (None, 73, 64)       256         block0-3_skipconv1_activation[0][\n",
      "__________________________________________________________________________________________________\n",
      "block0-4_upconv_padding (ZeroPa (None, 73, 64)       0           block0-4_upconv_activation[0][0] \n",
      "__________________________________________________________________________________________________\n",
      "block0-4_skip (Concatenate)     (None, 73, 320)      0           block0-0_conv1_bn[0][0]          \n",
      "                                                                 block0-1_skipconv1_bn[0][0]      \n",
      "                                                                 block0-2_skipconv1_bn[0][0]      \n",
      "                                                                 block0-3_skipconv1_bn[0][0]      \n",
      "                                                                 block0-4_upconv_padding[0][0]    \n",
      "__________________________________________________________________________________________________\n",
      "block0-4_skipconv0 (Conv1D)     (None, 73, 64)       61504       block0-4_skip[0][0]              \n",
      "__________________________________________________________________________________________________\n",
      "block0-4_skipconv0_activation ( (None, 73, 64)       0           block0-4_skipconv0[0][0]         \n",
      "__________________________________________________________________________________________________\n",
      "flatten_64 (Flatten)            (None, 4096)         0           block4-0_conv1_bn[0][0]          \n",
      "__________________________________________________________________________________________________\n",
      "block0-4_skipconv0_bn (BatchNor (None, 73, 64)       256         block0-4_skipconv0_activation[0][\n",
      "__________________________________________________________________________________________________\n",
      "dense_138 (Dense)               (None, 323)          1323331     flatten_64[0][0]                 \n",
      "__________________________________________________________________________________________________\n",
      "block0-4_skipconv1 (Conv1D)     (None, 73, 64)       12352       block0-4_skipconv0_bn[0][0]      \n",
      "__________________________________________________________________________________________________\n",
      "leaky_re_lu_74 (LeakyReLU)      (None, 323)          0           dense_138[0][0]                  \n",
      "__________________________________________________________________________________________________\n",
      "block0-4_skipconv1_activation ( (None, 73, 64)       0           block0-4_skipconv1[0][0]         \n",
      "__________________________________________________________________________________________________\n",
      "dropout_47 (Dropout)            (None, 323)          0           leaky_re_lu_74[0][0]             \n",
      "__________________________________________________________________________________________________\n",
      "block0-4_skipconv1_bn (BatchNor (None, 73, 64)       256         block0-4_skipconv1_activation[0][\n",
      "__________________________________________________________________________________________________\n",
      "batch_normalization_74 (BatchNo (None, 323)          1292        dropout_47[0][0]                 \n",
      "__________________________________________________________________________________________________\n",
      "penultimate_conv (Conv1D)       (None, 73, 2)        386         block0-4_skipconv1_bn[0][0]      \n",
      "__________________________________________________________________________________________________\n",
      "dense_139 (Dense)               (None, 25)           8100        batch_normalization_74[0][0]     \n",
      "__________________________________________________________________________________________________\n",
      "penultimate_conv_activation (Le (None, 73, 2)        0           penultimate_conv[0][0]           \n",
      "__________________________________________________________________________________________________\n",
      "leaky_re_lu_75 (LeakyReLU)      (None, 25)           0           dense_139[0][0]                  \n",
      "__________________________________________________________________________________________________\n",
      "penultimate_conv_bn (BatchNorma (None, 73, 2)        8           penultimate_conv_activation[0][0]\n",
      "__________________________________________________________________________________________________\n",
      "dropout_48 (Dropout)            (None, 25)           0           leaky_re_lu_75[0][0]             \n",
      "__________________________________________________________________________________________________\n",
      "last_conv (Conv1D)              (None, 73, 1)        3           penultimate_conv_bn[0][0]        \n",
      "__________________________________________________________________________________________________\n",
      "batch_normalization_75 (BatchNo (None, 25)           100         dropout_48[0][0]                 \n",
      "__________________________________________________________________________________________________\n",
      "last_conv_activation (ReLU)     (None, 73, 1)        0           last_conv[0][0]                  \n",
      "__________________________________________________________________________________________________\n",
      "dense_140 (Dense)               (None, 2)            52          batch_normalization_75[0][0]     \n",
      "__________________________________________________________________________________________________\n",
      "conv_output (Lambda)            (None, 73, 1)        0           last_conv_activation[0][0]       \n",
      "__________________________________________________________________________________________________\n",
      "dense_output (ReLU)             (None, 2)            0           dense_140[0][0]                  \n",
      "==================================================================================================\n",
      "Total params: 14,952,344\n",
      "Trainable params: 14,937,052\n",
      "Non-trainable params: 15,292\n",
      "__________________________________________________________________________________________________\n"
     ]
    }
   ],
   "source": [
    "Unetpp.summary()"
   ]
  },
  {
   "cell_type": "code",
   "execution_count": 9,
   "id": "1472b220",
   "metadata": {},
   "outputs": [],
   "source": [
    "Unetpp_total_p = 14952344\n",
    "Unetpp_train_p = 14937052"
   ]
  },
  {
   "cell_type": "markdown",
   "id": "b3841f55",
   "metadata": {},
   "source": [
    "# Test UNet++ trained by Ryan"
   ]
  },
  {
   "cell_type": "markdown",
   "id": "9d205ae0",
   "metadata": {},
   "source": [
    "## On shortwave heating rates and top/bottom fluxes"
   ]
  },
  {
   "cell_type": "code",
   "execution_count": 10,
   "id": "50638295",
   "metadata": {},
   "outputs": [
    {
     "data": {
      "text/plain": [
       "<function ml4rt.machine_learning.neural_net.data_generator(option_dict, for_inference, net_type_string)>"
      ]
     },
     "execution_count": 10,
     "metadata": {},
     "output_type": "execute_result"
    }
   ],
   "source": [
    "data_generator"
   ]
  },
  {
   "cell_type": "markdown",
   "id": "4fce4b8c",
   "metadata": {},
   "source": [
    "### Loading model's metadata using dill"
   ]
  },
  {
   "cell_type": "code",
   "execution_count": 11,
   "id": "e88dde00",
   "metadata": {},
   "outputs": [],
   "source": [
    "model_arc = dill.load(open(path_data+'actual_model/model_metadata.dill','rb'))"
   ]
  },
  {
   "cell_type": "code",
   "execution_count": 12,
   "id": "8d3ad44b",
   "metadata": {},
   "outputs": [
    {
     "data": {
      "text/plain": [
       "dict_keys(['num_epochs', 'num_training_batches_per_epoch', 'training_option_dict', 'num_validation_batches_per_epoch', 'validation_option_dict', 'net_type_string', 'loss_function_or_dict', 'do_early_stopping', 'plateau_lr_multiplier'])"
      ]
     },
     "execution_count": 12,
     "metadata": {},
     "output_type": "execute_result"
    }
   ],
   "source": [
    "model_arc.keys()"
   ]
  },
  {
   "cell_type": "code",
   "execution_count": 13,
   "id": "3dad03e6",
   "metadata": {},
   "outputs": [
    {
     "data": {
      "text/plain": [
       "'u_net'"
      ]
     },
     "execution_count": 13,
     "metadata": {},
     "output_type": "execute_result"
    }
   ],
   "source": [
    "model_arc['net_type_string']"
   ]
  },
  {
   "cell_type": "code",
   "execution_count": 14,
   "id": "e5a63c75",
   "metadata": {},
   "outputs": [
    {
     "data": {
      "text/plain": [
       "{'scalar_predictor_names': ['zenith_angle_radians', 'albedo'],\n",
       " 'vector_predictor_names': ['pressure_pascals',\n",
       "  'temperature_kelvins',\n",
       "  'specific_humidity_kg_kg01',\n",
       "  'liquid_water_content_kg_m03',\n",
       "  'ice_water_content_kg_m03',\n",
       "  'relative_humidity_unitless',\n",
       "  'liquid_water_path_kg_m02',\n",
       "  'ice_water_path_kg_m02',\n",
       "  'vapour_path_kg_m02',\n",
       "  'upward_liquid_water_path_kg_m02',\n",
       "  'upward_ice_water_path_kg_m02',\n",
       "  'upward_vapour_path_kg_m02'],\n",
       " 'scalar_target_names': ['shortwave_surface_down_flux_w_m02',\n",
       "  'shortwave_toa_up_flux_w_m02'],\n",
       " 'vector_target_names': ['shortwave_heating_rate_k_day01'],\n",
       " 'heights_m_agl': array([1.00e+01, 2.00e+01, 4.00e+01, 6.00e+01, 8.00e+01, 1.00e+02,\n",
       "        1.20e+02, 1.40e+02, 1.60e+02, 1.80e+02, 2.00e+02, 2.25e+02,\n",
       "        2.50e+02, 2.75e+02, 3.00e+02, 3.50e+02, 4.00e+02, 4.50e+02,\n",
       "        5.00e+02, 6.00e+02, 7.00e+02, 8.00e+02, 9.00e+02, 1.00e+03,\n",
       "        1.10e+03, 1.20e+03, 1.30e+03, 1.40e+03, 1.50e+03, 1.60e+03,\n",
       "        1.70e+03, 1.80e+03, 1.90e+03, 2.00e+03, 2.20e+03, 2.40e+03,\n",
       "        2.60e+03, 2.80e+03, 3.00e+03, 3.20e+03, 3.40e+03, 3.60e+03,\n",
       "        3.80e+03, 4.00e+03, 4.20e+03, 4.40e+03, 4.60e+03, 4.80e+03,\n",
       "        5.00e+03, 5.50e+03, 6.00e+03, 6.50e+03, 7.00e+03, 8.00e+03,\n",
       "        9.00e+03, 1.00e+04, 1.10e+04, 1.20e+04, 1.30e+04, 1.40e+04,\n",
       "        1.50e+04, 1.80e+04, 2.00e+04, 2.20e+04, 2.40e+04, 2.70e+04,\n",
       "        3.00e+04, 3.30e+04, 3.60e+04, 3.90e+04, 4.20e+04, 4.60e+04,\n",
       "        5.00e+04]),\n",
       " 'min_column_lwp_kg_m02': 0.0,\n",
       " 'max_column_lwp_kg_m02': 1000000000000.0,\n",
       " 'omit_heating_rate': False,\n",
       " 'predictor_norm_type_string': 'z_score',\n",
       " 'predictor_min_norm_value': 0.0,\n",
       " 'predictor_max_norm_value': 1.0,\n",
       " 'vector_target_norm_type_string': None,\n",
       " 'vector_target_min_norm_value': 0.0,\n",
       " 'vector_target_max_norm_value': 1.0,\n",
       " 'scalar_target_norm_type_string': 'minmax',\n",
       " 'scalar_target_min_norm_value': 0.0,\n",
       " 'scalar_target_max_norm_value': 1.0,\n",
       " 'example_dir_name': '/scratch1/RDARCH/rda-ghpcs/Ryan.Lagerquist/ml4rt_project/examples/non_tropical_sites',\n",
       " 'num_examples_per_batch': 256,\n",
       " 'first_time_unix_sec': 1514764800,\n",
       " 'last_time_unix_sec': 1545695999,\n",
       " 'normalization_file_name': '/scratch1/RDARCH/rda-ghpcs/Ryan.Lagerquist/ml4rt_project/examples/non_tropical_sites/learning_examples_20190101-20201031.nc'}"
      ]
     },
     "execution_count": 14,
     "metadata": {},
     "output_type": "execute_result"
    }
   ],
   "source": [
    "model_arc['validation_option_dict']"
   ]
  },
  {
   "cell_type": "code",
   "execution_count": 15,
   "id": "96c9c611",
   "metadata": {},
   "outputs": [],
   "source": [
    "model_arc['validation_option_dict']['example_dir_name'] = \\\n",
    "'/work/FAC/FGSE/IDYST/tbeucler/default/tbeucler/2021_Ryan_Lagerquist_SW/non_tropical_sites'"
   ]
  },
  {
   "cell_type": "code",
   "execution_count": 16,
   "id": "3538d9e7",
   "metadata": {},
   "outputs": [],
   "source": [
    "model_arc['validation_option_dict']['normalization_file_name'] = model_arc['validation_option_dict']['example_dir_name'] + \\\n",
    "'/learning_examples_20170101-20181224.nc'"
   ]
  },
  {
   "cell_type": "code",
   "execution_count": 17,
   "id": "c3985d73",
   "metadata": {},
   "outputs": [],
   "source": [
    "# model_arc['validation_option_dict']['first_time_unix_sec'] = 1514764800 # Jan 1, 2018 at 12:00:00AM\n",
    "# model_arc['validation_option_dict']['last_time_unix_sec'] = 1546300799 # Dec 31, 2018 at 11:59:59PM"
   ]
  },
  {
   "cell_type": "code",
   "execution_count": 18,
   "id": "12154e51",
   "metadata": {},
   "outputs": [],
   "source": [
    "model_arc['validation_option_dict']['first_time_unix_sec'] = 1546326000 # Jan 1, 2019 at 12:00:00AM\n",
    "model_arc['validation_option_dict']['last_time_unix_sec'] = 1577861999 # Dec 31, 2019 at 11:59:59PM"
   ]
  },
  {
   "cell_type": "code",
   "execution_count": 19,
   "id": "0df1ceef",
   "metadata": {},
   "outputs": [],
   "source": [
    "#Unetpp_gen = data_generator(model_arc['validation_option_dict'],True,model_arc['net_type_string'])"
   ]
  },
  {
   "cell_type": "code",
   "execution_count": 20,
   "id": "e1089a17",
   "metadata": {},
   "outputs": [
    {
     "name": "stdout",
     "output_type": "stream",
     "text": [
      "Reading training examples (for normalization) from: \"/work/FAC/FGSE/IDYST/tbeucler/default/tbeucler/2021_Ryan_Lagerquist_SW/non_tropical_sites/learning_examples_20170101-20181224.nc\"...\n",
      "\n",
      "Reading data from: \"/work/FAC/FGSE/IDYST/tbeucler/default/tbeucler/2021_Ryan_Lagerquist_SW/non_tropical_sites/learning_examples_2019.nc\"...\n",
      "Applying Z_SCORE normalization to predictors...\n",
      "Applying MINMAX normalization to scalar targets...\n",
      "\n",
      "Reading data from: \"/work/FAC/FGSE/IDYST/tbeucler/default/tbeucler/2021_Ryan_Lagerquist_SW/non_tropical_sites/learning_examples_2020.nc\"...\n",
      "Applying Z_SCORE normalization to predictors...\n",
      "Applying MINMAX normalization to scalar targets...\n"
     ]
    }
   ],
   "source": [
    "Unetpp_2019 = create_data(model_arc['validation_option_dict'],True, \n",
    "                          model_arc['net_type_string'],exclude_summit_greenland=True)"
   ]
  },
  {
   "cell_type": "code",
   "execution_count": 21,
   "id": "1685d33e",
   "metadata": {},
   "outputs": [],
   "source": [
    "model_arc['validation_option_dict']['first_time_unix_sec'] = 1577862000 # Jan 1, 2020 at 12:00:00AM\n",
    "model_arc['validation_option_dict']['last_time_unix_sec'] = 1609484399 # Dec 31, 2020 at 11:59:59PM"
   ]
  },
  {
   "cell_type": "code",
   "execution_count": 22,
   "id": "c1953d7e",
   "metadata": {},
   "outputs": [
    {
     "name": "stdout",
     "output_type": "stream",
     "text": [
      "Reading training examples (for normalization) from: \"/work/FAC/FGSE/IDYST/tbeucler/default/tbeucler/2021_Ryan_Lagerquist_SW/non_tropical_sites/learning_examples_20170101-20181224.nc\"...\n",
      "\n",
      "Reading data from: \"/work/FAC/FGSE/IDYST/tbeucler/default/tbeucler/2021_Ryan_Lagerquist_SW/non_tropical_sites/learning_examples_2020.nc\"...\n",
      "Applying Z_SCORE normalization to predictors...\n",
      "Applying MINMAX normalization to scalar targets...\n"
     ]
    }
   ],
   "source": [
    "Unetpp_2020 = create_data(model_arc['validation_option_dict'],True, \n",
    "                          model_arc['net_type_string'],exclude_summit_greenland=True)"
   ]
  },
  {
   "cell_type": "code",
   "execution_count": 23,
   "id": "63c3c173",
   "metadata": {},
   "outputs": [],
   "source": [
    "model_arc['validation_option_dict']['first_time_unix_sec'] = 1483254000 # Jan 1, 2017 at 12:00:00AM\n",
    "model_arc['validation_option_dict']['last_time_unix_sec'] = 1514789999 # Dec 31, 2017 at 11:59:59PM"
   ]
  },
  {
   "cell_type": "code",
   "execution_count": 24,
   "id": "c41ce89b",
   "metadata": {},
   "outputs": [],
   "source": [
    "model_arc['validation_option_dict']['example_dir_name'] = \\\n",
    "'/work/FAC/FGSE/IDYST/tbeucler/default/tbeucler/2021_Ryan_Lagerquist_SW/tropical_sites'"
   ]
  },
  {
   "cell_type": "code",
   "execution_count": 25,
   "id": "c511698e",
   "metadata": {},
   "outputs": [
    {
     "name": "stdout",
     "output_type": "stream",
     "text": [
      "Reading training examples (for normalization) from: \"/work/FAC/FGSE/IDYST/tbeucler/default/tbeucler/2021_Ryan_Lagerquist_SW/non_tropical_sites/learning_examples_20170101-20181224.nc\"...\n",
      "\n",
      "Reading data from: \"/work/FAC/FGSE/IDYST/tbeucler/default/tbeucler/2021_Ryan_Lagerquist_SW/tropical_sites/learning_examples_2017.nc\"...\n",
      "Applying Z_SCORE normalization to predictors...\n",
      "Applying MINMAX normalization to scalar targets...\n",
      "\n",
      "Reading data from: \"/work/FAC/FGSE/IDYST/tbeucler/default/tbeucler/2021_Ryan_Lagerquist_SW/tropical_sites/learning_examples_2018.nc\"...\n"
     ]
    },
    {
     "name": "stderr",
     "output_type": "stream",
     "text": [
      "/work/FAC/FGSE/IDYST/tbeucler/default/tbeucler/ml4rt/notebooks_tbeucler/ml4rt/io/example_io.py:304: UserWarning: Removing 0 of 303637 examples (profiles), because they are at Summit GL.\n",
      "  warnings.warn(warning_string)\n"
     ]
    },
    {
     "name": "stdout",
     "output_type": "stream",
     "text": [
      "Applying Z_SCORE normalization to predictors...\n",
      "Applying MINMAX normalization to scalar targets...\n"
     ]
    }
   ],
   "source": [
    "Unetpp_2017_trop = create_data(model_arc['validation_option_dict'],True, \n",
    "                               model_arc['net_type_string'],exclude_summit_greenland=True)"
   ]
  },
  {
   "cell_type": "code",
   "execution_count": 27,
   "id": "0296f02f",
   "metadata": {},
   "outputs": [
    {
     "data": {
      "text/plain": [
       "(533669, 73, 14)"
      ]
     },
     "execution_count": 27,
     "metadata": {},
     "output_type": "execute_result"
    }
   ],
   "source": [
    "Unetpp_2020[0].shape"
   ]
  },
  {
   "cell_type": "code",
   "execution_count": 29,
   "id": "6647f862",
   "metadata": {},
   "outputs": [
    {
     "data": {
      "text/plain": [
       "(255811, 73, 14)"
      ]
     },
     "execution_count": 29,
     "metadata": {},
     "output_type": "execute_result"
    }
   ],
   "source": [
    "Unetpp_2017_trop[0].shape"
   ]
  },
  {
   "cell_type": "markdown",
   "id": "8c18b5bf",
   "metadata": {},
   "source": [
    "### Make predictions"
   ]
  },
  {
   "cell_type": "code",
   "execution_count": 30,
   "id": "8c72083d",
   "metadata": {},
   "outputs": [
    {
     "data": {
      "text/plain": [
       "<function ml4rt.machine_learning.neural_net.apply_model(model_object, predictor_matrix, num_examples_per_batch, net_type_string, verbose=False)>"
      ]
     },
     "execution_count": 30,
     "metadata": {},
     "output_type": "execute_result"
    }
   ],
   "source": [
    "apply_model"
   ]
  },
  {
   "cell_type": "code",
   "execution_count": 64,
   "id": "0b302ddf",
   "metadata": {},
   "outputs": [],
   "source": [
    "ibeg = 0\n",
    "iend = 200000"
   ]
  },
  {
   "cell_type": "code",
   "execution_count": 65,
   "id": "5590f030",
   "metadata": {},
   "outputs": [],
   "source": [
    "Apply2019 = apply_model(Unetpp, Unetpp_2019[0][ibeg:iend,:,:],1000,model_arc['net_type_string'])"
   ]
  },
  {
   "cell_type": "code",
   "execution_count": 66,
   "id": "fe50a3c0",
   "metadata": {},
   "outputs": [],
   "source": [
    "Apply2020 = apply_model(Unetpp, Unetpp_2020[0][ibeg:iend,:,:],1000,model_arc['net_type_string'])"
   ]
  },
  {
   "cell_type": "code",
   "execution_count": 67,
   "id": "860f1319",
   "metadata": {},
   "outputs": [],
   "source": [
    "Apply2017 = apply_model(Unetpp, Unetpp_2017_trop[0][ibeg:iend,:,:],1000,model_arc['net_type_string'])"
   ]
  },
  {
   "cell_type": "code",
   "execution_count": 26,
   "id": "62bb7b8d",
   "metadata": {},
   "outputs": [
    {
     "data": {
      "text/plain": [
       "(50000, 2)"
      ]
     },
     "execution_count": 26,
     "metadata": {},
     "output_type": "execute_result"
    }
   ],
   "source": [
    "Unetpp_apply[1].shape"
   ]
  },
  {
   "cell_type": "code",
   "execution_count": 27,
   "id": "741c9541",
   "metadata": {},
   "outputs": [
    {
     "data": {
      "text/plain": [
       "(50000, 73, 1)"
      ]
     },
     "execution_count": 27,
     "metadata": {},
     "output_type": "execute_result"
    }
   ],
   "source": [
    "Unetpp_apply[0].shape"
   ]
  },
  {
   "cell_type": "code",
   "execution_count": 28,
   "id": "1978c4ea",
   "metadata": {},
   "outputs": [],
   "source": [
    "#Unet_predictors = denormalize_data(Unetpp_data,model_arc['validation_option_dict'],'z_score')"
   ]
  },
  {
   "cell_type": "code",
   "execution_count": 29,
   "id": "e94755ca",
   "metadata": {},
   "outputs": [],
   "source": [
    "Pred_Q = Unetpp_apply[0][:,:,0]"
   ]
  },
  {
   "cell_type": "code",
   "execution_count": 30,
   "id": "626b82cf",
   "metadata": {},
   "outputs": [
    {
     "data": {
      "text/plain": [
       "(50000, 73)"
      ]
     },
     "execution_count": 30,
     "metadata": {},
     "output_type": "execute_result"
    }
   ],
   "source": [
    "Pred_Q.shape"
   ]
  },
  {
   "cell_type": "code",
   "execution_count": 68,
   "id": "296af4e1",
   "metadata": {},
   "outputs": [],
   "source": [
    "Pred_Q_2019 = Apply2019[0][:,:,0]\n",
    "Pred_Q_2020 = Apply2020[0][:,:,0]\n",
    "Pred_Q_2017 = Apply2017[0][:,:,0]"
   ]
  },
  {
   "cell_type": "markdown",
   "id": "6c3e0c3e",
   "metadata": {},
   "source": [
    "### Convert to net fluxes; first try on truth"
   ]
  },
  {
   "cell_type": "code",
   "execution_count": 69,
   "id": "a1c2ae32",
   "metadata": {},
   "outputs": [],
   "source": [
    "def Fnet_from_Q(p,Q,Fnet_TOA):\n",
    "    \n",
    "    GRAVITY_CONSTANT_M_S02 = 9.8066\n",
    "    DRY_AIR_SPECIFIC_HEAT_J_KG01_K01 = 1004.\n",
    "    \n",
    "    FfromQ = np.zeros_like(p)\n",
    "    print('Calculating vertical pressure increments')\n",
    "    dp = p[:,:-1]-p[:,1:]\n",
    "    for iz in range(Q.shape[1]):\n",
    "        print('iz=',iz,'/',str(Q.shape[1]-1),'                     ',end='\\r')\n",
    "        FfromQ[:,iz] = Fnet_TOA-DRY_AIR_SPECIFIC_HEAT_J_KG01_K01/GRAVITY_CONSTANT_M_S02*\\\n",
    "        np.sum(dp[:,iz:]*Q[:,iz:-1]/(24*3600),axis=1)\n",
    "    \n",
    "    FfromQ[:,-1] = Fnet_TOA\n",
    "    \n",
    "    return FfromQ"
   ]
  },
  {
   "cell_type": "code",
   "execution_count": 70,
   "id": "6d6c05a1",
   "metadata": {},
   "outputs": [],
   "source": [
    "p2019 = read2019_nt['vector_predictor_matrix'][:,:,0]\n",
    "p2020 = read2020_nt['vector_predictor_matrix'][:,:,0]\n",
    "p2017 = read2017_t['vector_predictor_matrix'][:,:,0]"
   ]
  },
  {
   "cell_type": "code",
   "execution_count": 71,
   "id": "12a76d3b",
   "metadata": {},
   "outputs": [
    {
     "data": {
      "text/plain": [
       "(964044, 73)"
      ]
     },
     "execution_count": 71,
     "metadata": {},
     "output_type": "execute_result"
    }
   ],
   "source": [
    "pread.shape"
   ]
  },
  {
   "cell_type": "code",
   "execution_count": 72,
   "id": "84198f9d",
   "metadata": {},
   "outputs": [],
   "source": [
    "pmean = np.mean(pread[ibeg:iend,:],axis=0)"
   ]
  },
  {
   "cell_type": "code",
   "execution_count": 73,
   "id": "063d37bb",
   "metadata": {},
   "outputs": [],
   "source": [
    "#Qtruth = read2018_nt['vector_target_matrix'][:,:,2]\n",
    "Qtruth2019 = read2019_nt['vector_target_matrix'][:,:,2]\n",
    "Qtruth2020 = read2020_nt['vector_target_matrix'][:,:,2]\n",
    "Qtruth2017 = read2017_t['vector_target_matrix'][:,:,2]"
   ]
  },
  {
   "cell_type": "code",
   "execution_count": 74,
   "id": "fb346245",
   "metadata": {},
   "outputs": [
    {
     "ename": "NameError",
     "evalue": "name 'Qtruth' is not defined",
     "output_type": "error",
     "traceback": [
      "\u001b[0;31m---------------------------------------------------------------------------\u001b[0m",
      "\u001b[0;31mNameError\u001b[0m                                 Traceback (most recent call last)",
      "\u001b[0;32m/tmp/ipykernel_3287635/4113916354.py\u001b[0m in \u001b[0;36m<module>\u001b[0;34m\u001b[0m\n\u001b[0;32m----> 1\u001b[0;31m \u001b[0mQmean\u001b[0m \u001b[0;34m=\u001b[0m \u001b[0mnp\u001b[0m\u001b[0;34m.\u001b[0m\u001b[0mmean\u001b[0m\u001b[0;34m(\u001b[0m\u001b[0mQtruth\u001b[0m\u001b[0;34m[\u001b[0m\u001b[0mibeg\u001b[0m\u001b[0;34m:\u001b[0m\u001b[0miend\u001b[0m\u001b[0;34m,\u001b[0m\u001b[0;34m:\u001b[0m\u001b[0;34m]\u001b[0m\u001b[0;34m,\u001b[0m\u001b[0maxis\u001b[0m\u001b[0;34m=\u001b[0m\u001b[0;36m0\u001b[0m\u001b[0;34m)\u001b[0m\u001b[0;34m\u001b[0m\u001b[0;34m\u001b[0m\u001b[0m\n\u001b[0m",
      "\u001b[0;31mNameError\u001b[0m: name 'Qtruth' is not defined"
     ]
    }
   ],
   "source": [
    "Qmean = np.mean(Qtruth[ibeg:iend,:],axis=0)"
   ]
  },
  {
   "cell_type": "code",
   "execution_count": 75,
   "id": "343fe189",
   "metadata": {},
   "outputs": [],
   "source": [
    "#Fnet_truth = read2018_nt['vector_target_matrix'][:,:,0]-read2018_nt['vector_target_matrix'][:,:,1]\n",
    "Fnet_truth2019 = read2019_nt['vector_target_matrix'][:,:,0]-read2019_nt['vector_target_matrix'][:,:,1]\n",
    "Fnet_truth2020 = read2020_nt['vector_target_matrix'][:,:,0]-read2020_nt['vector_target_matrix'][:,:,1]\n",
    "Fnet_truth2017 = read2017_t['vector_target_matrix'][:,:,0]-read2017_t['vector_target_matrix'][:,:,1]"
   ]
  },
  {
   "cell_type": "code",
   "execution_count": null,
   "id": "33dd1c77",
   "metadata": {},
   "outputs": [],
   "source": [
    "Fnet_mean = np.mean(Fnet_truth[ibeg:iend,:],axis=0)"
   ]
  },
  {
   "cell_type": "markdown",
   "id": "0f5dfb57",
   "metadata": {},
   "source": [
    "Qtruth to Fnet"
   ]
  },
  {
   "cell_type": "code",
   "execution_count": 47,
   "id": "e93e0db0",
   "metadata": {},
   "outputs": [
    {
     "name": "stdout",
     "output_type": "stream",
     "text": [
      "Calculating vertical pressure increments\n",
      "iz= 72 / 72                      \r"
     ]
    }
   ],
   "source": [
    "FfromQ = Fnet_from_Q(pread,Qtruth,Fnet_truth[:,-1])"
   ]
  },
  {
   "cell_type": "code",
   "execution_count": 48,
   "id": "1781fd2f",
   "metadata": {},
   "outputs": [],
   "source": [
    "FfromQ_mean = np.mean(FfromQ[ibeg:iend,:],axis=0)"
   ]
  },
  {
   "cell_type": "code",
   "execution_count": 50,
   "id": "79d07f65",
   "metadata": {},
   "outputs": [],
   "source": [
    "Pred_Q_mean = np.mean(Pred_Q,axis=0)"
   ]
  },
  {
   "cell_type": "code",
   "execution_count": 51,
   "id": "70c2a1cc",
   "metadata": {},
   "outputs": [
    {
     "name": "stdout",
     "output_type": "stream",
     "text": [
      "Calculating vertical pressure increments\n",
      "iz= 72 / 72                      \r"
     ]
    }
   ],
   "source": [
    "Pred_Fnet = Fnet_from_Q(pread[ibeg:iend,:],Pred_Q,Fnet_truth[ibeg:iend,-1])"
   ]
  },
  {
   "cell_type": "code",
   "execution_count": 52,
   "id": "c55817ce",
   "metadata": {},
   "outputs": [],
   "source": [
    "Pred_Fnet_mean = np.mean(Pred_Fnet,axis=0)"
   ]
  },
  {
   "cell_type": "code",
   "execution_count": 76,
   "id": "8cfe795f",
   "metadata": {},
   "outputs": [
    {
     "name": "stdout",
     "output_type": "stream",
     "text": [
      "Calculating vertical pressure increments\n",
      "Calculating vertical pressure increments\n",
      "Calculating vertical pressure increments\n",
      "iz= 72 / 72                      \r"
     ]
    }
   ],
   "source": [
    "F_truth2019 = Fnet_from_Q(p2019,Qtruth2019,Fnet_truth2019[:,-1])\n",
    "F_truth2020 = Fnet_from_Q(p2020,Qtruth2020,Fnet_truth2020[:,-1])\n",
    "F_truth2017 = Fnet_from_Q(p2017,Qtruth2017,Fnet_truth2017[:,-1])"
   ]
  },
  {
   "cell_type": "code",
   "execution_count": 77,
   "id": "74dec3e3",
   "metadata": {},
   "outputs": [
    {
     "name": "stdout",
     "output_type": "stream",
     "text": [
      "Calculating vertical pressure increments\n",
      "Calculating vertical pressure increments\n",
      "Calculating vertical pressure increments\n",
      "iz= 72 / 72                      \r"
     ]
    }
   ],
   "source": [
    "F_pred2019 = Fnet_from_Q(p2019[ibeg:iend,:],Pred_Q_2019,Fnet_truth2019[ibeg:iend,-1])\n",
    "F_pred2020 = Fnet_from_Q(p2020[ibeg:iend,:],Pred_Q_2020,Fnet_truth2020[ibeg:iend,-1])\n",
    "F_pred2017 = Fnet_from_Q(p2017[ibeg:iend,:],Pred_Q_2017,Fnet_truth2017[ibeg:iend,-1])"
   ]
  },
  {
   "cell_type": "markdown",
   "id": "f9c8dee8",
   "metadata": {},
   "source": [
    "### Summary figure"
   ]
  },
  {
   "cell_type": "code",
   "execution_count": 53,
   "id": "530396af",
   "metadata": {},
   "outputs": [
    {
     "data": {
      "text/plain": [
       "<matplotlib.legend.Legend at 0x7fe7db16bd10>"
      ]
     },
     "execution_count": 53,
     "metadata": {},
     "output_type": "execute_result"
    },
    {
     "data": {
      "image/png": "[encoded data removed]",
      "text/plain": [
       "<Figure size 720x540 with 2 Axes>"
      ]
     },
     "metadata": {
      "needs_background": "light"
     },
     "output_type": "display_data"
    }
   ],
   "source": [
    "fig,ax = plt.subplots(1,2,figsize=(10,7.5))\n",
    "\n",
    "ax[0].plot(Qmean,pmean/1e2,label='Truth')\n",
    "ax[0].plot(Pred_Q_mean,pmean/1e2,label='Pred',linewidth=0.5*lw)\n",
    "ax[0].invert_yaxis()\n",
    "ax[0].set_xlabel('Mean heating rate [K/day]')\n",
    "ax[0].set_ylabel('Mean Pressure [Pa]')\n",
    "ax[0].grid()\n",
    "ax[0].legend()\n",
    "ax[0].set_xlim((-5,5))\n",
    "\n",
    "ax[1].plot(Fnet_mean,pmean/1e2,label='Truth')\n",
    "ax[1].plot(FfromQ_mean,pmean/1e2,label='Est. from true Q',linewidth=0.5*lw)\n",
    "ax[1].plot(Pred_Fnet_mean,pmean/1e2,label='Est. from pred Q',linewidth=0.5*lw)\n",
    "ax[1].invert_yaxis()\n",
    "ax[1].set_xlabel('Mean SW net flux [W/m$^{2}$]')\n",
    "ax[1].grid()\n",
    "ax[1].legend()\n",
    "#ax[1].set_xlim((-5,5))"
   ]
  },
  {
   "cell_type": "code",
   "execution_count": 54,
   "id": "e611600e",
   "metadata": {},
   "outputs": [],
   "source": [
    "MSE_Ryan_L = np.mean((FfromQ[ibeg:iend,:]-Pred_Fnet)**2)"
   ]
  },
  {
   "cell_type": "code",
   "execution_count": 55,
   "id": "207b6d55",
   "metadata": {},
   "outputs": [
    {
     "data": {
      "text/plain": [
       "13.04298392884858"
      ]
     },
     "execution_count": 55,
     "metadata": {},
     "output_type": "execute_result"
    }
   ],
   "source": [
    "MSE_Ryan_L"
   ]
  },
  {
   "cell_type": "code",
   "execution_count": 56,
   "id": "2fcf935f",
   "metadata": {},
   "outputs": [
    {
     "data": {
      "text/plain": [
       "(897508, 73)"
      ]
     },
     "execution_count": 56,
     "metadata": {},
     "output_type": "execute_result"
    }
   ],
   "source": [
    "FfromQ.shape"
   ]
  },
  {
   "cell_type": "code",
   "execution_count": 57,
   "id": "76790f9a",
   "metadata": {},
   "outputs": [
    {
     "data": {
      "image/png": "[encoded data removed]",
      "text/plain": [
       "<Figure size 432x288 with 1 Axes>"
      ]
     },
     "metadata": {
      "needs_background": "light"
     },
     "output_type": "display_data"
    }
   ],
   "source": [
    "plt.scatter(FfromQ[ibeg:iend,:].flatten(),Pred_Fnet.flatten())\n",
    "plt.xlabel('True net SW flux [W/m${^2}$]')\n",
    "plt.ylabel('Predicted net SW flux [W/m${^2}$]')\n",
    "plt.grid()"
   ]
  },
  {
   "cell_type": "markdown",
   "id": "cbbf3ed2",
   "metadata": {},
   "source": [
    "### Error statistics"
   ]
  },
  {
   "cell_type": "code",
   "execution_count": 58,
   "id": "72dd6b5c",
   "metadata": {},
   "outputs": [],
   "source": [
    "# From https://stackoverflow.com/questions/2413522/weighted-standard-deviation-in-np\n",
    "def weighted_avg_and_std(values, weights):\n",
    "    \"\"\"\n",
    "    Return the weighted average and standard deviation.\n",
    "    values, weights -- np ndarrays with the same shape.\n",
    "    \"\"\"\n",
    "    if np.sum(weights)>0:\n",
    "        average = np.average(values, weights=weights)\n",
    "        variance = np.average((values-average)**2, weights=weights)\n",
    "    else:\n",
    "        average = np.nan\n",
    "        variance = np.nan\n",
    "    return (average, np.sqrt(variance))\n",
    "\n",
    "# Make function to calculate conditional mean and std\n",
    "# We condition field_y on field_x\n",
    "def conditional_avg_and_std(bin_edges,field_x,field_y):\n",
    "    # Initialization\n",
    "    Nbin = np.size(bin_edges)\n",
    "    Ym = np.zeros((Nbin-1,1))\n",
    "    Ystd = np.copy(Ym)\n",
    "\n",
    "    for ibin,edge in enumerate(bin_edges):\n",
    "        print('ibin=',ibin,'/',Nbin-1,' & edge=',edge,end=\"\\r\")\n",
    "        if ibin>0:\n",
    "            w = (field_x>=edge_left)*(field_x<edge)\n",
    "            Ym[ibin-1],Ystd[ibin-1] = weighted_avg_and_std(field_y,w)\n",
    "\n",
    "        edge_left = edge\n",
    "    \n",
    "    return Ym,Ystd"
   ]
  },
  {
   "cell_type": "code",
   "execution_count": 82,
   "id": "99acf7ab",
   "metadata": {},
   "outputs": [],
   "source": [
    "mse = np.mean((FfromQ[ibeg:iend,:]-Pred_Fnet)**2,axis=1)"
   ]
  },
  {
   "cell_type": "code",
   "execution_count": 83,
   "id": "8dd3674b",
   "metadata": {},
   "outputs": [
    {
     "data": {
      "text/plain": [
       "(50000,)"
      ]
     },
     "execution_count": 83,
     "metadata": {},
     "output_type": "execute_result"
    }
   ],
   "source": [
    "mse.shape"
   ]
  },
  {
   "cell_type": "code",
   "execution_count": 84,
   "id": "a60323ef",
   "metadata": {},
   "outputs": [],
   "source": [
    "his_mse = np.histogram(mse,bins=100);"
   ]
  },
  {
   "cell_type": "code",
   "execution_count": 60,
   "id": "e0789516",
   "metadata": {},
   "outputs": [
    {
     "data": {
      "text/plain": [
       "(50000, 73, 1)"
      ]
     },
     "execution_count": 60,
     "metadata": {},
     "output_type": "execute_result"
    }
   ],
   "source": [
    "Unetpp_apply[0].shape"
   ]
  },
  {
   "cell_type": "code",
   "execution_count": 61,
   "id": "89d3ce05",
   "metadata": {},
   "outputs": [
    {
     "data": {
      "text/plain": [
       "(50000, 2)"
      ]
     },
     "execution_count": 61,
     "metadata": {},
     "output_type": "execute_result"
    }
   ],
   "source": [
    "Unetpp_apply[1].shape"
   ]
  },
  {
   "cell_type": "code",
   "execution_count": 64,
   "id": "aa89c5c6",
   "metadata": {},
   "outputs": [
    {
     "data": {
      "text/plain": [
       "(50000, 73, 14)"
      ]
     },
     "execution_count": 64,
     "metadata": {},
     "output_type": "execute_result"
    }
   ],
   "source": [
    "Unetpp_data[0][ibeg:iend,:,:].shape"
   ]
  },
  {
   "cell_type": "code",
   "execution_count": 72,
   "id": "5e8a224d",
   "metadata": {},
   "outputs": [
    {
     "data": {
      "text/plain": [
       "(897508, 73, 1)"
      ]
     },
     "execution_count": 72,
     "metadata": {},
     "output_type": "execute_result"
    }
   ],
   "source": [
    "Unetpp_data[1][0].shape"
   ]
  },
  {
   "cell_type": "code",
   "execution_count": 73,
   "id": "9aef944d",
   "metadata": {},
   "outputs": [
    {
     "data": {
      "text/plain": [
       "(897508, 2)"
      ]
     },
     "execution_count": 73,
     "metadata": {},
     "output_type": "execute_result"
    }
   ],
   "source": [
    "Unetpp_data[1][1].shape"
   ]
  },
  {
   "cell_type": "code",
   "execution_count": 88,
   "id": "0d9d7c94",
   "metadata": {},
   "outputs": [
    {
     "name": "stdout",
     "output_type": "stream",
     "text": [
      "ibin= 0 / 100  & edge= 0.0023849413604104916\r",
      "ibin= 1 / 100  & edge= 5.731161692431528\r",
      "ibin= 2 / 100  & edge= 11.459938443502647\r",
      "ibin= 3 / 100  & edge= 17.188715194573767\r",
      "ibin= 4 / 100  & edge= 22.917491945644883\r",
      "ibin= 5 / 100  & edge= 28.646268696716\r",
      "ibin= 6 / 100  & edge= 34.37504544778712\r",
      "ibin= 7 / 100  & edge= 40.10382219885824\r",
      "ibin= 8 / 100  & edge= 45.832598949929356\r",
      "ibin= 9 / 100  & edge= 51.56137570100047\r",
      "ibin= 10 / 100  & edge= 57.29015245207159\r",
      "ibin= 11 / 100  & edge= 63.01892920314271\r",
      "ibin= 12 / 100  & edge= 68.74770595421383\r",
      "ibin= 13 / 100  & edge= 74.47648270528494\r",
      "ibin= 14 / 100  & edge= 80.20525945635606\r",
      "ibin= 15 / 100  & edge= 85.93403620742717\r",
      "ibin= 16 / 100  & edge= 91.6628129584983\r",
      "ibin= 17 / 100  & edge= 97.39158970956942\r",
      "ibin= 18 / 100  & edge= 103.12036646064053\r",
      "ibin= 19 / 100  & edge= 108.84914321171165\r",
      "ibin= 20 / 100  & edge= 114.57791996278276\r",
      "ibin= 21 / 100  & edge= 120.30669671385388\r",
      "ibin= 22 / 100  & edge= 126.035473464925\r",
      "ibin= 23 / 100  & edge= 131.76425021599613\r",
      "ibin= 24 / 100  & edge= 137.49302696706727\r",
      "ibin= 25 / 100  & edge= 143.22180371813837\r",
      "ibin= 26 / 100  & edge= 148.95058046920948\r",
      "ibin= 27 / 100  & edge= 154.6793572202806\r",
      "ibin= 28 / 100  & edge= 160.40813397135173\r",
      "ibin= 29 / 100  & edge= 166.13691072242284\r",
      "ibin= 30 / 100  & edge= 171.86568747349395\r",
      "ibin= 31 / 100  & edge= 177.5944642245651\r",
      "ibin= 32 / 100  & edge= 183.3232409756362\r",
      "ibin= 33 / 100  & edge= 189.0520177267073\r",
      "ibin= 34 / 100  & edge= 194.78079447777844\r",
      "ibin= 35 / 100  & edge= 200.50957122884955\r",
      "ibin= 36 / 100  & edge= 206.23834797992066\r",
      "ibin= 37 / 100  & edge= 211.9671247309918\r",
      "ibin= 38 / 100  & edge= 217.6959014820629\r",
      "ibin= 39 / 100  & edge= 223.42467823313402\r",
      "ibin= 40 / 100  & edge= 229.15345498420513\r",
      "ibin= 41 / 100  & edge= 234.88223173527626\r",
      "ibin= 42 / 100  & edge= 240.61100848634737\r",
      "ibin= 43 / 100  & edge= 246.33978523741848\r",
      "ibin= 44 / 100  & edge= 252.06856198848962\r",
      "ibin= 45 / 100  & edge= 257.7973387395607\r",
      "ibin= 46 / 100  & edge= 263.5261154906318\r",
      "ibin= 47 / 100  & edge= 269.2548922417029\r",
      "ibin= 48 / 100  & edge= 274.9836689927741\r",
      "ibin= 49 / 100  & edge= 280.7124457438452\r",
      "ibin= 50 / 100  & edge= 286.4412224949163\r",
      "ibin= 51 / 100  & edge= 292.1699992459874\r",
      "ibin= 52 / 100  & edge= 297.8987759970585\r",
      "ibin= 53 / 100  & edge= 303.62755274812963\r",
      "ibin= 54 / 100  & edge= 309.35632949920074\r",
      "ibin= 55 / 100  & edge= 315.0851062502719\r",
      "ibin= 56 / 100  & edge= 320.813883001343\r",
      "ibin= 57 / 100  & edge= 326.5426597524141\r",
      "ibin= 58 / 100  & edge= 332.27143650348523\r",
      "ibin= 59 / 100  & edge= 338.00021325455634\r",
      "ibin= 60 / 100  & edge= 343.72899000562745\r",
      "ibin= 61 / 100  & edge= 349.4577667566986\r",
      "ibin= 62 / 100  & edge= 355.1865435077697\r",
      "ibin= 63 / 100  & edge= 360.91532025884084\r",
      "ibin= 64 / 100  & edge= 366.64409700991195\r",
      "ibin= 65 / 100  & edge= 372.37287376098305\r",
      "ibin= 66 / 100  & edge= 378.10165051205416\r",
      "ibin= 67 / 100  & edge= 383.8304272631253\r",
      "ibin= 68 / 100  & edge= 389.55920401419644\r",
      "ibin= 69 / 100  & edge= 395.28798076526755\r",
      "ibin= 70 / 100  & edge= 401.01675751633866\r",
      "ibin= 71 / 100  & edge= 406.74553426740977\r",
      "ibin= 72 / 100  & edge= 412.4743110184809\r",
      "ibin= 73 / 100  & edge= 418.203087769552\r",
      "ibin= 74 / 100  & edge= 423.93186452062315\r",
      "ibin= 75 / 100  & edge= 429.66064127169426\r",
      "ibin= 76 / 100  & edge= 435.38941802276537\r",
      "ibin= 77 / 100  & edge= 441.1181947738365\r",
      "ibin= 78 / 100  & edge= 446.8469715249076\r",
      "ibin= 79 / 100  & edge= 452.5757482759787\r",
      "ibin= 80 / 100  & edge= 458.3045250270498\r",
      "ibin= 81 / 100  & edge= 464.033301778121\r",
      "ibin= 82 / 100  & edge= 469.7620785291921\r",
      "ibin= 83 / 100  & edge= 475.4908552802632\r",
      "ibin= 84 / 100  & edge= 481.2196320313343\r",
      "ibin= 85 / 100  & edge= 486.9484087824054\r",
      "ibin= 86 / 100  & edge= 492.6771855334765\r",
      "ibin= 87 / 100  & edge= 498.4059622845477\r",
      "ibin= 88 / 100  & edge= 504.1347390356188\r",
      "ibin= 89 / 100  & edge= 509.8635157866899\r",
      "ibin= 90 / 100  & edge= 515.5922925377611\r",
      "ibin= 91 / 100  & edge= 521.3210692888322\r",
      "ibin= 92 / 100  & edge= 527.0498460399033\r",
      "ibin= 93 / 100  & edge= 532.7786227909744\r",
      "ibin= 94 / 100  & edge= 538.5073995420455\r",
      "ibin= 95 / 100  & edge= 544.2361762931166\r",
      "ibin= 96 / 100  & edge= 549.9649530441878\r",
      "ibin= 97 / 100  & edge= 555.693729795259\r",
      "ibin= 98 / 100  & edge= 561.42250654633\r",
      "ibin= 99 / 100  & edge= 567.1512832974012\r",
      "ibin= 100 / 100  & edge= 572.8800600484723\r"
     ]
    }
   ],
   "source": [
    "zenith_av = conditional_avg_and_std(his_mse[1],mse,Unetpp_data[1][1][ibeg:iend,0])"
   ]
  },
  {
   "cell_type": "code",
   "execution_count": 90,
   "id": "cbdf7cdc",
   "metadata": {},
   "outputs": [],
   "source": [
    "# From edges to middle of bins\n",
    "def edgTObin(edges):\n",
    "    return 0.5*(edges[1:]+edges[:-1])"
   ]
  },
  {
   "cell_type": "code",
   "execution_count": 91,
   "id": "b94d359e",
   "metadata": {},
   "outputs": [
    {
     "data": {
      "text/plain": [
       "Text(0.5, 1.0, 'Conditional average')"
      ]
     },
     "execution_count": 91,
     "metadata": {},
     "output_type": "execute_result"
    },
    {
     "data": {
      "image/png": "[encoded data removed]",
      "text/plain": [
       "<Figure size 432x288 with 1 Axes>"
      ]
     },
     "metadata": {
      "needs_background": "light"
     },
     "output_type": "display_data"
    }
   ],
   "source": [
    "plt.plot(edgTObin(his_mse[1]),zenith_av[0],label='Zenith Angle')\n",
    "plt.grid()\n",
    "plt.legend()\n",
    "plt.xlabel('Mean squared error (W$^{2}$/m$^{4}$)')\n",
    "plt.ylabel('Zenith Angle (rad)')\n",
    "plt.title('Conditional average')"
   ]
  },
  {
   "cell_type": "markdown",
   "id": "0368712f",
   "metadata": {},
   "source": [
    "## Error statistics for AOFD"
   ]
  },
  {
   "cell_type": "markdown",
   "id": "d4b94669",
   "metadata": {},
   "source": [
    "MSE on training set"
   ]
  },
  {
   "cell_type": "code",
   "execution_count": 104,
   "id": "70cfb827",
   "metadata": {},
   "outputs": [],
   "source": [
    "mse2019 = np.mean((F_truth2019[ibeg:iend,:]-F_pred2019)**2)\n",
    "mse2020 = np.mean((F_truth2020[ibeg:iend,:]-F_pred2020)**2)\n",
    "med2019 = np.median((F_truth2019[ibeg:iend,:]-F_pred2019)**2)\n",
    "med2020 = np.median((F_truth2020[ibeg:iend,:]-F_pred2020)**2)"
   ]
  },
  {
   "cell_type": "code",
   "execution_count": 93,
   "id": "93a679b1",
   "metadata": {},
   "outputs": [
    {
     "data": {
      "image/png": "[encoded data removed]",
      "text/plain": [
       "<Figure size 1080x360 with 1 Axes>"
      ]
     },
     "metadata": {
      "needs_background": "light"
     },
     "output_type": "display_data"
    }
   ],
   "source": [
    "plt.figure(figsize=(15,5))\n",
    "plt.hist(((F_truth2019[ibeg:iend,:]-F_pred2019)**2).flatten(),bins=100);\n",
    "plt.hist(((F_truth2020[ibeg:iend,:]-F_pred2020)**2).flatten(),bins=100,color='k',alpha=0.5);\n"
   ]
  },
  {
   "cell_type": "code",
   "execution_count": 95,
   "id": "4d7f1aa4",
   "metadata": {},
   "outputs": [
    {
     "data": {
      "image/png": "[encoded data removed]",
      "text/plain": [
       "<Figure size 432x288 with 1 Axes>"
      ]
     },
     "metadata": {
      "needs_background": "light"
     },
     "output_type": "display_data"
    }
   ],
   "source": [
    "plt.hist(((F_truth2017[ibeg:iend,:]-F_pred2017)**2).flatten(),bins=100,color='g');"
   ]
  },
  {
   "cell_type": "code",
   "execution_count": 79,
   "id": "d3ee05a1",
   "metadata": {},
   "outputs": [
    {
     "data": {
      "text/plain": [
       "10.785831089622942"
      ]
     },
     "execution_count": 79,
     "metadata": {},
     "output_type": "execute_result"
    }
   ],
   "source": [
    "mse2019"
   ]
  },
  {
   "cell_type": "code",
   "execution_count": 80,
   "id": "c58573be",
   "metadata": {},
   "outputs": [
    {
     "data": {
      "text/plain": [
       "9.688152436192357"
      ]
     },
     "execution_count": 80,
     "metadata": {},
     "output_type": "execute_result"
    }
   ],
   "source": [
    "mse2020"
   ]
  },
  {
   "cell_type": "code",
   "execution_count": 96,
   "id": "206dd5bf",
   "metadata": {},
   "outputs": [],
   "source": [
    "mse201920 = (mse2019+mse2020)/2"
   ]
  },
  {
   "cell_type": "code",
   "execution_count": 97,
   "id": "e9ab7a38",
   "metadata": {},
   "outputs": [
    {
     "data": {
      "text/plain": [
       "10.23699176290765"
      ]
     },
     "execution_count": 97,
     "metadata": {},
     "output_type": "execute_result"
    }
   ],
   "source": [
    "mse201920"
   ]
  },
  {
   "cell_type": "code",
   "execution_count": 105,
   "id": "773f584a",
   "metadata": {},
   "outputs": [
    {
     "data": {
      "text/plain": [
       "1.540658077043159"
      ]
     },
     "execution_count": 105,
     "metadata": {},
     "output_type": "execute_result"
    }
   ],
   "source": [
    "med2019"
   ]
  },
  {
   "cell_type": "code",
   "execution_count": 106,
   "id": "6e7a9bd3",
   "metadata": {},
   "outputs": [
    {
     "data": {
      "text/plain": [
       "1.0625989083760838"
      ]
     },
     "execution_count": 106,
     "metadata": {},
     "output_type": "execute_result"
    }
   ],
   "source": [
    "med2020"
   ]
  },
  {
   "cell_type": "code",
   "execution_count": 113,
   "id": "242178ba",
   "metadata": {},
   "outputs": [
    {
     "data": {
      "text/plain": [
       "6.7253532378988"
      ]
     },
     "execution_count": 113,
     "metadata": {},
     "output_type": "execute_result"
    }
   ],
   "source": [
    "np.percentile((F_truth2019[ibeg:iend,:]-F_pred2019)**2,70)"
   ]
  },
  {
   "cell_type": "markdown",
   "id": "a92ba98e",
   "metadata": {},
   "source": [
    "MSE on test set"
   ]
  },
  {
   "cell_type": "code",
   "execution_count": 107,
   "id": "269ddeeb",
   "metadata": {},
   "outputs": [],
   "source": [
    "mse2017 = np.mean((F_truth2017[ibeg:iend,:]-F_pred2017)**2)\n",
    "med2017 = np.median((F_truth2017[ibeg:iend,:]-F_pred2017)**2)"
   ]
  },
  {
   "cell_type": "code",
   "execution_count": 108,
   "id": "84ef0f59",
   "metadata": {},
   "outputs": [
    {
     "data": {
      "text/plain": [
       "159.293249502594"
      ]
     },
     "execution_count": 108,
     "metadata": {},
     "output_type": "execute_result"
    }
   ],
   "source": [
    "mse2017"
   ]
  },
  {
   "cell_type": "code",
   "execution_count": 109,
   "id": "3ba1eeaf",
   "metadata": {},
   "outputs": [
    {
     "data": {
      "text/plain": [
       "6.974405756419175"
      ]
     },
     "execution_count": 109,
     "metadata": {},
     "output_type": "execute_result"
    }
   ],
   "source": [
    "med2017"
   ]
  },
  {
   "cell_type": "code",
   "execution_count": 111,
   "id": "bfe9c204",
   "metadata": {},
   "outputs": [
    {
     "data": {
      "text/plain": [
       "76.76443905153631"
      ]
     },
     "execution_count": 111,
     "metadata": {},
     "output_type": "execute_result"
    }
   ],
   "source": [
    "np.percentile((F_truth2017[ibeg:iend,:]-F_pred2017)**2,80)"
   ]
  },
  {
   "cell_type": "markdown",
   "id": "677b324c",
   "metadata": {},
   "source": [
    "Distributions of errors very right-skewed; For the training set, the mean is between the 70th and 80th percentiles while it's between the 80th and the 90th over the training set. In both cases, the median is less than 10 times the mean, which could be due to a lot of night samples."
   ]
  }
 ],
 "metadata": {
  "kernelspec": {
   "display_name": "Python 3 (ipykernel)",
   "language": "python",
   "name": "python3"
  },
  "language_info": {
   "codemirror_mode": {
    "name": "ipython",
    "version": 3
   },
   "file_extension": ".py",
   "mimetype": "text/x-python",
   "name": "python",
   "nbconvert_exporter": "python",
   "pygments_lexer": "ipython3",
   "version": "3.7.7"
  },
  "toc": {
   "base_numbering": 1,
   "nav_menu": {},
   "number_sections": true,
   "sideBar": true,
   "skip_h1_title": false,
   "title_cell": "Table of Contents",
   "title_sidebar": "Contents",
   "toc_cell": false,
   "toc_position": {
    "height": "calc(100% - 180px)",
    "left": "10px",
    "top": "150px",
    "width": "307.2px"
   },
   "toc_section_display": true,
   "toc_window_display": true
  }
 },
 "nbformat": 4,
 "nbformat_minor": 5
}
